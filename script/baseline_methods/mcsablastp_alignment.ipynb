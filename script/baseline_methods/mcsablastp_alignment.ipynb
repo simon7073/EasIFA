{
 "cells": [
  {
   "cell_type": "code",
   "execution_count": 1,
   "metadata": {},
   "outputs": [],
   "source": [
    "import pandas as pd\n",
    "import os\n",
    "from tqdm.auto import tqdm\n",
    "from pandarallel import pandarallel\n",
    "from rdkit import Chem\n",
    "from tqdm import tqdm as top_tqdm"
   ]
  },
  {
   "cell_type": "code",
   "execution_count": 2,
   "metadata": {},
   "outputs": [],
   "source": [
    "def get_structure_sequence(pdb_file):\n",
    "    try:\n",
    "        mol = Chem.MolFromPDBFile(pdb_file)\n",
    "        protein_sequence = Chem.MolToSequence(mol)\n",
    "    except:\n",
    "        protein_sequence = ''\n",
    "    return protein_sequence\n",
    "\n",
    "def multiprocess_structure_check(df, nb_workers, pdb_file_path):\n",
    "    \n",
    "    if nb_workers != 0:\n",
    "\n",
    "        pandarallel.initialize(nb_workers=nb_workers, progress_bar=True)\n",
    "        df['pdb_files'] = df['alphafolddb-id'].parallel_apply(\n",
    "            lambda x: os.path.join(pdb_file_path, f'AF-{x}-F1-model_v4.pdb'))\n",
    "        df['aa_sequence_calculated'] = df['pdb_files'].parallel_apply(\n",
    "            lambda x: get_structure_sequence(x))\n",
    "    else:\n",
    "        top_tqdm.pandas(desc='pandas bar')\n",
    "        df['pdb_files'] = df['alphafolddb-id'].progress_apply(\n",
    "            lambda x: os.path.join(pdb_file_path, f'AF-{x}-F1-model_v4.pdb'))\n",
    "        df['aa_sequence_calculated'] = df['pdb_files'].progress_apply(\n",
    "            lambda x: get_structure_sequence(x))\n",
    "    \n",
    "    df['is_valid'] = (df['aa_sequence_calculated'] == df['aa_sequence'])\n",
    "\n",
    "    return df\n",
    "\n",
    "\n",
    "def get_blast_database(dir, fasta_path):\n",
    "    database_df = pd.DataFrame()\n",
    "    csv_fnames = os.listdir(dir)\n",
    "    pbar = tqdm(\n",
    "        csv_fnames,\n",
    "        total=len(csv_fnames)\n",
    "    )\n",
    "    for fname in pbar:\n",
    "        df = pd.read_csv(os.path.join(dir, fname))\n",
    "        df = df[['alphafolddb-id', 'aa_sequence', 'site_labels', 'site_types']]\n",
    "        database_df = pd.concat([database_df, df])\n",
    "    \n",
    "    database_df = database_df.drop_duplicates(subset=['alphafolddb-id', 'aa_sequence','site_labels', 'site_types']).reset_index(drop=True)\n",
    "    database_df['alphafolddb-id'] = database_df['alphafolddb-id'].apply(lambda x:x.replace(';',''))\n",
    "\n",
    "    with open(fasta_path, 'w', encoding='utf-8') as f:\n",
    "        for idx, row in tqdm(database_df.iterrows(), total=len(database_df)):\n",
    "            f.write('>{}\\n'.format(row['alphafolddb-id']))\n",
    "            f.write('{}\\n'.format(row['aa_sequence']))\n",
    "    return database_df\n",
    "\n",
    "def get_query_database(path, fasta_path, pdb_file_path):\n",
    "    database_df = pd.read_csv(path)\n",
    "    database_df = database_df[['alphafolddb-id', 'aa_sequence','site_labels', 'site_types']]\n",
    "    database_df['alphafolddb-id'] = database_df['alphafolddb-id'].apply(lambda x:x.replace(';',''))\n",
    "    \n",
    "      \n",
    "    \n",
    "    write_database_df = database_df.drop_duplicates(subset=['alphafolddb-id', 'aa_sequence','site_labels', 'site_types']).reset_index(drop=True)\n",
    "\n",
    "\n",
    "    with open(fasta_path, 'w', encoding='utf-8') as f:\n",
    "        for idx, row in tqdm(write_database_df.iterrows(), total=len(write_database_df)):\n",
    "            f.write('>{}\\n'.format(row['alphafolddb-id']))\n",
    "            f.write('{}\\n'.format(row['aa_sequence']))\n",
    "    return database_df\n",
    "\n",
    "\n",
    "\n",
    "           "
   ]
  },
  {
   "cell_type": "code",
   "execution_count": 3,
   "metadata": {},
   "outputs": [
    {
     "data": {
      "application/vnd.jupyter.widget-view+json": {
       "model_id": "5b5c566486c4429ab0454230de0edb8b",
       "version_major": 2,
       "version_minor": 0
      },
      "text/plain": [
       "  0%|          | 0/1 [00:00<?, ?it/s]"
      ]
     },
     "metadata": {},
     "output_type": "display_data"
    },
    {
     "data": {
      "application/vnd.jupyter.widget-view+json": {
       "model_id": "83dc9a5b811549f3ab236fbd1aae74c8",
       "version_major": 2,
       "version_minor": 0
      },
      "text/plain": [
       "  0%|          | 0/771 [00:00<?, ?it/s]"
      ]
     },
     "metadata": {},
     "output_type": "display_data"
    }
   ],
   "source": [
    "dataset_path = '../../dataset/mcsa_fine_tune/normal_mcsa'\n",
    "blast_database_df = get_blast_database(os.path.join(dataset_path, 'train_dataset'), fasta_path=os.path.join(dataset_path, 'blast_database.fasta'))"
   ]
  },
  {
   "cell_type": "code",
   "execution_count": 4,
   "metadata": {},
   "outputs": [
    {
     "data": {
      "application/vnd.jupyter.widget-view+json": {
       "model_id": "801f00ffc5a24751a265630053f4f0cc",
       "version_major": 2,
       "version_minor": 0
      },
      "text/plain": [
       "  0%|          | 0/95 [00:00<?, ?it/s]"
      ]
     },
     "metadata": {},
     "output_type": "display_data"
    }
   ],
   "source": [
    "test_dataset = get_query_database(os.path.join(dataset_path, 'test_dataset', 'mcsa_test.csv'), fasta_path=os.path.join(dataset_path, 'test_dataset.fasta'), pdb_file_path=os.path.join(os.path.dirname(dataset_path), 'structures', 'alphafolddb_download'))\n"
   ]
  },
  {
   "cell_type": "code",
   "execution_count": 5,
   "metadata": {},
   "outputs": [
    {
     "name": "stdout",
     "output_type": "stream",
     "text": [
      "INFO: Pandarallel will run on 10 workers.\n",
      "INFO: Pandarallel will use Memory file system to transfer data between the main process and workers.\n"
     ]
    },
    {
     "data": {
      "application/vnd.jupyter.widget-view+json": {
       "model_id": "94be01e6e99e4a348ae3b67f4f9d0b58",
       "version_major": 2,
       "version_minor": 0
      },
      "text/plain": [
       "VBox(children=(HBox(children=(IntProgress(value=0, description='0.00%', max=10), Label(value='0 / 10'))), HBox…"
      ]
     },
     "metadata": {},
     "output_type": "display_data"
    },
    {
     "data": {
      "application/vnd.jupyter.widget-view+json": {
       "model_id": "8e52f1ff38844f56a8da667f1e2913a8",
       "version_major": 2,
       "version_minor": 0
      },
      "text/plain": [
       "VBox(children=(HBox(children=(IntProgress(value=0, description='0.00%', max=10), Label(value='0 / 10'))), HBox…"
      ]
     },
     "metadata": {},
     "output_type": "display_data"
    },
    {
     "data": {
      "text/html": [
       "<div>\n",
       "<style scoped>\n",
       "    .dataframe tbody tr th:only-of-type {\n",
       "        vertical-align: middle;\n",
       "    }\n",
       "\n",
       "    .dataframe tbody tr th {\n",
       "        vertical-align: top;\n",
       "    }\n",
       "\n",
       "    .dataframe thead th {\n",
       "        text-align: right;\n",
       "    }\n",
       "</style>\n",
       "<table border=\"1\" class=\"dataframe\">\n",
       "  <thead>\n",
       "    <tr style=\"text-align: right;\">\n",
       "      <th></th>\n",
       "      <th>alphafolddb-id</th>\n",
       "      <th>aa_sequence</th>\n",
       "      <th>site_labels</th>\n",
       "      <th>site_types</th>\n",
       "      <th>pdb_files</th>\n",
       "      <th>aa_sequence_calculated</th>\n",
       "      <th>is_valid</th>\n",
       "    </tr>\n",
       "  </thead>\n",
       "  <tbody>\n",
       "    <tr>\n",
       "      <th>0</th>\n",
       "      <td>P07598</td>\n",
       "      <td>MSRTVMERIEYEMHTPDPKADPDKLHFVQIDEAKCIGCDTCSQYCP...</td>\n",
       "      <td>[[156], [159], [178], [198], [237], [240], [24...</td>\n",
       "      <td>NaN</td>\n",
       "      <td>../../dataset/mcsa_fine_tune/structures/alphaf...</td>\n",
       "      <td>MSRTVMERIEYEMHTPDPKADPDKLHFVQIDEAKCIGCDTCSQYCP...</td>\n",
       "      <td>True</td>\n",
       "    </tr>\n",
       "    <tr>\n",
       "      <th>3</th>\n",
       "      <td>P00436</td>\n",
       "      <td>MPIELLPETPSQTAGPYVHIGLALEAAGNPTRDQEIWNRLAKPDAP...</td>\n",
       "      <td>[[109], [148], [158], [161], [163]]</td>\n",
       "      <td>NaN</td>\n",
       "      <td>../../dataset/mcsa_fine_tune/structures/alphaf...</td>\n",
       "      <td>MPIELLPETPSQTAGPYVHIGLALEAAGNPTRDQEIWNRLAKPDAP...</td>\n",
       "      <td>True</td>\n",
       "    </tr>\n",
       "    <tr>\n",
       "      <th>4</th>\n",
       "      <td>Q55389</td>\n",
       "      <td>MTSSDTQNNKTLAAMKNFAEQYAKRTDTYFCSDLSVTAVVIEGLAR...</td>\n",
       "      <td>[[56], [58], [75], [77], [86], [87], [88]]</td>\n",
       "      <td>NaN</td>\n",
       "      <td>../../dataset/mcsa_fine_tune/structures/alphaf...</td>\n",
       "      <td>MTSSDTQNNKTLAAMKNFAEQYAKRTDTYFCSDLSVTAVVIEGLAR...</td>\n",
       "      <td>True</td>\n",
       "    </tr>\n",
       "    <tr>\n",
       "      <th>7</th>\n",
       "      <td>P68688</td>\n",
       "      <td>MQTVIFGRSGCPYCVRAKDLAEKLSNERDDFQYQYVDIRAEGITKE...</td>\n",
       "      <td>[[8], [10], [11], [13], [14], [18], [72]]</td>\n",
       "      <td>NaN</td>\n",
       "      <td>../../dataset/mcsa_fine_tune/structures/alphaf...</td>\n",
       "      <td>MQTVIFGRSGCPYCVRAKDLAEKLSNERDDFQYQYVDIRAEGITKE...</td>\n",
       "      <td>True</td>\n",
       "    </tr>\n",
       "    <tr>\n",
       "      <th>8</th>\n",
       "      <td>P0A006</td>\n",
       "      <td>MDKKTIYFICTGNSCRSQMAEGWGKEILGEGWNVYSAGIETHGVNP...</td>\n",
       "      <td>[[10], [11], [12], [13], [14], [15], [16], [17...</td>\n",
       "      <td>NaN</td>\n",
       "      <td>../../dataset/mcsa_fine_tune/structures/alphaf...</td>\n",
       "      <td>MDKKTIYFICTGNSCRSQMAEGWGKEILGEGWNVYSAGIETHGVNP...</td>\n",
       "      <td>True</td>\n",
       "    </tr>\n",
       "    <tr>\n",
       "      <th>...</th>\n",
       "      <td>...</td>\n",
       "      <td>...</td>\n",
       "      <td>...</td>\n",
       "      <td>...</td>\n",
       "      <td>...</td>\n",
       "      <td>...</td>\n",
       "      <td>...</td>\n",
       "    </tr>\n",
       "    <tr>\n",
       "      <th>89</th>\n",
       "      <td>P42126</td>\n",
       "      <td>MALVASVRVPARVLLRAGARLPGAALGRTERAAGGGDGARRFGSQR...</td>\n",
       "      <td>[[108], [153], [177], [178]]</td>\n",
       "      <td>NaN</td>\n",
       "      <td>../../dataset/mcsa_fine_tune/structures/alphaf...</td>\n",
       "      <td>MALVASVRVPARVLLRAGARLPGAALGRTERAAGGGDGARRFGSQR...</td>\n",
       "      <td>True</td>\n",
       "    </tr>\n",
       "    <tr>\n",
       "      <th>90</th>\n",
       "      <td>P27001</td>\n",
       "      <td>MLEEALAAIQNARDLEELKALKARYLGKKGLLTQEMKGLSALPLEE...</td>\n",
       "      <td>[[149], [178], [204], [218], [261], [314]]</td>\n",
       "      <td>NaN</td>\n",
       "      <td>../../dataset/mcsa_fine_tune/structures/alphaf...</td>\n",
       "      <td>MLEEALAAIQNARDLEELKALKARYLGKKGLLTQEMKGLSALPLEE...</td>\n",
       "      <td>True</td>\n",
       "    </tr>\n",
       "    <tr>\n",
       "      <th>91</th>\n",
       "      <td>P22106</td>\n",
       "      <td>MCSIFGVFDIKTDAVELRKKALELSRLMRHRGPDWSGIYASDNAIL...</td>\n",
       "      <td>[[2], [51], [75], [76], [322], [325]]</td>\n",
       "      <td>NaN</td>\n",
       "      <td>../../dataset/mcsa_fine_tune/structures/alphaf...</td>\n",
       "      <td>MCSIFGVFDIKTDAVELRKKALELSRLMRHRGPDWSGIYASDNAIL...</td>\n",
       "      <td>True</td>\n",
       "    </tr>\n",
       "    <tr>\n",
       "      <th>92</th>\n",
       "      <td>P46849</td>\n",
       "      <td>MKRMIALDGAQGEGGGQILRSALSLSMITGQPFTITSIRAGRAKPG...</td>\n",
       "      <td>[[13], [308]]</td>\n",
       "      <td>NaN</td>\n",
       "      <td>../../dataset/mcsa_fine_tune/structures/alphaf...</td>\n",
       "      <td>MKRMIALDGAQGEGGGQILRSALSLSMITGQPFTITSIRAGRAKPG...</td>\n",
       "      <td>True</td>\n",
       "    </tr>\n",
       "    <tr>\n",
       "      <th>93</th>\n",
       "      <td>P25051</td>\n",
       "      <td>MNRIKVAILFGGCSEEHDVSVKSAIEIAANINKEKYEPLYIGITKS...</td>\n",
       "      <td>[[19], [22], [99], [244], [250], [290], [311],...</td>\n",
       "      <td>NaN</td>\n",
       "      <td>../../dataset/mcsa_fine_tune/structures/alphaf...</td>\n",
       "      <td>MNRIKVAILFGGCSEEHDVSVKSAIEIAANINKEKYEPLYIGITKS...</td>\n",
       "      <td>True</td>\n",
       "    </tr>\n",
       "  </tbody>\n",
       "</table>\n",
       "<p>82 rows × 7 columns</p>\n",
       "</div>"
      ],
      "text/plain": [
       "   alphafolddb-id                                        aa_sequence  \\\n",
       "0          P07598  MSRTVMERIEYEMHTPDPKADPDKLHFVQIDEAKCIGCDTCSQYCP...   \n",
       "3          P00436  MPIELLPETPSQTAGPYVHIGLALEAAGNPTRDQEIWNRLAKPDAP...   \n",
       "4          Q55389  MTSSDTQNNKTLAAMKNFAEQYAKRTDTYFCSDLSVTAVVIEGLAR...   \n",
       "7          P68688  MQTVIFGRSGCPYCVRAKDLAEKLSNERDDFQYQYVDIRAEGITKE...   \n",
       "8          P0A006  MDKKTIYFICTGNSCRSQMAEGWGKEILGEGWNVYSAGIETHGVNP...   \n",
       "..            ...                                                ...   \n",
       "89         P42126  MALVASVRVPARVLLRAGARLPGAALGRTERAAGGGDGARRFGSQR...   \n",
       "90         P27001  MLEEALAAIQNARDLEELKALKARYLGKKGLLTQEMKGLSALPLEE...   \n",
       "91         P22106  MCSIFGVFDIKTDAVELRKKALELSRLMRHRGPDWSGIYASDNAIL...   \n",
       "92         P46849  MKRMIALDGAQGEGGGQILRSALSLSMITGQPFTITSIRAGRAKPG...   \n",
       "93         P25051  MNRIKVAILFGGCSEEHDVSVKSAIEIAANINKEKYEPLYIGITKS...   \n",
       "\n",
       "                                          site_labels  site_types  \\\n",
       "0   [[156], [159], [178], [198], [237], [240], [24...         NaN   \n",
       "3                 [[109], [148], [158], [161], [163]]         NaN   \n",
       "4          [[56], [58], [75], [77], [86], [87], [88]]         NaN   \n",
       "7           [[8], [10], [11], [13], [14], [18], [72]]         NaN   \n",
       "8   [[10], [11], [12], [13], [14], [15], [16], [17...         NaN   \n",
       "..                                                ...         ...   \n",
       "89                       [[108], [153], [177], [178]]         NaN   \n",
       "90         [[149], [178], [204], [218], [261], [314]]         NaN   \n",
       "91              [[2], [51], [75], [76], [322], [325]]         NaN   \n",
       "92                                      [[13], [308]]         NaN   \n",
       "93  [[19], [22], [99], [244], [250], [290], [311],...         NaN   \n",
       "\n",
       "                                            pdb_files  \\\n",
       "0   ../../dataset/mcsa_fine_tune/structures/alphaf...   \n",
       "3   ../../dataset/mcsa_fine_tune/structures/alphaf...   \n",
       "4   ../../dataset/mcsa_fine_tune/structures/alphaf...   \n",
       "7   ../../dataset/mcsa_fine_tune/structures/alphaf...   \n",
       "8   ../../dataset/mcsa_fine_tune/structures/alphaf...   \n",
       "..                                                ...   \n",
       "89  ../../dataset/mcsa_fine_tune/structures/alphaf...   \n",
       "90  ../../dataset/mcsa_fine_tune/structures/alphaf...   \n",
       "91  ../../dataset/mcsa_fine_tune/structures/alphaf...   \n",
       "92  ../../dataset/mcsa_fine_tune/structures/alphaf...   \n",
       "93  ../../dataset/mcsa_fine_tune/structures/alphaf...   \n",
       "\n",
       "                               aa_sequence_calculated  is_valid  \n",
       "0   MSRTVMERIEYEMHTPDPKADPDKLHFVQIDEAKCIGCDTCSQYCP...      True  \n",
       "3   MPIELLPETPSQTAGPYVHIGLALEAAGNPTRDQEIWNRLAKPDAP...      True  \n",
       "4   MTSSDTQNNKTLAAMKNFAEQYAKRTDTYFCSDLSVTAVVIEGLAR...      True  \n",
       "7   MQTVIFGRSGCPYCVRAKDLAEKLSNERDDFQYQYVDIRAEGITKE...      True  \n",
       "8   MDKKTIYFICTGNSCRSQMAEGWGKEILGEGWNVYSAGIETHGVNP...      True  \n",
       "..                                                ...       ...  \n",
       "89  MALVASVRVPARVLLRAGARLPGAALGRTERAAGGGDGARRFGSQR...      True  \n",
       "90  MLEEALAAIQNARDLEELKALKARYLGKKGLLTQEMKGLSALPLEE...      True  \n",
       "91  MCSIFGVFDIKTDAVELRKKALELSRLMRHRGPDWSGIYASDNAIL...      True  \n",
       "92  MKRMIALDGAQGEGGGQILRSALSLSMITGQPFTITSIRAGRAKPG...      True  \n",
       "93  MNRIKVAILFGGCSEEHDVSVKSAIEIAANINKEKYEPLYIGITKS...      True  \n",
       "\n",
       "[82 rows x 7 columns]"
      ]
     },
     "execution_count": 5,
     "metadata": {},
     "output_type": "execute_result"
    }
   ],
   "source": [
    "test_dataset = multiprocess_structure_check(test_dataset, 10, pdb_file_path='../../dataset/mcsa_fine_tune/structures/alphafolddb_download')\n",
    "test_dataset = test_dataset.loc[test_dataset['is_valid']]\n",
    "test_dataset"
   ]
  },
  {
   "cell_type": "code",
   "execution_count": 6,
   "metadata": {},
   "outputs": [
    {
     "name": "stdout",
     "output_type": "stream",
     "text": [
      "\n",
      "\n",
      "Building a new DB, current time: 10/16/2023 21:17:19\n",
      "New DB name:   /home/xiaoruiwang/data/ubuntu_work_beta/single_step_work/ec_site_prediction/dataset/mcsa_fine_tune/normal_mcsa/blast_database\n",
      "New DB title:  ../../dataset/mcsa_fine_tune/normal_mcsa/blast_database.fasta\n",
      "Sequence type: Protein\n",
      "Keep MBits: T\n",
      "Maximum file size: 1000000000B\n",
      "Adding sequences from FASTA; added 771 sequences in 0.0142329 seconds.\n"
     ]
    },
    {
     "data": {
      "text/plain": [
       "CompletedProcess(args='makeblastdb -in ../../dataset/mcsa_fine_tune/normal_mcsa/blast_database.fasta -dbtype prot -out ../../dataset/mcsa_fine_tune/normal_mcsa/blast_database', returncode=0)"
      ]
     },
     "execution_count": 6,
     "metadata": {},
     "output_type": "execute_result"
    }
   ],
   "source": [
    "import subprocess\n",
    "\n",
    "database_fasta = os.path.join(dataset_path, 'blast_database.fasta')\n",
    "database = os.path.join(dataset_path, 'blast_database')\n",
    "command = f'makeblastdb -in {database_fasta} -dbtype prot -out {database}'\n",
    "subprocess.run(command, shell=True)"
   ]
  },
  {
   "cell_type": "code",
   "execution_count": 7,
   "metadata": {},
   "outputs": [],
   "source": [
    "query_file = os.path.join(dataset_path, 'test_dataset.fasta')\n",
    "output_file = os.path.join(dataset_path, 'blast_results.txt')\n",
    "command = f'blastp -query {query_file} -db {database} -out {output_file} -evalue 0.001 -outfmt 6'\n",
    "if not os.path.exists(output_file):\n",
    "    subprocess.run(command, shell=True)\n"
   ]
  },
  {
   "cell_type": "code",
   "execution_count": 8,
   "metadata": {},
   "outputs": [],
   "source": [
    "def read_blast_results(path):\n",
    "    column_headers = [\n",
    "    \"Query ID\",\n",
    "    \"Subject ID\",\n",
    "    \"% Identity\",\n",
    "    \"Alignment Length\",\n",
    "    \"Mismatches\",\n",
    "    \"Gap Opens\",\n",
    "    \"Query Start\",\n",
    "    \"Query End\",\n",
    "    \"Subject Start\",\n",
    "    \"Subject End\",\n",
    "    \"E-value\",\n",
    "    \"Bit Score\",\n",
    "    ]\n",
    "    results_df = pd.read_csv(path, sep='\\t', header=None)\n",
    "    results_df.columns = column_headers\n",
    "    return results_df\n",
    "\n"
   ]
  },
  {
   "cell_type": "code",
   "execution_count": 9,
   "metadata": {},
   "outputs": [
    {
     "data": {
      "text/html": [
       "<div>\n",
       "<style scoped>\n",
       "    .dataframe tbody tr th:only-of-type {\n",
       "        vertical-align: middle;\n",
       "    }\n",
       "\n",
       "    .dataframe tbody tr th {\n",
       "        vertical-align: top;\n",
       "    }\n",
       "\n",
       "    .dataframe thead th {\n",
       "        text-align: right;\n",
       "    }\n",
       "</style>\n",
       "<table border=\"1\" class=\"dataframe\">\n",
       "  <thead>\n",
       "    <tr style=\"text-align: right;\">\n",
       "      <th></th>\n",
       "      <th>Query ID</th>\n",
       "      <th>Subject ID</th>\n",
       "      <th>% Identity</th>\n",
       "      <th>Alignment Length</th>\n",
       "      <th>Mismatches</th>\n",
       "      <th>Gap Opens</th>\n",
       "      <th>Query Start</th>\n",
       "      <th>Query End</th>\n",
       "      <th>Subject Start</th>\n",
       "      <th>Subject End</th>\n",
       "      <th>E-value</th>\n",
       "      <th>Bit Score</th>\n",
       "    </tr>\n",
       "  </thead>\n",
       "  <tbody>\n",
       "    <tr>\n",
       "      <th>0</th>\n",
       "      <td>Q5SJ80</td>\n",
       "      <td>P0ABJ3</td>\n",
       "      <td>21.843</td>\n",
       "      <td>293</td>\n",
       "      <td>196</td>\n",
       "      <td>7</td>\n",
       "      <td>218</td>\n",
       "      <td>505</td>\n",
       "      <td>269</td>\n",
       "      <td>533</td>\n",
       "      <td>4.290000e-10</td>\n",
       "      <td>57.0</td>\n",
       "    </tr>\n",
       "    <tr>\n",
       "      <th>1</th>\n",
       "      <td>Q5SJ80</td>\n",
       "      <td>P0ABJ1</td>\n",
       "      <td>21.843</td>\n",
       "      <td>293</td>\n",
       "      <td>196</td>\n",
       "      <td>7</td>\n",
       "      <td>218</td>\n",
       "      <td>505</td>\n",
       "      <td>269</td>\n",
       "      <td>533</td>\n",
       "      <td>4.290000e-10</td>\n",
       "      <td>57.0</td>\n",
       "    </tr>\n",
       "    <tr>\n",
       "      <th>2</th>\n",
       "      <td>Q5SJ80</td>\n",
       "      <td>P0ABI8</td>\n",
       "      <td>21.843</td>\n",
       "      <td>293</td>\n",
       "      <td>196</td>\n",
       "      <td>7</td>\n",
       "      <td>218</td>\n",
       "      <td>505</td>\n",
       "      <td>269</td>\n",
       "      <td>533</td>\n",
       "      <td>4.290000e-10</td>\n",
       "      <td>57.0</td>\n",
       "    </tr>\n",
       "    <tr>\n",
       "      <th>3</th>\n",
       "      <td>Q9ZFQ5</td>\n",
       "      <td>P49050</td>\n",
       "      <td>21.500</td>\n",
       "      <td>200</td>\n",
       "      <td>133</td>\n",
       "      <td>5</td>\n",
       "      <td>11</td>\n",
       "      <td>186</td>\n",
       "      <td>606</td>\n",
       "      <td>805</td>\n",
       "      <td>4.210000e-05</td>\n",
       "      <td>40.0</td>\n",
       "    </tr>\n",
       "    <tr>\n",
       "      <th>4</th>\n",
       "      <td>P0A006</td>\n",
       "      <td>P11064</td>\n",
       "      <td>22.581</td>\n",
       "      <td>93</td>\n",
       "      <td>60</td>\n",
       "      <td>3</td>\n",
       "      <td>4</td>\n",
       "      <td>87</td>\n",
       "      <td>7</td>\n",
       "      <td>96</td>\n",
       "      <td>1.330000e-04</td>\n",
       "      <td>34.7</td>\n",
       "    </tr>\n",
       "    <tr>\n",
       "      <th>...</th>\n",
       "      <td>...</td>\n",
       "      <td>...</td>\n",
       "      <td>...</td>\n",
       "      <td>...</td>\n",
       "      <td>...</td>\n",
       "      <td>...</td>\n",
       "      <td>...</td>\n",
       "      <td>...</td>\n",
       "      <td>...</td>\n",
       "      <td>...</td>\n",
       "      <td>...</td>\n",
       "      <td>...</td>\n",
       "    </tr>\n",
       "    <tr>\n",
       "      <th>79</th>\n",
       "      <td>H2IFX0</td>\n",
       "      <td>P0AES2</td>\n",
       "      <td>21.719</td>\n",
       "      <td>221</td>\n",
       "      <td>147</td>\n",
       "      <td>7</td>\n",
       "      <td>156</td>\n",
       "      <td>357</td>\n",
       "      <td>194</td>\n",
       "      <td>407</td>\n",
       "      <td>3.850000e-06</td>\n",
       "      <td>43.1</td>\n",
       "    </tr>\n",
       "    <tr>\n",
       "      <th>80</th>\n",
       "      <td>P42126</td>\n",
       "      <td>P14604</td>\n",
       "      <td>22.932</td>\n",
       "      <td>266</td>\n",
       "      <td>192</td>\n",
       "      <td>7</td>\n",
       "      <td>40</td>\n",
       "      <td>298</td>\n",
       "      <td>25</td>\n",
       "      <td>284</td>\n",
       "      <td>3.300000e-12</td>\n",
       "      <td>60.8</td>\n",
       "    </tr>\n",
       "    <tr>\n",
       "      <th>81</th>\n",
       "      <td>P42126</td>\n",
       "      <td>Q62651</td>\n",
       "      <td>25.806</td>\n",
       "      <td>186</td>\n",
       "      <td>123</td>\n",
       "      <td>5</td>\n",
       "      <td>68</td>\n",
       "      <td>241</td>\n",
       "      <td>78</td>\n",
       "      <td>260</td>\n",
       "      <td>1.600000e-09</td>\n",
       "      <td>52.8</td>\n",
       "    </tr>\n",
       "    <tr>\n",
       "      <th>82</th>\n",
       "      <td>P42126</td>\n",
       "      <td>P52045</td>\n",
       "      <td>25.134</td>\n",
       "      <td>187</td>\n",
       "      <td>126</td>\n",
       "      <td>8</td>\n",
       "      <td>57</td>\n",
       "      <td>237</td>\n",
       "      <td>14</td>\n",
       "      <td>192</td>\n",
       "      <td>6.110000e-05</td>\n",
       "      <td>38.5</td>\n",
       "    </tr>\n",
       "    <tr>\n",
       "      <th>83</th>\n",
       "      <td>P25051</td>\n",
       "      <td>P07862</td>\n",
       "      <td>30.347</td>\n",
       "      <td>346</td>\n",
       "      <td>187</td>\n",
       "      <td>9</td>\n",
       "      <td>5</td>\n",
       "      <td>340</td>\n",
       "      <td>4</td>\n",
       "      <td>305</td>\n",
       "      <td>1.730000e-44</td>\n",
       "      <td>150.0</td>\n",
       "    </tr>\n",
       "  </tbody>\n",
       "</table>\n",
       "<p>84 rows × 12 columns</p>\n",
       "</div>"
      ],
      "text/plain": [
       "   Query ID Subject ID  % Identity  Alignment Length  Mismatches  Gap Opens  \\\n",
       "0    Q5SJ80     P0ABJ3      21.843               293         196          7   \n",
       "1    Q5SJ80     P0ABJ1      21.843               293         196          7   \n",
       "2    Q5SJ80     P0ABI8      21.843               293         196          7   \n",
       "3    Q9ZFQ5     P49050      21.500               200         133          5   \n",
       "4    P0A006     P11064      22.581                93          60          3   \n",
       "..      ...        ...         ...               ...         ...        ...   \n",
       "79   H2IFX0     P0AES2      21.719               221         147          7   \n",
       "80   P42126     P14604      22.932               266         192          7   \n",
       "81   P42126     Q62651      25.806               186         123          5   \n",
       "82   P42126     P52045      25.134               187         126          8   \n",
       "83   P25051     P07862      30.347               346         187          9   \n",
       "\n",
       "    Query Start  Query End  Subject Start  Subject End       E-value  \\\n",
       "0           218        505            269          533  4.290000e-10   \n",
       "1           218        505            269          533  4.290000e-10   \n",
       "2           218        505            269          533  4.290000e-10   \n",
       "3            11        186            606          805  4.210000e-05   \n",
       "4             4         87              7           96  1.330000e-04   \n",
       "..          ...        ...            ...          ...           ...   \n",
       "79          156        357            194          407  3.850000e-06   \n",
       "80           40        298             25          284  3.300000e-12   \n",
       "81           68        241             78          260  1.600000e-09   \n",
       "82           57        237             14          192  6.110000e-05   \n",
       "83            5        340              4          305  1.730000e-44   \n",
       "\n",
       "    Bit Score  \n",
       "0        57.0  \n",
       "1        57.0  \n",
       "2        57.0  \n",
       "3        40.0  \n",
       "4        34.7  \n",
       "..        ...  \n",
       "79       43.1  \n",
       "80       60.8  \n",
       "81       52.8  \n",
       "82       38.5  \n",
       "83      150.0  \n",
       "\n",
       "[84 rows x 12 columns]"
      ]
     },
     "execution_count": 9,
     "metadata": {},
     "output_type": "execute_result"
    }
   ],
   "source": [
    "blast_p_results = read_blast_results(path=output_file)\n",
    "blast_p_results"
   ]
  },
  {
   "cell_type": "code",
   "execution_count": 10,
   "metadata": {},
   "outputs": [
    {
     "name": "stdout",
     "output_type": "stream",
     "text": [
      "46.885\n",
      "21.5\n",
      "27.482214285714296\n"
     ]
    }
   ],
   "source": [
    "print(blast_p_results['% Identity'].max())\n",
    "print(blast_p_results['% Identity'].min())\n",
    "print(blast_p_results['% Identity'].mean())"
   ]
  },
  {
   "cell_type": "code",
   "execution_count": 11,
   "metadata": {},
   "outputs": [
    {
     "name": "stderr",
     "output_type": "stream",
     "text": [
      "/home/xiaoruiwang/software/miniconda3/envs/py38/lib/python3.8/site-packages/Bio/pairwise2.py:278: BiopythonDeprecationWarning: Bio.pairwise2 has been deprecated, and we intend to remove it in a future release of Biopython. As an alternative, please consider using Bio.Align.PairwiseAligner as a replacement, and contact the Biopython developers if you still need the Bio.pairwise2 module.\n",
      "  warnings.warn(\n"
     ]
    }
   ],
   "source": [
    "import sys\n",
    "sys.path.append('../../')\n",
    "from dataset_preprocess.pdb_preprocess_utils import map_active_site_for_one\n",
    "from utils import predict_activate_site_with_sequence_alignment, predict_activate_site_type_with_sequence_alignment"
   ]
  },
  {
   "cell_type": "code",
   "execution_count": 12,
   "metadata": {},
   "outputs": [
    {
     "data": {
      "application/vnd.jupyter.widget-view+json": {
       "model_id": "517c3276df6248e9a805dd56f5c8d51c",
       "version_major": 2,
       "version_minor": 0
      },
      "text/plain": [
       "  0%|          | 0/82 [00:00<?, ?it/s]"
      ]
     },
     "metadata": {},
     "output_type": "display_data"
    },
    {
     "name": "stdout",
     "output_type": "stream",
     "text": [
      "Get 82 results\n",
      "Accuracy: 0.9821, Precision: 0.1995, Specificity: 0.9974, Overlap Score: 0.1854, False Positive Rate: 0.0026, F1: 0.1812\n"
     ]
    }
   ],
   "source": [
    "predicted_activate_sites, overlap_scores, false_positive_rates = predict_activate_site_with_sequence_alignment(test_dataset, database=blast_database_df, blastp_results=blast_p_results, top_n=5)"
   ]
  },
  {
   "cell_type": "code",
   "execution_count": 14,
   "metadata": {},
   "outputs": [],
   "source": [
    "# predicted_activate_sites, predicted_activate_sites_vec, overlap_scores_list, false_positive_rates_list = predict_activate_site_type_with_sequence_alignment(test_dataset, database=blast_database_df, blastp_results=blast_p_results, top_n=5)"
   ]
  },
  {
   "cell_type": "code",
   "execution_count": null,
   "metadata": {},
   "outputs": [],
   "source": []
  }
 ],
 "metadata": {
  "kernelspec": {
   "display_name": "py38",
   "language": "python",
   "name": "python3"
  },
  "language_info": {
   "codemirror_mode": {
    "name": "ipython",
    "version": 3
   },
   "file_extension": ".py",
   "mimetype": "text/x-python",
   "name": "python",
   "nbconvert_exporter": "python",
   "pygments_lexer": "ipython3",
   "version": "3.8.16"
  },
  "orig_nbformat": 4
 },
 "nbformat": 4,
 "nbformat_minor": 2
}
