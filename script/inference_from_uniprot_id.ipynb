{
 "cells": [
  {
   "cell_type": "code",
   "execution_count": 1,
   "metadata": {},
   "outputs": [
    {
     "name": "stderr",
     "output_type": "stream",
     "text": [
      "/home/xiaoruiwang/software/miniconda3/envs/py38/lib/python3.8/site-packages/Bio/pairwise2.py:278: BiopythonDeprecationWarning: Bio.pairwise2 has been deprecated, and we intend to remove it in a future release of Biopython. As an alternative, please consider using Bio.Align.PairwiseAligner as a replacement, and contact the Biopython developers if you still need the Bio.pairwise2 module.\n",
      "  warnings.warn(\n"
     ]
    }
   ],
   "source": [
    "# %%\n",
    "import sys\n",
    "import os\n",
    "sys.path.append('../')\n",
    "import torch\n",
    "import pandas as pd\n",
    "from webapp.utils import UniProtParserMysql, EasIFAInferenceAPI, retrain_ec_site_model_state_path, cmd, get_structure_html_and_active_data\n"
   ]
  },
  {
   "cell_type": "code",
   "execution_count": 2,
   "metadata": {},
   "outputs": [
    {
     "name": "stderr",
     "output_type": "stream",
     "text": [
      "/home/xiaoruiwang/data/ubuntu_work_beta/single_step_work/EasIFA_v2/script/../model_structure/esm_layer.py:297: UserWarning: Regression weights not found, predicting contacts will not produce correct results.\n",
      "  warnings.warn(\n"
     ]
    },
    {
     "name": "stdout",
     "output_type": "stream",
     "text": [
      "Loaded checkpoint from /home/xiaoruiwang/data/ubuntu_work_beta/single_step_work/EasIFA_v2/checkpoints/enzyme_site_type_predition_model/train_in_uniprot_ecreact_cluster_split_merge_dataset_limit_100_at_2024-05-26-02-48-38/global_step_86000\n",
      "[Errno 2] No such file or directory: './mysql_config.json'\n",
      "Warning: MySQL connect fail!\n"
     ]
    }
   ],
   "source": [
    "# %%\n",
    "device = torch.device('cuda:0' if torch.cuda.is_available() else 'cpu')\n",
    "\n",
    "ECSitePred = EasIFAInferenceAPI(\n",
    "            model_checkpoint_path=retrain_ec_site_model_state_path, device=device\n",
    "        )\n",
    "\n",
    "unprot_mysql_parser = UniProtParserMysql(\n",
    "        mysql_config_path=\"./mysql_config.json\"\n",
    "    )     # You don't need to worry about the warning of mysql. It doesn't affect the prediction\n",
    "\n",
    "\n",
    "def inference_from_uniprot_ids(uniprot_id_list:list, ECSitePred:EasIFAInferenceAPI, unprot_mysql_parser:UniProtParserMysql):\n",
    "    \n",
    "    all_results_df = pd.DataFrame()\n",
    "\n",
    "    for uniprot_id in uniprot_id_list:\n",
    "        query_data, _, _ = (\n",
    "            unprot_mysql_parser.query_from_uniprot(uniprot_id)\n",
    "        )\n",
    "        uniprot_id, query_results_df, msg, _ = query_data\n",
    "        if query_results_df is None:\n",
    "            msg = uniprot_id + ': ' + msg \n",
    "            print(msg)\n",
    "            continue\n",
    "        enzyme_aa_length = query_results_df[\"aa_length\"].tolist()[0]\n",
    "        if ECSitePred.max_enzyme_aa_length < enzyme_aa_length:\n",
    "            query_results_df['predicted_results'] = [None for _ in range(len(query_results_df))]\n",
    "            continue\n",
    "\n",
    "        predicted_results = []\n",
    "\n",
    "        for idx, row in enumerate(query_results_df.itertuples()):\n",
    "            rxn = row[2]\n",
    "            enzyme_structure_path = row[3]\n",
    "            if not os.path.exists(enzyme_structure_path):\n",
    "                enzyme_structure_path = os.path.join(\n",
    "                    unprot_mysql_parser.unprot_parser.alphafolddb_folder,\n",
    "                    f\"AF-{uniprot_id}-F1-model_v4.pdb\",\n",
    "                )\n",
    "                cmd(\n",
    "                    unprot_mysql_parser.unprot_parser.download_alphafolddb_url_template.format(\n",
    "                        enzyme_structure_path, uniprot_id\n",
    "                    )\n",
    "                )\n",
    "\n",
    "\n",
    "            pred_active_site_labels = ECSitePred.inference(\n",
    "                    rxn=rxn, enzyme_structure_path=enzyme_structure_path\n",
    "                )\n",
    "            del ECSitePred.caculated_sequence\n",
    "            predicted_results.append(pred_active_site_labels)\n",
    "            _, active_data = get_structure_html_and_active_data(\n",
    "                enzyme_structure_path=enzyme_structure_path,\n",
    "                site_labels=pred_active_site_labels,\n",
    "                view_size=(600, 600),\n",
    "            )\n",
    "            # active_data_df = pd.DataFrame(active_data, columns=['Residue Index', 'Residue Name', 'Color', 'Active  Site Type'])\n",
    "        query_results_df['predicted_results'] = predicted_results\n",
    "        all_results_df = pd.concat([all_results_df, query_results_df], axis=0)\n",
    "    return all_results_df\n",
    "\n",
    "\n"
   ]
  },
  {
   "cell_type": "code",
   "execution_count": 3,
   "metadata": {},
   "outputs": [],
   "source": [
    "# %%\n",
    "uniprot_id_list = ['O30144', 'O14657', 'O15269']   # Replace it with your own list of UniProt ids that you want to predict\n",
    "\n"
   ]
  },
  {
   "cell_type": "code",
   "execution_count": 4,
   "metadata": {},
   "outputs": [
    {
     "name": "stdout",
     "output_type": "stream",
     "text": [
      "[Errno 2] No such file or directory: './mysql_config.json'\n",
      "Warning: MySQL connect fail!\n",
      "[Errno 2] No such file or directory: './mysql_config.json'\n",
      "Warning: MySQL connect fail!\n",
      "[Errno 2] No such file or directory: './mysql_config.json'\n",
      "Warning: MySQL connect fail!\n"
     ]
    },
    {
     "data": {
      "text/html": [
       "<div>\n",
       "<style scoped>\n",
       "    .dataframe tbody tr th:only-of-type {\n",
       "        vertical-align: middle;\n",
       "    }\n",
       "\n",
       "    .dataframe tbody tr th {\n",
       "        vertical-align: top;\n",
       "    }\n",
       "\n",
       "    .dataframe thead th {\n",
       "        text-align: right;\n",
       "    }\n",
       "</style>\n",
       "<table border=\"1\" class=\"dataframe\">\n",
       "  <thead>\n",
       "    <tr style=\"text-align: right;\">\n",
       "      <th></th>\n",
       "      <th>ec</th>\n",
       "      <th>rxn_smiles</th>\n",
       "      <th>pdb_fpath</th>\n",
       "      <th>aa_length</th>\n",
       "      <th>predicted_results</th>\n",
       "    </tr>\n",
       "  </thead>\n",
       "  <tbody>\n",
       "    <tr>\n",
       "      <th>0</th>\n",
       "      <td>7.3.2.6</td>\n",
       "      <td>Nc1ncnc2c1ncn2[C@@H]1O[C@H](COP(=O)([O-])OP(=O...</td>\n",
       "      <td>/home/xiaoruiwang/data/ubuntu_work_beta/single...</td>\n",
       "      <td>240</td>\n",
       "      <td>[0, 0, 0, 0, 0, 0, 0, 0, 0, 0, 0, 0, 0, 0, 0, ...</td>\n",
       "    </tr>\n",
       "    <tr>\n",
       "      <th>0</th>\n",
       "      <td>UNK</td>\n",
       "      <td>Nc1ncnc2c1ncn2[C@@H]1O[C@H](COP(=O)([O-])OP(=O...</td>\n",
       "      <td>/home/xiaoruiwang/data/ubuntu_work_beta/single...</td>\n",
       "      <td>336</td>\n",
       "      <td>[0, 0, 0, 0, 0, 0, 0, 0, 0, 0, 0, 0, 0, 0, 0, ...</td>\n",
       "    </tr>\n",
       "    <tr>\n",
       "      <th>0</th>\n",
       "      <td>2.3.1.50</td>\n",
       "      <td>CCCCCCCCCCCCCCCC(=O)SCCNC(=O)CCNC(=O)[C@H](O)C...</td>\n",
       "      <td>/home/xiaoruiwang/data/ubuntu_work_beta/single...</td>\n",
       "      <td>473</td>\n",
       "      <td>[0, 0, 0, 0, 0, 0, 0, 0, 0, 0, 0, 0, 0, 0, 0, ...</td>\n",
       "    </tr>\n",
       "    <tr>\n",
       "      <th>1</th>\n",
       "      <td>UNK</td>\n",
       "      <td>CCCCCCCCCCCCCCCCCC(=O)SCCNC(=O)CCNC(=O)[C@H](O...</td>\n",
       "      <td>/home/xiaoruiwang/data/ubuntu_work_beta/single...</td>\n",
       "      <td>473</td>\n",
       "      <td>[0, 0, 0, 0, 0, 0, 0, 0, 0, 0, 0, 0, 0, 0, 0, ...</td>\n",
       "    </tr>\n",
       "    <tr>\n",
       "      <th>2</th>\n",
       "      <td>UNK</td>\n",
       "      <td>CCCCCCCCCCCCCC(=O)SCCNC(=O)CCNC(=O)[C@H](O)C(C...</td>\n",
       "      <td>/home/xiaoruiwang/data/ubuntu_work_beta/single...</td>\n",
       "      <td>473</td>\n",
       "      <td>[0, 0, 0, 0, 0, 0, 0, 0, 0, 0, 0, 0, 0, 0, 0, ...</td>\n",
       "    </tr>\n",
       "    <tr>\n",
       "      <th>3</th>\n",
       "      <td>UNK</td>\n",
       "      <td>CCCCCCCCCCCC(=O)SCCNC(=O)CCNC(=O)[C@H](O)C(C)(...</td>\n",
       "      <td>/home/xiaoruiwang/data/ubuntu_work_beta/single...</td>\n",
       "      <td>473</td>\n",
       "      <td>[0, 0, 0, 0, 0, 0, 0, 0, 0, 0, 0, 0, 0, 0, 0, ...</td>\n",
       "    </tr>\n",
       "  </tbody>\n",
       "</table>\n",
       "</div>"
      ],
      "text/plain": [
       "         ec                                         rxn_smiles  \\\n",
       "0   7.3.2.6  Nc1ncnc2c1ncn2[C@@H]1O[C@H](COP(=O)([O-])OP(=O...   \n",
       "0       UNK  Nc1ncnc2c1ncn2[C@@H]1O[C@H](COP(=O)([O-])OP(=O...   \n",
       "0  2.3.1.50  CCCCCCCCCCCCCCCC(=O)SCCNC(=O)CCNC(=O)[C@H](O)C...   \n",
       "1       UNK  CCCCCCCCCCCCCCCCCC(=O)SCCNC(=O)CCNC(=O)[C@H](O...   \n",
       "2       UNK  CCCCCCCCCCCCCC(=O)SCCNC(=O)CCNC(=O)[C@H](O)C(C...   \n",
       "3       UNK  CCCCCCCCCCCC(=O)SCCNC(=O)CCNC(=O)[C@H](O)C(C)(...   \n",
       "\n",
       "                                           pdb_fpath  aa_length  \\\n",
       "0  /home/xiaoruiwang/data/ubuntu_work_beta/single...        240   \n",
       "0  /home/xiaoruiwang/data/ubuntu_work_beta/single...        336   \n",
       "0  /home/xiaoruiwang/data/ubuntu_work_beta/single...        473   \n",
       "1  /home/xiaoruiwang/data/ubuntu_work_beta/single...        473   \n",
       "2  /home/xiaoruiwang/data/ubuntu_work_beta/single...        473   \n",
       "3  /home/xiaoruiwang/data/ubuntu_work_beta/single...        473   \n",
       "\n",
       "                                   predicted_results  \n",
       "0  [0, 0, 0, 0, 0, 0, 0, 0, 0, 0, 0, 0, 0, 0, 0, ...  \n",
       "0  [0, 0, 0, 0, 0, 0, 0, 0, 0, 0, 0, 0, 0, 0, 0, ...  \n",
       "0  [0, 0, 0, 0, 0, 0, 0, 0, 0, 0, 0, 0, 0, 0, 0, ...  \n",
       "1  [0, 0, 0, 0, 0, 0, 0, 0, 0, 0, 0, 0, 0, 0, 0, ...  \n",
       "2  [0, 0, 0, 0, 0, 0, 0, 0, 0, 0, 0, 0, 0, 0, 0, ...  \n",
       "3  [0, 0, 0, 0, 0, 0, 0, 0, 0, 0, 0, 0, 0, 0, 0, ...  "
      ]
     },
     "execution_count": 4,
     "metadata": {},
     "output_type": "execute_result"
    }
   ],
   "source": [
    "# %%\n",
    "all_results_df = inference_from_uniprot_ids(uniprot_id_list, ECSitePred, unprot_mysql_parser)\n",
    "\n",
    "all_results_df\n"
   ]
  }
 ],
 "metadata": {
  "language_info": {
   "codemirror_mode": {
    "name": "ipython",
    "version": 3
   },
   "file_extension": ".py",
   "mimetype": "text/x-python",
   "name": "python",
   "nbconvert_exporter": "python",
   "pygments_lexer": "ipython3",
   "version": 3
  }
 },
 "nbformat": 4,
 "nbformat_minor": 2
}
