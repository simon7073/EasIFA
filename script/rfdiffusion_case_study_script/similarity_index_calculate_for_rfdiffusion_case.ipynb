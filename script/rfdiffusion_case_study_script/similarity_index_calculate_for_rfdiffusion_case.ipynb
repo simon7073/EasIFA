{
 "cells": [
  {
   "cell_type": "code",
   "execution_count": 1,
   "metadata": {},
   "outputs": [],
   "source": [
    "import pandas as pd\n",
    "import os"
   ]
  },
  {
   "cell_type": "code",
   "execution_count": 2,
   "metadata": {},
   "outputs": [],
   "source": [
    "mcsa_aug_dataset_path = '../../dataset/mcsa_fine_tune/mcsa_aug_20_mutation_rate_0.2_insertion_rate_0.1_deletion_rate_0.1_max_length_150_seed_123'\n",
    "\n",
    "train_valid_fasta_name = 'train_valid_aug_sequence.fasta'\n",
    "train_valid_fasta_path = os.path.join(mcsa_aug_dataset_path, train_valid_fasta_name)\n",
    "\n",
    "rfdiffusion_case_fasta_path = '../../dataset/rfdiffusion_enzyme_design/Active_site_scaffolds_reformate.fasta'"
   ]
  },
  {
   "cell_type": "code",
   "execution_count": 3,
   "metadata": {},
   "outputs": [],
   "source": [
    "def read_blast_results(path):\n",
    "    column_headers = [\n",
    "    \"Query ID\",\n",
    "    \"Subject ID\",\n",
    "    \"% Identity\",\n",
    "    \"Alignment Length\",\n",
    "    \"Mismatches\",\n",
    "    \"Gap Opens\",\n",
    "    \"Query Start\",\n",
    "    \"Query End\",\n",
    "    \"Subject Start\",\n",
    "    \"Subject End\",\n",
    "    \"E-value\",\n",
    "    \"Bit Score\",\n",
    "    ]\n",
    "    try:\n",
    "        results_df = pd.read_csv(path, sep='\\t', header=None)\n",
    "        results_df.columns = column_headers\n",
    "\n",
    "        return results_df\n",
    "    except:\n",
    "        print('没有Blast的结果')\n",
    "        return pd.DataFrame()\n"
   ]
  },
  {
   "cell_type": "code",
   "execution_count": 4,
   "metadata": {},
   "outputs": [
    {
     "name": "stdout",
     "output_type": "stream",
     "text": [
      "\n",
      "\n",
      "Building a new DB, current time: 07/12/2024 13:31:24\n",
      "New DB name:   /home/xiaoruiwang/data/ubuntu_work_beta/single_step_work/EasIFA_v2/dataset/mcsa_fine_tune/mcsa_aug_20_mutation_rate_0.2_insertion_rate_0.1_deletion_rate_0.1_max_length_150_seed_123/train_valid_aug_sequence\n",
      "New DB title:  ../../dataset/mcsa_fine_tune/mcsa_aug_20_mutation_rate_0.2_insertion_rate_0.1_deletion_rate_0.1_max_length_150_seed_123/train_valid_aug_sequence.fasta\n",
      "Sequence type: Protein\n",
      "Deleted existing Protein BLAST database named /home/xiaoruiwang/data/ubuntu_work_beta/single_step_work/EasIFA_v2/dataset/mcsa_fine_tune/mcsa_aug_20_mutation_rate_0.2_insertion_rate_0.1_deletion_rate_0.1_max_length_150_seed_123/train_valid_aug_sequence\n",
      "Keep MBits: T\n",
      "Maximum file size: 1000000000B\n",
      "Adding sequences from FASTA; added 17420 sequences in 0.156296 seconds.\n"
     ]
    },
    {
     "data": {
      "text/plain": [
       "CompletedProcess(args='makeblastdb -in ../../dataset/mcsa_fine_tune/mcsa_aug_20_mutation_rate_0.2_insertion_rate_0.1_deletion_rate_0.1_max_length_150_seed_123/train_valid_aug_sequence.fasta -dbtype prot -out ../../dataset/mcsa_fine_tune/mcsa_aug_20_mutation_rate_0.2_insertion_rate_0.1_deletion_rate_0.1_max_length_150_seed_123/train_valid_aug_sequence', returncode=0)"
      ]
     },
     "execution_count": 4,
     "metadata": {},
     "output_type": "execute_result"
    }
   ],
   "source": [
    "import subprocess\n",
    "\n",
    "database_fasta = train_valid_fasta_path\n",
    "database = os.path.join(os.path.dirname(database_fasta), 'train_valid_aug_sequence')\n",
    "command = f'makeblastdb -in {database_fasta} -dbtype prot -out {database}'\n",
    "subprocess.run(command, shell=True)"
   ]
  },
  {
   "cell_type": "code",
   "execution_count": 5,
   "metadata": {},
   "outputs": [
    {
     "data": {
      "text/plain": [
       "CompletedProcess(args='blastp -query ../../dataset/rfdiffusion_enzyme_design/Active_site_scaffolds_reformate.fasta -db ../../dataset/mcsa_fine_tune/mcsa_aug_20_mutation_rate_0.2_insertion_rate_0.1_deletion_rate_0.1_max_length_150_seed_123/train_valid_aug_sequence -out ../rfdiffusion_case_study/data/blast_results_use_mcsa_aug.txt -evalue 0.001 -outfmt 6 -num_threads 16', returncode=0)"
      ]
     },
     "execution_count": 5,
     "metadata": {},
     "output_type": "execute_result"
    }
   ],
   "source": [
    "query_file = rfdiffusion_case_fasta_path\n",
    "output_file = os.path.join('../rfdiffusion_case_study/data', 'blast_results_use_mcsa_aug.txt')\n",
    "command = f'blastp -query {query_file} -db {database} -out {output_file} -evalue 0.001 -outfmt 6 -num_threads 16'    # 这里的evalue=0.001是一个较为宽松的阈值\n",
    "\n",
    "subprocess.run(command, shell=True)\n",
    "# subprocess.run(command, shell=True)"
   ]
  },
  {
   "cell_type": "code",
   "execution_count": 6,
   "metadata": {},
   "outputs": [
    {
     "name": "stdout",
     "output_type": "stream",
     "text": [
      "没有Blast的结果\n"
     ]
    },
    {
     "data": {
      "text/html": [
       "<div>\n",
       "<style scoped>\n",
       "    .dataframe tbody tr th:only-of-type {\n",
       "        vertical-align: middle;\n",
       "    }\n",
       "\n",
       "    .dataframe tbody tr th {\n",
       "        vertical-align: top;\n",
       "    }\n",
       "\n",
       "    .dataframe thead th {\n",
       "        text-align: right;\n",
       "    }\n",
       "</style>\n",
       "<table border=\"1\" class=\"dataframe\">\n",
       "  <thead>\n",
       "    <tr style=\"text-align: right;\">\n",
       "      <th></th>\n",
       "    </tr>\n",
       "  </thead>\n",
       "  <tbody>\n",
       "  </tbody>\n",
       "</table>\n",
       "</div>"
      ],
      "text/plain": [
       "Empty DataFrame\n",
       "Columns: []\n",
       "Index: []"
      ]
     },
     "execution_count": 6,
     "metadata": {},
     "output_type": "execute_result"
    }
   ],
   "source": [
    "blast_p_results = read_blast_results(path=output_file)\n",
    "blast_p_results"
   ]
  },
  {
   "cell_type": "code",
   "execution_count": null,
   "metadata": {},
   "outputs": [],
   "source": []
  },
  {
   "cell_type": "code",
   "execution_count": 7,
   "metadata": {},
   "outputs": [],
   "source": [
    "if not blast_p_results.empty:\n",
    "    blast_p_results.sort_values('% Identity', ascending=False)"
   ]
  },
  {
   "cell_type": "code",
   "execution_count": 8,
   "metadata": {},
   "outputs": [],
   "source": [
    "# 合并qurey fasta和database fasta，使用CD-HIT进行聚类，获取相似度等级\n",
    "! cat ../../dataset/mcsa_fine_tune/mcsa_aug_20_mutation_rate_0.2_insertion_rate_0.1_deletion_rate_0.1_max_length_150_seed_123/train_valid_aug_sequence.fasta > ../rfdiffusion_case_study/data/rfdiffusion_train_valid_test_merge.fasta\n",
    "! cat ../../dataset/rfdiffusion_enzyme_design/Active_site_scaffolds_reformate.fasta >> ../rfdiffusion_case_study/data/rfdiffusion_train_valid_test_merge.fasta\n",
    "\n",
    "merge_fasta_path = '../rfdiffusion_case_study/data/rfdiffusion_train_valid_test_merge.fasta'"
   ]
  },
  {
   "cell_type": "code",
   "execution_count": 9,
   "metadata": {},
   "outputs": [
    {
     "name": "stdout",
     "output_type": "stream",
     "text": [
      "Args: -i /home/xiaoruiwang/data/ubuntu_work_beta/single_step_work/EasIFA_v2/script/rfdiffusion_case_study/data/rfdiffusion_train_valid_test_merge.fasta -o /home/xiaoruiwang/data/ubuntu_work_beta/single_step_work/EasIFA_v2/script/rfdiffusion_case_study/data/rfdiffusion_train_valid_test_merge_sequence_cutoff_0.4.fasta -c 0.4 -n 2 -T 12 -d 0\n"
     ]
    }
   ],
   "source": [
    "# 使用CD-HIT聚类，查看相似度\n",
    "\n",
    "# 定义CD-HIT命令和参数\n",
    "\n",
    "def run_subprocess_and_print(args):\n",
    "    # 开启一个新的进程\n",
    "    with subprocess.Popen(args, stdout=subprocess.PIPE, stderr=subprocess.PIPE, text=True) as proc:\n",
    "        # 实时读取输出\n",
    "        while True:\n",
    "            output = proc.stdout.readline()\n",
    "            if output == '' and proc.poll() is not None:\n",
    "                break\n",
    "            if output:\n",
    "                print(output.strip())  # 输出每一行\n",
    "        # 检查错误输出\n",
    "        err = proc.stderr.read()\n",
    "        if err:\n",
    "            print(\"Error:\", err)\n",
    "    proc.communicate()\n",
    "\n",
    "threshold = [0.4]\n",
    "command = \"/home/xiaoruiwang/software/cdhit/cd-hit\"\n",
    "for thre in threshold:\n",
    "\n",
    "    if thre < 0.5:\n",
    "        word = 2\n",
    "    elif thre < 0.6:\n",
    "        word = 3\n",
    "    elif thre < 0.7:\n",
    "        word = 4\n",
    "    else:\n",
    "        word = 5\n",
    "    args = [\"-i\", os.path.abspath(merge_fasta_path),\n",
    "            \"-o\", os.path.abspath(os.path.join(os.path.dirname(merge_fasta_path), f'rfdiffusion_train_valid_test_merge_sequence_cutoff_{str(thre)}.fasta')),\n",
    "            \"-c\", str(thre),\n",
    "            \"-n\", str(word),\n",
    "            \"-T\", str(12),\n",
    "            \"-d\", '0']\n",
    "    print('Args: {}'.format(' '.join(args)))\n",
    "    if not os.path.exists(os.path.abspath(os.path.join(os.path.dirname(merge_fasta_path), f'rfdiffusion_train_valid_test_merge_sequence_cutoff_{str(thre)}.fasta'))):\n",
    "        run_subprocess_and_print([command] + args)\n"
   ]
  },
  {
   "cell_type": "code",
   "execution_count": 10,
   "metadata": {},
   "outputs": [],
   "source": [
    "fasta_dir_path = os.path.abspath(os.path.dirname(merge_fasta_path))"
   ]
  },
  {
   "cell_type": "code",
   "execution_count": 11,
   "metadata": {},
   "outputs": [],
   "source": [
    "from collections import defaultdict\n",
    "def get_cluster(cluster_results_path):\n",
    "    results = defaultdict(list)\n",
    "    with open(cluster_results_path, 'r', encoding='utf-8') as f:\n",
    "        data = [x.strip() for x in f.readlines()]\n",
    "    for line in data:\n",
    "        if '>Cluster' in line:\n",
    "            cluster = line.replace('>', '')\n",
    "            continue\n",
    "        sequence_id = line.split('>')[-1].split('.')[0]\n",
    "        results[cluster].append(sequence_id)\n",
    "    return results\n",
    "\n",
    "\n",
    "def id2cluster(cluster_results:dict):\n",
    "    sequence_id2cluster = {}\n",
    "    for key in cluster_results:\n",
    "        for id in cluster_results[key]:\n",
    "            sequence_id2cluster[id] = key\n",
    "    return sequence_id2cluster\n"
   ]
  },
  {
   "cell_type": "code",
   "execution_count": 12,
   "metadata": {},
   "outputs": [
    {
     "name": "stdout",
     "output_type": "stream",
     "text": [
      "1016\n"
     ]
    }
   ],
   "source": [
    "threshold = threshold\n",
    "sequence_id2cluster_all_levels = {}\n",
    "cluster_all_levels2sequence_id = {}\n",
    "for thre in threshold:\n",
    "    cluster_results_path = os.path.abspath(os.path.join(fasta_dir_path, f'rfdiffusion_train_valid_test_merge_sequence_cutoff_{str(thre)}.fasta.clstr'))\n",
    "    cluster_results = get_cluster(cluster_results_path)\n",
    "    print(len(cluster_results))\n",
    "    sequence_id2cluster_all_levels[thre] = id2cluster(cluster_results)\n",
    "    cluster_all_levels2sequence_id[thre] = cluster_results"
   ]
  },
  {
   "cell_type": "code",
   "execution_count": 13,
   "metadata": {},
   "outputs": [
    {
     "data": {
      "text/plain": [
       "'Cluster 430'"
      ]
     },
     "execution_count": 13,
     "metadata": {},
     "output_type": "execute_result"
    }
   ],
   "source": [
    "sequence_id2cluster_all_levels[0.4]['EC2_AF2_2']"
   ]
  },
  {
   "cell_type": "code",
   "execution_count": 14,
   "metadata": {},
   "outputs": [
    {
     "data": {
      "text/plain": [
       "['EC2_AF2_2']"
      ]
     },
     "execution_count": 14,
     "metadata": {},
     "output_type": "execute_result"
    }
   ],
   "source": [
    "cluster_all_levels2sequence_id[0.4][sequence_id2cluster_all_levels[0.4]['EC2_AF2_2']] "
   ]
  },
  {
   "cell_type": "code",
   "execution_count": 15,
   "metadata": {},
   "outputs": [
    {
     "data": {
      "text/plain": [
       "['EC4_AF2_28']"
      ]
     },
     "execution_count": 15,
     "metadata": {},
     "output_type": "execute_result"
    }
   ],
   "source": [
    "cluster_all_levels2sequence_id[0.4][sequence_id2cluster_all_levels[0.4]['EC4_AF2_28']]"
   ]
  },
  {
   "cell_type": "code",
   "execution_count": 16,
   "metadata": {},
   "outputs": [
    {
     "data": {
      "text/plain": [
       "['P81054-c0_m17', 'EC3_AF2_3']"
      ]
     },
     "execution_count": 16,
     "metadata": {},
     "output_type": "execute_result"
    }
   ],
   "source": [
    "cluster_all_levels2sequence_id[0.4][sequence_id2cluster_all_levels[0.4]['EC3_AF2_3']]    # 与生成的增强数据P81054-c0_m17 有 40.54% 相似度（见script/rfdiffusion_case_study/data/rfdiffusion_train_valid_test_merge_sequence_cutoff_0.4.fasta.clstr）"
   ]
  },
  {
   "cell_type": "code",
   "execution_count": 17,
   "metadata": {},
   "outputs": [
    {
     "data": {
      "text/plain": [
       "['EC5_AF2_6']"
      ]
     },
     "execution_count": 17,
     "metadata": {},
     "output_type": "execute_result"
    }
   ],
   "source": [
    "cluster_all_levels2sequence_id[0.4][sequence_id2cluster_all_levels[0.4]['EC5_AF2_6']]"
   ]
  },
  {
   "cell_type": "code",
   "execution_count": null,
   "metadata": {},
   "outputs": [],
   "source": []
  },
  {
   "cell_type": "code",
   "execution_count": 18,
   "metadata": {},
   "outputs": [],
   "source": [
    "! cat ../../dataset/ec_site_dataset/uniprot_ecreact_cluster_split_merge_dataset_limit_100/blast_database.fasta >> ../rfdiffusion_case_study/data/swissprot_erxn_asa_rfdiffusion_train_valid_test_merge.fasta\n",
    "! cat ../rfdiffusion_case_study/data/rfdiffusion_train_valid_test_merge.fasta >> ../rfdiffusion_case_study/data/swissprot_erxn_asa_rfdiffusion_train_valid_test_merge.fasta\n",
    "\n",
    "all_merge_fasta_path = '../rfdiffusion_case_study/data/swissprot_erxn_asa_rfdiffusion_train_valid_test_merge.fasta'"
   ]
  },
  {
   "cell_type": "code",
   "execution_count": 19,
   "metadata": {},
   "outputs": [
    {
     "name": "stdout",
     "output_type": "stream",
     "text": [
      "Args: -i /home/xiaoruiwang/data/ubuntu_work_beta/single_step_work/EasIFA_v2/script/rfdiffusion_case_study/data/swissprot_erxn_asa_rfdiffusion_train_valid_test_merge.fasta -o /home/xiaoruiwang/data/ubuntu_work_beta/single_step_work/EasIFA_v2/script/rfdiffusion_case_study/data/swissprot_erxn_asa_rfdiffusion_train_valid_test_merge_sequence_cutoff_0.4.fasta -c 0.4 -n 2 -T 12 -d 0\n"
     ]
    }
   ],
   "source": [
    "# 使用CD-HIT聚类，查看相似度\n",
    "\n",
    "# 定义CD-HIT命令和参数\n",
    "\n",
    "def run_subprocess_and_print(args):\n",
    "    # 开启一个新的进程\n",
    "    with subprocess.Popen(args, stdout=subprocess.PIPE, stderr=subprocess.PIPE, text=True) as proc:\n",
    "        # 实时读取输出\n",
    "        while True:\n",
    "            output = proc.stdout.readline()\n",
    "            if output == '' and proc.poll() is not None:\n",
    "                break\n",
    "            if output:\n",
    "                print(output.strip())  # 输出每一行\n",
    "        # 检查错误输出\n",
    "        err = proc.stderr.read()\n",
    "        if err:\n",
    "            print(\"Error:\", err)\n",
    "    proc.communicate()\n",
    "\n",
    "threshold = [0.4]\n",
    "command = \"/home/xiaoruiwang/software/cdhit/cd-hit\"\n",
    "for thre in threshold:\n",
    "\n",
    "    if thre < 0.5:\n",
    "        word = 2\n",
    "    elif thre < 0.6:\n",
    "        word = 3\n",
    "    elif thre < 0.7:\n",
    "        word = 4\n",
    "    else:\n",
    "        word = 5\n",
    "    args = [\"-i\", os.path.abspath(all_merge_fasta_path),\n",
    "            \"-o\", os.path.abspath(os.path.join(os.path.dirname(all_merge_fasta_path), f'swissprot_erxn_asa_rfdiffusion_train_valid_test_merge_sequence_cutoff_{str(thre)}.fasta')),\n",
    "            \"-c\", str(thre),\n",
    "            \"-n\", str(word),\n",
    "            \"-T\", str(12),\n",
    "            \"-d\", '0']\n",
    "    print('Args: {}'.format(' '.join(args)))\n",
    "    if not os.path.exists(os.path.abspath(os.path.join(os.path.dirname(all_merge_fasta_path), f'swissprot_erxn_asa_rfdiffusion_train_valid_test_merge_sequence_cutoff_{str(thre)}.fasta'))):\n",
    "        run_subprocess_and_print([command] + args)\n"
   ]
  },
  {
   "cell_type": "code",
   "execution_count": 20,
   "metadata": {},
   "outputs": [
    {
     "name": "stdout",
     "output_type": "stream",
     "text": [
      "8147\n"
     ]
    }
   ],
   "source": [
    "threshold = threshold\n",
    "sequence_id2cluster_all_levels_add_swissprot_erxn_asa = {}\n",
    "cluster_all_levels2sequence_id_add_swissprot_erxn_asa = {}\n",
    "for thre in threshold:\n",
    "    cluster_results_path_add_swissprot_erxn_asa = os.path.abspath(os.path.join(fasta_dir_path, f'swissprot_erxn_asa_rfdiffusion_train_valid_test_merge_sequence_cutoff_{str(thre)}.fasta.clstr'))\n",
    "    cluster_results_add_swissprot_erxn_asa = get_cluster(cluster_results_path_add_swissprot_erxn_asa)\n",
    "    print(len(cluster_results_add_swissprot_erxn_asa))\n",
    "    sequence_id2cluster_all_levels_add_swissprot_erxn_asa[thre] = id2cluster(cluster_results_add_swissprot_erxn_asa)\n",
    "    cluster_all_levels2sequence_id_add_swissprot_erxn_asa[thre] = cluster_results_add_swissprot_erxn_asa"
   ]
  },
  {
   "cell_type": "code",
   "execution_count": 21,
   "metadata": {},
   "outputs": [
    {
     "data": {
      "text/plain": [
       "'Cluster 7560'"
      ]
     },
     "execution_count": 21,
     "metadata": {},
     "output_type": "execute_result"
    }
   ],
   "source": [
    "sequence_id2cluster_all_levels_add_swissprot_erxn_asa[0.4]['EC2_AF2_2']"
   ]
  },
  {
   "cell_type": "code",
   "execution_count": 22,
   "metadata": {},
   "outputs": [
    {
     "data": {
      "text/plain": [
       "['EC2_AF2_2']"
      ]
     },
     "execution_count": 22,
     "metadata": {},
     "output_type": "execute_result"
    }
   ],
   "source": [
    "cluster_all_levels2sequence_id_add_swissprot_erxn_asa[0.4][sequence_id2cluster_all_levels_add_swissprot_erxn_asa[0.4]['EC2_AF2_2']] "
   ]
  },
  {
   "cell_type": "code",
   "execution_count": 23,
   "metadata": {},
   "outputs": [
    {
     "data": {
      "text/plain": [
       "['EC4_AF2_28']"
      ]
     },
     "execution_count": 23,
     "metadata": {},
     "output_type": "execute_result"
    }
   ],
   "source": [
    "cluster_all_levels2sequence_id_add_swissprot_erxn_asa[0.4][sequence_id2cluster_all_levels_add_swissprot_erxn_asa[0.4]['EC4_AF2_28']] "
   ]
  },
  {
   "cell_type": "code",
   "execution_count": 24,
   "metadata": {},
   "outputs": [
    {
     "data": {
      "text/plain": [
       "['EC3_AF2_3']"
      ]
     },
     "execution_count": 24,
     "metadata": {},
     "output_type": "execute_result"
    }
   ],
   "source": [
    "cluster_all_levels2sequence_id_add_swissprot_erxn_asa[0.4][sequence_id2cluster_all_levels_add_swissprot_erxn_asa[0.4]['EC3_AF2_3']] "
   ]
  },
  {
   "cell_type": "code",
   "execution_count": 25,
   "metadata": {},
   "outputs": [
    {
     "data": {
      "text/plain": [
       "['EC5_AF2_6']"
      ]
     },
     "execution_count": 25,
     "metadata": {},
     "output_type": "execute_result"
    }
   ],
   "source": [
    "cluster_all_levels2sequence_id_add_swissprot_erxn_asa[0.4][sequence_id2cluster_all_levels_add_swissprot_erxn_asa[0.4]['EC5_AF2_6']] "
   ]
  },
  {
   "cell_type": "code",
   "execution_count": 26,
   "metadata": {},
   "outputs": [
    {
     "name": "stdout",
     "output_type": "stream",
     "text": [
      "All the artificial enzymes formed a single cluster.\n"
     ]
    }
   ],
   "source": [
    "not_unique_claster = []\n",
    "for ec, file_flag in zip(range(1,6), range(0, 100)):\n",
    "    try:\n",
    "        cluster_all_levels2sequence_id_add_swissprot_erxn_asa[0.4][sequence_id2cluster_all_levels_add_swissprot_erxn_asa[0.4][f'EC{ec}_AF2_{file_flag}']]\n",
    "        if len(cluster_all_levels2sequence_id_add_swissprot_erxn_asa[0.4][sequence_id2cluster_all_levels_add_swissprot_erxn_asa[0.4][f'EC{ec}_AF2_{file_flag}']]) != 1:\n",
    "            not_unique_claster.append(cluster_all_levels2sequence_id_add_swissprot_erxn_asa[0.4][sequence_id2cluster_all_levels_add_swissprot_erxn_asa[0.4][f'EC{ec}_AF2_{file_flag}']])\n",
    "    except:\n",
    "        pass\n",
    "\n",
    "if len(not_unique_claster) == 0:\n",
    "    print('All the artificial enzymes formed a single cluster.')\n",
    "else:\n",
    "    print(not_unique_claster)\n"
   ]
  }
 ],
 "metadata": {
  "kernelspec": {
   "display_name": "py38",
   "language": "python",
   "name": "python3"
  },
  "language_info": {
   "codemirror_mode": {
    "name": "ipython",
    "version": 3
   },
   "file_extension": ".py",
   "mimetype": "text/x-python",
   "name": "python",
   "nbconvert_exporter": "python",
   "pygments_lexer": "ipython3",
   "version": "3.8.16"
  }
 },
 "nbformat": 4,
 "nbformat_minor": 2
}
