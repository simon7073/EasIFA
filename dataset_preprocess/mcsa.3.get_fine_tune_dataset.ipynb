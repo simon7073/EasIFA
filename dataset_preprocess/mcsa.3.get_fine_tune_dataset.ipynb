{
 "cells": [
  {
   "cell_type": "code",
   "execution_count": 1,
   "metadata": {},
   "outputs": [],
   "source": [
    "import pandas as pd\n",
    "import os"
   ]
  },
  {
   "cell_type": "code",
   "execution_count": 2,
   "metadata": {},
   "outputs": [],
   "source": [
    "mcsa_save_path = '../dataset/raw_dataset/mcsa/split_dataset'\n",
    "mcsa_dataset_path = '../dataset/mcsa_fine_tune/normal_mcsa'"
   ]
  },
  {
   "cell_type": "code",
   "execution_count": 3,
   "metadata": {},
   "outputs": [],
   "source": [
    "def get_max_site_index(site_label):\n",
    "    site_label = eval(site_label)\n",
    "    try:\n",
    "        return max([max(x) for x in site_label])\n",
    "    except:\n",
    "        print(site_label)\n",
    "        return 99999"
   ]
  },
  {
   "cell_type": "code",
   "execution_count": 4,
   "metadata": {},
   "outputs": [
    {
     "name": "stdout",
     "output_type": "stream",
     "text": [
      "[]\n",
      "train: 773\n",
      "valid: 98\n",
      "test: 95\n"
     ]
    }
   ],
   "source": [
    "dataset_dict = {}\n",
    "for dataset_flag in ['train', 'valid', 'test']:\n",
    "    dataset_df = pd.read_csv(os.path.join(mcsa_save_path, 'mcsa_{}.csv'.format(dataset_flag)))\n",
    "    split_folder = os.path.join(mcsa_dataset_path, '{}_dataset'.format(dataset_flag))\n",
    "    os.makedirs(split_folder, exist_ok=True)\n",
    "    dataset_df = dataset_df[['reaction',\n",
    "                            'ec',\n",
    "                            'alphafolddb-id',\n",
    "                            'aa_sequence',\n",
    "                            'site_labels',\n",
    "                            'site_types',\n",
    "                            'cluster',\n",
    "                            'ec_level1']]\n",
    "    dataset_df = dataset_df.loc[(dataset_df['aa_sequence'].apply(lambda x:len(x)) < 1000) & ((dataset_df['site_labels'].apply(lambda x:get_max_site_index(x)) <= dataset_df['aa_sequence'].apply(lambda x:len(x))))].reset_index(drop=True)\n",
    "    print(f'{dataset_flag}: {len(dataset_df)}')\n",
    "    dataset_df.to_csv(os.path.join(split_folder, 'mcsa_{}.csv'.format(dataset_flag)), index=False)\n",
    "    dataset_dict[dataset_flag] = dataset_df"
   ]
  },
  {
   "cell_type": "code",
   "execution_count": 5,
   "metadata": {},
   "outputs": [
    {
     "data": {
      "text/plain": [
       "0"
      ]
     },
     "execution_count": 5,
     "metadata": {},
     "output_type": "execute_result"
    }
   ],
   "source": [
    "(dataset_df['site_labels'].apply(lambda x:get_max_site_index(x)) > dataset_df['aa_sequence'].apply(lambda x:len(x))).sum()"
   ]
  }
 ],
 "metadata": {
  "kernelspec": {
   "display_name": "py38",
   "language": "python",
   "name": "python3"
  },
  "language_info": {
   "codemirror_mode": {
    "name": "ipython",
    "version": 3
   },
   "file_extension": ".py",
   "mimetype": "text/x-python",
   "name": "python",
   "nbconvert_exporter": "python",
   "pygments_lexer": "ipython3",
   "version": "3.8.16"
  },
  "orig_nbformat": 4
 },
 "nbformat": 4,
 "nbformat_minor": 2
}
