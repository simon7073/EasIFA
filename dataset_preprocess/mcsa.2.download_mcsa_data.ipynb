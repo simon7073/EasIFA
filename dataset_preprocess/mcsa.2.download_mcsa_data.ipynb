{
 "cells": [
  {
   "cell_type": "code",
   "execution_count": 1,
   "metadata": {},
   "outputs": [],
   "source": [
    "import pandas as pd\n",
    "import os\n",
    "import subprocess"
   ]
  },
  {
   "cell_type": "code",
   "execution_count": 2,
   "metadata": {},
   "outputs": [],
   "source": [
    "mcsa_save_path = '../dataset/raw_dataset/mcsa/split_dataset'\n",
    "alphafolddb_structure_folder = '../dataset/mcsa_fine_tune/structures/alphafolddb_download'\n",
    "os.makedirs(alphafolddb_structure_folder, exist_ok=True)\n"
   ]
  },
  {
   "cell_type": "code",
   "execution_count": 3,
   "metadata": {},
   "outputs": [
    {
     "data": {
      "text/plain": [
       "1030"
      ]
     },
     "execution_count": 3,
     "metadata": {},
     "output_type": "execute_result"
    }
   ],
   "source": [
    "mcsa_df = pd.DataFrame()\n",
    "for data_flag in ['train', 'valid', 'test']:\n",
    "    mcsa_df = pd.concat([mcsa_df, pd.read_csv(os.path.join(mcsa_save_path, f'mcsa_{data_flag}.csv'))])\n",
    "\n",
    "all_alphafolddb_id = list(set(mcsa_df['alphafolddb-id'].tolist()))\n",
    "len(all_alphafolddb_id)"
   ]
  },
  {
   "cell_type": "code",
   "execution_count": 4,
   "metadata": {},
   "outputs": [
    {
     "name": "stdout",
     "output_type": "stream",
     "text": [
      "1037\n",
      "P10760\n"
     ]
    }
   ],
   "source": [
    "print(len(mcsa_df))\n",
    "print(all_alphafolddb_id[0])"
   ]
  },
  {
   "cell_type": "code",
   "execution_count": 5,
   "metadata": {},
   "outputs": [],
   "source": [
    "url_list = ['https://alphafold.ebi.ac.uk/files/AF-{}-F1-model_v4.pdb'.format(x) for x in all_alphafolddb_id]"
   ]
  },
  {
   "cell_type": "code",
   "execution_count": 6,
   "metadata": {},
   "outputs": [],
   "source": [
    "download_url_file = os.path.abspath('../dataset/mcsa_fine_tune/structures/url_mcsa_alphafolddb_ids.txt')\n",
    "with open(download_url_file, 'w', encoding='utf-8') as f:\n",
    "    f.write('\\n'.join(url_list))"
   ]
  },
  {
   "cell_type": "code",
   "execution_count": 7,
   "metadata": {},
   "outputs": [
    {
     "name": "stdout",
     "output_type": "stream",
     "text": [
      "aria2c -i /home/xiaoruiwang/data/ubuntu_work_beta/single_step_work/ec_site_prediction/dataset/mcsa_fine_tune/structures/url_mcsa_alphafolddb_ids.txt --split 10 -d /home/xiaoruiwang/data/ubuntu_work_beta/single_step_work/ec_site_prediction/dataset/mcsa_fine_tune/structures/alphafolddb_download > /home/xiaoruiwang/data/ubuntu_work_beta/single_step_work/ec_site_prediction/dataset/mcsa_fine_tune/structures/download_mcsa_alphafolddb.log\n"
     ]
    }
   ],
   "source": [
    "download_cmd = 'aria2c -i {} --split 10 -d {} > {}'.format(download_url_file, os.path.abspath(alphafolddb_structure_folder), os.path.join(os.path.dirname(download_url_file), 'download_mcsa_alphafolddb.log'))\n",
    "print(download_cmd)"
   ]
  },
  {
   "cell_type": "code",
   "execution_count": 8,
   "metadata": {},
   "outputs": [
    {
     "data": {
      "text/plain": [
       "CompletedProcess(args='aria2c -i /home/xiaoruiwang/data/ubuntu_work_beta/single_step_work/ec_site_prediction/dataset/mcsa_fine_tune/structures/url_mcsa_alphafolddb_ids.txt --split 10 -d /home/xiaoruiwang/data/ubuntu_work_beta/single_step_work/ec_site_prediction/dataset/mcsa_fine_tune/structures/alphafolddb_download > /home/xiaoruiwang/data/ubuntu_work_beta/single_step_work/ec_site_prediction/dataset/mcsa_fine_tune/structures/download_mcsa_alphafolddb.log', returncode=3)"
      ]
     },
     "execution_count": 8,
     "metadata": {},
     "output_type": "execute_result"
    }
   ],
   "source": [
    "subprocess.run(download_cmd, shell=True,  stdout=subprocess.DEVNULL, stderr=subprocess.DEVNULL)"
   ]
  },
  {
   "cell_type": "code",
   "execution_count": null,
   "metadata": {},
   "outputs": [],
   "source": []
  }
 ],
 "metadata": {
  "kernelspec": {
   "display_name": "py38",
   "language": "python",
   "name": "python3"
  },
  "language_info": {
   "codemirror_mode": {
    "name": "ipython",
    "version": 3
   },
   "file_extension": ".py",
   "mimetype": "text/x-python",
   "name": "python",
   "nbconvert_exporter": "python",
   "pygments_lexer": "ipython3",
   "version": "3.8.16"
  },
  "orig_nbformat": 4
 },
 "nbformat": 4,
 "nbformat_minor": 2
}
