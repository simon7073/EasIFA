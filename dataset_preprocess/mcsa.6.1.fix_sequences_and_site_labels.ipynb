{
 "cells": [
  {
   "cell_type": "code",
   "execution_count": 1,
   "metadata": {},
   "outputs": [
    {
     "name": "stderr",
     "output_type": "stream",
     "text": [
      "/home/xiaoruiwang/software/miniconda3/envs/py38/lib/python3.8/site-packages/Bio/pairwise2.py:278: BiopythonDeprecationWarning: Bio.pairwise2 has been deprecated, and we intend to remove it in a future release of Biopython. As an alternative, please consider using Bio.Align.PairwiseAligner as a replacement, and contact the Biopython developers if you still need the Bio.pairwise2 module.\n",
      "  warnings.warn(\n"
     ]
    }
   ],
   "source": [
    "import pandas as pd\n",
    "import os\n",
    "from tqdm import tqdm\n",
    "import numpy as np\n",
    "from pandarallel import pandarallel\n",
    "from rdkit import RDLogger\n",
    "RDLogger.DisableLog('rdApp.*')\n",
    "\n",
    "import sys\n",
    "sys.path.append('../')\n",
    "from data_loaders.enzyme_dataloader import get_structure_sequence\n",
    "from dataset_preprocess.pdb_preprocess_utils import map_active_site_for_one     # 这里的begain_zero=False，位点从1开始\n",
    "\n",
    "\n",
    "\n"
   ]
  },
  {
   "cell_type": "markdown",
   "metadata": {},
   "source": [
    "### 处理由于amber最小化之后将氨基酸残基改变的问题，例如HIS的质子化"
   ]
  },
  {
   "cell_type": "code",
   "execution_count": 2,
   "metadata": {},
   "outputs": [],
   "source": [
    "def get_mcsa_normal_dataset(dir, subset=['train', 'valid'], flag='mcsa', read_new=False):\n",
    "    dataset = pd.DataFrame()\n",
    "    for dataset_flag in subset:\n",
    "        sub_df = pd.read_csv(os.path.join(dir, f'{dataset_flag}_dataset' if not read_new else f'new_{dataset_flag}_dataset', f'{flag}_{dataset_flag}.csv'))\n",
    "        sub_df['dataset_flag'] = [dataset_flag for _ in range(len(sub_df))]\n",
    "        dataset = pd.concat([dataset, sub_df])\n",
    "    return dataset\n",
    "\n",
    "\n",
    "def get_sequence(structure_dir, structure_id):\n",
    "    structure_id = structure_id.replace(' ', '')\n",
    "    abs_input_path = os.path.abspath(os.path.join(structure_dir, f'{structure_id}_minimized.pdb'))\n",
    "    sequence_calculated = get_structure_sequence(abs_input_path)\n",
    "    return sequence_calculated\n",
    "\n",
    "\n",
    "def map_active_site_for_one_return_list(seqA, seqB, active_site_A, active_site_type_A, begain_zero=False):\n",
    "    seqB_active_site_bin = map_active_site_for_one(seqA, seqB, active_site_A, active_site_type_A, begain_zero=begain_zero)\n",
    "    site_labels = np.argwhere(seqB_active_site_bin!=0).tolist()\n",
    "    return site_labels\n",
    "\n",
    "    "
   ]
  },
  {
   "cell_type": "code",
   "execution_count": 3,
   "metadata": {},
   "outputs": [
    {
     "data": {
      "text/html": [
       "<div>\n",
       "<style scoped>\n",
       "    .dataframe tbody tr th:only-of-type {\n",
       "        vertical-align: middle;\n",
       "    }\n",
       "\n",
       "    .dataframe tbody tr th {\n",
       "        vertical-align: top;\n",
       "    }\n",
       "\n",
       "    .dataframe thead th {\n",
       "        text-align: right;\n",
       "    }\n",
       "</style>\n",
       "<table border=\"1\" class=\"dataframe\">\n",
       "  <thead>\n",
       "    <tr style=\"text-align: right;\">\n",
       "      <th></th>\n",
       "      <th>reaction</th>\n",
       "      <th>ec</th>\n",
       "      <th>alphafolddb-id</th>\n",
       "      <th>aa_sequence</th>\n",
       "      <th>site_labels</th>\n",
       "      <th>site_types</th>\n",
       "      <th>cluster</th>\n",
       "      <th>ec_level1</th>\n",
       "      <th>dataset_flag</th>\n",
       "    </tr>\n",
       "  </thead>\n",
       "  <tbody>\n",
       "    <tr>\n",
       "      <th>0</th>\n",
       "      <td>CC1C(=O)N(C)C1C.O|MSIQHFRVALIPFFAAFCLPVFAHPETL...</td>\n",
       "      <td>3.5.2.6</td>\n",
       "      <td>P62593</td>\n",
       "      <td>MSIQHFRVALIPFFAAFCLPVFAHPETLVKVKDAEDQLGARVGYIE...</td>\n",
       "      <td>[[68], [71], [128], [164], [232], [235]]</td>\n",
       "      <td>NaN</td>\n",
       "      <td>Cluster 18632</td>\n",
       "      <td>3</td>\n",
       "      <td>train</td>\n",
       "    </tr>\n",
       "    <tr>\n",
       "      <th>1</th>\n",
       "      <td>CC1C(=O)N(C)C1C.O|MSIQHFRVALIPFFAAFCLPVFAHPETL...</td>\n",
       "      <td>3.5.2.6</td>\n",
       "      <td>P62593-c0_m7</td>\n",
       "      <td>TRPEERFPMMSTMKRLLCGAVLSRWPEWEQLGRRICYEQGTLVESP...</td>\n",
       "      <td>[[11], [14], [66], [99], [158], [161]]</td>\n",
       "      <td>NaN</td>\n",
       "      <td>Cluster 18632</td>\n",
       "      <td>3</td>\n",
       "      <td>train</td>\n",
       "    </tr>\n",
       "    <tr>\n",
       "      <th>2</th>\n",
       "      <td>CC1C(=O)N(C)C1C.O|MSIQHFRVALIPFFAAFCLPVFAHPETL...</td>\n",
       "      <td>3.5.2.6</td>\n",
       "      <td>P62593-c0_m0</td>\n",
       "      <td>SGPPFPMLSTGKVLCGCVLRSMAGKCQLGRVIMYMQNDWYEYSPTE...</td>\n",
       "      <td>[]</td>\n",
       "      <td>NaN</td>\n",
       "      <td>Cluster 18632</td>\n",
       "      <td>3</td>\n",
       "      <td>train</td>\n",
       "    </tr>\n",
       "    <tr>\n",
       "      <th>3</th>\n",
       "      <td>CC1C(=O)N(C)C1C.O|MSIQHFRVALIPFFAAFCLPVFAHPETL...</td>\n",
       "      <td>3.5.2.6</td>\n",
       "      <td>P62593-c0_m10</td>\n",
       "      <td>FRPEEFPMMSTFKFLLCNAVLSCVDAGQEQLGRVISQILEEQMPVR...</td>\n",
       "      <td>[]</td>\n",
       "      <td>NaN</td>\n",
       "      <td>Cluster 18632</td>\n",
       "      <td>3</td>\n",
       "      <td>train</td>\n",
       "    </tr>\n",
       "    <tr>\n",
       "      <th>4</th>\n",
       "      <td>CC1C(=O)N(C)C1C.O|MSIQHFRVALIPFFAAFCLPVFAHPETL...</td>\n",
       "      <td>3.5.2.6</td>\n",
       "      <td>P62593-c0_m19</td>\n",
       "      <td>FPEERFPMSLKVLLCGAVLSRVDAGQEEGRRIYYSQDLVEYSVTDK...</td>\n",
       "      <td>[]</td>\n",
       "      <td>NaN</td>\n",
       "      <td>Cluster 18632</td>\n",
       "      <td>3</td>\n",
       "      <td>train</td>\n",
       "    </tr>\n",
       "    <tr>\n",
       "      <th>...</th>\n",
       "      <td>...</td>\n",
       "      <td>...</td>\n",
       "      <td>...</td>\n",
       "      <td>...</td>\n",
       "      <td>...</td>\n",
       "      <td>...</td>\n",
       "      <td>...</td>\n",
       "      <td>...</td>\n",
       "      <td>...</td>\n",
       "    </tr>\n",
       "    <tr>\n",
       "      <th>90</th>\n",
       "      <td>CP(=O)([O-])OC[C@H]1O[C@@H](n2cnc3c(N)ncnc32)[...</td>\n",
       "      <td>6.1.1.20</td>\n",
       "      <td>P27001</td>\n",
       "      <td>MLEEALAAIQNARDLEELKALKARYLGKKGLLTQEMKGLSALPLEE...</td>\n",
       "      <td>[[149], [178], [204], [218], [261], [314]]</td>\n",
       "      <td>NaN</td>\n",
       "      <td>Cluster 13284</td>\n",
       "      <td>6</td>\n",
       "      <td>test</td>\n",
       "    </tr>\n",
       "    <tr>\n",
       "      <th>91</th>\n",
       "      <td>NC(=O)CC[C@H]([NH3+])C(=O)[O-].Nc1ncnc2c1ncn2[...</td>\n",
       "      <td>6.3.5.4</td>\n",
       "      <td>P22106</td>\n",
       "      <td>MCSIFGVFDIKTDAVELRKKALELSRLMRHRGPDWSGIYASDNAIL...</td>\n",
       "      <td>[[2], [51], [75], [76], [322], [325]]</td>\n",
       "      <td>NaN</td>\n",
       "      <td>Cluster 1460</td>\n",
       "      <td>6</td>\n",
       "      <td>test</td>\n",
       "    </tr>\n",
       "    <tr>\n",
       "      <th>92</th>\n",
       "      <td>C[C@H]1O[C@H](COP(C)(=O)[O-])[C@@H](OP(=O)([O-...</td>\n",
       "      <td>6.5.1.4</td>\n",
       "      <td>P46849</td>\n",
       "      <td>MKRMIALDGAQGEGGGQILRSALSLSMITGQPFTITSIRAGRAKPG...</td>\n",
       "      <td>[[13], [308]]</td>\n",
       "      <td>NaN</td>\n",
       "      <td>Cluster 14477</td>\n",
       "      <td>6</td>\n",
       "      <td>test</td>\n",
       "    </tr>\n",
       "    <tr>\n",
       "      <th>93</th>\n",
       "      <td>C[C@@H](O)C(=O)[O-].C[C@@H]([NH3+])C(=O)[O-].N...</td>\n",
       "      <td>6.1.2.1</td>\n",
       "      <td>P25051</td>\n",
       "      <td>MNRIKVAILFGGCSEEHDVSVKSAIEIAANINKEKYEPLYIGITKS...</td>\n",
       "      <td>[[19], [22], [99], [244], [250], [290], [311],...</td>\n",
       "      <td>NaN</td>\n",
       "      <td>Cluster 13982</td>\n",
       "      <td>6</td>\n",
       "      <td>test</td>\n",
       "    </tr>\n",
       "    <tr>\n",
       "      <th>94</th>\n",
       "      <td>Nc1ncnc2c1ncn2[C@@H]1O[C@H](COP(=O)([O-])OP(=O...</td>\n",
       "      <td>7.1.2.2</td>\n",
       "      <td>P01096</td>\n",
       "      <td>MLSVRVAAAVARALPRRAGLVSKNALGSSFIAARNLHASNSRLQKT...</td>\n",
       "      <td>[[212], [238], [239], [416]]</td>\n",
       "      <td>NaN</td>\n",
       "      <td>Cluster 1502</td>\n",
       "      <td>7</td>\n",
       "      <td>test</td>\n",
       "    </tr>\n",
       "  </tbody>\n",
       "</table>\n",
       "<p>5473 rows × 9 columns</p>\n",
       "</div>"
      ],
      "text/plain": [
       "                                             reaction        ec  \\\n",
       "0   CC1C(=O)N(C)C1C.O|MSIQHFRVALIPFFAAFCLPVFAHPETL...   3.5.2.6   \n",
       "1   CC1C(=O)N(C)C1C.O|MSIQHFRVALIPFFAAFCLPVFAHPETL...   3.5.2.6   \n",
       "2   CC1C(=O)N(C)C1C.O|MSIQHFRVALIPFFAAFCLPVFAHPETL...   3.5.2.6   \n",
       "3   CC1C(=O)N(C)C1C.O|MSIQHFRVALIPFFAAFCLPVFAHPETL...   3.5.2.6   \n",
       "4   CC1C(=O)N(C)C1C.O|MSIQHFRVALIPFFAAFCLPVFAHPETL...   3.5.2.6   \n",
       "..                                                ...       ...   \n",
       "90  CP(=O)([O-])OC[C@H]1O[C@@H](n2cnc3c(N)ncnc32)[...  6.1.1.20   \n",
       "91  NC(=O)CC[C@H]([NH3+])C(=O)[O-].Nc1ncnc2c1ncn2[...   6.3.5.4   \n",
       "92  C[C@H]1O[C@H](COP(C)(=O)[O-])[C@@H](OP(=O)([O-...   6.5.1.4   \n",
       "93  C[C@@H](O)C(=O)[O-].C[C@@H]([NH3+])C(=O)[O-].N...   6.1.2.1   \n",
       "94  Nc1ncnc2c1ncn2[C@@H]1O[C@H](COP(=O)([O-])OP(=O...   7.1.2.2   \n",
       "\n",
       "   alphafolddb-id                                        aa_sequence  \\\n",
       "0          P62593  MSIQHFRVALIPFFAAFCLPVFAHPETLVKVKDAEDQLGARVGYIE...   \n",
       "1    P62593-c0_m7  TRPEERFPMMSTMKRLLCGAVLSRWPEWEQLGRRICYEQGTLVESP...   \n",
       "2    P62593-c0_m0  SGPPFPMLSTGKVLCGCVLRSMAGKCQLGRVIMYMQNDWYEYSPTE...   \n",
       "3   P62593-c0_m10  FRPEEFPMMSTFKFLLCNAVLSCVDAGQEQLGRVISQILEEQMPVR...   \n",
       "4   P62593-c0_m19  FPEERFPMSLKVLLCGAVLSRVDAGQEEGRRIYYSQDLVEYSVTDK...   \n",
       "..            ...                                                ...   \n",
       "90         P27001  MLEEALAAIQNARDLEELKALKARYLGKKGLLTQEMKGLSALPLEE...   \n",
       "91         P22106  MCSIFGVFDIKTDAVELRKKALELSRLMRHRGPDWSGIYASDNAIL...   \n",
       "92         P46849  MKRMIALDGAQGEGGGQILRSALSLSMITGQPFTITSIRAGRAKPG...   \n",
       "93         P25051  MNRIKVAILFGGCSEEHDVSVKSAIEIAANINKEKYEPLYIGITKS...   \n",
       "94         P01096  MLSVRVAAAVARALPRRAGLVSKNALGSSFIAARNLHASNSRLQKT...   \n",
       "\n",
       "                                          site_labels  site_types  \\\n",
       "0            [[68], [71], [128], [164], [232], [235]]         NaN   \n",
       "1              [[11], [14], [66], [99], [158], [161]]         NaN   \n",
       "2                                                  []         NaN   \n",
       "3                                                  []         NaN   \n",
       "4                                                  []         NaN   \n",
       "..                                                ...         ...   \n",
       "90         [[149], [178], [204], [218], [261], [314]]         NaN   \n",
       "91              [[2], [51], [75], [76], [322], [325]]         NaN   \n",
       "92                                      [[13], [308]]         NaN   \n",
       "93  [[19], [22], [99], [244], [250], [290], [311],...         NaN   \n",
       "94                       [[212], [238], [239], [416]]         NaN   \n",
       "\n",
       "          cluster  ec_level1 dataset_flag  \n",
       "0   Cluster 18632          3        train  \n",
       "1   Cluster 18632          3        train  \n",
       "2   Cluster 18632          3        train  \n",
       "3   Cluster 18632          3        train  \n",
       "4   Cluster 18632          3        train  \n",
       "..            ...        ...          ...  \n",
       "90  Cluster 13284          6         test  \n",
       "91   Cluster 1460          6         test  \n",
       "92  Cluster 14477          6         test  \n",
       "93  Cluster 13982          6         test  \n",
       "94   Cluster 1502          7         test  \n",
       "\n",
       "[5473 rows x 9 columns]"
      ]
     },
     "execution_count": 3,
     "metadata": {},
     "output_type": "execute_result"
    }
   ],
   "source": [
    "aug_dir_flag ='mcsa_aug_20_mutation_rate_0.2_insertion_rate_0.1_deletion_rate_0.1_max_length_150_seed_123'\n",
    "new_aug_save_path = f'../dataset/mcsa_fine_tune/{aug_dir_flag}/'\n",
    "\n",
    "fixed_generated_structure_dir = f'../dataset/mcsa_fine_tune/{aug_dir_flag}/esmfold_generated_aug_structures'\n",
    "end_aug_dataset = get_mcsa_normal_dataset(new_aug_save_path, subset=['train', 'valid', 'test'], flag='aug_mcsa', read_new=True)\n",
    "end_aug_dataset"
   ]
  },
  {
   "cell_type": "code",
   "execution_count": 4,
   "metadata": {},
   "outputs": [],
   "source": [
    "rfdiffusion_data = ['O87172', 'P00655', 'P11586', 'P21164', 'P0A6L0', 'Q96C23']"
   ]
  },
  {
   "cell_type": "code",
   "execution_count": 5,
   "metadata": {},
   "outputs": [
    {
     "data": {
      "text/plain": [
       "1"
      ]
     },
     "execution_count": 5,
     "metadata": {},
     "output_type": "execute_result"
    }
   ],
   "source": [
    "end_aug_dataset['alphafolddb-id'].isin(rfdiffusion_data).sum()"
   ]
  },
  {
   "cell_type": "code",
   "execution_count": 6,
   "metadata": {},
   "outputs": [
    {
     "data": {
      "text/html": [
       "<div>\n",
       "<style scoped>\n",
       "    .dataframe tbody tr th:only-of-type {\n",
       "        vertical-align: middle;\n",
       "    }\n",
       "\n",
       "    .dataframe tbody tr th {\n",
       "        vertical-align: top;\n",
       "    }\n",
       "\n",
       "    .dataframe thead th {\n",
       "        text-align: right;\n",
       "    }\n",
       "</style>\n",
       "<table border=\"1\" class=\"dataframe\">\n",
       "  <thead>\n",
       "    <tr style=\"text-align: right;\">\n",
       "      <th></th>\n",
       "      <th>reaction</th>\n",
       "      <th>ec</th>\n",
       "      <th>alphafolddb-id</th>\n",
       "      <th>aa_sequence</th>\n",
       "      <th>site_labels</th>\n",
       "      <th>site_types</th>\n",
       "      <th>cluster</th>\n",
       "      <th>ec_level1</th>\n",
       "      <th>dataset_flag</th>\n",
       "    </tr>\n",
       "  </thead>\n",
       "  <tbody>\n",
       "    <tr>\n",
       "      <th>27</th>\n",
       "      <td>OC[C@H]1OC(O)[C@H](O)[C@@H](O)[C@@H]1O.OC[C@H]...</td>\n",
       "      <td>2.4.1.25</td>\n",
       "      <td>O87172</td>\n",
       "      <td>MELPRAFGLLLHPTSLPGPYGVGVLGREARDFLRFLKEAGGRYWQV...</td>\n",
       "      <td>[[293], [340], [395]]</td>\n",
       "      <td>NaN</td>\n",
       "      <td>Cluster 3762</td>\n",
       "      <td>2</td>\n",
       "      <td>test</td>\n",
       "    </tr>\n",
       "  </tbody>\n",
       "</table>\n",
       "</div>"
      ],
      "text/plain": [
       "                                             reaction        ec  \\\n",
       "27  OC[C@H]1OC(O)[C@H](O)[C@@H](O)[C@@H]1O.OC[C@H]...  2.4.1.25   \n",
       "\n",
       "   alphafolddb-id                                        aa_sequence  \\\n",
       "27         O87172  MELPRAFGLLLHPTSLPGPYGVGVLGREARDFLRFLKEAGGRYWQV...   \n",
       "\n",
       "              site_labels  site_types       cluster  ec_level1 dataset_flag  \n",
       "27  [[293], [340], [395]]         NaN  Cluster 3762          2         test  "
      ]
     },
     "execution_count": 6,
     "metadata": {},
     "output_type": "execute_result"
    }
   ],
   "source": [
    "end_aug_dataset.loc[end_aug_dataset['alphafolddb-id'].isin(rfdiffusion_data)]"
   ]
  },
  {
   "cell_type": "code",
   "execution_count": 4,
   "metadata": {},
   "outputs": [
    {
     "name": "stdout",
     "output_type": "stream",
     "text": [
      "INFO: Pandarallel will run on 10 workers.\n",
      "INFO: Pandarallel will use Memory file system to transfer data between the main process and workers.\n"
     ]
    },
    {
     "data": {
      "application/vnd.jupyter.widget-view+json": {
       "model_id": "81e299ca49724a229016b7eb8fce8f59",
       "version_major": 2,
       "version_minor": 0
      },
      "text/plain": [
       "VBox(children=(HBox(children=(IntProgress(value=0, description='0.00%', max=548), Label(value='0 / 548'))), HB…"
      ]
     },
     "metadata": {},
     "output_type": "display_data"
    }
   ],
   "source": [
    "\n",
    "nb_workers = 10\n",
    "pandarallel.initialize(nb_workers=nb_workers, progress_bar=True)\n",
    "\n",
    "end_aug_dataset['aa_sequence_calculated'] = end_aug_dataset['alphafolddb-id'].parallel_apply(\n",
    "            lambda x: get_sequence(fixed_generated_structure_dir, x))\n"
   ]
  },
  {
   "cell_type": "code",
   "execution_count": null,
   "metadata": {},
   "outputs": [
    {
     "name": "stdout",
     "output_type": "stream",
     "text": [
      "5192\n",
      "4910\n",
      "5473\n"
     ]
    }
   ],
   "source": [
    "print((end_aug_dataset['aa_sequence_calculated'] != end_aug_dataset['aa_sequence']).sum())\n",
    "print((end_aug_dataset['aa_sequence_calculated'] != '').sum())\n",
    "print(len(end_aug_dataset['aa_sequence_calculated']))"
   ]
  },
  {
   "cell_type": "code",
   "execution_count": null,
   "metadata": {},
   "outputs": [],
   "source": [
    "# end_aug_dataset.to_csv('end_aug_dataset_mcsa.csv', index=False)"
   ]
  },
  {
   "cell_type": "code",
   "execution_count": null,
   "metadata": {},
   "outputs": [],
   "source": []
  },
  {
   "cell_type": "code",
   "execution_count": null,
   "metadata": {},
   "outputs": [],
   "source": [
    "from collections import defaultdict\n",
    "not_same_aa = defaultdict(int)\n",
    "not_same_aa_id = defaultdict(list)\n",
    "length_not_same = 0\n",
    "for aa_sequence, aa_sequence_calculated, structure_id in zip(end_aug_dataset['aa_sequence'].tolist(), end_aug_dataset['aa_sequence_calculated'].tolist(), end_aug_dataset['alphafolddb-id']):\n",
    "    \n",
    "    if len(aa_sequence) != len(aa_sequence_calculated):\n",
    "        length_not_same += 1\n",
    "        continue\n",
    "    \n",
    "    aa_sequence_np = np.array(list(aa_sequence))\n",
    "    aa_sequence_calculated_np = np.array(list(aa_sequence_calculated))\n",
    "    \n",
    "    not_same = aa_sequence_np != aa_sequence_calculated_np\n",
    "    org_aa = aa_sequence_np[not_same]\n",
    "    cal_aa = aa_sequence_calculated_np[not_same]\n",
    "    not_same_index = np.argwhere(not_same)\n",
    "    \n",
    "    for o_a, c_a, aa_index in zip(org_aa.tolist(), cal_aa.tolist(), not_same_index.tolist()):\n",
    "        not_same_aa[(o_a, c_a)] += 1\n",
    "        not_same_aa_id[(o_a, c_a)].append((structure_id, aa_index))"
   ]
  },
  {
   "cell_type": "code",
   "execution_count": null,
   "metadata": {},
   "outputs": [
    {
     "data": {
      "text/html": [
       "<div>\n",
       "<style scoped>\n",
       "    .dataframe tbody tr th:only-of-type {\n",
       "        vertical-align: middle;\n",
       "    }\n",
       "\n",
       "    .dataframe tbody tr th {\n",
       "        vertical-align: top;\n",
       "    }\n",
       "\n",
       "    .dataframe thead th {\n",
       "        text-align: right;\n",
       "    }\n",
       "</style>\n",
       "<table border=\"1\" class=\"dataframe\">\n",
       "  <thead>\n",
       "    <tr style=\"text-align: right;\">\n",
       "      <th></th>\n",
       "      <th>reaction</th>\n",
       "      <th>ec</th>\n",
       "      <th>alphafolddb-id</th>\n",
       "      <th>aa_sequence</th>\n",
       "      <th>site_labels</th>\n",
       "      <th>site_types</th>\n",
       "      <th>cluster</th>\n",
       "      <th>ec_level1</th>\n",
       "      <th>dataset_flag</th>\n",
       "      <th>aa_sequence_calculated</th>\n",
       "    </tr>\n",
       "  </thead>\n",
       "  <tbody>\n",
       "    <tr>\n",
       "      <th>2947</th>\n",
       "      <td>CSc1ccccc1.OO|QTCSTSDDADDPTPPNERDDEAFASRVAAAKR...</td>\n",
       "      <td>1.11.1.18</td>\n",
       "      <td>P81701-c0_m12</td>\n",
       "      <td>WLAQRWYQKWQVHRWARPEALGGTLHLTFKGELNADFDLPLLENAE...</td>\n",
       "      <td>[]</td>\n",
       "      <td>NaN</td>\n",
       "      <td>Cluster 1320</td>\n",
       "      <td>1</td>\n",
       "      <td>train</td>\n",
       "      <td>WLAQRWYQKWQVXRWARPEALGGTLXLTFKGELNADFDLPLLENAE...</td>\n",
       "    </tr>\n",
       "  </tbody>\n",
       "</table>\n",
       "</div>"
      ],
      "text/plain": [
       "                                               reaction         ec  \\\n",
       "2947  CSc1ccccc1.OO|QTCSTSDDADDPTPPNERDDEAFASRVAAAKR...  1.11.1.18   \n",
       "\n",
       "     alphafolddb-id                                        aa_sequence  \\\n",
       "2947  P81701-c0_m12  WLAQRWYQKWQVHRWARPEALGGTLHLTFKGELNADFDLPLLENAE...   \n",
       "\n",
       "     site_labels  site_types       cluster  ec_level1 dataset_flag  \\\n",
       "2947          []         NaN  Cluster 1320          1        train   \n",
       "\n",
       "                                 aa_sequence_calculated  \n",
       "2947  WLAQRWYQKWQVXRWARPEALGGTLXLTFKGELNADFDLPLLENAE...  "
      ]
     },
     "execution_count": 7,
     "metadata": {},
     "output_type": "execute_result"
    }
   ],
   "source": [
    "end_aug_dataset.loc[end_aug_dataset['alphafolddb-id'] == 'P81701-c0_m12']"
   ]
  },
  {
   "cell_type": "code",
   "execution_count": null,
   "metadata": {},
   "outputs": [
    {
     "data": {
      "text/plain": [
       "[(('E', 'Q'), [('P00488', [651])])]"
      ]
     },
     "execution_count": 8,
     "metadata": {},
     "output_type": "execute_result"
    }
   ],
   "source": [
    "[x for x in not_same_aa_id.items() if x[0][-1]!='X']"
   ]
  },
  {
   "cell_type": "code",
   "execution_count": null,
   "metadata": {},
   "outputs": [
    {
     "data": {
      "text/plain": [
       "2"
      ]
     },
     "execution_count": 10,
     "metadata": {},
     "output_type": "execute_result"
    }
   ],
   "source": [
    "len(not_same_aa_id)"
   ]
  },
  {
   "cell_type": "code",
   "execution_count": null,
   "metadata": {},
   "outputs": [
    {
     "data": {
      "text/plain": [
       "[('P00488', [651])]"
      ]
     },
     "execution_count": 11,
     "metadata": {},
     "output_type": "execute_result"
    }
   ],
   "source": [
    "not_same_aa_id[('E', 'Q')]"
   ]
  },
  {
   "cell_type": "code",
   "execution_count": null,
   "metadata": {},
   "outputs": [
    {
     "data": {
      "text/plain": [
       "28481"
      ]
     },
     "execution_count": 12,
     "metadata": {},
     "output_type": "execute_result"
    }
   ],
   "source": [
    "len(not_same_aa_id[('H', 'X')])"
   ]
  },
  {
   "cell_type": "code",
   "execution_count": null,
   "metadata": {},
   "outputs": [
    {
     "name": "stdout",
     "output_type": "stream",
     "text": [
      "95\n",
      "81\n",
      "95\n"
     ]
    }
   ],
   "source": [
    "end_aug_test_dataset = end_aug_dataset.loc[end_aug_dataset['dataset_flag']=='test']\n",
    "print((end_aug_test_dataset['aa_sequence_calculated'] != end_aug_test_dataset['aa_sequence']).sum())\n",
    "print((end_aug_test_dataset['aa_sequence_calculated'] != '').sum())\n",
    "print(len(end_aug_test_dataset['aa_sequence_calculated']))"
   ]
  },
  {
   "cell_type": "code",
   "execution_count": null,
   "metadata": {},
   "outputs": [],
   "source": [
    "# # 测试一个映射\n",
    "# index = 0\n",
    "# need_fix_end_aug_dataset = end_aug_dataset.loc[(end_aug_dataset['aa_sequence_calculated'] != '') & (end_aug_test_dataset['aa_sequence_calculated'] != end_aug_test_dataset['aa_sequence'])]\n",
    "\n",
    "# map_active_site_for_one_return_list()"
   ]
  }
 ],
 "metadata": {
  "kernelspec": {
   "display_name": "py38",
   "language": "python",
   "name": "python3"
  },
  "language_info": {
   "codemirror_mode": {
    "name": "ipython",
    "version": 3
   },
   "file_extension": ".py",
   "mimetype": "text/x-python",
   "name": "python",
   "nbconvert_exporter": "python",
   "pygments_lexer": "ipython3",
   "version": "3.8.16"
  },
  "orig_nbformat": 4
 },
 "nbformat": 4,
 "nbformat_minor": 2
}
