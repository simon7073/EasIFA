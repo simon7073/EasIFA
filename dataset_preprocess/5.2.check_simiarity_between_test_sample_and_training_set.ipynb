{
 "cells": [
  {
   "cell_type": "code",
   "execution_count": 1,
   "metadata": {},
   "outputs": [],
   "source": [
    "import pandas as pd\n",
    "import os\n",
    "\n",
    "\n"
   ]
  },
  {
   "cell_type": "code",
   "execution_count": 2,
   "metadata": {},
   "outputs": [],
   "source": [
    "uniprot_raw_path = '../dataset/raw_dataset/ec_datasets/uniprot_raw'\n",
    "split_ec_dataset_save_path = '../dataset/raw_dataset/ec_datasets/split_ec_dataset'\n",
    "ecreact_dataset_path =  os.path.join(os.path.dirname(uniprot_raw_path), 'ecreact-1.0.csv')\n",
    "\n",
    "ecreact_dataset = pd.read_csv(ecreact_dataset_path)\n",
    "download_uniprot_dataset_path = os.path.join(uniprot_raw_path, 'uniprot-download_sequence_site_ec_clean.pkl')\n",
    "\n",
    "download_uniprot_dataset = pd.read_pickle(download_uniprot_dataset_path)\n",
    "\n",
    "train_download_uniprot_dataset = pd.read_pickle(os.path.join(split_ec_dataset_save_path, 'train_ec_uniprot_dataset_cluster_sample.pkl'))\n",
    "\n",
    "validation_dataset = pd.read_pickle(os.path.join(split_ec_dataset_save_path, 'validation_ec_uniprot_dataset_cluster_sample.pkl'))\n",
    "\n",
    "uniprot_test_dataset = pd.read_pickle(os.path.join(split_ec_dataset_save_path, 'test_ec_uniprot_dataset_cluster_sample.pkl'))\n",
    "\n"
   ]
  },
  {
   "cell_type": "code",
   "execution_count": 3,
   "metadata": {},
   "outputs": [
    {
     "name": "stdout",
     "output_type": "stream",
     "text": [
      "Args: -i /home/xiaoruiwang/data/ubuntu_work_beta/single_step_work/EasIFA_v2/dataset/raw_dataset/ec_datasets/uniprot_raw/all_sequence.fasta -o /home/xiaoruiwang/data/ubuntu_work_beta/single_step_work/EasIFA_v2/dataset/raw_dataset/ec_datasets/uniprot_raw/sequence_cutoff_0.8.fasta -c 0.8 -n 5 -T 12\n",
      "Args: -i /home/xiaoruiwang/data/ubuntu_work_beta/single_step_work/EasIFA_v2/dataset/raw_dataset/ec_datasets/uniprot_raw/all_sequence.fasta -o /home/xiaoruiwang/data/ubuntu_work_beta/single_step_work/EasIFA_v2/dataset/raw_dataset/ec_datasets/uniprot_raw/sequence_cutoff_0.6.fasta -c 0.6 -n 4 -T 12\n",
      "Args: -i /home/xiaoruiwang/data/ubuntu_work_beta/single_step_work/EasIFA_v2/dataset/raw_dataset/ec_datasets/uniprot_raw/all_sequence.fasta -o /home/xiaoruiwang/data/ubuntu_work_beta/single_step_work/EasIFA_v2/dataset/raw_dataset/ec_datasets/uniprot_raw/sequence_cutoff_0.4.fasta -c 0.4 -n 2 -T 12\n"
     ]
    }
   ],
   "source": [
    "import subprocess\n",
    "\n",
    "# 定义CD-HIT命令和参数\n",
    "\n",
    "def run_subprocess_and_print(args):\n",
    "    # 开启一个新的进程\n",
    "    with subprocess.Popen(args, stdout=subprocess.PIPE, stderr=subprocess.PIPE, text=True) as proc:\n",
    "        # 实时读取输出\n",
    "        while True:\n",
    "            output = proc.stdout.readline()\n",
    "            if output == '' and proc.poll() is not None:\n",
    "                break\n",
    "            if output:\n",
    "                print(output.strip())  # 输出每一行\n",
    "        # 检查错误输出\n",
    "        err = proc.stderr.read()\n",
    "        if err:\n",
    "            print(\"Error:\", err)\n",
    "    proc.communicate()\n",
    "\n",
    "threshold = [0.8, 0.6, 0.4]\n",
    "command = \"/home/xiaoruiwang/software/cdhit/cd-hit\"\n",
    "for thre in threshold:\n",
    "    if thre < 0.5:\n",
    "        word = 2\n",
    "    elif thre < 0.6:\n",
    "        word = 3\n",
    "    elif thre < 0.7:\n",
    "        word = 4\n",
    "    else:\n",
    "        word = 5\n",
    "    args = [\"-i\", os.path.abspath(os.path.join(uniprot_raw_path, 'all_sequence.fasta')),\n",
    "            \"-o\", os.path.abspath(os.path.join(uniprot_raw_path, f'sequence_cutoff_{str(thre)}.fasta')), \n",
    "            \"-c\", str(thre),\n",
    "            \"-n\", str(word),\n",
    "            \"-T\", str(12)]\n",
    "    print('Args: {}'.format(' '.join(args)))\n",
    "    if not os.path.exists(os.path.abspath(os.path.join(uniprot_raw_path, f'sequence_cutoff_{str(thre)}.fasta'))):\n",
    "        run_subprocess_and_print([command] + args)"
   ]
  },
  {
   "cell_type": "code",
   "execution_count": 4,
   "metadata": {},
   "outputs": [],
   "source": [
    "from collections import defaultdict\n",
    "def get_cluster(cluster_results_path):\n",
    "    results = defaultdict(list)\n",
    "    with open(cluster_results_path, 'r', encoding='utf-8') as f:\n",
    "        data = [x.strip() for x in f.readlines()]\n",
    "    for line in data:\n",
    "        if '>Cluster' in line:\n",
    "            cluster = line.replace('>', '')\n",
    "            continue\n",
    "        alphadb_id = line.split('>')[-1].split('.')[0]\n",
    "        results[cluster].append(alphadb_id)\n",
    "    return results\n",
    "\n",
    "\n",
    "def id2cluster(cluster_results:dict):\n",
    "    alphafold_id2cluster = {}\n",
    "    for key in cluster_results:\n",
    "        for id in cluster_results[key]:\n",
    "            alphafold_id2cluster[id] = key\n",
    "    return alphafold_id2cluster\n"
   ]
  },
  {
   "cell_type": "code",
   "execution_count": 5,
   "metadata": {},
   "outputs": [
    {
     "name": "stdout",
     "output_type": "stream",
     "text": [
      "92745\n",
      "52205\n",
      "20173\n"
     ]
    }
   ],
   "source": [
    "threshold = [0.8, 0.6, 0.4]\n",
    "alphafold_id2cluster_all_levels = {}\n",
    "cluster_all_levels2alphafold_id = {}\n",
    "for thre in threshold:\n",
    "    cluster_results_path = os.path.abspath(os.path.join(uniprot_raw_path, f'sequence_cutoff_{str(thre)}.fasta.clstr'))\n",
    "    cluster_results = get_cluster(cluster_results_path)\n",
    "    print(len(cluster_results))\n",
    "    alphafold_id2cluster_all_levels[thre] = id2cluster(cluster_results)\n",
    "    cluster_all_levels2alphafold_id[thre] = cluster_results"
   ]
  },
  {
   "cell_type": "code",
   "execution_count": 6,
   "metadata": {},
   "outputs": [
    {
     "data": {
      "text/plain": [
       "{'Q5TA45': 'Cluster 0',\n",
       " 'Q3MHC2': 'Cluster 0',\n",
       " 'Q9VAH9': 'Cluster 0',\n",
       " 'Q9CWS4': 'Cluster 0',\n",
       " 'Q503E1': 'Cluster 0',\n",
       " 'P0DKX1': 'Cluster 0',\n",
       " 'P32185': 'Cluster 0',\n",
       " 'Q2YDM2': 'Cluster 0',\n",
       " 'P20732': 'Cluster 0',\n",
       " 'Q5ZIH0': 'Cluster 0',\n",
       " 'P81343': 'Cluster 0',\n",
       " 'Q5NVE6': 'Cluster 0',\n",
       " 'O43272': 'Cluster 1',\n",
       " 'Q9WU79': 'Cluster 1',\n",
       " 'Q148G5': 'Cluster 1',\n",
       " 'P55736': 'Cluster 1',\n",
       " 'P84812': 'Cluster 1',\n",
       " 'Q8NHQ9': 'Cluster 2',\n",
       " 'Q8JHJ2': 'Cluster 2',\n",
       " 'Q6ZPL9': 'Cluster 2',\n",
       " 'P0C2D3': 'Cluster 2',\n",
       " 'Q9FLB0': 'Cluster 2',\n",
       " 'Q8GXD6': 'Cluster 2',\n",
       " 'P19662': 'Cluster 2',\n",
       " 'P80055': 'Cluster 2',\n",
       " 'P81528': 'Cluster 2',\n",
       " 'Q5ZLN8': 'Cluster 2',\n",
       " 'Q6AZV7': 'Cluster 2',\n",
       " 'P0CAT0': 'Cluster 2',\n",
       " 'P85441': 'Cluster 2',\n",
       " 'P56948': 'Cluster 2',\n",
       " 'P81419': 'Cluster 2',\n",
       " 'Q9M2Z3': 'Cluster 3',\n",
       " 'P0CC16': 'Cluster 3',\n",
       " 'P0DI85': 'Cluster 3',\n",
       " 'Q96LT4': 'Cluster 4',\n",
       " 'Q9DA37': 'Cluster 4',\n",
       " 'Q9VS60': 'Cluster 4',\n",
       " 'P0C0N0': 'Cluster 4',\n",
       " 'P18692': 'Cluster 4',\n",
       " 'P41833': 'Cluster 5',\n",
       " 'P0DJJ1': 'Cluster 5',\n",
       " 'P0DJN6': 'Cluster 5',\n",
       " 'P86249': 'Cluster 5',\n",
       " 'P0DJN5': 'Cluster 5',\n",
       " 'P86331': 'Cluster 5',\n",
       " 'P84543': 'Cluster 5',\n",
       " 'C0HLQ6': 'Cluster 5',\n",
       " 'P14552': 'Cluster 5',\n",
       " 'O80673': 'Cluster 6',\n",
       " 'Q6Z2M9': 'Cluster 6',\n",
       " 'Q7XJR9': 'Cluster 6',\n",
       " 'Q9SG12': 'Cluster 6',\n",
       " 'Q9FIM9': 'Cluster 6',\n",
       " 'Q10KY3': 'Cluster 6',\n",
       " 'Q1PE17': 'Cluster 6',\n",
       " 'Q9LET1': 'Cluster 6',\n",
       " 'Q9LJL9': 'Cluster 6',\n",
       " 'Q0D715': 'Cluster 6',\n",
       " 'Q9FKW4': 'Cluster 6',\n",
       " 'Q9ZUZ2': 'Cluster 6',\n",
       " 'P83540': 'Cluster 6',\n",
       " 'Q20624': 'Cluster 7',\n",
       " 'Q39055': 'Cluster 7',\n",
       " 'P9WJR9': 'Cluster 7',\n",
       " 'A1SET2': 'Cluster 7',\n",
       " 'A4J6S5': 'Cluster 7',\n",
       " 'A6U9C6': 'Cluster 7',\n",
       " 'A6X0K9': 'Cluster 7',\n",
       " 'A7NQR0': 'Cluster 7',\n",
       " 'A8LMJ8': 'Cluster 7',\n",
       " 'B0TI16': 'Cluster 7',\n",
       " 'B0TMA7': 'Cluster 7',\n",
       " 'B2IKL8': 'Cluster 7',\n",
       " 'Q0AVU6': 'Cluster 7',\n",
       " 'Q0BC82': 'Cluster 7',\n",
       " 'Q0SS32': 'Cluster 7',\n",
       " 'Q0TNM7': 'Cluster 7',\n",
       " 'Q13UI4': 'Cluster 7',\n",
       " 'Q21R65': 'Cluster 7',\n",
       " 'Q2FVX9': 'Cluster 7',\n",
       " 'Q2G6Q7': 'Cluster 7',\n",
       " 'Q2NA95': 'Cluster 7',\n",
       " 'Q316U6': 'Cluster 7',\n",
       " 'Q5HLX5': 'Cluster 7',\n",
       " 'Q5JCX1': 'Cluster 7',\n",
       " 'Q65N05': 'Cluster 7',\n",
       " 'Q7UP45': 'Cluster 7',\n",
       " 'Q92CY3': 'Cluster 7',\n",
       " 'Q9HX95': 'Cluster 7',\n",
       " 'Q9UXF7': 'Cluster 7',\n",
       " 'A5UQR2': 'Cluster 7',\n",
       " 'A7HXZ9': 'Cluster 7',\n",
       " 'A7INK0': 'Cluster 7',\n",
       " 'B6IQ15': 'Cluster 7',\n",
       " 'B6YVC3': 'Cluster 7',\n",
       " 'B8IPA1': 'Cluster 7',\n",
       " 'B9L0K8': 'Cluster 7',\n",
       " 'C0ZHP0': 'Cluster 7',\n",
       " 'C5CRA3': 'Cluster 7',\n",
       " 'P13066': 'Cluster 7',\n",
       " 'P32441': 'Cluster 7',\n",
       " 'P45310': 'Cluster 7',\n",
       " 'Q0KE68': 'Cluster 7',\n",
       " 'Q1H4W7': 'Cluster 7',\n",
       " 'Q2YRR3': 'Cluster 7',\n",
       " 'Q3AVP2': 'Cluster 7',\n",
       " 'Q5L3F4': 'Cluster 7',\n",
       " 'Q603S0': 'Cluster 7',\n",
       " 'Q7VVF8': 'Cluster 7',\n",
       " 'Q88WW9': 'Cluster 7',\n",
       " 'Q88WY1': 'Cluster 7',\n",
       " 'Q8UER6': 'Cluster 7',\n",
       " 'Q8Y1X7': 'Cluster 7',\n",
       " 'Q8Y871': 'Cluster 7',\n",
       " 'Q8ZQQ1': 'Cluster 7',\n",
       " 'Q97HL9': 'Cluster 7',\n",
       " 'Q9K8I3': 'Cluster 7',\n",
       " 'Q9PIP3': 'Cluster 7',\n",
       " 'Q9WX96': 'Cluster 7',\n",
       " 'A1JSH7': 'Cluster 7',\n",
       " 'A4IJU6': 'Cluster 7',\n",
       " 'A4XR36': 'Cluster 7',\n",
       " 'A6VPY1': 'Cluster 7',\n",
       " 'A8AJ02': 'Cluster 7',\n",
       " 'A8MLW5': 'Cluster 7',\n",
       " 'B0TI15': 'Cluster 7',\n",
       " 'B2A685': 'Cluster 7',\n",
       " 'B2JDC4': 'Cluster 7',\n",
       " 'B3E5I0': 'Cluster 7',\n",
       " 'B5YJ09': 'Cluster 7',\n",
       " 'B8GPA2': 'Cluster 7',\n",
       " 'B9E9E3': 'Cluster 7',\n",
       " 'B9KEM3': 'Cluster 7',\n",
       " 'C3KEA5': 'Cluster 7',\n",
       " 'C3MCF1': 'Cluster 7',\n",
       " 'P0DKR4': 'Cluster 7',\n",
       " 'P65394': 'Cluster 7',\n",
       " 'Q0AVU7': 'Cluster 7',\n",
       " 'Q1I574': 'Cluster 7',\n",
       " 'Q2RQI5': 'Cluster 7',\n",
       " 'Q39DA3': 'Cluster 7',\n",
       " 'Q3ADX7': 'Cluster 7',\n",
       " 'Q48260': 'Cluster 7',\n",
       " 'Q65TT1': 'Cluster 7',\n",
       " 'Q816U4': 'Cluster 7',\n",
       " 'Q8YHF9': 'Cluster 7',\n",
       " 'Q8ZGW4': 'Cluster 7',\n",
       " 'Q92PR8': 'Cluster 7',\n",
       " 'Q9ZFA6': 'Cluster 7',\n",
       " 'A1SWP5': 'Cluster 7',\n",
       " 'A4W8C6': 'Cluster 7',\n",
       " 'A5FXW0': 'Cluster 7',\n",
       " 'A8EX06': 'Cluster 7',\n",
       " 'A8FAF5': 'Cluster 7',\n",
       " 'A8I831': 'Cluster 7',\n",
       " 'A9AFU0': 'Cluster 7',\n",
       " 'A9WG82': 'Cluster 7',\n",
       " 'B2SYE3': 'Cluster 7',\n",
       " 'B2UGE9': 'Cluster 7',\n",
       " 'B3PDN1': 'Cluster 7',\n",
       " 'B4EBZ2': 'Cluster 7',\n",
       " 'C0QKG6': 'Cluster 7',\n",
       " 'Q1LR54': 'Cluster 7',\n",
       " 'Q28R69': 'Cluster 7',\n",
       " 'Q30NY7': 'Cluster 7',\n",
       " 'Q49ZJ2': 'Cluster 7',\n",
       " 'Q4L8D8': 'Cluster 7',\n",
       " 'Q58535': 'Cluster 7',\n",
       " 'Q887P4': 'Cluster 7',\n",
       " 'Q8YRR1': 'Cluster 7',\n",
       " 'Q98ME2': 'Cluster 7',\n",
       " 'Q9KT79': 'Cluster 7',\n",
       " 'A0AHF9': 'Cluster 7',\n",
       " 'A0L7R3': 'Cluster 7',\n",
       " 'A3N055': 'Cluster 7',\n",
       " 'A4J6S4': 'Cluster 7',\n",
       " 'A4SZX3': 'Cluster 7',\n",
       " 'A6Q6C1': 'Cluster 7',\n",
       " 'A7GTZ9': 'Cluster 7',\n",
       " 'A8GBD6': 'Cluster 7',\n",
       " 'B2AHC7': 'Cluster 7',\n",
       " 'B4ESV1': 'Cluster 7',\n",
       " 'B8G5X1': 'Cluster 7',\n",
       " 'C5D4E6': 'Cluster 7',\n",
       " 'Q21HG1': 'Cluster 7',\n",
       " 'Q3SL94': 'Cluster 7',\n",
       " 'Q7NQ07': 'Cluster 7',\n",
       " 'Q81KM1': 'Cluster 7',\n",
       " 'Q8TZX1': 'Cluster 7',\n",
       " 'Q975D5': 'Cluster 7',\n",
       " 'Q9ZIN2': 'Cluster 7',\n",
       " 'A0KA61': 'Cluster 7',\n",
       " 'A4VIR7': 'Cluster 7',\n",
       " 'A7MJ08': 'Cluster 7',\n",
       " 'B0U7Z3': 'Cluster 7',\n",
       " 'B1YVX4': 'Cluster 7',\n",
       " 'B5XYW4': 'Cluster 7',\n",
       " 'B5Z7G0': 'Cluster 7',\n",
       " 'P85949': 'Cluster 7',\n",
       " 'Q2YYS2': 'Cluster 7',\n",
       " 'Q5HWL3': 'Cluster 7',\n",
       " 'Q66D58': 'Cluster 7',\n",
       " 'Q6HCF7': 'Cluster 7',\n",
       " 'A1VXX6': 'Cluster 7',\n",
       " 'A8FK41': 'Cluster 7',\n",
       " 'A9VL86': 'Cluster 7',\n",
       " 'B0K8Q5': 'Cluster 7',\n",
       " 'B2GCM0': 'Cluster 7',\n",
       " 'B2THM0': 'Cluster 7',\n",
       " 'B2UT33': 'Cluster 7',\n",
       " 'B2V3T7': 'Cluster 7',\n",
       " 'B8FNT2': 'Cluster 7',\n",
       " 'Q3M7N0': 'Cluster 7',\n",
       " 'Q6GEG0': 'Cluster 7',\n",
       " 'Q721C0': 'Cluster 7',\n",
       " 'Q7WB92': 'Cluster 7',\n",
       " 'A4WX66': 'Cluster 7',\n",
       " 'A5CZ07': 'Cluster 7',\n",
       " 'A6V0J0': 'Cluster 7',\n",
       " 'B0K0F7': 'Cluster 7',\n",
       " 'B0T229': 'Cluster 7',\n",
       " 'B0UUN5': 'Cluster 7',\n",
       " 'B1JY03': 'Cluster 7',\n",
       " 'B5FP70': 'Cluster 7',\n",
       " 'B8F454': 'Cluster 7',\n",
       " 'P81422': 'Cluster 7',\n",
       " 'Q0SR96': 'Cluster 7',\n",
       " 'A9BQ97': 'Cluster 7',\n",
       " 'B1J176': 'Cluster 7',\n",
       " 'B7HSR1': 'Cluster 7',\n",
       " 'B8DCG2': 'Cluster 7',\n",
       " 'B8FMV2': 'Cluster 7',\n",
       " 'Q0I4B6': 'Cluster 7',\n",
       " 'Q111C2': 'Cluster 7',\n",
       " 'Q1CT72': 'Cluster 7',\n",
       " 'Q475L1': 'Cluster 7',\n",
       " 'Q7VLN2': 'Cluster 7',\n",
       " 'Q8NVA0': 'Cluster 7',\n",
       " 'Q93KD0': 'Cluster 7',\n",
       " 'A3PHK6': 'Cluster 7',\n",
       " 'A4JHJ1': 'Cluster 7',\n",
       " 'A5UFB3': 'Cluster 7',\n",
       " 'A7H1U7': 'Cluster 7',\n",
       " 'B1HQT3': 'Cluster 7',\n",
       " 'B1JSR4': 'Cluster 7',\n",
       " 'B6JM29': 'Cluster 7',\n",
       " 'P26944': 'Cluster 7',\n",
       " 'Q4JAB2': 'Cluster 7',\n",
       " 'Q93W95': 'Cluster 8',\n",
       " 'P22028': 'Cluster 8',\n",
       " 'Q94II3': 'Cluster 8',\n",
       " 'P85157': 'Cluster 8',\n",
       " 'P81081': 'Cluster 8',\n",
       " 'P84749': 'Cluster 8',\n",
       " 'P86348': 'Cluster 8',\n",
       " 'P23219': 'Cluster 9',\n",
       " 'O62664': 'Cluster 9',\n",
       " 'P05979': 'Cluster 9',\n",
       " 'P0DJF0': 'Cluster 9',\n",
       " 'P81882': 'Cluster 9',\n",
       " 'P27063': 'Cluster 9',\n",
       " 'P86530': 'Cluster 9',\n",
       " 'P24182': 'Cluster 10',\n",
       " 'P96890': 'Cluster 10',\n",
       " 'Q58626': 'Cluster 10',\n",
       " 'O27939': 'Cluster 10',\n",
       " 'O34544': 'Cluster 10',\n",
       " 'P49787': 'Cluster 10',\n",
       " 'B9HBA8': 'Cluster 10',\n",
       " 'Q8X9B6': 'Cluster 10',\n",
       " 'Q9KDS9': 'Cluster 10',\n",
       " 'D3DJ42': 'Cluster 10',\n",
       " 'P43873': 'Cluster 10',\n",
       " 'B9N843': 'Cluster 10',\n",
       " 'O30019': 'Cluster 10',\n",
       " 'O52058': 'Cluster 10',\n",
       " 'Q06862': 'Cluster 10',\n",
       " 'P37798': 'Cluster 10',\n",
       " 'P46392': 'Cluster 10',\n",
       " 'P80537': 'Cluster 10',\n",
       " 'P80980': 'Cluster 10',\n",
       " 'P19982': 'Cluster 10',\n",
       " 'P84546': 'Cluster 10',\n",
       " 'A4FVP2': 'Cluster 11',\n",
       " 'T1RR71': 'Cluster 11',\n",
       " 'T1RRJ4': 'Cluster 11',\n",
       " 'T1RRL8': 'Cluster 11',\n",
       " 'A6XH05': 'Cluster 11',\n",
       " 'A6XH06': 'Cluster 11',\n",
       " 'H6WZF2': 'Cluster 11',\n",
       " 'O81192': 'Cluster 11',\n",
       " 'R4YXW8': 'Cluster 11',\n",
       " 'E2E2P0': 'Cluster 11',\n",
       " 'G0Y7D3': 'Cluster 11',\n",
       " 'R4YZC3': 'Cluster 11',\n",
       " 'T1RR72': 'Cluster 11',\n",
       " 'T1RRI8': 'Cluster 11',\n",
       " 'T1RRR9': 'Cluster 11',\n",
       " 'A0A0M3Q1Q3': 'Cluster 11',\n",
       " 'H2ELN1': 'Cluster 11',\n",
       " 'G0Y7D2': 'Cluster 11',\n",
       " 'R4JGL8': 'Cluster 11',\n",
       " 'B3TPQ7': 'Cluster 11',\n",
       " 'E2E2N3': 'Cluster 11',\n",
       " 'P0DI86': 'Cluster 11',\n",
       " 'R4JND9': 'Cluster 11',\n",
       " 'A0A7G5KLV0': 'Cluster 11',\n",
       " 'L0HB77': 'Cluster 11',\n",
       " 'Q8L5K4': 'Cluster 11',\n",
       " 'R4JQT5': 'Cluster 11',\n",
       " 'A0A7G5KLV2': 'Cluster 11',\n",
       " 'B9T536': 'Cluster 11',\n",
       " 'Q6PWU2': 'Cluster 11',\n",
       " 'B6SCF3': 'Cluster 11',\n",
       " 'J7LQ09': 'Cluster 11',\n",
       " 'K9Y6Y9': 'Cluster 11',\n",
       " 'O81191': 'Cluster 11',\n",
       " 'Q5SBP4': 'Cluster 11',\n",
       " 'Q5SBP2': 'Cluster 11',\n",
       " 'Q93X23': 'Cluster 11',\n",
       " 'J7LH11': 'Cluster 11',\n",
       " 'P83402': 'Cluster 11',\n",
       " 'Q2XSC4': 'Cluster 11',\n",
       " 'Q2XSC5': 'Cluster 11',\n",
       " 'Q5SBP1': 'Cluster 11',\n",
       " 'K9Y645': 'Cluster 11',\n",
       " 'O81193': 'Cluster 11',\n",
       " 'P84983': 'Cluster 11',\n",
       " 'P85433': 'Cluster 11',\n",
       " 'B2RYN7': 'Cluster 12',\n",
       " 'Q6NW58': 'Cluster 12',\n",
       " 'P85975': 'Cluster 12',\n",
       " 'Q6AZT2': 'Cluster 12',\n",
       " 'Q7LZG2': 'Cluster 12',\n",
       " 'A7T395': 'Cluster 12',\n",
       " 'P0CAR8': 'Cluster 12',\n",
       " 'P80056': 'Cluster 12',\n",
       " 'P81949': 'Cluster 12',\n",
       " 'P34033': 'Cluster 12',\n",
       " 'P11917': 'Cluster 12',\n",
       " 'Q3L1D1': 'Cluster 13',\n",
       " 'V5NC32': 'Cluster 13',\n",
       " 'V5NDL4': 'Cluster 13',\n",
       " 'Q3L243': 'Cluster 13',\n",
       " 'Q0R4L2': 'Cluster 13',\n",
       " 'B3EWQ8': 'Cluster 13',\n",
       " 'P85334': 'Cluster 13',\n",
       " 'Q5W915': 'Cluster 14',\n",
       " 'Q09WE7': 'Cluster 14',\n",
       " 'P11727': 'Cluster 14',\n",
       " 'P83989': 'Cluster 14',\n",
       " 'P84719': 'Cluster 14',\n",
       " 'P99507': 'Cluster 14',\n",
       " 'Q09093': 'Cluster 14',\n",
       " 'P0CH88': 'Cluster 14',\n",
       " 'P80729': 'Cluster 14',\n",
       " 'Q8J2T0': 'Cluster 15',\n",
       " 'E9DFH0': 'Cluster 15',\n",
       " 'Q7LZF6': 'Cluster 15',\n",
       " 'P85238': 'Cluster 15',\n",
       " 'P19979': 'Cluster 15',\n",
       " 'P84985': 'Cluster 15',\n",
       " 'P0CI73': 'Cluster 16',\n",
       " 'O57981': 'Cluster 16',\n",
       " 'O66648': 'Cluster 16',\n",
       " 'Q6HPL2': 'Cluster 16',\n",
       " 'Q8ETM5': 'Cluster 16',\n",
       " 'Q9KG45': 'Cluster 16',\n",
       " 'E0U070': 'Cluster 16',\n",
       " 'Q73F49': 'Cluster 16',\n",
       " 'Q8U4D1': 'Cluster 16',\n",
       " 'O26273': 'Cluster 16',\n",
       " 'P37155': 'Cluster 16',\n",
       " 'P84708': 'Cluster 16',\n",
       " 'Q5L3P0': 'Cluster 16',\n",
       " 'Q65P46': 'Cluster 16',\n",
       " 'Q81J01': 'Cluster 16',\n",
       " 'Q56206': 'Cluster 16',\n",
       " 'Q5WLG7': 'Cluster 16',\n",
       " 'Q81VN5': 'Cluster 16',\n",
       " 'Q9V249': 'Cluster 16',\n",
       " 'P20016': 'Cluster 16',\n",
       " 'P86058': 'Cluster 16',\n",
       " 'Q9ZUH4': 'Cluster 17',\n",
       " 'Q9LRZ6': 'Cluster 17',\n",
       " 'Q50L36': 'Cluster 17',\n",
       " 'Q5UB07': 'Cluster 17',\n",
       " 'W6HUT3': 'Cluster 17',\n",
       " 'U5PZT6': 'Cluster 17',\n",
       " 'P0CJ43': 'Cluster 17',\n",
       " 'P0DI76': 'Cluster 17',\n",
       " 'Q672F7': 'Cluster 17',\n",
       " 'G0Y7D1': 'Cluster 17',\n",
       " 'I7GPX8': 'Cluster 17',\n",
       " 'Q9SPN1': 'Cluster 17',\n",
       " 'Q9SPN0': 'Cluster 17',\n",
       " 'P59066': 'Cluster 17',\n",
       " 'Q09053': 'Cluster 17',\n",
       " 'Q7XAS7': 'Cluster 17',\n",
       " 'Q94G53': 'Cluster 17',\n",
       " 'Q9AR86': 'Cluster 17',\n",
       " 'P85343': 'Cluster 17',\n",
       " 'Q9T0K1': 'Cluster 18',\n",
       " 'Q4KSH9': 'Cluster 18',\n",
       " 'Q9T0J9': 'Cluster 18',\n",
       " 'Q9C8E3': 'Cluster 18',\n",
       " 'O65435': 'Cluster 18',\n",
       " 'A0A178U9Y5': 'Cluster 18',\n",
       " 'P0DKX3': 'Cluster 18',\n",
       " 'O23651': 'Cluster 18',\n",
       " 'O22184': 'Cluster 18',\n",
       " 'P20903': 'Cluster 18',\n",
       " 'Q9LVP7': 'Cluster 18',\n",
       " 'P11726': 'Cluster 18',\n",
       " 'P85338': 'Cluster 18',\n",
       " 'P81530': 'Cluster 18',\n",
       " 'P33036': 'Cluster 18',\n",
       " 'P42826': 'Cluster 19',\n",
       " 'P86529': 'Cluster 19',\n",
       " 'P81666': 'Cluster 19',\n",
       " 'P86084': 'Cluster 19',\n",
       " 'O53521': 'Cluster 20',\n",
       " 'P0DJF7': 'Cluster 20',\n",
       " 'P13858': 'Cluster 20',\n",
       " 'B2HGV4': 'Cluster 20',\n",
       " 'P19977': 'Cluster 20',\n",
       " 'P85913': 'Cluster 20',\n",
       " 'Q7TYX8': 'Cluster 20',\n",
       " 'D3TTC1': 'Cluster 21',\n",
       " 'P0DM90': 'Cluster 21',\n",
       " 'P20165': 'Cluster 21',\n",
       " 'P28891': 'Cluster 21',\n",
       " 'P83912': 'Cluster 21',\n",
       " 'P85420': 'Cluster 21',\n",
       " 'Q072L5': 'Cluster 21',\n",
       " 'A2TK72': 'Cluster 21',\n",
       " 'P0C6E4': 'Cluster 21',\n",
       " 'P14530': 'Cluster 21',\n",
       " 'P30431': 'Cluster 21',\n",
       " 'P83512': 'Cluster 21',\n",
       " 'P84907': 'Cluster 21',\n",
       " 'Q1PHZ4': 'Cluster 21',\n",
       " 'Q90WC0': 'Cluster 21',\n",
       " 'Q9IAB0': 'Cluster 21',\n",
       " 'Q9PW35': 'Cluster 21',\n",
       " 'Q9YI19': 'Cluster 21',\n",
       " 'D6PXE8': 'Cluster 21',\n",
       " 'P0C6E3': 'Cluster 21',\n",
       " 'P0C6E8': 'Cluster 21',\n",
       " 'P0DJE1': 'Cluster 21',\n",
       " 'P0DM89': 'Cluster 21',\n",
       " 'P60244': 'Cluster 21',\n",
       " 'P86092': 'Cluster 21',\n",
       " 'Q14FJ4': 'Cluster 21',\n",
       " 'Q6T271': 'Cluster 21',\n",
       " 'Q805F6': 'Cluster 21',\n",
       " 'P0DJ42': 'Cluster 21',\n",
       " 'P15167': 'Cluster 21',\n",
       " 'P17347': 'Cluster 21',\n",
       " 'P34182': 'Cluster 21',\n",
       " 'P86802': 'Cluster 21',\n",
       " 'Q698K8': 'Cluster 21',\n",
       " 'Q7T1T4': 'Cluster 21',\n",
       " 'Q98995': 'Cluster 21',\n",
       " 'Q98SP2': 'Cluster 21',\n",
       " 'U3KRG1': 'Cluster 21',\n",
       " 'C0L2T8': 'Cluster 21',\n",
       " 'O57413': 'Cluster 21',\n",
       " 'P17349': 'Cluster 21',\n",
       " 'P30403': 'Cluster 21',\n",
       " 'P83255': 'Cluster 21',\n",
       " 'P85314': 'Cluster 21',\n",
       " 'Q5XUW8': 'Cluster 21',\n",
       " 'Q7ZZS9': 'Cluster 21',\n",
       " 'U5PZ28': 'Cluster 21',\n",
       " 'B7U492': 'Cluster 21',\n",
       " 'E9NW27': 'Cluster 21',\n",
       " 'J9Z332': 'Cluster 21',\n",
       " 'P15503': 'Cluster 21',\n",
       " 'P31989': 'Cluster 21',\n",
       " 'P34179': 'Cluster 21',\n",
       " 'Q3HTN2': 'Cluster 21',\n",
       " 'Q92043': 'Cluster 21',\n",
       " 'Q9PW36': 'Cluster 21',\n",
       " 'Q9PWJ0': 'Cluster 21',\n",
       " 'P0DKR0': 'Cluster 21',\n",
       " 'P20897': 'Cluster 21',\n",
       " 'Q805F4': 'Cluster 21',\n",
       " 'Q90220': 'Cluster 21',\n",
       " 'Q90391': 'Cluster 21',\n",
       " 'Q9PVK7': 'Cluster 21',\n",
       " 'P0DM97': 'Cluster 21',\n",
       " 'P22796': 'Cluster 21',\n",
       " 'Q8AWX7': 'Cluster 21',\n",
       " 'Q90YA6': 'Cluster 21',\n",
       " 'Q9I9R4': 'Cluster 21',\n",
       " 'Q9PS48': 'Cluster 21',\n",
       " 'Q9PSN7': 'Cluster 21',\n",
       " 'C9E1S1': 'Cluster 21',\n",
       " 'E9NW26': 'Cluster 21',\n",
       " 'O73795': 'Cluster 21',\n",
       " 'P0CB14': 'Cluster 21',\n",
       " 'P0DM87': 'Cluster 21',\n",
       " 'Q3HTN1': 'Cluster 21',\n",
       " 'Q6X1T6': 'Cluster 21',\n",
       " 'Q7SZE0': 'Cluster 21',\n",
       " 'Q90392': 'Cluster 21',\n",
       " 'Q9PVK9': 'Cluster 21',\n",
       " 'C9E1R9': 'Cluster 21',\n",
       " 'P18619': 'Cluster 21',\n",
       " 'P82942': 'Cluster 21',\n",
       " 'Q1PBD1': 'Cluster 21',\n",
       " 'Q2EI26': 'Cluster 21',\n",
       " 'Q92031': 'Cluster 21',\n",
       " 'Q92032': 'Cluster 21',\n",
       " 'Q9IAY2': 'Cluster 21',\n",
       " 'A2CJE4': 'Cluster 21',\n",
       " 'C5H5D2': 'Cluster 21',\n",
       " 'C5H5D4': 'Cluster 21',\n",
       " 'C9E1R7': 'Cluster 21',\n",
       " 'Q0NZX6': 'Cluster 21',\n",
       " 'Q0NZX9': 'Cluster 21',\n",
       " 'Q9IAX6': 'Cluster 21',\n",
       " 'Q9IAY1': 'Cluster 21',\n",
       " 'Q9W7S2': 'Cluster 21',\n",
       " 'C5H5D1': 'Cluster 21',\n",
       " 'C5H5D6': 'Cluster 21',\n",
       " 'O93517': 'Cluster 21',\n",
       " 'Q8JJ51': 'Cluster 21',\n",
       " 'Q9IAY3': 'Cluster 21',\n",
       " 'Q9IAY4': 'Cluster 21',\n",
       " 'A2CJE2': 'Cluster 21',\n",
       " 'E9NW28': 'Cluster 21',\n",
       " 'O93518': 'Cluster 21',\n",
       " 'P0DJ87': 'Cluster 21',\n",
       " 'Q0NZX7': 'Cluster 21',\n",
       " 'Q7SZD9': 'Cluster 21',\n",
       " 'C5H5D5': 'Cluster 21',\n",
       " 'J3SBP9': 'Cluster 21',\n",
       " 'O93515': 'Cluster 21',\n",
       " 'P0C6S1': 'Cluster 21',\n",
       " 'Q076D1': 'Cluster 21',\n",
       " 'Q0NZX8': 'Cluster 21',\n",
       " 'Q3ZD74': 'Cluster 21',\n",
       " 'Q8QG89': 'Cluster 21',\n",
       " 'Q9IAY0': 'Cluster 21',\n",
       " 'C5H5D3': 'Cluster 21',\n",
       " 'O93516': 'Cluster 21',\n",
       " 'Q0NZY0': 'Cluster 21',\n",
       " 'Q7LZS9': 'Cluster 21',\n",
       " 'Q90221': 'Cluster 21',\n",
       " 'P83575': 'Cluster 21',\n",
       " 'P86051': 'Cluster 21',\n",
       " 'P0DMH3': 'Cluster 21',\n",
       " 'P86102': 'Cluster 21',\n",
       " 'P84541': 'Cluster 21',\n",
       " 'P85006': 'Cluster 21',\n",
       " 'A3DP49': 'Cluster 22',\n",
       " 'Q976G4': 'Cluster 22',\n",
       " 'A0RWD6': 'Cluster 22',\n",
       " 'A9A3K1': 'Cluster 22',\n",
       " 'B1L3V2': 'Cluster 22',\n",
       " 'B5YD88': 'Cluster 22',\n",
       " 'Q9HJ26': 'Cluster 22',\n",
       " 'A3MS62': 'Cluster 22',\n",
       " 'A4YD25': 'Cluster 22',\n",
       " 'A8AB20': 'Cluster 22',\n",
       " 'B8DZX8': 'Cluster 22',\n",
       " 'C0HJF2': 'Cluster 22',\n",
       " 'C0QSL7': 'Cluster 22',\n",
       " 'P05699': 'Cluster 22',\n",
       " 'Q02093': 'Cluster 22',\n",
       " 'A1RTK4': 'Cluster 22',\n",
       " 'B1YA52': 'Cluster 22',\n",
       " 'O67398': 'Cluster 22',\n",
       " 'O93723': 'Cluster 22',\n",
       " 'Q4JAM1': 'Cluster 22',\n",
       " 'Q6L195': 'Cluster 22',\n",
       " 'A4WH24': 'Cluster 22',\n",
       " 'Q979A1': 'Cluster 22',\n",
       " 'P81833': 'Cluster 22',\n",
       " 'O47881': 'Cluster 23',\n",
       " 'Q2RAP0': 'Cluster 23',\n",
       " 'Q2QXY1': 'Cluster 23',\n",
       " 'Q7LZG5': 'Cluster 23',\n",
       " 'Q9UHB4': 'Cluster 24',\n",
       " 'A2AI05': 'Cluster 24',\n",
       " 'Q1JPJ0': 'Cluster 24',\n",
       " 'Q6PFP6': 'Cluster 24',\n",
       " 'P0DKT7': 'Cluster 24',\n",
       " 'P81883': 'Cluster 24',\n",
       " 'Q6NRG5': 'Cluster 24',\n",
       " 'P86120': 'Cluster 24',\n",
       " 'P86532': 'Cluster 24',\n",
       " 'C0HLA2': 'Cluster 24',\n",
       " 'P84981': 'Cluster 24',\n",
       " 'P17812': 'Cluster 25',\n",
       " 'Q9NRF8': 'Cluster 25',\n",
       " 'P38627': 'Cluster 25',\n",
       " 'P70698': 'Cluster 25',\n",
       " 'P28274': 'Cluster 25',\n",
       " 'Q980S6': 'Cluster 25',\n",
       " 'P9WHK7': 'Cluster 25',\n",
       " 'P70303': 'Cluster 25',\n",
       " 'Q1RMS2': 'Cluster 25',\n",
       " 'Q6PEI7': 'Cluster 25',\n",
       " 'A0B7H6': 'Cluster 25',\n",
       " 'A1K7F8': 'Cluster 25',\n",
       " 'A2SAU5': 'Cluster 25',\n",
       " 'A4FKA9': 'Cluster 25',\n",
       " 'A5U357': 'Cluster 25',\n",
       " 'A9AGW0': 'Cluster 25',\n",
       " 'B1JUY8': 'Cluster 25',\n",
       " 'Q2S538': 'Cluster 25',\n",
       " 'Q5YY90': 'Cluster 25',\n",
       " 'Q7VW76': 'Cluster 25',\n",
       " 'Q8FTL2': 'Cluster 25',\n",
       " 'Q8NQL7': 'Cluster 25',\n",
       " 'A0K8N3': 'Cluster 25',\n",
       " 'A0PPA8': 'Cluster 25',\n",
       " 'A1SJK4': 'Cluster 25',\n",
       " 'A3ML79': 'Cluster 25',\n",
       " 'A4JFY7': 'Cluster 25',\n",
       " 'A4T9Y6': 'Cluster 25',\n",
       " 'A6UTE4': 'Cluster 25',\n",
       " 'B2HR69': 'Cluster 25',\n",
       " 'C1ASX9': 'Cluster 25',\n",
       " 'P52200': 'Cluster 25',\n",
       " 'Q13X05': 'Cluster 25',\n",
       " 'Q3IDM3': 'Cluster 25',\n",
       " 'Q4JVX2': 'Cluster 25',\n",
       " 'Q67TG8': 'Cluster 25',\n",
       " 'Q9A7K3': 'Cluster 25',\n",
       " 'A0QH68': 'Cluster 25',\n",
       " 'A3Q0R1': 'Cluster 25',\n",
       " 'A9IIP5': 'Cluster 25',\n",
       " 'B8ZRH6': 'Cluster 25',\n",
       " 'P0DJP5': 'Cluster 25',\n",
       " 'Q0BDS1': 'Cluster 25',\n",
       " 'Q1B7T3': 'Cluster 25',\n",
       " 'Q1LPI8': 'Cluster 25',\n",
       " 'Q1MR71': 'Cluster 25',\n",
       " 'Q2G6R7': 'Cluster 25',\n",
       " 'Q2RT58': 'Cluster 25',\n",
       " 'Q58574': 'Cluster 25',\n",
       " 'Q6LYU4': 'Cluster 25',\n",
       " 'Q7RZV2': 'Cluster 25',\n",
       " 'A0QYQ7': 'Cluster 25',\n",
       " 'A1TA81': 'Cluster 25',\n",
       " 'B0SYY1': 'Cluster 25',\n",
       " 'P9WHK6': 'Cluster 25',\n",
       " 'Q0SI74': 'Cluster 25',\n",
       " 'Q128E7': 'Cluster 25',\n",
       " 'Q1GTY6': 'Cluster 25',\n",
       " 'Q2NAA7': 'Cluster 25',\n",
       " 'Q2SXC7': 'Cluster 25',\n",
       " 'Q6AGG5': 'Cluster 25',\n",
       " 'B1Y4K6': 'Cluster 25',\n",
       " 'B2SXV1': 'Cluster 25',\n",
       " 'C4LIF4': 'Cluster 25',\n",
       " 'O42644': 'Cluster 25',\n",
       " 'P50547': 'Cluster 25',\n",
       " 'Q110M9': 'Cluster 25',\n",
       " 'Q7N836': 'Cluster 25',\n",
       " 'Q9PJ84': 'Cluster 25',\n",
       " 'Q54V77': 'Cluster 25',\n",
       " 'Q5U2N0': 'Cluster 25',\n",
       " 'Q5XHA8': 'Cluster 25',\n",
       " 'Q751L7': 'Cluster 25',\n",
       " 'O74638': 'Cluster 25',\n",
       " 'Q6FUD0': 'Cluster 25',\n",
       " 'Q6GME1': 'Cluster 25',\n",
       " 'A6ZQ59': 'Cluster 25',\n",
       " 'Q5F3Z1': 'Cluster 25',\n",
       " 'Q7ZXP9': 'Cluster 25',\n",
       " 'P10887': 'Cluster 25',\n",
       " 'P83488': 'Cluster 25',\n",
       " 'P00927': 'Cluster 26',\n",
       " 'Q9ZSS6': 'Cluster 26',\n",
       " 'P04968': 'Cluster 26',\n",
       " 'P13191': 'Cluster 26',\n",
       " 'O94634': 'Cluster 26',\n",
       " 'O42615': 'Cluster 26',\n",
       " 'P84310': 'Cluster 26',\n",
       " 'V5Y0V0': 'Cluster 26',\n",
       " 'P20506': 'Cluster 26',\n",
       " 'P53607': 'Cluster 26',\n",
       " 'Q9CKJ2': 'Cluster 26',\n",
       " 'P46493': 'Cluster 26',\n",
       " 'P17877': 'Cluster 26',\n",
       " 'P83075': 'Cluster 26',\n",
       " 'Q9LZA4': 'Cluster 27',\n",
       " 'Q84TJ0': 'Cluster 27',\n",
       " 'P31718': 'Cluster 27',\n",
       " 'P21889': 'Cluster 28',\n",
       " 'Q5SKD2': 'Cluster 28',\n",
       " 'O84546': 'Cluster 28',\n",
       " 'P56459': 'Cluster 28',\n",
       " 'Q51422': 'Cluster 28',\n",
       " 'O32038': 'Cluster 28',\n",
       " 'A0QI91': 'Cluster 28',\n",
       " 'A1AC27': 'Cluster 28',\n",
       " 'A1JRL1': 'Cluster 28',\n",
       " 'A1SJB8': 'Cluster 28',\n",
       " 'A2BTS0': 'Cluster 28',\n",
       " 'A3D477': 'Cluster 28',\n",
       " 'A3NRK2': 'Cluster 28',\n",
       " 'A3PFH7': 'Cluster 28',\n",
       " 'A4J2J2': 'Cluster 28',\n",
       " 'A4TBU4': 'Cluster 28',\n",
       " 'A4VYB8': 'Cluster 28',\n",
       " 'A4WPF7': 'Cluster 28',\n",
       " 'A5N1Y8': 'Cluster 28',\n",
       " 'A5VZU3': 'Cluster 28',\n",
       " 'A6LBU6': 'Cluster 28',\n",
       " 'A6QAE8': 'Cluster 28',\n",
       " 'A6QHH2': 'Cluster 28',\n",
       " 'A6U7M8': 'Cluster 28',\n",
       " 'A6VQA9': 'Cluster 28',\n",
       " 'A7GHS2': 'Cluster 28',\n",
       " 'A7MEB6': 'Cluster 28',\n",
       " 'A7N1J1': 'Cluster 28',\n",
       " 'A7Z750': 'Cluster 28',\n",
       " 'A8GFJ2': 'Cluster 28',\n",
       " 'A8IFX1': 'Cluster 28',\n",
       " 'A9AFC7': 'Cluster 28',\n",
       " 'A9MND2': 'Cluster 28',\n",
       " 'A9MUB9': 'Cluster 28',\n",
       " 'B0K978': 'Cluster 28',\n",
       " 'B1MY98': 'Cluster 28',\n",
       " 'B2FRP1': 'Cluster 28',\n",
       " 'B5FCP9': 'Cluster 28',\n",
       " 'B5FSN0': 'Cluster 28',\n",
       " 'B6IBU5': 'Cluster 28',\n",
       " 'B7GPT0': 'Cluster 28',\n",
       " 'B7J3F7': 'Cluster 28',\n",
       " 'B7LPH8': 'Cluster 28',\n",
       " 'B7UXW9': 'Cluster 28',\n",
       " 'B8D7K8': 'Cluster 28',\n",
       " 'C1CU16': 'Cluster 28',\n",
       " 'C1DRG2': 'Cluster 28',\n",
       " 'C1KVG6': 'Cluster 28',\n",
       " 'P0DG31': 'Cluster 28',\n",
       " 'P59422': 'Cluster 28',\n",
       " 'Q03F52': 'Cluster 28',\n",
       " 'Q0HIZ5': 'Cluster 28',\n",
       " 'Q17XK9': 'Cluster 28',\n",
       " 'Q1C820': 'Cluster 28',\n",
       " 'Q2A622': 'Cluster 28',\n",
       " 'Q2GLD8': 'Cluster 28',\n",
       " 'Q30RL7': 'Cluster 28',\n",
       " 'Q38XB6': 'Cluster 28',\n",
       " 'Q3JVY8': 'Cluster 28',\n",
       " 'Q47IE0': 'Cluster 28',\n",
       " 'Q48QS8': 'Cluster 28',\n",
       " 'Q492L1': 'Cluster 28',\n",
       " 'Q4L6X5': 'Cluster 28',\n",
       " 'Q57N96': 'Cluster 28',\n",
       " 'Q5FQ60': 'Cluster 28',\n",
       " 'Q5L734': 'Cluster 28',\n",
       " 'Q5N5I8': 'Cluster 28',\n",
       " 'Q5P280': 'Cluster 28',\n",
       " 'Q5WWA3': 'Cluster 28',\n",
       " 'Q6MTR3': 'Cluster 28',\n",
       " 'Q7M8A6': 'Cluster 28',\n",
       " 'Q7MJ74': 'Cluster 28',\n",
       " 'Q7VQX8': 'Cluster 28',\n",
       " 'Q7W001': 'Cluster 28',\n",
       " 'Q82F68': 'Cluster 28',\n",
       " 'Q89MP9': 'Cluster 28',\n",
       " 'Q8DAN7': 'Cluster 28',\n",
       " 'Q8XCI7': 'Cluster 28',\n",
       " 'Q92QV4': 'Cluster 28',\n",
       " 'Q9PJK0': 'Cluster 28',\n",
       " 'Q9ZLL9': 'Cluster 28',\n",
       " 'A0JXA1': 'Cluster 28',\n",
       " 'A0KWL5': 'Cluster 28',\n",
       " 'A0LUJ6': 'Cluster 28',\n",
       " 'A0PZX0': 'Cluster 28',\n",
       " 'A1B431': 'Cluster 28',\n",
       " 'A1S6P2': 'Cluster 28',\n",
       " 'A1U1C2': 'Cluster 28',\n",
       " 'A2RGY0': 'Cluster 28',\n",
       " 'A3QEP7': 'Cluster 28',\n",
       " 'A4G8X1': 'Cluster 28',\n",
       " 'A4JHR9': 'Cluster 28',\n",
       " 'A4WBM3': 'Cluster 28',\n",
       " 'A5FKJ2': 'Cluster 28',\n",
       " 'A5IBW8': 'Cluster 28',\n",
       " 'A6L585': 'Cluster 28',\n",
       " 'A7I058': 'Cluster 28',\n",
       " 'A8F7R7': 'Cluster 28',\n",
       " 'A8LI32': 'Cluster 28',\n",
       " 'A9IHE2': 'Cluster 28',\n",
       " 'A9WGJ7': 'Cluster 28',\n",
       " 'B0K0N5': 'Cluster 28',\n",
       " 'B1JD74': 'Cluster 28',\n",
       " 'B1L096': 'Cluster 28',\n",
       " 'B1ZSW8': 'Cluster 28',\n",
       " 'B2A2G0': 'Cluster 28',\n",
       " 'B2GBY7': 'Cluster 28',\n",
       " 'B2J116': 'Cluster 28',\n",
       " 'B2V351': 'Cluster 28',\n",
       " 'B3Q9Q1': 'Cluster 28',\n",
       " 'B4ST40': 'Cluster 28',\n",
       " 'B4U7P3': 'Cluster 28',\n",
       " 'B5YJP5': 'Cluster 28',\n",
       " 'B7HE37': 'Cluster 28',\n",
       " 'B7JX16': 'Cluster 28',\n",
       " 'B7KB89': 'Cluster 28',\n",
       " 'B8H9C7': 'Cluster 28',\n",
       " 'B9DW80': 'Cluster 28',\n",
       " 'B9JCV9': 'Cluster 28',\n",
       " 'B9KHS0': 'Cluster 28',\n",
       " 'C0Q2E8': 'Cluster 28',\n",
       " 'C1CN60': 'Cluster 28',\n",
       " 'C1FKE5': 'Cluster 28',\n",
       " 'C3LLL2': 'Cluster 28',\n",
       " 'C4L535': 'Cluster 28',\n",
       " 'C6E3W7': 'Cluster 28',\n",
       " 'P57401': 'Cluster 28',\n",
       " 'P73851': 'Cluster 28',\n",
       " 'P81432': 'Cluster 28',\n",
       " 'Q02WJ0': 'Cluster 28',\n",
       " 'Q0AIE4': 'Cluster 28',\n",
       " 'Q0HUY7': 'Cluster 28',\n",
       " 'Q0VRK1': 'Cluster 28',\n",
       " 'Q112K0': 'Cluster 28',\n",
       " 'Q11JA7': 'Cluster 28',\n",
       " 'Q145N3': 'Cluster 28',\n",
       " 'Q1CTQ7': 'Cluster 28',\n",
       " 'Q1QLI9': 'Cluster 28',\n",
       " 'Q21MA4': 'Cluster 28',\n",
       " 'Q2LTE0': 'Cluster 28',\n",
       " 'Q3A5R7': 'Cluster 28',\n",
       " 'Q3BQE6': 'Cluster 28',\n",
       " 'Q3JEB6': 'Cluster 28',\n",
       " 'Q3K7V6': 'Cluster 28',\n",
       " 'Q3SS92': 'Cluster 28',\n",
       " 'Q4JVF2': 'Cluster 28',\n",
       " 'Q5FG09': 'Cluster 28',\n",
       " 'Q5LUX6': 'Cluster 28',\n",
       " 'Q5NIQ4': 'Cluster 28',\n",
       " 'Q5X9E6': 'Cluster 28',\n",
       " 'Q5ZVG2': 'Cluster 28',\n",
       " 'Q607I4': 'Cluster 28',\n",
       " 'Q64TQ1': 'Cluster 28',\n",
       " 'Q65UP5': 'Cluster 28',\n",
       " 'Q6FEH6': 'Cluster 28',\n",
       " 'Q6LT53': 'Cluster 28',\n",
       " 'Q6N5D6': 'Cluster 28',\n",
       " 'Q7MXM0': 'Cluster 28',\n",
       " 'Q7UAE6': 'Cluster 28',\n",
       " 'Q7VNF0': 'Cluster 28',\n",
       " 'Q892B2': 'Cluster 28',\n",
       " 'Q8CS99': 'Cluster 28',\n",
       " 'Q8CWN4': 'Cluster 28',\n",
       " 'Q8E2Q7': 'Cluster 28',\n",
       " 'Q8EWB7': 'Cluster 28',\n",
       " 'Q8RAI7': 'Cluster 28',\n",
       " 'Q8UG87': 'Cluster 28',\n",
       " 'Q8XJ28': 'Cluster 28',\n",
       " 'Q8Z5W1': 'Cluster 28',\n",
       " 'Q97ND6': 'Cluster 28',\n",
       " 'Q983E9': 'Cluster 28',\n",
       " 'Q99XL0': 'Cluster 28',\n",
       " 'Q9CE80': 'Cluster 28',\n",
       " 'Q9PCC5': 'Cluster 28',\n",
       " 'A0AIW8': 'Cluster 28',\n",
       " 'A0QWN3': 'Cluster 28',\n",
       " 'A0RQ71': 'Cluster 28',\n",
       " 'A1RJQ6': 'Cluster 28',\n",
       " 'A2RN94': 'Cluster 28',\n",
       " 'A3PMK8': 'Cluster 28',\n",
       " 'A4J0C7': 'Cluster 28',\n",
       " 'A5UGD3': 'Cluster 28',\n",
       " 'A5UUR3': 'Cluster 28',\n",
       " 'A6GWB6': 'Cluster 28',\n",
       " 'A6LNG3': 'Cluster 28',\n",
       " 'A6VXD0': 'Cluster 28',\n",
       " 'A6WCG5': 'Cluster 28',\n",
       " 'A7HME4': 'Cluster 28',\n",
       " 'A7NQH9': 'Cluster 28',\n",
       " 'A8FL61': 'Cluster 28',\n",
       " 'A8FUW6': 'Cluster 28',\n",
       " 'A8G7J3': 'Cluster 28',\n",
       " 'A9KF44': 'Cluster 28',\n",
       " 'A9KIA6': 'Cluster 28',\n",
       " 'A9L3I1': 'Cluster 28',\n",
       " 'B0B9Z5': 'Cluster 28',\n",
       " 'B0BQ90': 'Cluster 28',\n",
       " 'B0JNW9': 'Cluster 28',\n",
       " 'B0TSA3': 'Cluster 28',\n",
       " 'B0TW08': 'Cluster 28',\n",
       " 'B0USU0': 'Cluster 28',\n",
       " 'B1GZY6': 'Cluster 28',\n",
       " 'B1I9S9': 'Cluster 28',\n",
       " 'B1JLL5': 'Cluster 28',\n",
       " 'B1KHG7': 'Cluster 28',\n",
       " 'B1LBH9': 'Cluster 28',\n",
       " 'B1WRQ9': 'Cluster 28',\n",
       " 'B2G6X9': 'Cluster 28',\n",
       " 'B2HYL7': 'Cluster 28',\n",
       " 'B2IN32': 'Cluster 28',\n",
       " 'B2JCV5': 'Cluster 28',\n",
       " 'B2STK7': 'Cluster 28',\n",
       " 'B2SX42': 'Cluster 28',\n",
       " 'B2UTL0': 'Cluster 28',\n",
       " 'B3EUH5': 'Cluster 28',\n",
       " 'B4EBD1': 'Cluster 28',\n",
       " 'B4U0K5': 'Cluster 28',\n",
       " 'B5XQ00': 'Cluster 28',\n",
       " 'B5YDT0': 'Cluster 28',\n",
       " 'B6JGJ7': 'Cluster 28',\n",
       " 'B6JLK1': 'Cluster 28',\n",
       " 'B7IE30': 'Cluster 28',\n",
       " 'B7JPY8': 'Cluster 28',\n",
       " 'B7USP3': 'Cluster 28',\n",
       " 'B7VMI0': 'Cluster 28',\n",
       " 'B8EA71': 'Cluster 28',\n",
       " 'B8FKS6': 'Cluster 28',\n",
       " 'B8HXQ8': 'Cluster 28',\n",
       " 'B8I3F1': 'Cluster 28',\n",
       " 'B9E706': 'Cluster 28',\n",
       " 'C0MB16': 'Cluster 28',\n",
       " 'C0QFI1': 'Cluster 28',\n",
       " 'C0R2C9': 'Cluster 28',\n",
       " 'C1CAU1': 'Cluster 28',\n",
       " 'C3JYT1': 'Cluster 28',\n",
       " 'C3P990': 'Cluster 28',\n",
       " 'C4ZI12': 'Cluster 28',\n",
       " 'C5BPP4': 'Cluster 28',\n",
       " 'C6DFE7': 'Cluster 28',\n",
       " 'P9WFW3': 'Cluster 28',\n",
       " 'Q07LH5': 'Cluster 28',\n",
       " 'Q0AYS1': 'Cluster 28',\n",
       " 'Q0BBZ1': 'Cluster 28',\n",
       " 'Q1BTP1': 'Cluster 28',\n",
       " 'Q1IZB4': 'Cluster 28',\n",
       " 'Q1MIW0': 'Cluster 28',\n",
       " 'Q2G8P1': 'Cluster 28',\n",
       " 'Q2NTJ3': 'Cluster 28',\n",
       " 'Q2P582': 'Cluster 28',\n",
       " 'Q2T132': 'Cluster 28',\n",
       " 'Q31NM6': 'Cluster 28',\n",
       " 'Q32H95': 'Cluster 28',\n",
       " 'Q39D20': 'Cluster 28',\n",
       " 'Q3IIN7': 'Cluster 28',\n",
       " 'Q3Z8K0': 'Cluster 28',\n",
       " 'Q46175': 'Cluster 28',\n",
       " 'Q48979': 'Cluster 28',\n",
       " 'Q49Y68': 'Cluster 28',\n",
       " 'Q4QNM1': 'Cluster 28',\n",
       " 'Q4UKE2': 'Cluster 28',\n",
       " 'Q4UXM5': 'Cluster 28',\n",
       " 'Q4ZWL5': 'Cluster 28',\n",
       " 'Q5GTS0': 'Cluster 28',\n",
       " 'Q5PMZ6': 'Cluster 28',\n",
       " 'Q5WHP3': 'Cluster 28',\n",
       " 'Q634E3': 'Cluster 28',\n",
       " 'Q6ME91': 'Cluster 28',\n",
       " 'Q6YR88': 'Cluster 28',\n",
       " 'Q74D56': 'Cluster 28',\n",
       " 'Q7VF76': 'Cluster 28',\n",
       " 'Q82SQ5': 'Cluster 28',\n",
       " 'Q833I2': 'Cluster 28',\n",
       " 'Q83BE5': 'Cluster 28',\n",
       " 'Q87Y31': 'Cluster 28',\n",
       " 'Q8DRV9': 'Cluster 28',\n",
       " 'Q8FT19': 'Cluster 28',\n",
       " 'Q8G863': 'Cluster 28',\n",
       " 'Q8YUB6': 'Cluster 28',\n",
       " 'Q9KDG1': 'Cluster 28',\n",
       " 'Q9PHM7': 'Cluster 28',\n",
       " 'Q9RUN7': 'Cluster 28',\n",
       " 'A1SST6': 'Cluster 28',\n",
       " 'A2SEP2': 'Cluster 28',\n",
       " 'A3M8Q6': 'Cluster 28',\n",
       " 'A3PZ05': 'Cluster 28',\n",
       " 'A4SPN5': 'Cluster 28',\n",
       " 'A5G126': 'Cluster 28',\n",
       " 'A5G3L5': 'Cluster 28',\n",
       " 'A5I6D5': 'Cluster 28',\n",
       " 'A6LTP1': 'Cluster 28',\n",
       " 'A6TB35': 'Cluster 28',\n",
       " 'A7GT84': 'Cluster 28',\n",
       " 'A7H4H2': 'Cluster 28',\n",
       " 'A7ZEH3': 'Cluster 28',\n",
       " 'A8AFH5': 'Cluster 28',\n",
       " 'A8ESW7': 'Cluster 28',\n",
       " 'A8H549': 'Cluster 28',\n",
       " 'A8ZUR7': 'Cluster 28',\n",
       " 'A9N999': 'Cluster 28',\n",
       " 'A9VIM8': 'Cluster 28',\n",
       " 'B0CF01': 'Cluster 28',\n",
       " 'B0KTJ6': 'Cluster 28',\n",
       " 'B0U2I5': 'Cluster 28',\n",
       " 'B1XNY9': 'Cluster 28',\n",
       " 'B1YJF7': 'Cluster 28',\n",
       " ...}"
      ]
     },
     "execution_count": 6,
     "metadata": {},
     "output_type": "execute_result"
    }
   ],
   "source": [
    "alphafold_id2cluster_all_levels[thre]"
   ]
  },
  {
   "cell_type": "code",
   "execution_count": 7,
   "metadata": {},
   "outputs": [],
   "source": [
    "max_sample = 100            # 控制生成数据的上限\n",
    "merge_dataset_name_str = 'uniprot_ecreact_cluster_split_merge_dataset_limit_'\n",
    "ec_site_dataset_path = '../dataset/ec_site_dataset/'"
   ]
  },
  {
   "cell_type": "code",
   "execution_count": 8,
   "metadata": {},
   "outputs": [],
   "source": [
    "from tqdm import tqdm\n",
    "def get_dataset(max_sample, ec_site_dataset_path=ec_site_dataset_path,  \n",
    "                merge_dataset_name_str='uniprot_ecreact_merge_dataset_limit_', \n",
    "                sub_set=['train', 'valid', 'test']):\n",
    "    \n",
    "    uniprot_ecreact_merge_dataset_path = os.path.join(ec_site_dataset_path, f'{merge_dataset_name_str}{max_sample}')\n",
    "    dataset = pd.DataFrame()\n",
    "\n",
    "    for dataset_flag in sub_set:\n",
    "        folder_path = os.path.join(uniprot_ecreact_merge_dataset_path, f'{dataset_flag}_dataset')\n",
    "        csv_fnames = os.listdir(folder_path)\n",
    "        pbar = tqdm(\n",
    "            csv_fnames,\n",
    "            total=len(csv_fnames),\n",
    "            desc=f'{dataset_flag}'\n",
    "        )\n",
    "\n",
    "\n",
    "        for fname in pbar:\n",
    "            df = pd.read_csv(os.path.join(folder_path, fname))\n",
    "            # df = df[['alphafolddb-id', 'aa_sequence']]\n",
    "            dataset = pd.concat([dataset, df])\n",
    "            \n",
    "\n",
    "    # info_df = info_df.drop_duplicates(subset=['alphafolddb-id', 'aa_sequence']).reset_index(drop=True)\n",
    "    return dataset"
   ]
  },
  {
   "cell_type": "code",
   "execution_count": 9,
   "metadata": {},
   "outputs": [
    {
     "name": "stderr",
     "output_type": "stream",
     "text": [
      "train: 100%|██████████| 2595/2595 [00:10<00:00, 241.46it/s]\n",
      "test: 100%|██████████| 1/1 [00:00<00:00, 153.84it/s]\n"
     ]
    }
   ],
   "source": [
    "train_dataset = get_dataset(max_sample, ec_site_dataset_path=ec_site_dataset_path, merge_dataset_name_str=merge_dataset_name_str, sub_set=['train'])\n",
    "test_dataset = get_dataset(max_sample, ec_site_dataset_path=ec_site_dataset_path, merge_dataset_name_str=merge_dataset_name_str, sub_set=['test'])"
   ]
  },
  {
   "cell_type": "code",
   "execution_count": 10,
   "metadata": {},
   "outputs": [],
   "source": [
    "for thre in threshold:\n",
    "    train_dataset[f'cluster_ther_{str(thre)}'] = train_dataset['alphafolddb-id'].apply(lambda x:alphafold_id2cluster_all_levels[thre][x.replace(';', '')])\n",
    "    test_dataset[f'cluster_ther_{str(thre)}'] = test_dataset['alphafolddb-id'].apply(lambda x:alphafold_id2cluster_all_levels[thre][x.replace(';', '')])"
   ]
  },
  {
   "cell_type": "code",
   "execution_count": 11,
   "metadata": {},
   "outputs": [
    {
     "data": {
      "text/html": [
       "<div>\n",
       "<style scoped>\n",
       "    .dataframe tbody tr th:only-of-type {\n",
       "        vertical-align: middle;\n",
       "    }\n",
       "\n",
       "    .dataframe tbody tr th {\n",
       "        vertical-align: top;\n",
       "    }\n",
       "\n",
       "    .dataframe thead th {\n",
       "        text-align: right;\n",
       "    }\n",
       "</style>\n",
       "<table border=\"1\" class=\"dataframe\">\n",
       "  <thead>\n",
       "    <tr style=\"text-align: right;\">\n",
       "      <th></th>\n",
       "      <th>reaction</th>\n",
       "      <th>ec</th>\n",
       "      <th>pdb-id</th>\n",
       "      <th>alphafolddb-id</th>\n",
       "      <th>aa_sequence</th>\n",
       "      <th>site_labels</th>\n",
       "      <th>site_types</th>\n",
       "      <th>cluster_ther_0.8</th>\n",
       "      <th>cluster_ther_0.6</th>\n",
       "      <th>cluster_ther_0.4</th>\n",
       "    </tr>\n",
       "  </thead>\n",
       "  <tbody>\n",
       "    <tr>\n",
       "      <th>0</th>\n",
       "      <td>Cc1cc2c(cc1C)N(C[C@H](O)[C@H](O)[C@H](O)COP(=O...</td>\n",
       "      <td>1.14.14.140</td>\n",
       "      <td>NaN</td>\n",
       "      <td>P93149;</td>\n",
       "      <td>MEPQLVAVSVLVSALICYFFFRPYFHRYGKNLPPSPFFRLPIIGHM...</td>\n",
       "      <td>[[448]]</td>\n",
       "      <td>[0]</td>\n",
       "      <td>Cluster 6840</td>\n",
       "      <td>Cluster 4164</td>\n",
       "      <td>Cluster 2164</td>\n",
       "    </tr>\n",
       "    <tr>\n",
       "      <th>0</th>\n",
       "      <td>CC(=O)CC(=O)SCCNC(=O)CCNC(=O)[C@H](O)C(C)(C)CO...</td>\n",
       "      <td>1.1.1.36</td>\n",
       "      <td>1UZL;1UZM;1UZN;2NTN;</td>\n",
       "      <td>P9WGT3;</td>\n",
       "      <td>MTATATEGAKPPFVSRSVLVTGGNRGIGLAIAQRLAADGHKVAVTH...</td>\n",
       "      <td>[[25, 27], [47], [61, 62], [90], [153], [157],...</td>\n",
       "      <td>[0, 0, 0, 0, 0, 0, 0, 0, 1, 2]</td>\n",
       "      <td>Cluster 65688</td>\n",
       "      <td>Cluster 37029</td>\n",
       "      <td>Cluster 11185</td>\n",
       "    </tr>\n",
       "    <tr>\n",
       "      <th>1</th>\n",
       "      <td>CC[C@@H](O)CC(=O)SCCNC(=O)CCNC(=O)[C@H](O)C(C)...</td>\n",
       "      <td>1.1.1.36</td>\n",
       "      <td>1UZL;1UZM;1UZN;2NTN;</td>\n",
       "      <td>P9WGT3;</td>\n",
       "      <td>MTATATEGAKPPFVSRSVLVTGGNRGIGLAIAQRLAADGHKVAVTH...</td>\n",
       "      <td>[[25, 27], [47], [61, 62], [90], [153], [157],...</td>\n",
       "      <td>[0, 0, 0, 0, 0, 0, 0, 0, 1, 2]</td>\n",
       "      <td>Cluster 65688</td>\n",
       "      <td>Cluster 37029</td>\n",
       "      <td>Cluster 11185</td>\n",
       "    </tr>\n",
       "    <tr>\n",
       "      <th>2</th>\n",
       "      <td>CC[C@@H](O)CC(=O)SCCNC(=O)CCNC(=O)[C@H](O)C(C)...</td>\n",
       "      <td>1.1.1.36</td>\n",
       "      <td>1UZL;1UZM;1UZN;2NTN;</td>\n",
       "      <td>P9WGT3;</td>\n",
       "      <td>MTATATEGAKPPFVSRSVLVTGGNRGIGLAIAQRLAADGHKVAVTH...</td>\n",
       "      <td>[[25, 27], [47], [61, 62], [90], [153], [157],...</td>\n",
       "      <td>[0, 0, 0, 0, 0, 0, 0, 0, 1, 2]</td>\n",
       "      <td>Cluster 65688</td>\n",
       "      <td>Cluster 37029</td>\n",
       "      <td>Cluster 11185</td>\n",
       "    </tr>\n",
       "    <tr>\n",
       "      <th>3</th>\n",
       "      <td>CC(=O)CC(=O)SCCNC(=O)CCNC(=O)[C@H](O)C(C)(C)CO...</td>\n",
       "      <td>1.1.1.36</td>\n",
       "      <td>1UZL;1UZM;1UZN;2NTN;</td>\n",
       "      <td>P9WGT3;</td>\n",
       "      <td>MTATATEGAKPPFVSRSVLVTGGNRGIGLAIAQRLAADGHKVAVTH...</td>\n",
       "      <td>[[25, 27], [47], [61, 62], [90], [153], [157],...</td>\n",
       "      <td>[0, 0, 0, 0, 0, 0, 0, 0, 1, 2]</td>\n",
       "      <td>Cluster 65688</td>\n",
       "      <td>Cluster 37029</td>\n",
       "      <td>Cluster 11185</td>\n",
       "    </tr>\n",
       "  </tbody>\n",
       "</table>\n",
       "</div>"
      ],
      "text/plain": [
       "                                            reaction           ec  \\\n",
       "0  Cc1cc2c(cc1C)N(C[C@H](O)[C@H](O)[C@H](O)COP(=O...  1.14.14.140   \n",
       "0  CC(=O)CC(=O)SCCNC(=O)CCNC(=O)[C@H](O)C(C)(C)CO...     1.1.1.36   \n",
       "1  CC[C@@H](O)CC(=O)SCCNC(=O)CCNC(=O)[C@H](O)C(C)...     1.1.1.36   \n",
       "2  CC[C@@H](O)CC(=O)SCCNC(=O)CCNC(=O)[C@H](O)C(C)...     1.1.1.36   \n",
       "3  CC(=O)CC(=O)SCCNC(=O)CCNC(=O)[C@H](O)C(C)(C)CO...     1.1.1.36   \n",
       "\n",
       "                 pdb-id alphafolddb-id  \\\n",
       "0                   NaN        P93149;   \n",
       "0  1UZL;1UZM;1UZN;2NTN;        P9WGT3;   \n",
       "1  1UZL;1UZM;1UZN;2NTN;        P9WGT3;   \n",
       "2  1UZL;1UZM;1UZN;2NTN;        P9WGT3;   \n",
       "3  1UZL;1UZM;1UZN;2NTN;        P9WGT3;   \n",
       "\n",
       "                                         aa_sequence  \\\n",
       "0  MEPQLVAVSVLVSALICYFFFRPYFHRYGKNLPPSPFFRLPIIGHM...   \n",
       "0  MTATATEGAKPPFVSRSVLVTGGNRGIGLAIAQRLAADGHKVAVTH...   \n",
       "1  MTATATEGAKPPFVSRSVLVTGGNRGIGLAIAQRLAADGHKVAVTH...   \n",
       "2  MTATATEGAKPPFVSRSVLVTGGNRGIGLAIAQRLAADGHKVAVTH...   \n",
       "3  MTATATEGAKPPFVSRSVLVTGGNRGIGLAIAQRLAADGHKVAVTH...   \n",
       "\n",
       "                                         site_labels  \\\n",
       "0                                            [[448]]   \n",
       "0  [[25, 27], [47], [61, 62], [90], [153], [157],...   \n",
       "1  [[25, 27], [47], [61, 62], [90], [153], [157],...   \n",
       "2  [[25, 27], [47], [61, 62], [90], [153], [157],...   \n",
       "3  [[25, 27], [47], [61, 62], [90], [153], [157],...   \n",
       "\n",
       "                       site_types cluster_ther_0.8 cluster_ther_0.6  \\\n",
       "0                             [0]     Cluster 6840     Cluster 4164   \n",
       "0  [0, 0, 0, 0, 0, 0, 0, 0, 1, 2]    Cluster 65688    Cluster 37029   \n",
       "1  [0, 0, 0, 0, 0, 0, 0, 0, 1, 2]    Cluster 65688    Cluster 37029   \n",
       "2  [0, 0, 0, 0, 0, 0, 0, 0, 1, 2]    Cluster 65688    Cluster 37029   \n",
       "3  [0, 0, 0, 0, 0, 0, 0, 0, 1, 2]    Cluster 65688    Cluster 37029   \n",
       "\n",
       "  cluster_ther_0.4  \n",
       "0     Cluster 2164  \n",
       "0    Cluster 11185  \n",
       "1    Cluster 11185  \n",
       "2    Cluster 11185  \n",
       "3    Cluster 11185  "
      ]
     },
     "execution_count": 11,
     "metadata": {},
     "output_type": "execute_result"
    }
   ],
   "source": [
    "train_dataset.head()"
   ]
  },
  {
   "cell_type": "code",
   "execution_count": 12,
   "metadata": {},
   "outputs": [
    {
     "data": {
      "text/html": [
       "<div>\n",
       "<style scoped>\n",
       "    .dataframe tbody tr th:only-of-type {\n",
       "        vertical-align: middle;\n",
       "    }\n",
       "\n",
       "    .dataframe tbody tr th {\n",
       "        vertical-align: top;\n",
       "    }\n",
       "\n",
       "    .dataframe thead th {\n",
       "        text-align: right;\n",
       "    }\n",
       "</style>\n",
       "<table border=\"1\" class=\"dataframe\">\n",
       "  <thead>\n",
       "    <tr style=\"text-align: right;\">\n",
       "      <th></th>\n",
       "      <th>reaction</th>\n",
       "      <th>ec</th>\n",
       "      <th>pdb-id</th>\n",
       "      <th>alphafolddb-id</th>\n",
       "      <th>aa_sequence</th>\n",
       "      <th>site_labels</th>\n",
       "      <th>site_types</th>\n",
       "      <th>cluster_ther_0.8</th>\n",
       "      <th>cluster_ther_0.6</th>\n",
       "      <th>cluster_ther_0.4</th>\n",
       "    </tr>\n",
       "  </thead>\n",
       "  <tbody>\n",
       "    <tr>\n",
       "      <th>0</th>\n",
       "      <td>Cc1c([N+](=O)[O-])cc([N+](=O)[O-])cc1[N+](=O)[...</td>\n",
       "      <td>1.-.-.-</td>\n",
       "      <td>4JJ0;4JJ3;</td>\n",
       "      <td>A0A1S7LCW6;</td>\n",
       "      <td>MKLKGTTIVALGMLVVAIMVLASMIDLPGSDMSATPAPPDTPRGAP...</td>\n",
       "      <td>[[206], [212], [215], [216], [246], [252], [25...</td>\n",
       "      <td>[0, 0, 0, 0, 0, 0, 0, 0]</td>\n",
       "      <td>Cluster 64304</td>\n",
       "      <td>Cluster 36236</td>\n",
       "      <td>Cluster 14029</td>\n",
       "    </tr>\n",
       "    <tr>\n",
       "      <th>1</th>\n",
       "      <td>NC(=O)C1=CN([C@@H]2O[C@H](COP(=O)([O-])OP(=O)(...</td>\n",
       "      <td>1.-.-.-</td>\n",
       "      <td>1E5D;</td>\n",
       "      <td>Q9F0J6;</td>\n",
       "      <td>MQATKIIDGFHLVGAIDWNSRDFHGYTLSPMGTTYNAYLVEDEKTT...</td>\n",
       "      <td>[[79], [81], [83], [146], [165], [165], [226]]</td>\n",
       "      <td>[0, 0, 0, 0, 0, 0, 0]</td>\n",
       "      <td>Cluster 27949</td>\n",
       "      <td>Cluster 15695</td>\n",
       "      <td>Cluster 7204</td>\n",
       "    </tr>\n",
       "    <tr>\n",
       "      <th>2</th>\n",
       "      <td>NC(=O)C1=CN([C@@H]2O[C@H](COP(=O)([O-])OP(=O)(...</td>\n",
       "      <td>1.-.-.-</td>\n",
       "      <td>7LO1;</td>\n",
       "      <td>Q5BEJ7;</td>\n",
       "      <td>MADHEQEQEPLSIAIIGGGIIGLMTALGLLHRNIGKVTIYERASAW...</td>\n",
       "      <td>[[41, 42], [245, 247], [320], [330, 334]]</td>\n",
       "      <td>[0, 0, 0, 0]</td>\n",
       "      <td>Cluster 20095</td>\n",
       "      <td>Cluster 11592</td>\n",
       "      <td>Cluster 3039</td>\n",
       "    </tr>\n",
       "    <tr>\n",
       "      <th>3</th>\n",
       "      <td>NC(=O)c1ccc[n+]([C@@H]2O[C@H](COP(=O)([O-])OP(...</td>\n",
       "      <td>1.-.-.-</td>\n",
       "      <td>5EZ7;</td>\n",
       "      <td>Q9HUH4;</td>\n",
       "      <td>MPQALSTDILIVGGGIAGLWLNARLRRAGYATVLVESASLGGGQSV...</td>\n",
       "      <td>[[17], [36], [44, 45], [49, 51], [346, 347]]</td>\n",
       "      <td>[0, 0, 0, 0, 0]</td>\n",
       "      <td>Cluster 30288</td>\n",
       "      <td>Cluster 17020</td>\n",
       "      <td>Cluster 7747</td>\n",
       "    </tr>\n",
       "    <tr>\n",
       "      <th>4</th>\n",
       "      <td>NC(=O)c1ccc[n+]([C@@H]2O[C@H](COP(=O)([O-])OP(...</td>\n",
       "      <td>1.-.-.-</td>\n",
       "      <td>3BEM;</td>\n",
       "      <td>P96692;</td>\n",
       "      <td>MAEFTHLVNERRSASNFLSGHPITKEDLNEMFELVALAPSAFNLQH...</td>\n",
       "      <td>[[11, 13], [68, 70], [157, 158], [193], [196]]</td>\n",
       "      <td>[0, 0, 0, 0, 0]</td>\n",
       "      <td>Cluster 77970</td>\n",
       "      <td>Cluster 43945</td>\n",
       "      <td>Cluster 17516</td>\n",
       "    </tr>\n",
       "  </tbody>\n",
       "</table>\n",
       "</div>"
      ],
      "text/plain": [
       "                                            reaction       ec      pdb-id  \\\n",
       "0  Cc1c([N+](=O)[O-])cc([N+](=O)[O-])cc1[N+](=O)[...  1.-.-.-  4JJ0;4JJ3;   \n",
       "1  NC(=O)C1=CN([C@@H]2O[C@H](COP(=O)([O-])OP(=O)(...  1.-.-.-       1E5D;   \n",
       "2  NC(=O)C1=CN([C@@H]2O[C@H](COP(=O)([O-])OP(=O)(...  1.-.-.-       7LO1;   \n",
       "3  NC(=O)c1ccc[n+]([C@@H]2O[C@H](COP(=O)([O-])OP(...  1.-.-.-       5EZ7;   \n",
       "4  NC(=O)c1ccc[n+]([C@@H]2O[C@H](COP(=O)([O-])OP(...  1.-.-.-       3BEM;   \n",
       "\n",
       "  alphafolddb-id                                        aa_sequence  \\\n",
       "0    A0A1S7LCW6;  MKLKGTTIVALGMLVVAIMVLASMIDLPGSDMSATPAPPDTPRGAP...   \n",
       "1        Q9F0J6;  MQATKIIDGFHLVGAIDWNSRDFHGYTLSPMGTTYNAYLVEDEKTT...   \n",
       "2        Q5BEJ7;  MADHEQEQEPLSIAIIGGGIIGLMTALGLLHRNIGKVTIYERASAW...   \n",
       "3        Q9HUH4;  MPQALSTDILIVGGGIAGLWLNARLRRAGYATVLVESASLGGGQSV...   \n",
       "4        P96692;  MAEFTHLVNERRSASNFLSGHPITKEDLNEMFELVALAPSAFNLQH...   \n",
       "\n",
       "                                         site_labels  \\\n",
       "0  [[206], [212], [215], [216], [246], [252], [25...   \n",
       "1     [[79], [81], [83], [146], [165], [165], [226]]   \n",
       "2          [[41, 42], [245, 247], [320], [330, 334]]   \n",
       "3       [[17], [36], [44, 45], [49, 51], [346, 347]]   \n",
       "4     [[11, 13], [68, 70], [157, 158], [193], [196]]   \n",
       "\n",
       "                 site_types cluster_ther_0.8 cluster_ther_0.6 cluster_ther_0.4  \n",
       "0  [0, 0, 0, 0, 0, 0, 0, 0]    Cluster 64304    Cluster 36236    Cluster 14029  \n",
       "1     [0, 0, 0, 0, 0, 0, 0]    Cluster 27949    Cluster 15695     Cluster 7204  \n",
       "2              [0, 0, 0, 0]    Cluster 20095    Cluster 11592     Cluster 3039  \n",
       "3           [0, 0, 0, 0, 0]    Cluster 30288    Cluster 17020     Cluster 7747  \n",
       "4           [0, 0, 0, 0, 0]    Cluster 77970    Cluster 43945    Cluster 17516  "
      ]
     },
     "execution_count": 12,
     "metadata": {},
     "output_type": "execute_result"
    }
   ],
   "source": [
    "test_dataset.head()"
   ]
  },
  {
   "cell_type": "code",
   "execution_count": 13,
   "metadata": {},
   "outputs": [],
   "source": [
    "similarity_index_levels = ['0~40%', '40~60%', '60~80%']\n",
    "def get_similarity_index_level(level1_cls, level2_cls, level3_cls, train_dataset):\n",
    "\n",
    "    if (level3_cls not in train_dataset['cluster_ther_0.4'].tolist()):  # 在0.4阈值下与训练集没有相同的cluster，则代表相似度小于0.4\n",
    "        return similarity_index_levels[0]  # 0~0.4\n",
    "    else: # 在0.4阈值下，与训练集有相同的cluster，则相似度大于0.4\n",
    "        if (level2_cls not in train_dataset['cluster_ther_0.6'].tolist()): # 在0.6阈值下与训练集没有相同的cluster，则代表相似度小于0.6\n",
    "            return similarity_index_levels[1] # 0.4~0.6\n",
    "        else:\n",
    "            return similarity_index_levels[2] # 0.6~0.8"
   ]
  },
  {
   "cell_type": "code",
   "execution_count": 14,
   "metadata": {},
   "outputs": [],
   "source": [
    "test_dataset['similarity_index_level'] = test_dataset.apply(lambda row: get_similarity_index_level(row['cluster_ther_0.8'], row['cluster_ther_0.6'], row['cluster_ther_0.4'], train_dataset), axis=1)"
   ]
  },
  {
   "cell_type": "code",
   "execution_count": 15,
   "metadata": {},
   "outputs": [
    {
     "data": {
      "image/png": "[encoded data removed]",
      "text/plain": [
       "<Figure size 1000x600 with 1 Axes>"
      ]
     },
     "metadata": {},
     "output_type": "display_data"
    }
   ],
   "source": [
    "import matplotlib.pyplot as plt\n",
    "\n",
    "\n",
    "thresholds = similarity_index_levels\n",
    "sample_counts = [(test_dataset['similarity_index_level'] == x).sum() for x in thresholds]\n",
    "\n",
    "\n",
    "\n",
    "colors = ['#3498db', '#2ecc71', '#e74c3c']  \n",
    "\n",
    "\n",
    "plt.figure(figsize=(10, 6)) \n",
    "plt.bar(thresholds, sample_counts, color=colors)\n",
    "ax = plt.gca()  \n",
    "ax.spines['top'].set_visible(False)  \n",
    "ax.spines['right'].set_visible(False) \n",
    "\n",
    "plt.title('Sample Counts by Similarity Index Level')\n",
    "plt.xlabel('Similarity Index Level')\n",
    "plt.ylabel('Number of Test Dataset Samples')\n",
    "\n",
    "\n",
    "for i, count in enumerate(sample_counts):\n",
    "    plt.text(i, count + 5, str(count), ha='center', va='bottom')\n",
    "\n",
    "\n",
    "plt.show()\n"
   ]
  },
  {
   "cell_type": "code",
   "execution_count": 16,
   "metadata": {},
   "outputs": [],
   "source": [
    "test_dataset.to_csv(os.path.join(ec_site_dataset_path, merge_dataset_name_str+f'{max_sample}', 'test_dataset_with_similarity_idx.csv'), index=False)"
   ]
  },
  {
   "cell_type": "code",
   "execution_count": 17,
   "metadata": {},
   "outputs": [
    {
     "data": {
      "text/plain": [
       "defaultdict(list,\n",
       "            {'Cluster 0': ['Q5TA45',\n",
       "              'Q3MHC2',\n",
       "              'Q9CWS4',\n",
       "              'Q503E1',\n",
       "              'Q2YDM2',\n",
       "              'Q5ZIH0',\n",
       "              'Q5NVE6'],\n",
       "             'Cluster 1': ['O43272', 'Q9WU79', 'Q148G5'],\n",
       "             'Cluster 2': ['Q8NHQ9', 'Q6ZPL9', 'Q5ZLN8'],\n",
       "             'Cluster 3': ['Q9M2Z3'],\n",
       "             'Cluster 4': ['Q9VS60'],\n",
       "             'Cluster 5': ['P41833'],\n",
       "             'Cluster 6': ['Q10KY3'],\n",
       "             'Cluster 7': ['Q20624', 'Q20624'],\n",
       "             'Cluster 8': ['Q93W95'],\n",
       "             'Cluster 9': ['P23219', 'O62664', 'P05979'],\n",
       "             'Cluster 10': ['P96890', 'P46392'],\n",
       "             'Cluster 11': ['T1RR71', 'T1RRL8', 'T1RRI8'],\n",
       "             'Cluster 12': ['Q6AZT2'],\n",
       "             'Cluster 13': ['V5NC32', 'Q3L243', 'Q0R4L2'],\n",
       "             'Cluster 14': ['Q5W915', 'Q09WE7'],\n",
       "             'Cluster 15': ['Q8J2T0'],\n",
       "             'Cluster 16': ['P0CI73', 'E0U070', 'Q65P46'],\n",
       "             'Cluster 17': ['P0DI76'],\n",
       "             'Cluster 18': ['O65435'],\n",
       "             'Cluster 19': ['P42826'],\n",
       "             'Cluster 20': ['O53521', 'B2HGV4', 'Q7TYX8'],\n",
       "             'Cluster 21': ['Q3HTN2', 'P22028', 'Q3HTN1'],\n",
       "             'Cluster 22': ['Q976G4'],\n",
       "             'Cluster 23': ['O47881'],\n",
       "             'Cluster 24': ['Q6NRG5'],\n",
       "             'Cluster 25': ['Q9PVK7'],\n",
       "             'Cluster 26': ['O42644'],\n",
       "             'Cluster 27': ['O94634'],\n",
       "             'Cluster 28': ['Q8L5K4'],\n",
       "             'Cluster 29': ['Q9LZA4', 'Q84TJ0'],\n",
       "             'Cluster 30': ['Q94II3'],\n",
       "             'Cluster 31': ['A3NRK2',\n",
       "              'A9AFC7',\n",
       "              'Q3JVY8',\n",
       "              'A4JHR9',\n",
       "              'Q145N3',\n",
       "              'B2JCV5',\n",
       "              'B2SX42',\n",
       "              'B4EBD1',\n",
       "              'Q0BBZ1',\n",
       "              'Q1BTP1',\n",
       "              'Q2T132',\n",
       "              'Q39D20',\n",
       "              'B1YWF2',\n",
       "              'A3N5V6'],\n",
       "             'Cluster 32': ['A4J2J2'],\n",
       "             'Cluster 33': ['Q5L9I8', 'A6L3E7', 'Q64PS6', 'Q8A608'],\n",
       "             'Cluster 34': ['Q6HPL2', 'Q73F49', 'Q81J01', 'Q81VN5'],\n",
       "             'Cluster 35': ['Q8ETM5'],\n",
       "             'Cluster 36': ['Q8R639'],\n",
       "             'Cluster 37': ['Q8XIS6', 'Q0TNS2'],\n",
       "             'Cluster 38': ['Q9KG45'],\n",
       "             'Cluster 39': ['A0RMN5'],\n",
       "             'Cluster 40': ['P38038',\n",
       "              'P38039',\n",
       "              'A8A3P5',\n",
       "              'A9MF16',\n",
       "              'Q5PEH7',\n",
       "              'Q8FEI7',\n",
       "              'Q8X7U1',\n",
       "              'Q8Z458',\n",
       "              'A7MJ63',\n",
       "              'B1IU77',\n",
       "              'Q0T1I8',\n",
       "              'Q0TEA2',\n",
       "              'Q3YY94',\n",
       "              'Q31XM4',\n",
       "              'A6TD49',\n",
       "              'Q32CG3',\n",
       "              'Q57KH7',\n",
       "              'A9N2E6'],\n",
       "             'Cluster 41': ['A8GRF6',\n",
       "              'Q4UKS2',\n",
       "              'Q68X95',\n",
       "              'A8GMT1',\n",
       "              'A8GW16',\n",
       "              'C3PMX3',\n",
       "              'Q92IQ1',\n",
       "              'C4K153',\n",
       "              'A8EY28',\n",
       "              'Q9ZDQ1'],\n",
       "             'Cluster 42': ['A8M218'],\n",
       "             'Cluster 43': ['B9M4U5',\n",
       "              'B3E9R0',\n",
       "              'C6DZ67',\n",
       "              'A1ARG8',\n",
       "              'A5G4G3',\n",
       "              'P60789',\n",
       "              'Q39US7',\n",
       "              'B5EB36'],\n",
       "             'Cluster 44': ['B5EQB5'],\n",
       "             'Cluster 45': ['B6IUG3'],\n",
       "             'Cluster 46': ['B9LDY3', 'B8G6F7'],\n",
       "             'Cluster 47': ['C0R2K4', 'Q73HX6', 'Q5GTS0', 'B3CPJ5'],\n",
       "             'Cluster 48': ['O67618'],\n",
       "             'Cluster 49': ['Q2W0F9'],\n",
       "             'Cluster 50': ['Q3ZJ89'],\n",
       "             'Cluster 51': ['Q4JVF2', 'Q8FT19', 'C4LIW2'],\n",
       "             'Cluster 52': ['Q6MTR6', 'Q2SSF7', 'Q6F0Z2'],\n",
       "             'Cluster 53': ['Q61419',\n",
       "              'Q8MJC6',\n",
       "              'O19074',\n",
       "              'Q8MJD0',\n",
       "              'Q9WV23',\n",
       "              'O97598',\n",
       "              'Q8MJC8',\n",
       "              'Q9TUJ2'],\n",
       "             'Cluster 54': ['Q9KNN1'],\n",
       "             'Cluster 55': ['A1U2V8'],\n",
       "             'Cluster 56': ['B2G6X9'],\n",
       "             'Cluster 57': ['Q21MA4', 'C5BPP4'],\n",
       "             'Cluster 58': ['Q02093'],\n",
       "             'Cluster 59': ['Q4UKE2'],\n",
       "             'Cluster 60': ['Q5L3P0'],\n",
       "             'Cluster 61': ['Q7N8L6'],\n",
       "             'Cluster 62': ['Q7W2P4', 'Q7W2P4'],\n",
       "             'Cluster 63': ['Q8F500'],\n",
       "             'Cluster 64': ['Q9HPZ2'],\n",
       "             'Cluster 65': ['A6W6U1'],\n",
       "             'Cluster 66': ['B3DX01'],\n",
       "             'Cluster 67': ['Q256B8', 'Q821M4'],\n",
       "             'Cluster 68': ['Q31LT0', 'Q5N044'],\n",
       "             'Cluster 69': ['Q59661'],\n",
       "             'Cluster 70': ['Q5FUC2'],\n",
       "             'Cluster 71': ['Q5WLG7'],\n",
       "             'Cluster 72': ['Q8EWZ9'],\n",
       "             'Cluster 73': ['Q9L9G0'],\n",
       "             'Cluster 74': ['Q1QDV6', 'Q4FUV9', 'A5WCD6'],\n",
       "             'Cluster 75': ['A9BP37'],\n",
       "             'Cluster 76': ['A9GWZ4'],\n",
       "             'Cluster 77': ['B3PLU0'],\n",
       "             'Cluster 78': ['B3R057'],\n",
       "             'Cluster 79': ['P61708'],\n",
       "             'Cluster 80': ['Q1AVV0'],\n",
       "             'Cluster 81': ['Q1AWB4'],\n",
       "             'Cluster 82': ['Q26228'],\n",
       "             'Cluster 83': ['Q2RHW1'],\n",
       "             'Cluster 84': ['Q492C9'],\n",
       "             'Cluster 85': ['Q4P0N0'],\n",
       "             'Cluster 86': ['Q96UL8'],\n",
       "             'Cluster 87': ['Q9Z755'],\n",
       "             'Cluster 88': ['W7NDP3'],\n",
       "             'Cluster 89': ['A0A140JWS7', 'A0A0E3D8M4'],\n",
       "             'Cluster 90': ['A3PBN3', 'A8G3M4', 'Q31C25', 'A2BPZ0'],\n",
       "             'Cluster 91': ['B0C230'],\n",
       "             'Cluster 92': ['Q16CI8'],\n",
       "             'Cluster 93': ['Q1M901', 'Q89QG3', 'A4YXM5', 'A5EGE2', 'Q11JE6'],\n",
       "             'Cluster 94': ['Q35099'],\n",
       "             'Cluster 95': ['Q7V2H0', 'A2BVH0'],\n",
       "             'Cluster 96': ['B2UDW0', 'Q8Y2P8'],\n",
       "             'Cluster 97': ['Q9A347'],\n",
       "             'Cluster 98': ['Q84PN8',\n",
       "              'Q70AT7',\n",
       "              'B6DZC8',\n",
       "              'Q84LA1',\n",
       "              'B6DZD0',\n",
       "              'B6DZD1',\n",
       "              'B6DXP5',\n",
       "              'B6DZD2'],\n",
       "             'Cluster 99': ['B7K1H5', 'B7K9K1'],\n",
       "             'Cluster 100': ['P29968'],\n",
       "             'Cluster 101': ['P75448'],\n",
       "             'Cluster 102': ['Q92YE0'],\n",
       "             'Cluster 103': ['A5GSC0'],\n",
       "             'Cluster 104': ['A9BED0'],\n",
       "             'Cluster 105': ['O95256'],\n",
       "             'Cluster 106': ['Q9Y2R4', 'Q99PT0', 'A5D7C1', 'Q8K301'],\n",
       "             'Cluster 107': ['Q5D1E8', 'Q5D1E7', 'A6QQJ8', 'A0JPN4'],\n",
       "             'Cluster 108': ['O80528'],\n",
       "             'Cluster 109': ['P60785',\n",
       "              'A3D1V4',\n",
       "              'A3QBS5',\n",
       "              'A4TKY0',\n",
       "              'A8FSD4',\n",
       "              'B0TIV5',\n",
       "              'B0USR9',\n",
       "              'B1JRC5',\n",
       "              'B4F049',\n",
       "              'B7MYK1',\n",
       "              'B8CQJ7',\n",
       "              'B8EBQ4',\n",
       "              'C5BAI0',\n",
       "              'Q0HSI9',\n",
       "              'Q5PNC0',\n",
       "              'Q65VN2',\n",
       "              'Q7MHN6',\n",
       "              'Q8EH83',\n",
       "              'A1RMC9',\n",
       "              'A1SSM6',\n",
       "              'A9MGX5',\n",
       "              'B1KI55',\n",
       "              'B5FRC7',\n",
       "              'C3LR06',\n",
       "              'C4LBZ6',\n",
       "              'C6DC02',\n",
       "              'P43729',\n",
       "              'Q2NS11',\n",
       "              'Q3YYU7',\n",
       "              'Q4QPM8',\n",
       "              'A1JKK1',\n",
       "              'A4SRD4',\n",
       "              'A8GI27',\n",
       "              'A8H1C5',\n",
       "              'B2VI44',\n",
       "              'B4RVA8',\n",
       "              'B5FAH2',\n",
       "              'B5XNG8',\n",
       "              'B6EKN1',\n",
       "              'C0PYG5',\n",
       "              'Q6D217',\n",
       "              'Q87LN7',\n",
       "              'A0KGF0',\n",
       "              'A4WDE0',\n",
       "              'A6VLV6',\n",
       "              'A7MZB0',\n",
       "              'B7VK81',\n",
       "              'P57806',\n",
       "              'Q32CV2',\n",
       "              'Q5E312',\n",
       "              'Q6LMS0',\n",
       "              'Q7VL73',\n",
       "              'A0KZN4',\n",
       "              'A4Y4K2',\n",
       "              'A6TCI3',\n",
       "              'A7MH13',\n",
       "              'A8AD16',\n",
       "              'B5RD51',\n",
       "              'B6I5E3',\n",
       "              'B7M8I2',\n",
       "              'C4K3Z1',\n",
       "              'Q7N1X3'],\n",
       "             'Cluster 110': ['Q7KRY6'],\n",
       "             'Cluster 111': ['A0A0N9E2K8'],\n",
       "             'Cluster 112': ['Q5U4C9', 'Q5ZIU3'],\n",
       "             'Cluster 113': ['Q8L743', 'Q9FY99'],\n",
       "             'Cluster 114': ['Q9LJL9'],\n",
       "             'Cluster 115': ['Q9LPD2'],\n",
       "             'Cluster 116': ['Q9STY4', 'Q9STY4'],\n",
       "             'Cluster 117': ['Q64285', 'Q64285', 'Q64285'],\n",
       "             'Cluster 118': ['Q6F3A6'],\n",
       "             'Cluster 119': ['Q10988'],\n",
       "             'Cluster 120': ['Q8TGH6'],\n",
       "             'Cluster 121': ['Q9I060'],\n",
       "             'Cluster 122': ['Q2M405'],\n",
       "             'Cluster 123': ['Q3KTM2', 'Q3KTM2'],\n",
       "             'Cluster 124': ['Q8NE62', 'Q6UPE0', 'Q8BJ64'],\n",
       "             'Cluster 125': ['Q84MA1'],\n",
       "             'Cluster 126': ['Q9LM59'],\n",
       "             'Cluster 127': ['Q9CXE0'],\n",
       "             'Cluster 128': ['P15706', 'Q27673', 'P23223'],\n",
       "             'Cluster 129': ['P23030'],\n",
       "             'Cluster 130': ['A8Q2D1'],\n",
       "             'Cluster 131': ['P0A3U0', 'P0A3U0'],\n",
       "             'Cluster 132': ['Q6LWM9'],\n",
       "             'Cluster 133': ['C0JRZ9'],\n",
       "             'Cluster 134': ['Q10GB1', 'Q2QMH1', 'A2ZMH2'],\n",
       "             'Cluster 135': ['Q339K6'],\n",
       "             'Cluster 136': ['A4WX88',\n",
       "              'Q1GIV5',\n",
       "              'Q28LR4',\n",
       "              'Q16BA3',\n",
       "              'Q5LUS0',\n",
       "              'A8LR11'],\n",
       "             'Cluster 137': ['B3R0R7'],\n",
       "             'Cluster 138': ['B7GPT0', 'Q8G863'],\n",
       "             'Cluster 139': ['C5BRN3',\n",
       "              'Q21IH3',\n",
       "              'C1DQS0',\n",
       "              'B7UYX5',\n",
       "              'A4VIX2',\n",
       "              'A6VAK9',\n",
       "              'B3PLG4',\n",
       "              'P26843'],\n",
       "             'Cluster 140': ['O08353'],\n",
       "             'Cluster 141': ['P44894'],\n",
       "             'Cluster 142': ['Q2YQ73', 'Q8G0T8', 'Q8YH20'],\n",
       "             'Cluster 143': ['Q3A445'],\n",
       "             'Cluster 144': ['Q47IE0', 'Q5P280', 'A1KAJ9'],\n",
       "             'Cluster 145': ['Q5N5I8', 'B8HXQ8', 'Q31NM6'],\n",
       "             'Cluster 146': ['Q750F8'],\n",
       "             'Cluster 147': ['Q9PLL6', 'O84716'],\n",
       "             'Cluster 148': ['A0JZP6'],\n",
       "             'Cluster 149': ['A1U1C2'],\n",
       "             'Cluster 150': ['A4G8X1', 'A2SEP2', 'B1XWR8'],\n",
       "             'Cluster 151': ['A4XSC1',\n",
       "              'A5W8F4',\n",
       "              'B0KV29',\n",
       "              'C3K6G8',\n",
       "              'Q4KHT3',\n",
       "              'Q87XF8',\n",
       "              'B1J4D8',\n",
       "              'Q1I5V6',\n",
       "              'Q48EV0',\n",
       "              'Q3KHM1',\n",
       "              'Q4ZPD8',\n",
       "              'Q88MY7'],\n",
       "             'Cluster 152': ['A6Q1Z6'],\n",
       "             'Cluster 153': ['A1V6B9',\n",
       "              'B1YVM2',\n",
       "              'B2JFK0',\n",
       "              'Q0K8N0',\n",
       "              'Q1LKM8',\n",
       "              'A4G6S1',\n",
       "              'A4JCQ9',\n",
       "              'B2U978',\n",
       "              'Q39I75',\n",
       "              'A6SXR0',\n",
       "              'Q2SXT6',\n",
       "              'Q47EG0',\n",
       "              'Q8Y0I4',\n",
       "              'A0K5V7',\n",
       "              'B2SZV7',\n",
       "              'B3R202',\n",
       "              'Q13VM6',\n",
       "              'Q46Z15',\n",
       "              'Q2KWY3'],\n",
       "             'Cluster 154': ['B2V351', 'A6LTP1', 'B2TN05'],\n",
       "             'Cluster 155': ['A0JXA1', 'B8H9C7'],\n",
       "             'Cluster 156': ['O25225', 'Q9ZLZ3'],\n",
       "             'Cluster 157': ['P30311', 'P30310', 'P30308', 'P30309'],\n",
       "             'Cluster 158': ['P60930'],\n",
       "             'Cluster 159': ['B7JX16', 'P73851'],\n",
       "             'Cluster 160': ['Q02075'],\n",
       "             'Cluster 161': ['Q0AWL9'],\n",
       "             'Cluster 162': ['Q2SL35'],\n",
       "             'Cluster 163': ['Q607I4'],\n",
       "             'Cluster 164': ['Q6C5P9'],\n",
       "             'Cluster 165': ['Q7NAT2'],\n",
       "             'Cluster 166': ['Q174R2', 'B0W3L6'],\n",
       "             'Cluster 167': ['B1AIW2', 'B5ZBD4'],\n",
       "             'Cluster 168': ['O78411'],\n",
       "             'Cluster 169': ['P0DO29'],\n",
       "             'Cluster 170': ['Q5F9P9',\n",
       "              'Q9JV65',\n",
       "              'Q9K055',\n",
       "              'A9M3J8',\n",
       "              'C1D7L2',\n",
       "              'Q3SH47',\n",
       "              'A1KT27'],\n",
       "             'Cluster 171': ['Q5PAX8', 'Q2GJV7'],\n",
       "             'Cluster 172': ['Q6ME91'],\n",
       "             'Cluster 173': ['Q6N1Y7', 'Q1QH37'],\n",
       "             'Cluster 174': ['A8G9X6'],\n",
       "             'Cluster 175': ['B4U6M2'],\n",
       "             'Cluster 176': ['O47430', 'O79422'],\n",
       "             'Cluster 177': ['Q0VP16'],\n",
       "             'Cluster 178': ['Q5SBP2', 'Q5SBP1'],\n",
       "             'Cluster 179': ['Q7VRQ8'],\n",
       "             'Cluster 180': ['A0A3G9HB50'],\n",
       "             'Cluster 181': ['Q82F68', 'Q9F323', 'B1VQW8'],\n",
       "             'Cluster 182': ['P21889',\n",
       "              'A1AC27',\n",
       "              'A1JRL1',\n",
       "              'A7MEB6',\n",
       "              'A8GFJ2',\n",
       "              'A9MND2',\n",
       "              'A9MUB9',\n",
       "              'B5FSN0',\n",
       "              'B6IBU5',\n",
       "              'B7LPH8',\n",
       "              'Q1C820',\n",
       "              'Q57N96',\n",
       "              'Q8XCI7',\n",
       "              'A4WBM3',\n",
       "              'C0Q2E8',\n",
       "              'Q7UAE6',\n",
       "              'Q8Z5W1',\n",
       "              'B1JLL5',\n",
       "              'B5XQ00',\n",
       "              'B7USP3',\n",
       "              'C6DFE7',\n",
       "              'Q2NTJ3',\n",
       "              'Q32H95',\n",
       "              'Q5PMZ6',\n",
       "              'A4SPN5',\n",
       "              'A6TB35',\n",
       "              'A8AFH5',\n",
       "              'B5F3I9',\n",
       "              'B7NS52',\n",
       "              'C4LBN4',\n",
       "              'Q0T3U0',\n",
       "              'Q7MB41',\n",
       "              'B2VJ90',\n",
       "              'B5YR11',\n",
       "              'C5B9S7',\n",
       "              'Q3Z2M4',\n",
       "              'Q6D497',\n",
       "              'Q8ZNV2'],\n",
       "             'Cluster 183': ['Q8D307'],\n",
       "             'Cluster 184': ['A5IYS0', 'Q8GCP5'],\n",
       "             'Cluster 185': ['Q95NZ0'],\n",
       "             'Cluster 186': ['Q54CQ0'],\n",
       "             'Cluster 187': ['B1KTS4', 'A7GA53', 'C3KZB6', 'A7FQU9'],\n",
       "             'Cluster 188': ['B8DTM3', 'Q8G3N0'],\n",
       "             'Cluster 189': ['Q4UMD4', 'Q68WC5', 'Q9ZCU7', 'Q92H24'],\n",
       "             'Cluster 190': ['A2C7N5', 'Q7TUU4'],\n",
       "             'Cluster 191': ['Q8TX47'],\n",
       "             'Cluster 192': ['O47815'],\n",
       "             'Cluster 193': ['Q9XD73'],\n",
       "             'Cluster 194': ['Q9Y232', 'Q6AYK9', 'Q6AYK9', 'Q9WTK2', 'Q9WTK2'],\n",
       "             'Cluster 195': ['Q8TE04', 'Q8K4K6'],\n",
       "             'Cluster 196': ['Q6IS24', 'Q7TT15'],\n",
       "             'Cluster 197': ['Q9VXJ0', 'Q9VXJ0'],\n",
       "             'Cluster 198': ['Q9UHB4', 'A2AI05'],\n",
       "             'Cluster 199': ['P0AFA2'],\n",
       "             'Cluster 200': ['Q84WV0'],\n",
       "             'Cluster 201': ['Q9M3B0'],\n",
       "             'Cluster 202': ['Q9QZ67'],\n",
       "             'Cluster 203': ['Q0JDC5', 'Q01IS7'],\n",
       "             'Cluster 204': ['Q9LRZ6'],\n",
       "             'Cluster 205': ['P62205', 'P70032'],\n",
       "             'Cluster 206': ['Q866Y3'],\n",
       "             'Cluster 207': ['O81192', 'O81192', 'O81192'],\n",
       "             'Cluster 208': ['P38679'],\n",
       "             'Cluster 209': ['Q9C8E3'],\n",
       "             'Cluster 210': ['Q8R0Z2'],\n",
       "             'Cluster 211': ['Q10SU5'],\n",
       "             'Cluster 212': ['Q6K669', 'Q6K669'],\n",
       "             'Cluster 213': ['Q6NY98', 'Q6NY98'],\n",
       "             'Cluster 214': ['Q9LUC3'],\n",
       "             'Cluster 215': ['V3TQ67', 'P20922'],\n",
       "             'Cluster 216': ['O23651'],\n",
       "             'Cluster 217': ['Q8RU95'],\n",
       "             'Cluster 218': ['Q9SGE9'],\n",
       "             'Cluster 219': ['Q55FN1'],\n",
       "             'Cluster 220': ['Q5ZE07'],\n",
       "             'Cluster 221': ['A1W018',\n",
       "              'A7GZW3',\n",
       "              'A7H311',\n",
       "              'B9KD01',\n",
       "              'A0RQX4',\n",
       "              'A7I1F0',\n",
       "              'A7ZCJ3',\n",
       "              'Q5HU70'],\n",
       "             'Cluster 222': ['A2BTS0', 'A3PFH7', 'A8G7J3', 'Q7UZH8', 'Q317V3'],\n",
       "             'Cluster 223': ['A6H1S4', 'A0M6M2', 'A5FLU8'],\n",
       "             'Cluster 224': ['C0R5S3', 'B3CPV1', 'Q73HR8', 'Q5GRW9'],\n",
       "             'Cluster 225': ['O57981', 'Q9V249'],\n",
       "             'Cluster 226': ['O60162'],\n",
       "             'Cluster 227': ['P75498', 'P47384'],\n",
       "             'Cluster 228': ['Q15R31', 'Q3IDL4'],\n",
       "             'Cluster 229': ['Q2GGA6', 'Q5FHQ1', 'Q3YSC2', 'Q5HBH4'],\n",
       "             'Cluster 230': ['Q2GLD8'],\n",
       "             'Cluster 231': ['Q46LU3', 'A2C165'],\n",
       "             'Cluster 232': ['Q5FQ60'],\n",
       "             'Cluster 233': ['Q6KHP1'],\n",
       "             'Cluster 234': ['Q9PMT4'],\n",
       "             'Cluster 235': ['A0L631'],\n",
       "             'Cluster 236': ['A9A0N0'],\n",
       "             'Cluster 237': ['Q0V6Q8'],\n",
       "             'Cluster 238': ['Q4A8T9', 'Q4AAQ8', 'Q9ZHZ8'],\n",
       "             'Cluster 239': ['Q8U4D1'],\n",
       "             'Cluster 240': ['A0QI91',\n",
       "              'A4TBU4',\n",
       "              'A0QWN3',\n",
       "              'P9WFW3',\n",
       "              'A3PZ05',\n",
       "              'B8ZUJ3',\n",
       "              'Q741M7',\n",
       "              'A1UFE5',\n",
       "              'B1MCH3'],\n",
       "             'Cluster 241': ['A4YD25'],\n",
       "             'Cluster 242': ['A6WCG5'],\n",
       "             'Cluster 243': ['A9KIA6'],\n",
       "             'Cluster 244': ['A3D477',\n",
       "              'Q0HIZ5',\n",
       "              'A0KWL5',\n",
       "              'A1S6P2',\n",
       "              'A3QEP7',\n",
       "              'Q0HUY7',\n",
       "              'A1RJQ6',\n",
       "              'A8FUW6',\n",
       "              'A9L3I1',\n",
       "              'B0TSA3',\n",
       "              'B1KHG7',\n",
       "              'B8EA71',\n",
       "              'A8H549',\n",
       "              'B8CNX7',\n",
       "              'Q12N06',\n",
       "              'Q8EEE9',\n",
       "              'A4Y6S5',\n",
       "              'Q081N5'],\n",
       "             'Cluster 245': ['B7KB89', 'B0JNW9', 'B1WRQ9'],\n",
       "             'Cluster 246': ['C4ZI12'],\n",
       "             'Cluster 247': ['P0CP64', 'Q873N0'],\n",
       "             'Cluster 248': ['P27138'],\n",
       "             'Cluster 249': ['Q3Z8K0', 'Q3ZX84', 'A5FRE3'],\n",
       "             'Cluster 250': ['Q7UE01'],\n",
       "             'Cluster 251': ['A0LI00'],\n",
       "             'Cluster 252': ['A6TH46'],\n",
       "             'Cluster 253': ['P48823'],\n",
       "             'Cluster 254': ['P48982'],\n",
       "             'Cluster 255': ['Q0AF67', 'Q820H8'],\n",
       "             'Cluster 256': ['Q10318'],\n",
       "             'Cluster 257': ['Q2UXF7'],\n",
       "             'Cluster 258': ['Q4JAM1'],\n",
       "             'Cluster 259': ['Q5P089', 'A1K601'],\n",
       "             'Cluster 260': ['Q8DCZ0', 'Q7MGV6'],\n",
       "             'Cluster 261': ['Q7VLN6'],\n",
       "             'Cluster 262': ['Q2LTN3'],\n",
       "             'Cluster 263': ['Q35543'],\n",
       "             'Cluster 264': ['Q76BS7'],\n",
       "             'Cluster 265': ['Q88VQ8'],\n",
       "             'Cluster 266': ['B8JBE2', 'Q2II14', 'B4UEJ9'],\n",
       "             'Cluster 267': ['Q979L9'],\n",
       "             'Cluster 268': ['A5EJW7', 'A4YV78'],\n",
       "             'Cluster 269': ['A0KAZ0',\n",
       "              'A2S7P3',\n",
       "              'A3NQU2',\n",
       "              'A4JIA2',\n",
       "              'Q146I4',\n",
       "              'A9AE58',\n",
       "              'Q2T1N6',\n",
       "              'B2SWV4',\n",
       "              'B4E9M9',\n",
       "              'Q39CG0',\n",
       "              'B2JKJ2',\n",
       "              'B1YNQ7',\n",
       "              'Q0BBE9'],\n",
       "             'Cluster 270': ['Q09795'],\n",
       "             'Cluster 271': ['B8DWR0', 'A1A3B6'],\n",
       "             'Cluster 272': ['Q0I8J8'],\n",
       "             'Cluster 273': ['Q2JK96', 'Q2JRC3'],\n",
       "             'Cluster 274': ['Q9MUV9'],\n",
       "             'Cluster 275': ['O60942', 'O60942', 'O55236', 'O55236'],\n",
       "             'Cluster 276': ['Q15046',\n",
       "              'Q15046',\n",
       "              'Q99MN1',\n",
       "              'Q99MN1',\n",
       "              'P37879',\n",
       "              'P37879'],\n",
       "             'Cluster 277': ['Q9C5G5', 'Q7X911'],\n",
       "             'Cluster 278': ['P30122', 'P30122', 'P30122'],\n",
       "             'Cluster 279': ['Q19266', 'A8WUG4'],\n",
       "             'Cluster 280': ['Q64GA5', 'Q64GA5', 'Q64GA5'],\n",
       "             'Cluster 281': ['D3ZU57', 'D3ZU57'],\n",
       "             'Cluster 282': ['Q9FF55'],\n",
       "             'Cluster 283': ['P0ACD8', 'Q46046'],\n",
       "             'Cluster 284': ['P38069'],\n",
       "             'Cluster 285': ['O05307', 'O05307'],\n",
       "             'Cluster 286': ['O81103'],\n",
       "             'Cluster 287': ['Q5APU2', 'P43078'],\n",
       "             'Cluster 288': ['Q59WF4'],\n",
       "             'Cluster 289': ['A3DP49'],\n",
       "             'Cluster 290': ['Q1JPJ0'],\n",
       "             'Cluster 291': ['Q944C1'],\n",
       "             'Cluster 292': ['O45218'],\n",
       "             'Cluster 293': ['Q11190'],\n",
       "             'Cluster 294': ['P47658'],\n",
       "             'Cluster 295': ['E2E2P0',\n",
       "              'E2E2P0',\n",
       "              'A0A0M3Q1Q3',\n",
       "              'A0A0M3Q1Q3',\n",
       "              'R4JGL8',\n",
       "              'R4JND9',\n",
       "              'R4JQT5',\n",
       "              'K9Y6Y9',\n",
       "              'K9Y645'],\n",
       "             'Cluster 296': ['Q03228'],\n",
       "             'Cluster 297': ['P59040',\n",
       "              'A4SCI7',\n",
       "              'B4S3A5',\n",
       "              'Q3B6P1',\n",
       "              'B4SAT4',\n",
       "              'Q3ANY4',\n",
       "              'A1BJR8',\n",
       "              'B3EE77'],\n",
       "             'Cluster 298': ['A7T395'],\n",
       "             'Cluster 299': ['Q05638'],\n",
       "             'Cluster 300': ['Q5A4N0'],\n",
       "             'Cluster 301': ['E2E2N3', 'L0HB77'],\n",
       "             'Cluster 302': ['P42674'],\n",
       "             'Cluster 303': ['Q9SZT9', 'Q9LQ68', 'O22190'],\n",
       "             'Cluster 304': ['Q9VAH9'],\n",
       "             'Cluster 305': ['Q54TH6'],\n",
       "             'Cluster 306': ['Q7WD30', 'A9ADE0', 'P56865', 'A9III9'],\n",
       "             'Cluster 307': ['A0A5P8DI07'],\n",
       "             'Cluster 308': ['A5CC91', 'B3CV53'],\n",
       "             'Cluster 309': ['A7TPC9'],\n",
       "             'Cluster 310': ['Q0BP65',\n",
       "              'B0TW33',\n",
       "              'B2SEJ6',\n",
       "              'Q5NEF8',\n",
       "              'A0Q453',\n",
       "              'A4J080'],\n",
       "             'Cluster 311': ['P74373'],\n",
       "             'Cluster 312': ['Q0UZ59'],\n",
       "             'Cluster 313': ['Q6AL53'],\n",
       "             'Cluster 314': ['A7N1J1',\n",
       "              'B5FCP9',\n",
       "              'Q7MJ74',\n",
       "              'Q8DAN7',\n",
       "              'C3LLL2',\n",
       "              'Q6LT53',\n",
       "              'B7VMI0',\n",
       "              'B6EGJ1',\n",
       "              'Q5E6A2',\n",
       "              'Q87QV2'],\n",
       "             'Cluster 315': ['Q8XJ28', 'Q0SRP8'],\n",
       "             'Cluster 316': ['A8X9V4'],\n",
       "             'Cluster 317': ['B8FKS6'],\n",
       "             'Cluster 318': ['O67258'],\n",
       "             'Cluster 319': ['Q1H2L5', 'Q7NWC7', 'Q2Y873'],\n",
       "             'Cluster 320': ['Q93X23'],\n",
       "             'Cluster 321': ['A5DU73'],\n",
       "             'Cluster 322': ['A8ZUR7'],\n",
       "             'Cluster 323': ['B2IKA4'],\n",
       "             'Cluster 324': ['O26060', 'Q9ZJ94'],\n",
       "             'Cluster 325': ['P15284'],\n",
       "             'Cluster 326': ['P72749'],\n",
       "             'Cluster 327': ['Q24849'],\n",
       "             'Cluster 328': ['Q2JY06'],\n",
       "             'Cluster 329': ['Q5YTJ4'],\n",
       "             'Cluster 330': ['Q7NRP0'],\n",
       "             'Cluster 331': ['A1UT52', 'Q6G330', 'A9IVI2', 'Q6FZI4'],\n",
       "             'Cluster 332': ['Q3SLL2'],\n",
       "             'Cluster 333': ['Q65T53'],\n",
       "             'Cluster 334': ['Q98QW3'],\n",
       "             'Cluster 335': ['Q54CP9'],\n",
       "             'Cluster 336': ['Q6NXH8'],\n",
       "             'Cluster 337': ['Q7MXD5', 'B2RHN9'],\n",
       "             'Cluster 338': ['Q8A3X5', 'Q5L7Q8', 'Q64MX8'],\n",
       "             'Cluster 339': ['Q9YF35'],\n",
       "             'Cluster 340': ['A1B5X6'],\n",
       "             'Cluster 341': ['Q1QMH5', 'Q214X7', 'Q3SRM3', 'Q2IWF8', 'Q6N5W6'],\n",
       "             'Cluster 342': ['Q3Z8K3', 'Q3ZX40'],\n",
       "             'Cluster 343': ['Q49WF1'],\n",
       "             'Cluster 344': ['Q7CUX4'],\n",
       "             'Cluster 345': ['Q81CB2', 'Q81PE9'],\n",
       "             'Cluster 346': ['Q3AGU9',\n",
       "              'Q3AVY5',\n",
       "              'Q0I6R7',\n",
       "              'A5GP97',\n",
       "              'Q7U3V8',\n",
       "              'A5GW85'],\n",
       "             'Cluster 347': ['C4ZD15'],\n",
       "             'Cluster 348': ['A6LHY5'],\n",
       "             'Cluster 349': ['P41743', 'Q62074', 'Q90XF2', 'F1M7Y5', 'Q5R4K9'],\n",
       "             'Cluster 350': ['P51854', 'Q4R6M8'],\n",
       "             'Cluster 351': ['Q9H1R3'],\n",
       "             'Cluster 352': ['Q9NQX0', 'Q3UZD5', 'A6QPM3'],\n",
       "             'Cluster 353': ['Q9LIK0', 'Q43117'],\n",
       "             'Cluster 354': ['P53379'],\n",
       "             'Cluster 355': ['P91938'],\n",
       "             'Cluster 356': ['Q7SXS7'],\n",
       "             'Cluster 357': ['Q8GWW4'],\n",
       "             'Cluster 358': ['P34409'],\n",
       "             'Cluster 359': ['Q9W2M2'],\n",
       "             'Cluster 360': ['Q86TU7',\n",
       "              'Q91WC0',\n",
       "              'G3V6U9',\n",
       "              'A9X1D0',\n",
       "              'B1MTJ4',\n",
       "              'C1FXW2',\n",
       "              'B5FW36',\n",
       "              'Q5ZML9',\n",
       "              'B0VX69',\n",
       "              'B2KI88',\n",
       "              'E2RBS6'],\n",
       "             'Cluster 361': ['G5EEN4'],\n",
       "             'Cluster 362': ['Q24238'],\n",
       "             'Cluster 363': ['R4YZC3', 'R4YZC3', 'R4YZC3'],\n",
       "             'Cluster 364': ['P06652'],\n",
       "             'Cluster 365': ['Q0J360', 'A2YZ01'],\n",
       "             'Cluster 366': ['Q42997', 'P17847'],\n",
       "             'Cluster 367': ['Q9C533'],\n",
       "             'Cluster 368': ['C0LTL9'],\n",
       "             'Cluster 369': ['P12636', 'P18636'],\n",
       "             'Cluster 370': ['A0A0A1C930', 'P48020', 'Q41437', 'U5JCC6'],\n",
       "             'Cluster 371': ['Q8XGX8', 'P13187', 'Q03030'],\n",
       "             'Cluster 372': ['P72181', 'P72181', 'Q51700', 'Q51700'],\n",
       "             'Cluster 373': ['P0C278', 'Q07WU7'],\n",
       "             'Cluster 374': ['Q2UUN6'],\n",
       "             'Cluster 375': ['P83223'],\n",
       "             'Cluster 376': ['Q9YGY4'],\n",
       "             'Cluster 377': ['I1RZZ3'],\n",
       "             'Cluster 378': ['Q2NL26'],\n",
       "             'Cluster 379': ['Q0WSF1'],\n",
       "             'Cluster 380': ['O22184'],\n",
       "             'Cluster 381': ['Q56UD0'],\n",
       "             'Cluster 382': ['Q6ZGY0'],\n",
       "             'Cluster 383': ['A3N059'],\n",
       "             'Cluster 384': ['P11071',\n",
       "              'P11071',\n",
       "              'P51067',\n",
       "              'P51067',\n",
       "              'A6TGR8',\n",
       "              'A6TGR8',\n",
       "              'A7MPD7',\n",
       "              'A7MPD7',\n",
       "              'A8A7B3',\n",
       "              'A8A7B3',\n",
       "              'B1IUN6',\n",
       "              'B1IUN6',\n",
       "              'B1LPH3',\n",
       "              'B1LPH3',\n",
       "              'B5FQM6',\n",
       "              'B5FQM6',\n",
       "              'B5QYG6',\n",
       "              'B5QYG6',\n",
       "              'B7NFV2',\n",
       "              'B7NFV2',\n",
       "              'A8ANB7',\n",
       "              'A8ANB7',\n",
       "              'A9N0M7',\n",
       "              'A9N0M7',\n",
       "              'B5XYC7',\n",
       "              'B5XYC7',\n",
       "              'B7MIZ8',\n",
       "              'B7MIZ8',\n",
       "              'C5A0V3',\n",
       "              'C5A0V3',\n",
       "              'Q328N5',\n",
       "              'Q328N5',\n",
       "              'B5R7Q4',\n",
       "              'B5R7Q4',\n",
       "              'B5Z0A8',\n",
       "              'B5Z0A8',\n",
       "              'B7LKA4',\n",
       "              'B7LKA4',\n",
       "              'Q31TY7',\n",
       "              'Q31TY7',\n",
       "              'A4W5D0',\n",
       "              'A4W5D0',\n",
       "              'B4TDG1',\n",
       "              'B4TDG1',\n",
       "              'B7UPG7',\n",
       "              'B7UPG7',\n",
       "              'C0Q489',\n",
       "              'C0Q489',\n",
       "              'B2TWJ8',\n",
       "              'B2TWJ8',\n",
       "              'Q8Z1V8',\n",
       "              'Q8Z1V8'],\n",
       "             'Cluster 385': ['B2UL12', 'B2UL12'],\n",
       "             'Cluster 386': ['B7J3F7'],\n",
       "             'Cluster 387': ['I6RE61'],\n",
       "             'Cluster 388': ['P49010'],\n",
       "             'Cluster 389': ['P57445'],\n",
       "             'Cluster 390': ['Q057R2'],\n",
       "             'Cluster 391': ['Q07YZ4', 'Q12KH9', 'A1S3X9'],\n",
       "             'Cluster 392': ['Q30Q17'],\n",
       "             'Cluster 393': ['Q7M8H5'],\n",
       "             'Cluster 394': ['Q7U095'],\n",
       "             'Cluster 395': ['Q7W001', 'A9IHE2', 'Q2L1K6'],\n",
       "             'Cluster 396': ['Q92J97', 'Q1RHB9', 'Q4UJM1', 'P31038', 'Q68XN9'],\n",
       "             'Cluster 397': ['B8J7G1', 'B4UDY7', 'Q2IFT1'],\n",
       "             'Cluster 398': ['A6U7M8',\n",
       "              'A6X200',\n",
       "              'B2S501',\n",
       "              'Q92QV4',\n",
       "              'B9JCV9',\n",
       "              'Q8UG87',\n",
       "              'Q983E9',\n",
       "              'P67013',\n",
       "              'Q1MIW0',\n",
       "              'B5ZX21',\n",
       "              'C3M9G8'],\n",
       "             'Cluster 399': ['Q08304'],\n",
       "             'Cluster 400': ['Q11UD0'],\n",
       "             'Cluster 401': ['Q3A5R7'],\n",
       "             'Cluster 402': ['Q4WR24'],\n",
       "             'Cluster 403': ['B2SRY0', 'Q3BVV9'],\n",
       "             'Cluster 404': ['C0QFI1'],\n",
       "             'Cluster 405': ['Q0CJ60'],\n",
       "             'Cluster 406': ['Q47WP3'],\n",
       "             'Cluster 407': ['Q6CN92'],\n",
       "             'Cluster 408': ['A6SCT6', 'A7EYW0'],\n",
       "             'Cluster 409': ['B1XNY9'],\n",
       "             'Cluster 410': ['P72292', 'Q07737'],\n",
       "             'Cluster 411': ['Q31H87'],\n",
       "             'Cluster 412': ['W7LC91'],\n",
       "             'Cluster 413': ['A0A179GC70'],\n",
       "             'Cluster 414': ['A6Q241'],\n",
       "             'Cluster 415': ['Q2GD00'],\n",
       "             'Cluster 416': ['Q5NPM1'],\n",
       "             'Cluster 417': ['Q98R33'],\n",
       "             'Cluster 418': ['A2C0W8', 'Q46GR7'],\n",
       "             'Cluster 419': ['A8AC29'],\n",
       "             'Cluster 420': ['P0DA06',\n",
       "              'A8AUJ7',\n",
       "              'Q1JDX0',\n",
       "              'Q48VL3',\n",
       "              'A3CK48',\n",
       "              'B5XJH3',\n",
       "              'A2RC97',\n",
       "              'Q1J8S5',\n",
       "              'Q1JIX5',\n",
       "              'Q8P2U6'],\n",
       "             'Cluster 421': ['B0VNJ1', 'B7H2A9', 'Q6FFM0'],\n",
       "             'Cluster 422': ['Q18FC1'],\n",
       "             'Cluster 423': ['Q2RL95'],\n",
       "             'Cluster 424': ['A6UVJ0'],\n",
       "             'Cluster 425': ['B3ERZ8'],\n",
       "             'Cluster 426': ['P42789'],\n",
       "             'Cluster 427': ['Q4JV46'],\n",
       "             'Cluster 428': ['Q9H0R5', 'P32455', 'Q5D1D6', 'Q5RBE1'],\n",
       "             'Cluster 429': ['P29350', 'P29351'],\n",
       "             'Cluster 430': ['Q8GZ29'],\n",
       "             'Cluster 431': ['Q5MFV8', 'O80722'],\n",
       "             'Cluster 432': ['Q9ZUZ2'],\n",
       "             'Cluster 433': ['P15624'],\n",
       "             'Cluster 434': ['P32068'],\n",
       "             'Cluster 435': ['Q8IVW4', 'Q9JM01', 'Q8BLF2'],\n",
       "             'Cluster 436': ['Q93VK5'],\n",
       "             'Cluster 437': ['A0A3S7WQS5'],\n",
       "             'Cluster 438': ['P25306', 'P25306', 'P31212'],\n",
       "             'Cluster 439': ['Q50L36', 'Q7XAS7', 'Q9AR86'],\n",
       "             'Cluster 440': ['V5NDL4'],\n",
       "             'Cluster 441': ['Q05758', 'Q65XK0', 'Q01292', 'O82043'],\n",
       "             'Cluster 442': ['Q0GXS4'],\n",
       "             'Cluster 443': ['Q5B323'],\n",
       "             'Cluster 444': ['Q9A9Z2', 'Q9A9Z2'],\n",
       "             'Cluster 445': ['Q8QGV2', 'Q8AYK6'],\n",
       "             'Cluster 446': ['Q6PFP6'],\n",
       "             'Cluster 447': ['Q9M9Y8'],\n",
       "             'Cluster 448': ['P34101'],\n",
       "             'Cluster 449': ['O49675'],\n",
       "             'Cluster 450': ['Q6ZH94'],\n",
       "             'Cluster 451': ['Q672F7', 'Q672F7'],\n",
       "             'Cluster 452': ['O34206'],\n",
       "             'Cluster 453': ['Q83GR0', 'Q83GR0'],\n",
       "             'Cluster 454': ['I7GPX8'],\n",
       "             'Cluster 455': ['P21334'],\n",
       "             'Cluster 456': ['A2QGD9'],\n",
       "             'Cluster 457': ['B3L014'],\n",
       "             'Cluster 458': ['Q6TNA5'],\n",
       "             'Cluster 459': ['Q6AU53'],\n",
       "             'Cluster 460': ['Q99MX0'],\n",
       "             'Cluster 461': ['Q9C614', 'Q9FM82'],\n",
       "             'Cluster 462': ['Q2R0L0',\n",
       "              'Q2R0L2',\n",
       "              'Q53LU4',\n",
       "              'A2Y9C5',\n",
       "              'A2Y9C2',\n",
       "              'A2XCN6'],\n",
       "             'Cluster 463': ['E9DFH0'],\n",
       "             'Cluster 464': ['Q55725'],\n",
       "             'Cluster 465': ['Q64XV2',\n",
       "              'Q64XV2',\n",
       "              'Q64XV2',\n",
       "              'Q5LGZ8',\n",
       "              'Q5LGZ8',\n",
       "              'Q5LGZ8',\n",
       "              'A6KWM0',\n",
       "              'A6KWM0',\n",
       "              'A6KWM0'],\n",
       "             'Cluster 466': ['Q74ZC1'],\n",
       "             'Cluster 467': ['A1AWP9', 'A5CWJ4'],\n",
       "             'Cluster 468': ['B1ZSW8'],\n",
       "             'Cluster 469': ['B2J116', 'Q8YUB6'],\n",
       "             'Cluster 470': ['B8M501', 'B6Q348'],\n",
       "             'Cluster 471': ['D4D802', 'D4D802', 'E4UPP6', 'E4UPP6'],\n",
       "             'Cluster 472': ['O60080'],\n",
       "             'Cluster 473': ['Q112K0'],\n",
       "             'Cluster 474': ['Q3JEB6'],\n",
       "             'Cluster 475': ['Q89AM5'],\n",
       "             'Cluster 476': ['A0A509APC7'],\n",
       "             'Cluster 477': ['Q5LC85',\n",
       "              'Q8AA33',\n",
       "              'A6LC18',\n",
       "              'B2RKK1',\n",
       "              'Q7MV56',\n",
       "              'A6L744'],\n",
       "             'Cluster 478': ['Q1IXW5'],\n",
       "             'Cluster 479': ['Q6FZF2', 'Q6G2Z5'],\n",
       "             'Cluster 480': ['Q8XNL5'],\n",
       "             'Cluster 481': ['Q9KDG1'],\n",
       "             'Cluster 482': ['A1JIN7', 'A4TRR6', 'Q66FE1'],\n",
       "             'Cluster 483': ['A5G126'],\n",
       "             'Cluster 484': ['B0CF01'],\n",
       "             'Cluster 485': ['B7XHR6'],\n",
       "             'Cluster 486': ['P70864', 'A1USS5'],\n",
       "             'Cluster 487': ['Q1LTP1'],\n",
       "             'Cluster 488': ['Q6FUA6'],\n",
       "             'Cluster 489': ['Q7NJA4'],\n",
       "             'Cluster 490': ['Q88T65'],\n",
       "             'Cluster 491': ['A7GHS2',\n",
       "              'A0PZX0',\n",
       "              'B1L096',\n",
       "              'C1FKE5',\n",
       "              'A5I6D5',\n",
       "              'C3KTB6',\n",
       "              'Q97GU6'],\n",
       "             'Cluster 492': ['A1SGG5'],\n",
       "             'Cluster 493': ['A4X5V6'],\n",
       "             'Cluster 494': ['B3ESU2'],\n",
       "             'Cluster 495': ['Q492G5'],\n",
       "             'Cluster 496': ['Q9LVP7'],\n",
       "             'Cluster 497': ['A0A3G1DJI3'],\n",
       "             'Cluster 498': ['Q73KJ8'],\n",
       "             'Cluster 499': ['Q75BG9'],\n",
       "             'Cluster 500': ['A8GAT0'],\n",
       "             'Cluster 501': ['D4AXL1'],\n",
       "             'Cluster 502': ['Q2K4Q9', 'Q1MCF8'],\n",
       "             'Cluster 503': ['Q477C4', 'B2AG76', 'Q0KFB0'],\n",
       "             'Cluster 504': ['P42780'],\n",
       "             'Cluster 505': ['Q9FA52'],\n",
       "             'Cluster 506': ['Q92YE2'],\n",
       "             'Cluster 507': ['Q99259',\n",
       "              'P48318',\n",
       "              'P18088',\n",
       "              'Q0VCA1',\n",
       "              'A0PA85',\n",
       "              'Q5IS68',\n",
       "              'P14748',\n",
       "              'P48319',\n",
       "              'Q5R7S7'],\n",
       "             'Cluster 508': ['Q9UNH5', 'Q9UNH5'],\n",
       "             'Cluster 509': ['Q8VHQ9', 'Q8VHQ9'],\n",
       "             'Cluster 510': ['Q9SG12', 'Q9FIM9'],\n",
       "             'Cluster 511': ['Q0WQ41', 'Q0WQ41'],\n",
       "             'Cluster 512': ['Q8NHP8', 'Q3TCN2', 'Q4QQW8'],\n",
       "             'Cluster 513': ['Q9VVK8'],\n",
       "             'Cluster 514': ['Q01887'],\n",
       "             'Cluster 515': ['Q06218'],\n",
       "             'Cluster 516': ['Q06GJ0'],\n",
       "             'Cluster 517': ['T1RRJ4',\n",
       "              'T1RRJ4',\n",
       "              'T1RR72',\n",
       "              'T1RR72',\n",
       "              'T1RRR9',\n",
       "              'T1RRR9'],\n",
       "             'Cluster 518': ['Q3L1D1'],\n",
       "             'Cluster 519': ['Q9STY3'],\n",
       "             'Cluster 520': ['Q67XZ3'],\n",
       "             'Cluster 521': ['A0A2H4HHY6'],\n",
       "             'Cluster 522': ['P05314'],\n",
       "             'Cluster 523': ['Q07434', 'Q33439'],\n",
       "             'Cluster 524': ['A0A2K9RFZ9'],\n",
       "             'Cluster 525': ['Q82IY8'],\n",
       "             'Cluster 526': ['Q8LI30'],\n",
       "             'Cluster 527': ['O32176'],\n",
       "             'Cluster 528': ['Q67LC0'],\n",
       "             'Cluster 529': ['A0A120HYZ1'],\n",
       "             'Cluster 530': ['B1L3V2'],\n",
       "             'Cluster 531': ['B4U7P3'],\n",
       "             'Cluster 532': ['B5YJP5'],\n",
       "             'Cluster 533': ['O51238', 'B2RZT0', 'Q0SNU2', 'Q662E4'],\n",
       "             'Cluster 534': ['Q11JA7'],\n",
       "             'Cluster 535': ['A8AB20'],\n",
       "             'Cluster 536': ['Q58113', 'Q58113'],\n",
       "             'Cluster 537': ['Q74D56', 'A5G3L5', 'B9M1C9', 'Q39VY3'],\n",
       "             'Cluster 538': ['Q9ZZY1'],\n",
       "             'Cluster 539': ['C5D509', 'B7GFR1', 'Q5KWS9'],\n",
       "             'Cluster 540': ['J9VQZ4'],\n",
       "             'Cluster 541': ['Q6AZV7'],\n",
       "             'Cluster 542': ['Q756F2'],\n",
       "             'Cluster 543': ['Q7VRU2'],\n",
       "             'Cluster 544': ['Q8EUR3'],\n",
       "             'Cluster 545': ['Q9JN46'],\n",
       "             'Cluster 546': ['A9B392'],\n",
       "             'Cluster 547': ['B4ETP3'],\n",
       "             'Cluster 548': ['B9LUZ9'],\n",
       "             'Cluster 549': ['C4QZ06'],\n",
       "             'Cluster 550': ['Q0V1P1'],\n",
       "             'Cluster 551': ['A4WPF7',\n",
       "              'A8LI32',\n",
       "              'B9KME7',\n",
       "              'Q5LUX6',\n",
       "              'A3PMK8',\n",
       "              'Q16B16',\n",
       "              'Q1GIZ8',\n",
       "              'Q28MH9'],\n",
       "             'Cluster 552': ['Q1GYN8'],\n",
       "             'Cluster 553': ['Q4FMP8'],\n",
       "             'Cluster 554': ['Q99N13', 'Q5ZKH6'],\n",
       "             'Cluster 555': ['Q6CUI6'],\n",
       "             'Cluster 556': ['Q54CP8'],\n",
       "             'Cluster 557': ['Q54QZ5'],\n",
       "             'Cluster 558': ['Q0JL73', 'Q5ZBH5'],\n",
       "             'Cluster 559': ['O04059'],\n",
       "             'Cluster 560': ['Q2HHS4'],\n",
       "             'Cluster 561': ['Q6BRY1'],\n",
       "             'Cluster 562': ['Q8ZYR1', 'B1YC22', 'A1RSF1', 'A4WN96', 'A3MXY7'],\n",
       "             'Cluster 563': ['P72721'],\n",
       "             'Cluster 564': ['Q6ANH2'],\n",
       "             'Cluster 565': ['Q82E68', 'B1VTB7'],\n",
       "             'Cluster 566': ['O16099'],\n",
       "             'Cluster 567': ['Q28VK7'],\n",
       "             'Cluster 568': ['B0SSV1'],\n",
       "             'Cluster 569': ['Q38ZJ0'],\n",
       "             'Cluster 570': ['A5GJD3'],\n",
       "             'Cluster 571': ['P43378', 'O35239', 'Q641Z2'],\n",
       "             'Cluster 572': ['Q06124', 'P35235', 'P41499', 'Q90687'],\n",
       "             'Cluster 573': ['Q96GW9', 'Q499X9', 'A6H7E1'],\n",
       "             'Cluster 574': ['O76083', 'H2QL32'],\n",
       "             'Cluster 575': ['P0AEP7'],\n",
       "             'Cluster 576': ['O96013', 'Q8BTW9'],\n",
       "             'Cluster 577': ['Q03862'],\n",
       "             'Cluster 578': ['A0R6E0', 'A0R6E0'],\n",
       "             'Cluster 579': ['D3TTC1', 'D6PXE8', 'P82942'],\n",
       "             'Cluster 580': ['O14098'],\n",
       "             'Cluster 581': ['P31939',\n",
       "              'P31939',\n",
       "              'Q0VCK0',\n",
       "              'Q0VCK0',\n",
       "              'Q9CWJ9',\n",
       "              'Q9CWJ9',\n",
       "              'O35567',\n",
       "              'O35567',\n",
       "              'P31335',\n",
       "              'P31335',\n",
       "              'Q5R5C2',\n",
       "              'Q5R5C2'],\n",
       "             'Cluster 582': ['W6HUT3', 'W6HUT3', 'W6HUT3', 'W6HUT3', 'W6HUT3'],\n",
       "             'Cluster 583': ['P07334'],\n",
       "             'Cluster 584': ['Q8JHJ2'],\n",
       "             'Cluster 585': ['Q54BF0'],\n",
       "             'Cluster 586': ['O64405'],\n",
       "             'Cluster 587': ['P21454', 'P24419', 'P17450', 'D0ZHS9', 'P55220'],\n",
       "             'Cluster 588': ['Q3IMV2'],\n",
       "             'Cluster 589': ['P33518'],\n",
       "             'Cluster 590': ['Q6CR51', 'Q6CR51'],\n",
       "             'Cluster 591': ['Q9FLB0'],\n",
       "             'Cluster 592': ['P0AAG5'],\n",
       "             'Cluster 593': ['P94513'],\n",
       "             'Cluster 594': ['P34668'],\n",
       "             'Cluster 595': ['Q54P26'],\n",
       "             'Cluster 596': ['Q9SRU7', 'Q9LFU5'],\n",
       "             'Cluster 597': ['P36150'],\n",
       "             'Cluster 598': ['B2ATB0', 'B2ATB0'],\n",
       "             'Cluster 599': ['O83142'],\n",
       "             'Cluster 600': ['Q03F52'],\n",
       "             'Cluster 601': ['Q2UKS0'],\n",
       "             'Cluster 602': ['Q5WWA3', 'A5IBW8', 'Q5ZVG2', 'Q5X586'],\n",
       "             'Cluster 603': ['A0A1L9WQQ1'],\n",
       "             'Cluster 604': ['A3LT90'],\n",
       "             'Cluster 605': ['A4F7W6'],\n",
       "             'Cluster 606': ['C6E3W7', 'B5EIV1'],\n",
       "             'Cluster 607': ['Q08636', 'Q834X9'],\n",
       "             'Cluster 608': ['Q0AIE4', 'Q82SQ5'],\n",
       "             'Cluster 609': ['Q0VA52'],\n",
       "             'Cluster 610': ['Q47BD0', 'Q47BD0'],\n",
       "             'Cluster 611': ['Q6BV94'],\n",
       "             'Cluster 612': ['B5YDT0', 'B8E1C0'],\n",
       "             'Cluster 613': ['B8I3F1'],\n",
       "             'Cluster 614': ['Q2G8P1'],\n",
       "             'Cluster 615': ['A2QA23'],\n",
       "             'Cluster 616': ['P43309'],\n",
       "             'Cluster 617': ['P29058', 'P48021'],\n",
       "             'Cluster 618': ['Q43793'],\n",
       "             'Cluster 619': ['Q67LP0'],\n",
       "             'Cluster 620': ['B4SET5'],\n",
       "             'Cluster 621': ['P51845', 'Q05327', 'Q05326', 'P51850'],\n",
       "             'Cluster 622': ['Q40545'],\n",
       "             'Cluster 623': ['A3AZ89'],\n",
       "             'Cluster 624': ['A0A2I6PIZ1'],\n",
       "             'Cluster 625': ['B4R8T9'],\n",
       "             'Cluster 626': ['P31759'],\n",
       "             'Cluster 627': ['Q6MAJ5'],\n",
       "             'Cluster 628': ['Q92VC6'],\n",
       "             'Cluster 629': ['Q3AWR9'],\n",
       "             'Cluster 630': ['Q7NB09'],\n",
       "             'Cluster 631': ['Q3ALR5'],\n",
       "             'Cluster 632': ['Q7U5D6'],\n",
       "             'Cluster 633': ['Q99502',\n",
       "              'Q99502',\n",
       "              'P97767',\n",
       "              'P97767',\n",
       "              'Q9YHA0',\n",
       "              'Q9YHA0',\n",
       "              'Q9YH98',\n",
       "              'Q9YHA1'],\n",
       "             'Cluster 634': ['Q05513', 'P09217', 'Q02956', 'O19111'],\n",
       "             'Cluster 635': ['Q9SZ30', 'Q9SZ30'],\n",
       "             'Cluster 636': ['P14891'],\n",
       "             'Cluster 637': ['Q8CIB9'],\n",
       "             'Cluster 638': ['O49006'],\n",
       "             'Cluster 639': ['Q9ZSS6'],\n",
       "             'Cluster 640': ['P98060'],\n",
       "             'Cluster 641': ['Q9FL12'],\n",
       "             'Cluster 642': ['P54113', 'P54113', 'P38009', 'P38009'],\n",
       "             'Cluster 643': ['Q9W0I6'],\n",
       "             'Cluster 644': ['Q12701'],\n",
       "             'Cluster 645': ['Q9BWV7'],\n",
       "             'Cluster 646': ['Q54XC1', 'Q54XC1'],\n",
       "             'Cluster 647': ['Q8K385'],\n",
       "             'Cluster 648': ['P52893'],\n",
       "             'Cluster 649': ['A0A178U9Y5', 'A0A178U9Y5'],\n",
       "             'Cluster 650': ['Q9JWI7',\n",
       "              'Q9JWI7',\n",
       "              'Q5F5C8',\n",
       "              'Q5F5C8',\n",
       "              'Q9JXF1',\n",
       "              'Q9JXF1'],\n",
       "             'Cluster 651': ['B3TPQ7', 'B3TPQ7'],\n",
       "             'Cluster 652': ['Q971B7', 'Q4J8L9'],\n",
       "             'Cluster 653': ['E9R598'],\n",
       "             'Cluster 654': ['P26792'],\n",
       "             'Cluster 655': ['Q6ZNA5', 'A2VE04'],\n",
       "             'Cluster 656': ['O32038', 'A7Z750', 'Q65GR4'],\n",
       "             'Cluster 657': ['Q9M039', 'P51851'],\n",
       "             'Cluster 658': ['B0K978', 'B0K0N5', 'Q8RAI7'],\n",
       "             'Cluster 659': ['O13432'],\n",
       "             'Cluster 660': ['O66648'],\n",
       "             'Cluster 661': ['O83809'],\n",
       "             'Cluster 662': ['Q6AHC2'],\n",
       "             'Cluster 663': ['Q6CUB4'],\n",
       "             'Cluster 664': ['Q825Q8'],\n",
       "             'Cluster 665': ['A0LUJ6'],\n",
       "             'Cluster 666': ['A5UUW9', 'A7NND5'],\n",
       "             'Cluster 667': ['B9KHS0'],\n",
       "             'Cluster 668': ['Q6FEH6', 'B2HYL7', 'A3M8Q6', 'B0VRC7'],\n",
       "             'Cluster 669': ['Q892B2'],\n",
       "             'Cluster 670': ['B9E706'],\n",
       "             'Cluster 671': ['Q0UY62'],\n",
       "             'Cluster 672': ['Q15ZS2'],\n",
       "             'Cluster 673': ['Q3IIN7'],\n",
       "             'Cluster 674': ['Q8ZPP6'],\n",
       "             'Cluster 675': ['Q9UTE1'],\n",
       "             'Cluster 676': ['W3X732'],\n",
       "             'Cluster 677': ['A1SST6'],\n",
       "             'Cluster 678': ['B4RCT1'],\n",
       "             'Cluster 679': ['P78715'],\n",
       "             'Cluster 680': ['Q0A582'],\n",
       "             'Cluster 681': ['Q39692'],\n",
       "             'Cluster 682': ['Q3AA17'],\n",
       "             'Cluster 683': ['Q7UFY6'],\n",
       "             'Cluster 684': ['B8GUK0'],\n",
       "             'Cluster 685': ['Q15RN2'],\n",
       "             'Cluster 686': ['Q1QWG2'],\n",
       "             'Cluster 687': ['Q3IKY9', 'Q3IKY9'],\n",
       "             'Cluster 688': ['Q5V3T2'],\n",
       "             'Cluster 689': ['Q8K9I3'],\n",
       "             'Cluster 690': ['Q8RGJ4'],\n",
       "             'Cluster 691': ['Q9UWW6',\n",
       "              'C3MQL5',\n",
       "              'C3N6D5',\n",
       "              'C3NGV1',\n",
       "              'C3NEU3',\n",
       "              'A4YI05'],\n",
       "             'Cluster 692': ['T2KN85'],\n",
       "             'Cluster 693': ['Q54J86'],\n",
       "             'Cluster 694': ['A9KH27', 'B6J667', 'B6J3D4', 'Q83A98', 'A9N9G2'],\n",
       "             'Cluster 695': ['D4B3C8'],\n",
       "             'Cluster 696': ['Q01263'],\n",
       "             'Cluster 697': ['A5EXU4'],\n",
       "             'Cluster 698': ['A9RAH0'],\n",
       "             'Cluster 699': ['A5I557', 'B1KXT6', 'A7GGL4', 'B1IJM8', 'Q896K4'],\n",
       "             'Cluster 700': ['Q0TPW7', 'B2TP91', 'Q0SSI2', 'B2UWY4'],\n",
       "             'Cluster 701': ['P52913'],\n",
       "             'Cluster 702': ['Q5SM45', 'Q72GE2'],\n",
       "             'Cluster 703': ['Q8TXB6'],\n",
       "             'Cluster 704': ['B1VGB6'],\n",
       "             'Cluster 705': ['Q891P1'],\n",
       "             'Cluster 706': ['A0RXK1', 'A9A2R0'],\n",
       "             'Cluster 707': ['P9WGS2'],\n",
       "             'Cluster 708': ['Q184E7'],\n",
       "             'Cluster 709': ['Q2RTG6'],\n",
       "             'Cluster 710': ['Q31J79'],\n",
       "             'Cluster 711': ['Q8TWL6'],\n",
       "             'Cluster 712': ['A3DNQ6'],\n",
       "             'Cluster 713': ['A5FND6'],\n",
       "             'Cluster 714': ['Q7Q021'],\n",
       "             'Cluster 715': ['P17812',\n",
       "              'P70698',\n",
       "              'Q6PEI7',\n",
       "              'P50547',\n",
       "              'Q5XHA8',\n",
       "              'Q7ZXP9'],\n",
       "             'Cluster 716': ['P32456'],\n",
       "             'Cluster 717': ['C0LGF4', 'C0LGL9'],\n",
       "             'Cluster 718': ['Q9Y5S8', 'Q8CIZ9', 'Q9WV87'],\n",
       "             'Cluster 719': ['O34748'],\n",
       "             'Cluster 720': ['P00175'],\n",
       "             'Cluster 721': ['Q12362', 'Q12362'],\n",
       "             'Cluster 722': ['C0LGI5'],\n",
       "             'Cluster 723': ['P69922',\n",
       "              'P69922',\n",
       "              'A6TD83',\n",
       "              'B1LQZ6',\n",
       "              'B1XDL1',\n",
       "              'B4TUJ7',\n",
       "              'B5FTY1',\n",
       "              'B5XUY5',\n",
       "              'B5Z4C2',\n",
       "              'A8A3T7',\n",
       "              'A8AP13',\n",
       "              'B5RDV4',\n",
       "              'B6I6K0',\n",
       "              'B7LEY2',\n",
       "              'C0PXG5',\n",
       "              'Q32CB6',\n",
       "              'A9MSA6',\n",
       "              'Q8FEE7',\n",
       "              'A1AEY9',\n",
       "              'A7ZQP6',\n",
       "              'B4TGN3',\n",
       "              'B7N736',\n",
       "              'P69923',\n",
       "              'Q0TE57',\n",
       "              'Q57KE0',\n",
       "              'Q8Z429'],\n",
       "             'Cluster 724': ['Q9ZUH4', 'Q9ZUH4', 'Q9ZUH4'],\n",
       "             'Cluster 725': ['F4J117'],\n",
       "             'Cluster 726': ['P15180'],\n",
       "             'Cluster 727': ['Q8MV48'],\n",
       "             'Cluster 728': ['A6XH05', 'A6XH05', 'A6XH05', 'A6XH05', 'O81191'],\n",
       "             'Cluster 729': ['P91953'],\n",
       "             'Cluster 730': ['Q96WV9', 'Q96WV9'],\n",
       "             'Cluster 731': ['P75409'],\n",
       "             'Cluster 732': ['U5PZT6',\n",
       "              'U5PZT6',\n",
       "              'U5PZT6',\n",
       "              'U5PZT6',\n",
       "              'U5PZT6',\n",
       "              'U5PZT6',\n",
       "              'U5PZT6',\n",
       "              'U5PZT6'],\n",
       "             'Cluster 733': ['P43550', 'P43550'],\n",
       "             'Cluster 734': ['Q8W4R3'],\n",
       "             'Cluster 735': ['Q95L39'],\n",
       "             'Cluster 736': ['Q8W413'],\n",
       "             'Cluster 737': ['Q0DLB9'],\n",
       "             'Cluster 738': ['Q6NQ66', 'O81030'],\n",
       "             'Cluster 739': ['B8NM71', 'B8NM71'],\n",
       "             'Cluster 740': ['O74215', 'O74215'],\n",
       "             'Cluster 741': ['P98000'],\n",
       "             'Cluster 742': ['P9WHK7',\n",
       "              'A5U357',\n",
       "              'Q5YY90',\n",
       "              'A0PPA8',\n",
       "              'A4T9Y6',\n",
       "              'B2HR69',\n",
       "              'C1ASX9',\n",
       "              'A0QH68',\n",
       "              'A3Q0R1',\n",
       "              'Q1B7T3',\n",
       "              'A0QYQ7',\n",
       "              'A1TA81',\n",
       "              'Q0SI74'],\n",
       "             'Cluster 743': ['Q51422',\n",
       "              'A5VZU3',\n",
       "              'B7UXW9',\n",
       "              'C1DRG2',\n",
       "              'B1JD74',\n",
       "              'Q3K7V6',\n",
       "              'C3JYT1',\n",
       "              'Q4ZWL5',\n",
       "              'Q87Y31',\n",
       "              'B0KTJ6',\n",
       "              'A4XRR7',\n",
       "              'Q1I6E5',\n",
       "              'Q48FC1',\n",
       "              'Q4K7D5'],\n",
       "             'Cluster 744': ['Q19713'],\n",
       "             'Cluster 745': ['Q6YYZ2'],\n",
       "             'Cluster 746': ['Q9ZRT5', 'Q8L727', 'Q9FHE1'],\n",
       "             'Cluster 747': ['Q6GML1'],\n",
       "             'Cluster 748': ['Q9LU46', 'Q9SZB4'],\n",
       "             'Cluster 749': ['Q9ZNS2'],\n",
       "             'Cluster 750': ['Q9LV77', 'Q9LFU1', 'Q43011', 'P49094'],\n",
       "             'Cluster 751': ['B7K0T5'],\n",
       "             'Cluster 752': ['C1KVG6',\n",
       "              'A0AIW8',\n",
       "              'Q92BJ4',\n",
       "              'B8DHM9',\n",
       "              'Q71ZF1',\n",
       "              'Q8Y709'],\n",
       "             'Cluster 753': ['P18240'],\n",
       "             'Cluster 754': ['P73534'],\n",
       "             'Cluster 755': ['Q2S2V6'],\n",
       "             'Cluster 756': ['Q9RQ13', 'A6L048', 'Q64ZS4', 'Q5LIN8'],\n",
       "             'Cluster 757': ['A1B431'],\n",
       "             'Cluster 758': ['B2GBY7'],\n",
       "             'Cluster 759': ['A8IFX1',\n",
       "              'Q89MP9',\n",
       "              'B3Q9Q1',\n",
       "              'Q1QLI9',\n",
       "              'Q3SS92',\n",
       "              'Q6N5D6',\n",
       "              'A4YTC4',\n",
       "              'B6JGJ7',\n",
       "              'Q07LH5',\n",
       "              'Q135R5',\n",
       "              'Q215P7',\n",
       "              'Q2IX59',\n",
       "              'A5EIE6'],\n",
       "             'Cluster 760': ['B7HE37',\n",
       "              'B7JPY8',\n",
       "              'C3P990',\n",
       "              'Q634E3',\n",
       "              'A7GT84',\n",
       "              'A9VIM8',\n",
       "              'C3L608',\n",
       "              'Q730D1',\n",
       "              'Q817X8',\n",
       "              'B7HQG0',\n",
       "              'B7IIR4'],\n",
       "             'Cluster 761': ['A1JRX0',\n",
       "              'A1JRX0',\n",
       "              'C6DFQ3',\n",
       "              'C6DFQ3',\n",
       "              'Q8ZAR7',\n",
       "              'Q8ZAR7',\n",
       "              'Q664W4',\n",
       "              'Q664W4',\n",
       "              'Q6D012',\n",
       "              'Q6D012'],\n",
       "             'Cluster 762': ['Q03966'],\n",
       "             'Cluster 763': ['Q2LTE0'],\n",
       "             'Cluster 764': ['Q74ZU6'],\n",
       "             'Cluster 765': ['Q8AVF5'],\n",
       "             'Cluster 766': ['Q9UUE6'],\n",
       "             'Cluster 767': ['A3LSJ2'],\n",
       "             'Cluster 768': ['A6VQA9',\n",
       "              'Q65UP5',\n",
       "              'Q7VNF0',\n",
       "              'A5UGD3',\n",
       "              'B0BQ90',\n",
       "              'Q4QNM1',\n",
       "              'Q0I3S3',\n",
       "              'A5UAG7',\n",
       "              'B3GY37',\n",
       "              'B8F789',\n",
       "              'P43817'],\n",
       "             'Cluster 769': ['O82191', 'P12628', 'P51615', 'P34105'],\n",
       "             'Cluster 770': ['Q08306'],\n",
       "             'Cluster 771': ['Q5P801', 'Q5P801', 'A1K4K7', 'A1K4K7'],\n",
       "             'Cluster 772': ['Q9AA58', 'Q9AA58'],\n",
       "             'Cluster 773': ['A9KLZ5'],\n",
       "             'Cluster 774': ['Q08341'],\n",
       "             'Cluster 775': ['Q8D2B9'],\n",
       "             'Cluster 776': ['Q9HUW5'],\n",
       "             'Cluster 777': ['A0A0D1E3S6'],\n",
       "             'Cluster 778': ['B1MY98', 'Q03WL7'],\n",
       "             'Cluster 779': ['Q4IEK8'],\n",
       "             'Cluster 780': ['Q54970'],\n",
       "             'Cluster 781': ['Q57725'],\n",
       "             'Cluster 782': ['Q8EPS0'],\n",
       "             'Cluster 783': ['Q75K12'],\n",
       "             'Cluster 784': ['P0C0M3'],\n",
       "             'Cluster 785': ['B0B7M4',\n",
       "              'O84310',\n",
       "              'Q3KM54',\n",
       "              'Q822J8',\n",
       "              'Q5L5J0',\n",
       "              'Q9PK85',\n",
       "              'Q9Z993'],\n",
       "             'Cluster 786': ['B1ICC9', 'B8ZK31'],\n",
       "             'Cluster 787': ['Q8CR79', 'Q5HLG3'],\n",
       "             'Cluster 788': ['C0QAX9'],\n",
       "             'Cluster 789': ['Q1MPZ9'],\n",
       "             'Cluster 790': ['Q4A009'],\n",
       "             'Cluster 791': ['B8J0C2'],\n",
       "             'Cluster 792': ['O53150'],\n",
       "             'Cluster 793': ['Q76BS5'],\n",
       "             'Cluster 794': ['A0PZC6'],\n",
       "             'Cluster 795': ['C5BF52'],\n",
       "             'Cluster 796': ['Q3J9F3'],\n",
       "             'Cluster 797': ['Q84MA2'],\n",
       "             'Cluster 798': ['Q18788'],\n",
       "             'Cluster 799': ['Q9VUT6'],\n",
       "             'Cluster 800': ['Q8CFB4'],\n",
       "             'Cluster 801': ['P18823'],\n",
       "             'Cluster 802': ['Q4WR83'],\n",
       "             'Cluster 803': ['Q84ZW8',\n",
       "              'Q84ZW8',\n",
       "              'Q84ZW8',\n",
       "              'Q84ZW8',\n",
       "              'Q84ZW8',\n",
       "              'Q84ZW8'],\n",
       "             'Cluster 804': ['P07692', 'P04058'],\n",
       "             'Cluster 805': ['B5XK69'],\n",
       "             'Cluster 806': ['Q5ABC5'],\n",
       "             'Cluster 807': ['P54793'],\n",
       "             'Cluster 808': ['Q5JJV0'],\n",
       "             'Cluster 809': ['Q1PEF8'],\n",
       "             'Cluster 810': ['B8ZRH6', 'P9WHK6'],\n",
       "             'Cluster 811': ['P29148'],\n",
       "             'Cluster 812': ['A0A7G5KLV0', 'A0A7G5KLV0', 'A0A7G5KLV0'],\n",
       "             'Cluster 813': ['F4IAL1'],\n",
       "             'Cluster 814': ['G5E8F4'],\n",
       "             'Cluster 815': ['P77265'],\n",
       "             'Cluster 816': ['Q9C713'],\n",
       "             'Cluster 817': ['Q84T03'],\n",
       "             'Cluster 818': ['Q0DBS1'],\n",
       "             'Cluster 819': ['Q8GXT2'],\n",
       "             'Cluster 820': ['A1SJB8'],\n",
       "             'Cluster 821': ['A5CSZ7', 'B0RDZ1'],\n",
       "             'Cluster 822': ['A5N1Y8'],\n",
       "             'Cluster 823': ['L0E159'],\n",
       "             'Cluster 824': ['Q2A622', 'Q5NIQ4', 'A4J0C7', 'B0TW08'],\n",
       "             'Cluster 825': ['Q38XB6'],\n",
       "             'Cluster 826': ['Q39469'],\n",
       "             'Cluster 827': ['Q6PWU2'],\n",
       "             'Cluster 828': ['Q9CHL8', 'P97046'],\n",
       "             'Cluster 829': ['Q9U518'],\n",
       "             'Cluster 830': ['P13563', 'B1WB39'],\n",
       "             'Cluster 831': ['C4L535', 'B1YJF7'],\n",
       "             'Cluster 832': ['Q02WJ0', 'Q9CE80', 'A2RN94'],\n",
       "             'Cluster 833': ['Q5FG09', 'Q5HAL5', 'Q2GHC9', 'Q3YRF1'],\n",
       "             'Cluster 834': ['Q90YI3'],\n",
       "             'Cluster 835': ['A6TSZ1'],\n",
       "             'Cluster 836': ['A6VXD0'],\n",
       "             'Cluster 837': ['A9KF44', 'Q83BE5', 'A9N999'],\n",
       "             'Cluster 838': ['J5JH35'],\n",
       "             'Cluster 839': ['O26273'],\n",
       "             'Cluster 840': ['Q0E0P0', 'A2X5P7', 'P49174'],\n",
       "             'Cluster 841': ['P69684', 'Q1XDF6'],\n",
       "             'Cluster 842': ['Q5NDE5', 'Q5NDE3', 'Q5NDE4'],\n",
       "             'Cluster 843': ['Q6INU7'],\n",
       "             'Cluster 844': ['Q8TX56'],\n",
       "             'Cluster 845': ['Q983H5'],\n",
       "             'Cluster 846': ['B1L6M8'],\n",
       "             'Cluster 847': ['B8CXE5'],\n",
       "             'Cluster 848': ['O79556'],\n",
       "             'Cluster 849': ['P49078',\n",
       "              'O24338',\n",
       "              'P49091',\n",
       "              'P49092',\n",
       "              'O24661',\n",
       "              'P19251',\n",
       "              'P19252',\n",
       "              'P31752',\n",
       "              'P49093'],\n",
       "             'Cluster 850': ['Q0P9D4'],\n",
       "             'Cluster 851': ['Q6D8V6'],\n",
       "             'Cluster 852': ['A6XH06', 'A6XH06', 'O81193'],\n",
       "             'Cluster 853': ['P31426'],\n",
       "             'Cluster 854': ['Q1WTU9'],\n",
       "             'Cluster 855': ['Q2NW99'],\n",
       "             'Cluster 856': ['Q2SCK8'],\n",
       "             'Cluster 857': ['Q4J6D9'],\n",
       "             'Cluster 858': ['Q4R8T9'],\n",
       "             'Cluster 859': ['Q595W7'],\n",
       "             'Cluster 860': ['Q73MC2'],\n",
       "             'Cluster 861': ['O82333'],\n",
       "             'Cluster 862': ['B0K8E8', 'B0K5J0'],\n",
       "             'Cluster 863': ['B1XW11', 'A4SZM1'],\n",
       "             'Cluster 864': ['Q6AEX8'],\n",
       "             'Cluster 865': ['B2IJG9'],\n",
       "             'Cluster 866': ['B3CST6', 'A5CD00'],\n",
       "             'Cluster 867': ['A9W7L3', 'B1M335', 'B7KWG7', 'B8I9T2', 'B0UI81'],\n",
       "             'Cluster 868': ['P04540'],\n",
       "             'Cluster 869': ['Q6AED3'],\n",
       "             'Cluster 870': ['Q73P28'],\n",
       "             'Cluster 871': ['B8CZG8'],\n",
       "             'Cluster 872': ['O51264'],\n",
       "             'Cluster 873': ['Q9HC62', 'Q91ZX6', 'Q9EQE1', 'Q5R7K7'],\n",
       "             'Cluster 874': ['P51690', 'Q60HH5'],\n",
       "             'Cluster 875': ['Q9NSD9', 'Q9WUA2', 'Q5R7F7'],\n",
       "             'Cluster 876': ['Q9LM33', 'Q9C9U4'],\n",
       "             'Cluster 877': ['Q01514', 'Q9Z0E6', 'Q63663'],\n",
       "             'Cluster 878': ['Q05567', 'Q05567'],\n",
       "             'Cluster 879': ['Q8I136'],\n",
       "             'Cluster 880': ['O06967'],\n",
       "             'Cluster 881': ['Q94218', 'Q61UA0'],\n",
       "             'Cluster 882': ['P53051', 'Q08295', 'P0CW40'],\n",
       "             'Cluster 883': ['A0A2K9RFZ2', 'A0A2K9RFZ2'],\n",
       "             'Cluster 884': ['Q5A6T5', 'C4YLK8'],\n",
       "             'Cluster 885': ['B9E972'],\n",
       "             'Cluster 886': ['P9WI66'],\n",
       "             'Cluster 887': ['P0CJ43', 'P0CJ43'],\n",
       "             'Cluster 888': ['Q66HG7'],\n",
       "             'Cluster 889': ['Q9VCA5'],\n",
       "             'Cluster 890': ['Q9M9Y5'],\n",
       "             'Cluster 891': ['P45894'],\n",
       "             'Cluster 892': ['P23368', 'Q99KE1'],\n",
       "             'Cluster 893': ['P35164'],\n",
       "             'Cluster 894': ['C4Z8P1'],\n",
       "             'Cluster 895': ['Q08654', 'Q08654'],\n",
       "             'Cluster 896': ['Q5A687'],\n",
       "             'Cluster 897': ['Q9C1I4'],\n",
       "             'Cluster 898': ['P34038'],\n",
       "             'Cluster 899': ['Q5AD27'],\n",
       "             'Cluster 900': ['Q9JS33', 'A1KU05', 'A9LZ72', 'Q9JUD9'],\n",
       "             'Cluster 901': ['B8H0A0'],\n",
       "             'Cluster 902': ['Q10056'],\n",
       "             'Cluster 903': ['F9VPA4'],\n",
       "             'Cluster 904': ['P23608'],\n",
       "             'Cluster 905': ['Q8GUM0', 'Q8LNP3'],\n",
       "             'Cluster 906': ['Q9SIZ3'],\n",
       "             'Cluster 907': ['Q9V5L3'],\n",
       "             'Cluster 908': ['Q0DCT8', 'A2YBX5'],\n",
       "             'Cluster 909': ['Q2KIY5'],\n",
       "             'Cluster 910': ['Q558Z0'],\n",
       "             'Cluster 911': ['O42849'],\n",
       "             'Cluster 912': ['Q98PH6'],\n",
       "             'Cluster 913': ['A0RWD6'],\n",
       "             'Cluster 914': ['A9WGJ7', 'B8G6W9', 'B9LJ78'],\n",
       "             'Cluster 915': ['P0CH62'],\n",
       "             'Cluster 916': ['Q487A4', 'Q487A4'],\n",
       "             'Cluster 917': ['Q814J0', 'Q81JL2'],\n",
       "             'Cluster 918': ['B2FRP1',\n",
       "              'B4ST40',\n",
       "              'Q3BQE6',\n",
       "              'Q9PCC5',\n",
       "              'B2STK7',\n",
       "              'Q2P582',\n",
       "              'Q4UXM5',\n",
       "              'B0U2I5',\n",
       "              'B0RPX9',\n",
       "              'B2I4Y5',\n",
       "              'Q8PHU5'],\n",
       "             'Cluster 919': ['A5UAS8', 'P44779'],\n",
       "             'Cluster 920': ['A5UUR3', 'A7NQH9'],\n",
       "             'Cluster 921': ['E3VWK3', 'E3VWI7'],\n",
       "             'Cluster 922': ['O04973'],\n",
       "             'Cluster 923': ['P58306'],\n",
       "             'Cluster 924': ['Q5WHP3'],\n",
       "             'Cluster 925': ['Q833I2'],\n",
       "             'Cluster 926': ['Q8DRV9', 'Q5LXN1'],\n",
       "             'Cluster 927': ['A8ESW7'],\n",
       "             'Cluster 928': ['C4K4U5'],\n",
       "             'Cluster 929': ['P54212'],\n",
       "             'Cluster 930': ['Q1LTF0'],\n",
       "             'Cluster 931': ['Q4JT09'],\n",
       "             'Cluster 932': ['Q82Z75'],\n",
       "             'Cluster 933': ['A5CUV9', 'B0RCZ5'],\n",
       "             'Cluster 934': ['B1HV71'],\n",
       "             'Cluster 935': ['B2KWI3'],\n",
       "             'Cluster 936': ['Q1D6K1'],\n",
       "             'Cluster 937': ['Q5QYV2'],\n",
       "             'Cluster 938': ['B2S469'],\n",
       "             'Cluster 939': ['Q5ZTX7', 'Q5WV09', 'Q5X3M1', 'A5IDL4'],\n",
       "             'Cluster 940': ['A1SLL4'],\n",
       "             'Cluster 941': ['C3PH25'],\n",
       "             'Cluster 942': ['P57551', 'Q8K985'],\n",
       "             'Cluster 943': ['Q73M28'],\n",
       "             'Cluster 944': ['B2HPY8'],\n",
       "             'Cluster 945': ['Q81BX6', 'Q6HX62'],\n",
       "             'Cluster 946': ['A3DHP0'],\n",
       "             'Cluster 947': ['B5YJE1'],\n",
       "             'Cluster 948': ['O83441'],\n",
       "             'Cluster 949': ['Q0BYP8'],\n",
       "             'Cluster 950': ['Q7NHL0'],\n",
       "             'Cluster 951': ['Q9S158'],\n",
       "             'Cluster 952': ['Q96RR4', 'O88831', 'Q8C078'],\n",
       "             'Cluster 953': ['O43781', 'Q922Y0', 'Q4V8A3', 'Q4R6S5'],\n",
       "             'Cluster 954': ['P0AD68', 'P0AD69'],\n",
       "             'Cluster 955': ['Q9XGZ0', 'Q9LYG3'],\n",
       "             'Cluster 956': ['Q6DC04'],\n",
       "             'Cluster 957': ['Q9LT69'],\n",
       "             'Cluster 958': ['P0AC41', 'G4V4G6', 'P0AC43', 'Q8ZQU3'],\n",
       "             'Cluster 959': ['P23394'],\n",
       "             'Cluster 960': ['P29018'],\n",
       "             'Cluster 961': ['Q8BTW8', 'Q9JLH6'],\n",
       "             'Cluster 962': ['Q8VYL1'],\n",
       "             'Cluster 963': ['Q9N589', 'Q9N589'],\n",
       "             'Cluster 964': ['Q6CFS5'],\n",
       "             'Cluster 965': ['H2DF87'],\n",
       "             'Cluster 966': ['Q9Z4P0'],\n",
       "             'Cluster 967': ['A0A7U9P668', 'P38940'],\n",
       "             'Cluster 968': ['Q59VH7', 'P43096'],\n",
       "             'Cluster 969': ['P78581'],\n",
       "             'Cluster 970': ['P31441',\n",
       "              'A1AHK5',\n",
       "              'A7ZTM0',\n",
       "              'B7L789',\n",
       "              'A8A6C8',\n",
       "              'B7NEX9',\n",
       "              'Q31US8',\n",
       "              'Q329F0',\n",
       "              'Q7A9L5',\n",
       "              'Q8FBX7',\n",
       "              'B7NQW3',\n",
       "              'Q3YWE3',\n",
       "              'Q0TB37',\n",
       "              'B1LKZ0',\n",
       "              'B6I3P6',\n",
       "              'B7LK09',\n",
       "              'Q0SYL1',\n",
       "              'Q7BZ90'],\n",
       "             'Cluster 971': ['P90866', 'P90866'],\n",
       "             'Cluster 972': ['Q5MFV6', 'P41510', 'Q42608'],\n",
       "             'Cluster 973': ['Q96328'],\n",
       "             'Cluster 974': ['W8EFS0', 'B6EWW8', 'F8S0Z7', 'A0A2I4HXH5'],\n",
       "             'Cluster 975': ['Q8VSR0', 'A3N3D8', 'B0BT17', 'B3GZ95'],\n",
       "             'Cluster 976': ['Q5Z0K2', 'Q5YRP8'],\n",
       "             'Cluster 977': ['Q9R9H8', 'O06988'],\n",
       "             'Cluster 978': ['D6WMZ8'],\n",
       "             'Cluster 979': ['Q8T2J9'],\n",
       "             'Cluster 980': ['Q7F757'],\n",
       "             'Cluster 981': ['A2BVS0', 'Q7V277'],\n",
       "             'Cluster 982': ['A6QHH2',\n",
       "              'Q4L6X5',\n",
       "              'Q8CS99',\n",
       "              'Q49Y68',\n",
       "              'Q2FXU5',\n",
       "              'Q6GG73',\n",
       "              'B9DNF8'],\n",
       "             'Cluster 983': ['B1I9W8',\n",
       "              'B8ZPZ6',\n",
       "              'C1CHF7',\n",
       "              'C1CND0',\n",
       "              'Q04I16',\n",
       "              'C1CU77',\n",
       "              'Q97N97',\n",
       "              'C1CB02'],\n",
       "             'Cluster 984': ['A6VPZ1', 'Q65T54'],\n",
       "             'Cluster 985': ['A9A3K1'],\n",
       "             'Cluster 986': ['B0Y1M7'],\n",
       "             'Cluster 987': ['B6H4I3'],\n",
       "             'Cluster 988': ['D4AS41'],\n",
       "             'Cluster 989': ['H9N291'],\n",
       "             'Cluster 990': ['Q9HJ26'],\n",
       "             'Cluster 991': ['Q9MB14'],\n",
       "             'Cluster 992': ['B0USU0', 'P57895'],\n",
       "             'Cluster 993': ['Q08307', 'Q06355', 'Q08296'],\n",
       "             'Cluster 994': ['Q0RNN9'],\n",
       "             'Cluster 995': ['Q4WD48'],\n",
       "             'Cluster 996': ['Q5LLW7'],\n",
       "             'Cluster 997': ['Q9HLV2'],\n",
       "             'Cluster 998': ['Q9HQD8'],\n",
       "             'Cluster 999': ['P0A2V0'],\n",
       "             ...})"
      ]
     },
     "execution_count": 17,
     "metadata": {},
     "output_type": "execute_result"
    }
   ],
   "source": [
    "cluster_all_levels2alphafold_id[0.8]"
   ]
  },
  {
   "cell_type": "code",
   "execution_count": 18,
   "metadata": {},
   "outputs": [],
   "source": [
    "import subprocess\n",
    "tmscore_path='/home/xiaoruiwang/software/TMalign/TMscore'\n",
    "def calculate_tmscore(pdb_file1, pdb_file2, tmscore_path='TMscore'):\n",
    "    \"\"\"\n",
    "    Calculate the TMscore for two PDB files using the TMscore program.\n",
    "    \n",
    "    Args:\n",
    "    pdb_file1 (str): Path to the first PDB file.\n",
    "    pdb_file2 (str): Path to the second PDB file.    默认的标准化基准\n",
    "    tmscore_path (str): Path to the TMscore executable.\n",
    "    \n",
    "    Returns:\n",
    "    float: The TMscore of the two PDB structures.\n",
    "    \"\"\"\n",
    "    # 构建命令行命令\n",
    "    command = [tmscore_path, pdb_file1, pdb_file2]\n",
    "    \n",
    "    # 调用 subprocess.run 来执行 TMscore\n",
    "    result = subprocess.run(command, stdout=subprocess.PIPE, text=True)\n",
    "    \n",
    "    # 解析输出，查找TM-score\n",
    "    tmscore = None\n",
    "    for line in result.stdout.split('\\n'):\n",
    "        if line.strip().startswith('TM-score'):\n",
    "            # print(line.strip())\n",
    "            parts = line.split('=')\n",
    "            if len(parts) > 1:\n",
    "                tmscore = float(parts[1].split()[0])\n",
    "                break\n",
    "    \n",
    "    return tmscore\n",
    "\n",
    "# 调用函数\n",
    "# pdb1 = \"/home/xiaoruiwang/software/TMalign/PDB2.pdb\"\n",
    "# pdb2 = \"/home/xiaoruiwang/software/TMalign/PDB1.pdb\"\n",
    "# tmscore = calculate_tmscore(tmscore_path='/home/xiaoruiwang/software/TMalign/TMscore',pdb_file1=pdb1, pdb_file2=pdb2)\n",
    "# print(\"Calculated TMscore:\", tmscore)\n"
   ]
  },
  {
   "cell_type": "code",
   "execution_count": 22,
   "metadata": {},
   "outputs": [],
   "source": [
    "def get_structure_TMScore(row, train_dataset, pdb_path='../dataset/ec_site_dataset/structures/alphafolddb_download'):\n",
    "    alphafold_id = row['alphafolddb-id'].replace(';', '')\n",
    "    most_similar_train_id = []\n",
    "    for cluster_ther in ['cluster_ther_0.8', 'cluster_ther_0.6', 'cluster_ther_0.4']:\n",
    "        most_similar_train_id.extend(train_dataset.loc[train_dataset[cluster_ther] == row[cluster_ther]]['alphafolddb-id'].tolist())\n",
    "        if len(most_similar_train_id) != 0:\n",
    "            break # 只取序列最相似的去比较结构相似的\n",
    "    train_pdb_names = [os.path.abspath(os.path.join(pdb_path, 'AF-{}-F1-model_v4.pdb'.format(alphafold_id.replace(';', '')))) for alphafold_id in most_similar_train_id]\n",
    "    test_pdb_name = os.path.abspath(os.path.join(pdb_path, f'AF-{alphafold_id}-F1-model_v4.pdb'))\n",
    "    max_tmscore = 0\n",
    "    for train_pdb_name in train_pdb_names:\n",
    "        tmscore = calculate_tmscore(train_pdb_name, test_pdb_name, tmscore_path=tmscore_path)\n",
    "        if max_tmscore < tmscore:\n",
    "            max_tmscore = tmscore\n",
    "    if max_tmscore > 0.5: print(f'TM-score >0.5 in {alphafold_id}')\n",
    "    return max_tmscore"
   ]
  },
  {
   "cell_type": "code",
   "execution_count": 23,
   "metadata": {},
   "outputs": [
    {
     "name": "stderr",
     "output_type": "stream",
     "text": [
      "  0%|          | 0/894 [00:00<?, ?it/s]"
     ]
    },
    {
     "name": "stderr",
     "output_type": "stream",
     "text": [
      "  0%|          | 4/894 [00:00<02:14,  6.59it/s]"
     ]
    },
    {
     "name": "stdout",
     "output_type": "stream",
     "text": [
      "TM-score >0.5 in Q5BEJ7\n"
     ]
    },
    {
     "name": "stderr",
     "output_type": "stream",
     "text": [
      "  2%|▏         | 14/894 [00:05<06:15,  2.35it/s]"
     ]
    },
    {
     "name": "stdout",
     "output_type": "stream",
     "text": [
      "TM-score >0.5 in A5CAL1\n"
     ]
    },
    {
     "name": "stderr",
     "output_type": "stream",
     "text": [
      "  2%|▏         | 15/894 [00:06<06:16,  2.33it/s]"
     ]
    },
    {
     "name": "stdout",
     "output_type": "stream",
     "text": [
      "TM-score >0.5 in Q59787\n"
     ]
    },
    {
     "name": "stderr",
     "output_type": "stream",
     "text": [
      "  2%|▏         | 20/894 [00:11<11:51,  1.23it/s]"
     ]
    },
    {
     "name": "stdout",
     "output_type": "stream",
     "text": [
      "TM-score >0.5 in Q4DJ07\n"
     ]
    },
    {
     "name": "stderr",
     "output_type": "stream",
     "text": [
      "  2%|▏         | 22/894 [00:12<09:19,  1.56it/s]"
     ]
    },
    {
     "name": "stdout",
     "output_type": "stream",
     "text": [
      "TM-score >0.5 in P42327\n"
     ]
    },
    {
     "name": "stderr",
     "output_type": "stream",
     "text": [
      "  3%|▎         | 23/894 [00:28<52:57,  3.65s/it]"
     ]
    },
    {
     "name": "stdout",
     "output_type": "stream",
     "text": [
      "TM-score >0.5 in O67610\n"
     ]
    },
    {
     "name": "stderr",
     "output_type": "stream",
     "text": [
      "  3%|▎         | 25/894 [00:29<36:08,  2.50s/it]"
     ]
    },
    {
     "name": "stdout",
     "output_type": "stream",
     "text": [
      "TM-score >0.5 in P11759\n"
     ]
    },
    {
     "name": "stderr",
     "output_type": "stream",
     "text": [
      "  3%|▎         | 26/894 [00:29<30:09,  2.09s/it]"
     ]
    },
    {
     "name": "stdout",
     "output_type": "stream",
     "text": [
      "TM-score >0.5 in Q59787\n"
     ]
    },
    {
     "name": "stderr",
     "output_type": "stream",
     "text": [
      "  3%|▎         | 27/894 [00:30<24:36,  1.70s/it]"
     ]
    },
    {
     "name": "stdout",
     "output_type": "stream",
     "text": [
      "TM-score >0.5 in Q76L37\n"
     ]
    },
    {
     "name": "stderr",
     "output_type": "stream",
     "text": [
      "  3%|▎         | 29/894 [00:30<16:49,  1.17s/it]"
     ]
    },
    {
     "name": "stdout",
     "output_type": "stream",
     "text": [
      "TM-score >0.5 in P17618\n"
     ]
    },
    {
     "name": "stderr",
     "output_type": "stream",
     "text": [
      "  3%|▎         | 30/894 [00:59<1:41:26,  7.04s/it]"
     ]
    },
    {
     "name": "stdout",
     "output_type": "stream",
     "text": [
      "TM-score >0.5 in P75691\n"
     ]
    },
    {
     "name": "stderr",
     "output_type": "stream",
     "text": [
      "  4%|▎         | 32/894 [01:00<1:04:40,  4.50s/it]"
     ]
    },
    {
     "name": "stdout",
     "output_type": "stream",
     "text": [
      "TM-score >0.5 in P50098\n"
     ]
    },
    {
     "name": "stderr",
     "output_type": "stream",
     "text": [
      "  4%|▍         | 34/894 [01:22<1:39:09,  6.92s/it]"
     ]
    },
    {
     "name": "stdout",
     "output_type": "stream",
     "text": [
      "TM-score >0.5 in Q0P8H3\n"
     ]
    },
    {
     "name": "stderr",
     "output_type": "stream",
     "text": [
      "  4%|▍         | 35/894 [01:26<1:27:59,  6.15s/it]"
     ]
    },
    {
     "name": "stdout",
     "output_type": "stream",
     "text": [
      "TM-score >0.5 in Q606Q2\n"
     ]
    },
    {
     "name": "stderr",
     "output_type": "stream",
     "text": [
      "  4%|▍         | 37/894 [01:28<59:35,  4.17s/it]  "
     ]
    },
    {
     "name": "stdout",
     "output_type": "stream",
     "text": [
      "TM-score >0.5 in Q5KWX7\n"
     ]
    },
    {
     "name": "stderr",
     "output_type": "stream",
     "text": [
      "  4%|▍         | 38/894 [01:29<47:06,  3.30s/it]"
     ]
    },
    {
     "name": "stdout",
     "output_type": "stream",
     "text": [
      "TM-score >0.5 in A5CAL1\n"
     ]
    },
    {
     "name": "stderr",
     "output_type": "stream",
     "text": [
      "  5%|▍         | 41/894 [01:35<42:36,  3.00s/it]"
     ]
    },
    {
     "name": "stdout",
     "output_type": "stream",
     "text": [
      "TM-score >0.5 in P50933\n"
     ]
    },
    {
     "name": "stderr",
     "output_type": "stream",
     "text": [
      "  5%|▍         | 43/894 [01:42<43:16,  3.05s/it]"
     ]
    },
    {
     "name": "stdout",
     "output_type": "stream",
     "text": [
      "TM-score >0.5 in A9BGZ9\n"
     ]
    },
    {
     "name": "stderr",
     "output_type": "stream",
     "text": [
      "  5%|▌         | 45/894 [01:49<44:28,  3.14s/it]"
     ]
    },
    {
     "name": "stdout",
     "output_type": "stream",
     "text": [
      "TM-score >0.5 in Q54UF7\n"
     ]
    },
    {
     "name": "stderr",
     "output_type": "stream",
     "text": [
      "  5%|▌         | 46/894 [01:56<59:05,  4.18s/it]"
     ]
    },
    {
     "name": "stdout",
     "output_type": "stream",
     "text": [
      "TM-score >0.5 in O83080\n"
     ]
    },
    {
     "name": "stderr",
     "output_type": "stream",
     "text": [
      "  5%|▌         | 47/894 [02:06<1:19:37,  5.64s/it]"
     ]
    },
    {
     "name": "stdout",
     "output_type": "stream",
     "text": [
      "TM-score >0.5 in Q5SIJ1\n"
     ]
    },
    {
     "name": "stderr",
     "output_type": "stream",
     "text": [
      "  6%|▌         | 51/894 [02:08<36:34,  2.60s/it]  "
     ]
    },
    {
     "name": "stdout",
     "output_type": "stream",
     "text": [
      "TM-score >0.5 in P33312\n"
     ]
    },
    {
     "name": "stderr",
     "output_type": "stream",
     "text": [
      "  6%|▌         | 53/894 [02:15<41:59,  3.00s/it]"
     ]
    },
    {
     "name": "stdout",
     "output_type": "stream",
     "text": [
      "TM-score >0.5 in Q6V4H0\n"
     ]
    },
    {
     "name": "stderr",
     "output_type": "stream",
     "text": [
      "  6%|▌         | 55/894 [02:19<37:02,  2.65s/it]"
     ]
    },
    {
     "name": "stdout",
     "output_type": "stream",
     "text": [
      "TM-score >0.5 in P06632\n"
     ]
    },
    {
     "name": "stderr",
     "output_type": "stream",
     "text": [
      "  6%|▋         | 56/894 [02:20<30:41,  2.20s/it]"
     ]
    },
    {
     "name": "stdout",
     "output_type": "stream",
     "text": [
      "TM-score >0.5 in P14697\n"
     ]
    },
    {
     "name": "stderr",
     "output_type": "stream",
     "text": [
      "  6%|▋         | 58/894 [02:21<21:47,  1.56s/it]"
     ]
    },
    {
     "name": "stdout",
     "output_type": "stream",
     "text": [
      "TM-score >0.5 in Q65T37\n"
     ]
    },
    {
     "name": "stderr",
     "output_type": "stream",
     "text": [
      "  7%|▋         | 60/894 [02:43<1:23:00,  5.97s/it]"
     ]
    },
    {
     "name": "stdout",
     "output_type": "stream",
     "text": [
      "TM-score >0.5 in Q64BR7\n"
     ]
    },
    {
     "name": "stderr",
     "output_type": "stream",
     "text": [
      "  7%|▋         | 62/894 [02:45<53:33,  3.86s/it]  "
     ]
    },
    {
     "name": "stdout",
     "output_type": "stream",
     "text": [
      "TM-score >0.5 in Q9I5I6\n"
     ]
    },
    {
     "name": "stderr",
     "output_type": "stream",
     "text": [
      "  7%|▋         | 63/894 [02:47<44:44,  3.23s/it]"
     ]
    },
    {
     "name": "stdout",
     "output_type": "stream",
     "text": [
      "TM-score >0.5 in C0KTJ6\n"
     ]
    },
    {
     "name": "stderr",
     "output_type": "stream",
     "text": [
      "  7%|▋         | 64/894 [02:54<59:22,  4.29s/it]"
     ]
    },
    {
     "name": "stdout",
     "output_type": "stream",
     "text": [
      "TM-score >0.5 in P28834\n"
     ]
    },
    {
     "name": "stderr",
     "output_type": "stream",
     "text": [
      "  7%|▋         | 67/894 [02:56<31:33,  2.29s/it]"
     ]
    },
    {
     "name": "stdout",
     "output_type": "stream",
     "text": [
      "TM-score >0.5 in Q977U7\n"
     ]
    },
    {
     "name": "stderr",
     "output_type": "stream",
     "text": [
      "  8%|▊         | 68/894 [02:58<30:54,  2.25s/it]"
     ]
    },
    {
     "name": "stdout",
     "output_type": "stream",
     "text": [
      "TM-score >0.5 in P48828\n"
     ]
    },
    {
     "name": "stderr",
     "output_type": "stream",
     "text": [
      "  8%|▊         | 69/894 [02:58<25:02,  1.82s/it]"
     ]
    },
    {
     "name": "stdout",
     "output_type": "stream",
     "text": [
      "TM-score >0.5 in A5CAL1\n"
     ]
    },
    {
     "name": "stderr",
     "output_type": "stream",
     "text": [
      "  8%|▊         | 70/894 [02:59<22:09,  1.61s/it]"
     ]
    },
    {
     "name": "stdout",
     "output_type": "stream",
     "text": [
      "TM-score >0.5 in P25984\n"
     ]
    },
    {
     "name": "stderr",
     "output_type": "stream",
     "text": [
      "  8%|▊         | 72/894 [03:28<1:46:58,  7.81s/it]"
     ]
    },
    {
     "name": "stdout",
     "output_type": "stream",
     "text": [
      "TM-score >0.5 in Q9WZ26\n"
     ]
    },
    {
     "name": "stderr",
     "output_type": "stream",
     "text": [
      "  9%|▊         | 77/894 [03:44<45:26,  3.34s/it]  "
     ]
    },
    {
     "name": "stdout",
     "output_type": "stream",
     "text": [
      "TM-score >0.5 in Q9ZBU1\n"
     ]
    },
    {
     "name": "stderr",
     "output_type": "stream",
     "text": [
      "  9%|▉         | 80/894 [03:48<29:38,  2.19s/it]"
     ]
    },
    {
     "name": "stdout",
     "output_type": "stream",
     "text": [
      "TM-score >0.5 in P07788\n"
     ]
    },
    {
     "name": "stderr",
     "output_type": "stream",
     "text": [
      "  9%|▉         | 81/894 [03:50<30:12,  2.23s/it]"
     ]
    },
    {
     "name": "stdout",
     "output_type": "stream",
     "text": [
      "TM-score >0.5 in P00502\n"
     ]
    },
    {
     "name": "stderr",
     "output_type": "stream",
     "text": [
      "  9%|▉         | 83/894 [03:52<20:39,  1.53s/it]"
     ]
    },
    {
     "name": "stdout",
     "output_type": "stream",
     "text": [
      "TM-score >0.5 in P33912\n"
     ]
    },
    {
     "name": "stderr",
     "output_type": "stream",
     "text": [
      " 10%|▉         | 86/894 [03:54<15:57,  1.19s/it]"
     ]
    },
    {
     "name": "stdout",
     "output_type": "stream",
     "text": [
      "TM-score >0.5 in Q9UR19\n"
     ]
    },
    {
     "name": "stderr",
     "output_type": "stream",
     "text": [
      " 10%|▉         | 88/894 [03:59<21:55,  1.63s/it]"
     ]
    },
    {
     "name": "stdout",
     "output_type": "stream",
     "text": [
      "TM-score >0.5 in O52762\n"
     ]
    },
    {
     "name": "stderr",
     "output_type": "stream",
     "text": [
      " 10%|▉         | 89/894 [04:00<20:33,  1.53s/it]"
     ]
    },
    {
     "name": "stdout",
     "output_type": "stream",
     "text": [
      "TM-score >0.5 in P30263\n"
     ]
    },
    {
     "name": "stderr",
     "output_type": "stream",
     "text": [
      " 11%|█         | 99/894 [04:08<14:56,  1.13s/it]"
     ]
    },
    {
     "name": "stdout",
     "output_type": "stream",
     "text": [
      "TM-score >0.5 in P07773\n"
     ]
    },
    {
     "name": "stderr",
     "output_type": "stream",
     "text": [
      " 12%|█▏        | 103/894 [04:10<09:43,  1.36it/s]"
     ]
    },
    {
     "name": "stdout",
     "output_type": "stream",
     "text": [
      "TM-score >0.5 in Q53353\n"
     ]
    },
    {
     "name": "stderr",
     "output_type": "stream",
     "text": [
      " 12%|█▏        | 104/894 [04:10<09:11,  1.43it/s]"
     ]
    },
    {
     "name": "stdout",
     "output_type": "stream",
     "text": [
      "TM-score >0.5 in O31266\n"
     ]
    },
    {
     "name": "stderr",
     "output_type": "stream",
     "text": [
      " 12%|█▏        | 105/894 [04:11<09:09,  1.44it/s]"
     ]
    },
    {
     "name": "stdout",
     "output_type": "stream",
     "text": [
      "TM-score >0.5 in Q6J1Z6\n"
     ]
    },
    {
     "name": "stderr",
     "output_type": "stream",
     "text": [
      " 13%|█▎        | 113/894 [04:20<13:42,  1.05s/it]"
     ]
    },
    {
     "name": "stdout",
     "output_type": "stream",
     "text": [
      "TM-score >0.5 in Q8S0S6\n"
     ]
    },
    {
     "name": "stderr",
     "output_type": "stream",
     "text": [
      " 13%|█▎        | 115/894 [04:21<11:35,  1.12it/s]"
     ]
    },
    {
     "name": "stdout",
     "output_type": "stream",
     "text": [
      "TM-score >0.5 in Q88FY2\n"
     ]
    },
    {
     "name": "stderr",
     "output_type": "stream",
     "text": [
      " 13%|█▎        | 118/894 [04:26<15:35,  1.21s/it]"
     ]
    },
    {
     "name": "stdout",
     "output_type": "stream",
     "text": [
      "TM-score >0.5 in E9QYP0\n"
     ]
    },
    {
     "name": "stderr",
     "output_type": "stream",
     "text": [
      " 13%|█▎        | 119/894 [04:27<15:01,  1.16s/it]"
     ]
    },
    {
     "name": "stdout",
     "output_type": "stream",
     "text": [
      "TM-score >0.5 in P00438\n"
     ]
    },
    {
     "name": "stderr",
     "output_type": "stream",
     "text": [
      " 13%|█▎        | 120/894 [04:27<12:37,  1.02it/s]"
     ]
    },
    {
     "name": "stdout",
     "output_type": "stream",
     "text": [
      "TM-score >0.5 in F2R776\n"
     ]
    },
    {
     "name": "stderr",
     "output_type": "stream",
     "text": [
      " 14%|█▎        | 121/894 [04:28<14:11,  1.10s/it]"
     ]
    },
    {
     "name": "stdout",
     "output_type": "stream",
     "text": [
      "TM-score >0.5 in Q9HWG9\n"
     ]
    },
    {
     "name": "stderr",
     "output_type": "stream",
     "text": [
      " 14%|█▍        | 124/894 [04:32<14:35,  1.14s/it]"
     ]
    },
    {
     "name": "stdout",
     "output_type": "stream",
     "text": [
      "TM-score >0.5 in P10614\n"
     ]
    },
    {
     "name": "stderr",
     "output_type": "stream",
     "text": [
      " 15%|█▌        | 137/894 [04:46<08:40,  1.45it/s]"
     ]
    },
    {
     "name": "stdout",
     "output_type": "stream",
     "text": [
      "TM-score >0.5 in O25087\n",
      "TM-score >0.5 in P9WNE5\n"
     ]
    },
    {
     "name": "stderr",
     "output_type": "stream",
     "text": [
      " 15%|█▌        | 138/894 [04:47<08:09,  1.54it/s]"
     ]
    },
    {
     "name": "stdout",
     "output_type": "stream",
     "text": [
      "TM-score >0.5 in Q9S2N0\n"
     ]
    },
    {
     "name": "stderr",
     "output_type": "stream",
     "text": [
      " 16%|█▌        | 142/894 [05:12<54:00,  4.31s/it]"
     ]
    },
    {
     "name": "stdout",
     "output_type": "stream",
     "text": [
      "TM-score >0.5 in Q56R04\n"
     ]
    },
    {
     "name": "stderr",
     "output_type": "stream",
     "text": [
      " 16%|█▌        | 143/894 [05:50<2:11:11, 10.48s/it]"
     ]
    },
    {
     "name": "stdout",
     "output_type": "stream",
     "text": [
      "TM-score >0.5 in Q2FWX9\n"
     ]
    },
    {
     "name": "stderr",
     "output_type": "stream",
     "text": [
      " 16%|█▋        | 147/894 [06:50<3:28:32, 16.75s/it]"
     ]
    },
    {
     "name": "stdout",
     "output_type": "stream",
     "text": [
      "TM-score >0.5 in P46795\n"
     ]
    },
    {
     "name": "stderr",
     "output_type": "stream",
     "text": [
      " 17%|█▋        | 149/894 [07:06<2:28:13, 11.94s/it]"
     ]
    },
    {
     "name": "stdout",
     "output_type": "stream",
     "text": [
      "TM-score >0.5 in P25553\n"
     ]
    },
    {
     "name": "stderr",
     "output_type": "stream",
     "text": [
      " 17%|█▋        | 152/894 [07:46<2:54:39, 14.12s/it]"
     ]
    },
    {
     "name": "stdout",
     "output_type": "stream",
     "text": [
      "TM-score >0.5 in Q56R04\n"
     ]
    },
    {
     "name": "stderr",
     "output_type": "stream",
     "text": [
      " 17%|█▋        | 153/894 [08:10<3:32:27, 17.20s/it]"
     ]
    },
    {
     "name": "stdout",
     "output_type": "stream",
     "text": [
      "TM-score >0.5 in Q56R04\n"
     ]
    },
    {
     "name": "stderr",
     "output_type": "stream",
     "text": [
      " 17%|█▋        | 156/894 [08:12<1:38:19,  7.99s/it]"
     ]
    },
    {
     "name": "stdout",
     "output_type": "stream",
     "text": [
      "TM-score >0.5 in A1U5W8\n"
     ]
    },
    {
     "name": "stderr",
     "output_type": "stream",
     "text": [
      " 18%|█▊        | 157/894 [08:26<1:52:37,  9.17s/it]"
     ]
    },
    {
     "name": "stdout",
     "output_type": "stream",
     "text": [
      "TM-score >0.5 in P07275\n"
     ]
    },
    {
     "name": "stderr",
     "output_type": "stream",
     "text": [
      " 18%|█▊        | 162/894 [08:30<46:30,  3.81s/it]  "
     ]
    },
    {
     "name": "stdout",
     "output_type": "stream",
     "text": [
      "TM-score >0.5 in Q5SMC7\n"
     ]
    },
    {
     "name": "stderr",
     "output_type": "stream",
     "text": [
      " 18%|█▊        | 164/894 [08:31<33:52,  2.78s/it]"
     ]
    },
    {
     "name": "stdout",
     "output_type": "stream",
     "text": [
      "TM-score >0.5 in Q4WZ70\n"
     ]
    },
    {
     "name": "stderr",
     "output_type": "stream",
     "text": [
      " 19%|█▊        | 167/894 [08:39<33:50,  2.79s/it]"
     ]
    },
    {
     "name": "stdout",
     "output_type": "stream",
     "text": [
      "TM-score >0.5 in P54322\n"
     ]
    },
    {
     "name": "stderr",
     "output_type": "stream",
     "text": [
      " 19%|█▉        | 168/894 [08:40<29:40,  2.45s/it]"
     ]
    },
    {
     "name": "stdout",
     "output_type": "stream",
     "text": [
      "TM-score >0.5 in Q97LU2\n"
     ]
    },
    {
     "name": "stderr",
     "output_type": "stream",
     "text": [
      " 19%|█▉        | 172/894 [08:41<13:49,  1.15s/it]"
     ]
    },
    {
     "name": "stdout",
     "output_type": "stream",
     "text": [
      "TM-score >0.5 in P26646\n"
     ]
    },
    {
     "name": "stderr",
     "output_type": "stream",
     "text": [
      " 19%|█▉        | 174/894 [08:54<33:12,  2.77s/it]"
     ]
    },
    {
     "name": "stdout",
     "output_type": "stream",
     "text": [
      "TM-score >0.5 in P84155\n"
     ]
    },
    {
     "name": "stderr",
     "output_type": "stream",
     "text": [
      " 20%|█▉        | 175/894 [08:54<28:03,  2.34s/it]"
     ]
    },
    {
     "name": "stdout",
     "output_type": "stream",
     "text": [
      "TM-score >0.5 in P07788\n"
     ]
    },
    {
     "name": "stderr",
     "output_type": "stream",
     "text": [
      " 20%|█▉        | 178/894 [08:57<20:04,  1.68s/it]"
     ]
    },
    {
     "name": "stdout",
     "output_type": "stream",
     "text": [
      "TM-score >0.5 in P26164\n"
     ]
    },
    {
     "name": "stderr",
     "output_type": "stream",
     "text": [
      " 20%|██        | 183/894 [09:14<26:51,  2.27s/it]"
     ]
    },
    {
     "name": "stdout",
     "output_type": "stream",
     "text": [
      "TM-score >0.5 in Q4U331\n"
     ]
    },
    {
     "name": "stderr",
     "output_type": "stream",
     "text": [
      " 21%|██        | 185/894 [09:50<1:31:52,  7.77s/it]"
     ]
    },
    {
     "name": "stdout",
     "output_type": "stream",
     "text": [
      "TM-score >0.5 in P96110\n"
     ]
    },
    {
     "name": "stderr",
     "output_type": "stream",
     "text": [
      " 21%|██        | 186/894 [09:51<1:14:50,  6.34s/it]"
     ]
    },
    {
     "name": "stdout",
     "output_type": "stream",
     "text": [
      "TM-score >0.5 in Q972D2\n"
     ]
    },
    {
     "name": "stderr",
     "output_type": "stream",
     "text": [
      " 21%|██        | 189/894 [10:04<1:04:18,  5.47s/it]"
     ]
    },
    {
     "name": "stdout",
     "output_type": "stream",
     "text": [
      "TM-score >0.5 in P38075\n"
     ]
    },
    {
     "name": "stderr",
     "output_type": "stream",
     "text": [
      " 21%|██▏       | 192/894 [10:05<39:39,  3.39s/it]  "
     ]
    },
    {
     "name": "stdout",
     "output_type": "stream",
     "text": [
      "TM-score >0.5 in P38999\n"
     ]
    },
    {
     "name": "stderr",
     "output_type": "stream",
     "text": [
      " 22%|██▏       | 201/894 [10:12<15:00,  1.30s/it]"
     ]
    },
    {
     "name": "stdout",
     "output_type": "stream",
     "text": [
      "TM-score >0.5 in Q9I5F3\n"
     ]
    },
    {
     "name": "stderr",
     "output_type": "stream",
     "text": [
      " 23%|██▎       | 203/894 [10:14<12:42,  1.10s/it]"
     ]
    },
    {
     "name": "stdout",
     "output_type": "stream",
     "text": [
      "TM-score >0.5 in Q9I509\n"
     ]
    },
    {
     "name": "stderr",
     "output_type": "stream",
     "text": [
      " 23%|██▎       | 206/894 [10:14<09:10,  1.25it/s]"
     ]
    },
    {
     "name": "stdout",
     "output_type": "stream",
     "text": [
      "TM-score >0.5 in C1I202\n"
     ]
    },
    {
     "name": "stderr",
     "output_type": "stream",
     "text": [
      " 23%|██▎       | 208/894 [10:15<07:08,  1.60it/s]"
     ]
    },
    {
     "name": "stdout",
     "output_type": "stream",
     "text": [
      "TM-score >0.5 in O07529\n"
     ]
    },
    {
     "name": "stderr",
     "output_type": "stream",
     "text": [
      " 23%|██▎       | 209/894 [10:16<07:42,  1.48it/s]"
     ]
    },
    {
     "name": "stdout",
     "output_type": "stream",
     "text": [
      "TM-score >0.5 in P38501\n"
     ]
    },
    {
     "name": "stderr",
     "output_type": "stream",
     "text": [
      " 24%|██▍       | 214/894 [10:20<08:21,  1.36it/s]"
     ]
    },
    {
     "name": "stdout",
     "output_type": "stream",
     "text": [
      "TM-score >0.5 in P05314\n"
     ]
    },
    {
     "name": "stderr",
     "output_type": "stream",
     "text": [
      " 24%|██▍       | 216/894 [10:21<08:00,  1.41it/s]"
     ]
    },
    {
     "name": "stdout",
     "output_type": "stream",
     "text": [
      "TM-score >0.5 in P43788\n"
     ]
    },
    {
     "name": "stderr",
     "output_type": "stream",
     "text": [
      " 24%|██▍       | 219/894 [10:25<11:11,  1.00it/s]"
     ]
    },
    {
     "name": "stdout",
     "output_type": "stream",
     "text": [
      "TM-score >0.5 in Q8GXX0\n"
     ]
    },
    {
     "name": "stderr",
     "output_type": "stream",
     "text": [
      " 25%|██▍       | 222/894 [10:25<06:29,  1.72it/s]"
     ]
    },
    {
     "name": "stdout",
     "output_type": "stream",
     "text": [
      "TM-score >0.5 in Q59109\n"
     ]
    },
    {
     "name": "stderr",
     "output_type": "stream",
     "text": [
      " 26%|██▌       | 231/894 [10:47<16:35,  1.50s/it]"
     ]
    },
    {
     "name": "stdout",
     "output_type": "stream",
     "text": [
      "TM-score >0.5 in Q9DCL4\n"
     ]
    },
    {
     "name": "stderr",
     "output_type": "stream",
     "text": [
      " 26%|██▌       | 233/894 [10:48<13:36,  1.24s/it]"
     ]
    },
    {
     "name": "stdout",
     "output_type": "stream",
     "text": [
      "TM-score >0.5 in O26249\n"
     ]
    },
    {
     "name": "stderr",
     "output_type": "stream",
     "text": [
      " 27%|██▋       | 237/894 [11:00<21:25,  1.96s/it]"
     ]
    },
    {
     "name": "stdout",
     "output_type": "stream",
     "text": [
      "TM-score >0.5 in P95748\n"
     ]
    },
    {
     "name": "stderr",
     "output_type": "stream",
     "text": [
      " 27%|██▋       | 240/894 [11:01<12:25,  1.14s/it]"
     ]
    },
    {
     "name": "stdout",
     "output_type": "stream",
     "text": [
      "TM-score >0.5 in P20589\n",
      "TM-score >0.5 in A0R5M8\n"
     ]
    },
    {
     "name": "stderr",
     "output_type": "stream",
     "text": [
      " 27%|██▋       | 242/894 [11:05<15:57,  1.47s/it]"
     ]
    },
    {
     "name": "stdout",
     "output_type": "stream",
     "text": [
      "TM-score >0.5 in Q27793\n"
     ]
    },
    {
     "name": "stderr",
     "output_type": "stream",
     "text": [
      " 28%|██▊       | 247/894 [11:13<16:08,  1.50s/it]"
     ]
    },
    {
     "name": "stdout",
     "output_type": "stream",
     "text": [
      "TM-score >0.5 in Q9UL19\n"
     ]
    },
    {
     "name": "stderr",
     "output_type": "stream",
     "text": [
      " 29%|██▉       | 258/894 [11:47<41:54,  3.95s/it]"
     ]
    },
    {
     "name": "stdout",
     "output_type": "stream",
     "text": [
      "TM-score >0.5 in P48391\n"
     ]
    },
    {
     "name": "stderr",
     "output_type": "stream",
     "text": [
      " 29%|██▉       | 259/894 [11:50<40:02,  3.78s/it]"
     ]
    },
    {
     "name": "stdout",
     "output_type": "stream",
     "text": [
      "TM-score >0.5 in Q9K8V3\n"
     ]
    },
    {
     "name": "stderr",
     "output_type": "stream",
     "text": [
      " 29%|██▉       | 261/894 [11:51<30:06,  2.85s/it]"
     ]
    },
    {
     "name": "stdout",
     "output_type": "stream",
     "text": [
      "TM-score >0.5 in Q00267\n"
     ]
    },
    {
     "name": "stderr",
     "output_type": "stream",
     "text": [
      " 29%|██▉       | 263/894 [11:56<27:36,  2.63s/it]"
     ]
    },
    {
     "name": "stdout",
     "output_type": "stream",
     "text": [
      "TM-score >0.5 in Q975F9\n"
     ]
    },
    {
     "name": "stderr",
     "output_type": "stream",
     "text": [
      " 30%|██▉       | 264/894 [12:11<55:41,  5.30s/it]"
     ]
    },
    {
     "name": "stdout",
     "output_type": "stream",
     "text": [
      "TM-score >0.5 in P27796\n"
     ]
    },
    {
     "name": "stderr",
     "output_type": "stream",
     "text": [
      " 30%|██▉       | 265/894 [12:25<1:17:10,  7.36s/it]"
     ]
    },
    {
     "name": "stdout",
     "output_type": "stream",
     "text": [
      "TM-score >0.5 in Q0KBP1\n"
     ]
    },
    {
     "name": "stderr",
     "output_type": "stream",
     "text": [
      " 30%|███       | 269/894 [13:07<1:42:53,  9.88s/it]"
     ]
    },
    {
     "name": "stdout",
     "output_type": "stream",
     "text": [
      "TM-score >0.5 in Q8LIL0\n"
     ]
    },
    {
     "name": "stderr",
     "output_type": "stream",
     "text": [
      " 30%|███       | 270/894 [14:00<3:11:41, 18.43s/it]"
     ]
    },
    {
     "name": "stdout",
     "output_type": "stream",
     "text": [
      "TM-score >0.5 in Q8SAS8\n"
     ]
    },
    {
     "name": "stderr",
     "output_type": "stream",
     "text": [
      " 30%|███       | 272/894 [14:01<2:02:45, 11.84s/it]"
     ]
    },
    {
     "name": "stdout",
     "output_type": "stream",
     "text": [
      "TM-score >0.5 in Q9FCA7\n"
     ]
    },
    {
     "name": "stderr",
     "output_type": "stream",
     "text": [
      " 31%|███       | 273/894 [14:01<1:37:57,  9.46s/it]"
     ]
    },
    {
     "name": "stdout",
     "output_type": "stream",
     "text": [
      "TM-score >0.5 in P00484\n"
     ]
    },
    {
     "name": "stderr",
     "output_type": "stream",
     "text": [
      " 31%|███       | 274/894 [14:02<1:18:12,  7.57s/it]"
     ]
    },
    {
     "name": "stdout",
     "output_type": "stream",
     "text": [
      "TM-score >0.5 in A0QSZ0\n"
     ]
    },
    {
     "name": "stderr",
     "output_type": "stream",
     "text": [
      " 31%|███▏      | 280/894 [14:04<23:34,  2.30s/it]  "
     ]
    },
    {
     "name": "stdout",
     "output_type": "stream",
     "text": [
      "TM-score >0.5 in P40984\n"
     ]
    },
    {
     "name": "stderr",
     "output_type": "stream",
     "text": [
      " 32%|███▏      | 282/894 [14:07<21:36,  2.12s/it]"
     ]
    },
    {
     "name": "stdout",
     "output_type": "stream",
     "text": [
      "TM-score >0.5 in P18956\n"
     ]
    },
    {
     "name": "stderr",
     "output_type": "stream",
     "text": [
      " 32%|███▏      | 284/894 [14:34<52:14,  5.14s/it]"
     ]
    },
    {
     "name": "stdout",
     "output_type": "stream",
     "text": [
      "TM-score >0.5 in P08997\n"
     ]
    },
    {
     "name": "stderr",
     "output_type": "stream",
     "text": [
      " 32%|███▏      | 287/894 [14:39<35:35,  3.52s/it]"
     ]
    },
    {
     "name": "stdout",
     "output_type": "stream",
     "text": [
      "TM-score >0.5 in Q9AET5\n"
     ]
    },
    {
     "name": "stderr",
     "output_type": "stream",
     "text": [
      " 33%|███▎      | 291/894 [14:59<45:26,  4.52s/it]"
     ]
    },
    {
     "name": "stdout",
     "output_type": "stream",
     "text": [
      "TM-score >0.5 in Q92410\n"
     ]
    },
    {
     "name": "stderr",
     "output_type": "stream",
     "text": [
      " 34%|███▎      | 300/894 [15:19<14:38,  1.48s/it]  "
     ]
    },
    {
     "name": "stdout",
     "output_type": "stream",
     "text": [
      "TM-score >0.5 in A0A384KG77\n",
      "TM-score >0.5 in Q5DYV8\n"
     ]
    },
    {
     "name": "stderr",
     "output_type": "stream",
     "text": [
      " 34%|███▎      | 301/894 [15:23<19:16,  1.95s/it]"
     ]
    },
    {
     "name": "stdout",
     "output_type": "stream",
     "text": [
      "TM-score >0.5 in A1JTP8\n"
     ]
    },
    {
     "name": "stderr",
     "output_type": "stream",
     "text": [
      " 34%|███▍      | 302/894 [15:24<16:57,  1.72s/it]"
     ]
    },
    {
     "name": "stdout",
     "output_type": "stream",
     "text": [
      "TM-score >0.5 in P33644\n"
     ]
    },
    {
     "name": "stderr",
     "output_type": "stream",
     "text": [
      " 34%|███▍      | 303/894 [15:25<13:58,  1.42s/it]"
     ]
    },
    {
     "name": "stdout",
     "output_type": "stream",
     "text": [
      "TM-score >0.5 in Q9YAQ8\n"
     ]
    },
    {
     "name": "stderr",
     "output_type": "stream",
     "text": [
      " 34%|███▍      | 307/894 [15:25<05:50,  1.67it/s]"
     ]
    },
    {
     "name": "stdout",
     "output_type": "stream",
     "text": [
      "TM-score >0.5 in Q04178\n"
     ]
    },
    {
     "name": "stderr",
     "output_type": "stream",
     "text": [
      " 35%|███▍      | 310/894 [15:34<19:04,  1.96s/it]"
     ]
    },
    {
     "name": "stdout",
     "output_type": "stream",
     "text": [
      "TM-score >0.5 in P34802\n"
     ]
    },
    {
     "name": "stderr",
     "output_type": "stream",
     "text": [
      " 36%|███▌      | 320/894 [15:50<19:58,  2.09s/it]"
     ]
    },
    {
     "name": "stdout",
     "output_type": "stream",
     "text": [
      "TM-score >0.5 in Q8U4G1\n"
     ]
    },
    {
     "name": "stderr",
     "output_type": "stream",
     "text": [
      " 36%|███▌      | 322/894 [15:54<20:24,  2.14s/it]"
     ]
    },
    {
     "name": "stdout",
     "output_type": "stream",
     "text": [
      "TM-score >0.5 in P00502\n"
     ]
    },
    {
     "name": "stderr",
     "output_type": "stream",
     "text": [
      " 36%|███▌      | 323/894 [15:57<21:17,  2.24s/it]"
     ]
    },
    {
     "name": "stdout",
     "output_type": "stream",
     "text": [
      "TM-score >0.5 in P13745\n"
     ]
    },
    {
     "name": "stderr",
     "output_type": "stream",
     "text": [
      " 36%|███▋      | 326/894 [15:58<10:44,  1.14s/it]"
     ]
    },
    {
     "name": "stdout",
     "output_type": "stream",
     "text": [
      "TM-score >0.5 in P12653\n"
     ]
    },
    {
     "name": "stderr",
     "output_type": "stream",
     "text": [
      " 37%|███▋      | 328/894 [16:00<10:36,  1.12s/it]"
     ]
    },
    {
     "name": "stdout",
     "output_type": "stream",
     "text": [
      "TM-score >0.5 in P26697\n"
     ]
    },
    {
     "name": "stderr",
     "output_type": "stream",
     "text": [
      " 37%|███▋      | 333/894 [16:04<08:39,  1.08it/s]"
     ]
    },
    {
     "name": "stdout",
     "output_type": "stream",
     "text": [
      "TM-score >0.5 in Q482G5\n"
     ]
    },
    {
     "name": "stderr",
     "output_type": "stream",
     "text": [
      " 37%|███▋      | 334/894 [16:07<13:17,  1.42s/it]"
     ]
    },
    {
     "name": "stdout",
     "output_type": "stream",
     "text": [
      "TM-score >0.5 in P34802\n"
     ]
    },
    {
     "name": "stderr",
     "output_type": "stream",
     "text": [
      " 38%|███▊      | 341/894 [16:35<29:13,  3.17s/it]"
     ]
    },
    {
     "name": "stdout",
     "output_type": "stream",
     "text": [
      "TM-score >0.5 in Q50EL0\n"
     ]
    },
    {
     "name": "stderr",
     "output_type": "stream",
     "text": [
      " 38%|███▊      | 342/894 [16:36<23:16,  2.53s/it]"
     ]
    },
    {
     "name": "stdout",
     "output_type": "stream",
     "text": [
      "TM-score >0.5 in Q9HJH3\n"
     ]
    },
    {
     "name": "stderr",
     "output_type": "stream",
     "text": [
      " 38%|███▊      | 343/894 [16:36<18:04,  1.97s/it]"
     ]
    },
    {
     "name": "stdout",
     "output_type": "stream",
     "text": [
      "TM-score >0.5 in Q97AR4\n"
     ]
    },
    {
     "name": "stderr",
     "output_type": "stream",
     "text": [
      " 39%|███▉      | 350/894 [16:42<10:54,  1.20s/it]"
     ]
    },
    {
     "name": "stdout",
     "output_type": "stream",
     "text": [
      "TM-score >0.5 in Q9Y7P0\n"
     ]
    },
    {
     "name": "stderr",
     "output_type": "stream",
     "text": [
      " 39%|███▉      | 352/894 [17:07<50:34,  5.60s/it]"
     ]
    },
    {
     "name": "stdout",
     "output_type": "stream",
     "text": [
      "TM-score >0.5 in O42652\n"
     ]
    },
    {
     "name": "stderr",
     "output_type": "stream",
     "text": [
      " 39%|███▉      | 353/894 [17:13<50:06,  5.56s/it]"
     ]
    },
    {
     "name": "stdout",
     "output_type": "stream",
     "text": [
      "TM-score >0.5 in Q9X2A5\n"
     ]
    },
    {
     "name": "stderr",
     "output_type": "stream",
     "text": [
      " 40%|███▉      | 354/894 [17:17<46:41,  5.19s/it]"
     ]
    },
    {
     "name": "stdout",
     "output_type": "stream",
     "text": [
      "TM-score >0.5 in O66442\n"
     ]
    },
    {
     "name": "stderr",
     "output_type": "stream",
     "text": [
      " 40%|███▉      | 357/894 [17:29<47:02,  5.26s/it]"
     ]
    },
    {
     "name": "stdout",
     "output_type": "stream",
     "text": [
      "TM-score >0.5 in Q0IG34\n"
     ]
    },
    {
     "name": "stderr",
     "output_type": "stream",
     "text": [
      " 40%|████      | 358/894 [17:47<1:18:35,  8.80s/it]"
     ]
    },
    {
     "name": "stdout",
     "output_type": "stream",
     "text": [
      "TM-score >0.5 in Q59196\n"
     ]
    },
    {
     "name": "stderr",
     "output_type": "stream",
     "text": [
      " 40%|████      | 359/894 [17:50<1:04:17,  7.21s/it]"
     ]
    },
    {
     "name": "stdout",
     "output_type": "stream",
     "text": [
      "TM-score >0.5 in P95468\n"
     ]
    },
    {
     "name": "stderr",
     "output_type": "stream",
     "text": [
      " 40%|████      | 360/894 [17:53<52:10,  5.86s/it]  "
     ]
    },
    {
     "name": "stdout",
     "output_type": "stream",
     "text": [
      "TM-score >0.5 in O25130\n"
     ]
    },
    {
     "name": "stderr",
     "output_type": "stream",
     "text": [
      " 41%|████      | 367/894 [17:59<10:45,  1.22s/it]"
     ]
    },
    {
     "name": "stdout",
     "output_type": "stream",
     "text": [
      "TM-score >0.5 in P80019\n"
     ]
    },
    {
     "name": "stderr",
     "output_type": "stream",
     "text": [
      " 41%|████▏     | 371/894 [18:21<33:25,  3.83s/it]"
     ]
    },
    {
     "name": "stdout",
     "output_type": "stream",
     "text": [
      "TM-score >0.5 in Q9V2Z6\n"
     ]
    },
    {
     "name": "stderr",
     "output_type": "stream",
     "text": [
      " 42%|████▏     | 374/894 [18:22<17:04,  1.97s/it]"
     ]
    },
    {
     "name": "stdout",
     "output_type": "stream",
     "text": [
      "TM-score >0.5 in P17709\n"
     ]
    },
    {
     "name": "stderr",
     "output_type": "stream",
     "text": [
      " 43%|████▎     | 383/894 [18:26<06:01,  1.41it/s]"
     ]
    },
    {
     "name": "stdout",
     "output_type": "stream",
     "text": [
      "TM-score >0.5 in P39610\n"
     ]
    },
    {
     "name": "stderr",
     "output_type": "stream",
     "text": [
      " 43%|████▎     | 384/894 [18:27<06:30,  1.30it/s]"
     ]
    },
    {
     "name": "stdout",
     "output_type": "stream",
     "text": [
      "TM-score >0.5 in P39593\n"
     ]
    },
    {
     "name": "stderr",
     "output_type": "stream",
     "text": [
      " 43%|████▎     | 386/894 [18:27<05:10,  1.63it/s]"
     ]
    },
    {
     "name": "stdout",
     "output_type": "stream",
     "text": [
      "TM-score >0.5 in P10880\n"
     ]
    },
    {
     "name": "stderr",
     "output_type": "stream",
     "text": [
      " 44%|████▎     | 390/894 [18:28<03:14,  2.59it/s]"
     ]
    },
    {
     "name": "stdout",
     "output_type": "stream",
     "text": [
      "TM-score >0.5 in P75548\n"
     ]
    },
    {
     "name": "stderr",
     "output_type": "stream",
     "text": [
      " 45%|████▍     | 401/894 [18:37<06:26,  1.27it/s]"
     ]
    },
    {
     "name": "stdout",
     "output_type": "stream",
     "text": [
      "TM-score >0.5 in Q83AU6\n"
     ]
    },
    {
     "name": "stderr",
     "output_type": "stream",
     "text": [
      " 45%|████▍     | 402/894 [18:41<09:39,  1.18s/it]"
     ]
    },
    {
     "name": "stdout",
     "output_type": "stream",
     "text": [
      "TM-score >0.5 in Q9LYU8\n"
     ]
    },
    {
     "name": "stderr",
     "output_type": "stream",
     "text": [
      " 45%|████▌     | 406/894 [18:52<15:47,  1.94s/it]"
     ]
    },
    {
     "name": "stdout",
     "output_type": "stream",
     "text": [
      "TM-score >0.5 in A0A286R7K5\n",
      "TM-score >0.5 in P75548\n"
     ]
    },
    {
     "name": "stderr",
     "output_type": "stream",
     "text": [
      " 46%|████▌     | 409/894 [19:07<25:56,  3.21s/it]"
     ]
    },
    {
     "name": "stdout",
     "output_type": "stream",
     "text": [
      "TM-score >0.5 in O66490\n"
     ]
    },
    {
     "name": "stderr",
     "output_type": "stream",
     "text": [
      " 46%|████▌     | 413/894 [19:08<13:10,  1.64s/it]"
     ]
    },
    {
     "name": "stdout",
     "output_type": "stream",
     "text": [
      "TM-score >0.5 in O67528\n"
     ]
    },
    {
     "name": "stderr",
     "output_type": "stream",
     "text": [
      " 46%|████▋     | 415/894 [19:09<10:39,  1.34s/it]"
     ]
    },
    {
     "name": "stdout",
     "output_type": "stream",
     "text": [
      "TM-score >0.5 in Q8I4S1\n"
     ]
    },
    {
     "name": "stderr",
     "output_type": "stream",
     "text": [
      " 47%|████▋     | 422/894 [19:14<07:11,  1.09it/s]"
     ]
    },
    {
     "name": "stdout",
     "output_type": "stream",
     "text": [
      "TM-score >0.5 in Q16222\n"
     ]
    },
    {
     "name": "stderr",
     "output_type": "stream",
     "text": [
      " 47%|████▋     | 423/894 [19:14<06:42,  1.17it/s]"
     ]
    },
    {
     "name": "stdout",
     "output_type": "stream",
     "text": [
      "TM-score >0.5 in Q975F9\n"
     ]
    },
    {
     "name": "stderr",
     "output_type": "stream",
     "text": [
      " 47%|████▋     | 424/894 [19:16<07:34,  1.03it/s]"
     ]
    },
    {
     "name": "stdout",
     "output_type": "stream",
     "text": [
      "TM-score >0.5 in Q91YN5\n"
     ]
    },
    {
     "name": "stderr",
     "output_type": "stream",
     "text": [
      " 48%|████▊     | 425/894 [19:17<07:52,  1.01s/it]"
     ]
    },
    {
     "name": "stdout",
     "output_type": "stream",
     "text": [
      "TM-score >0.5 in O74933\n"
     ]
    },
    {
     "name": "stderr",
     "output_type": "stream",
     "text": [
      " 48%|████▊     | 426/894 [19:24<17:42,  2.27s/it]"
     ]
    },
    {
     "name": "stdout",
     "output_type": "stream",
     "text": [
      "TM-score >0.5 in Q83EM7\n"
     ]
    },
    {
     "name": "stderr",
     "output_type": "stream",
     "text": [
      " 48%|████▊     | 427/894 [19:24<13:51,  1.78s/it]"
     ]
    },
    {
     "name": "stdout",
     "output_type": "stream",
     "text": [
      "TM-score >0.5 in Q2G2X2\n"
     ]
    },
    {
     "name": "stderr",
     "output_type": "stream",
     "text": [
      " 48%|████▊     | 428/894 [19:25<12:30,  1.61s/it]"
     ]
    },
    {
     "name": "stdout",
     "output_type": "stream",
     "text": [
      "TM-score >0.5 in Q8RKI9\n"
     ]
    },
    {
     "name": "stderr",
     "output_type": "stream",
     "text": [
      " 48%|████▊     | 433/894 [19:25<04:20,  1.77it/s]"
     ]
    },
    {
     "name": "stdout",
     "output_type": "stream",
     "text": [
      "TM-score >0.5 in Q97W02\n"
     ]
    },
    {
     "name": "stderr",
     "output_type": "stream",
     "text": [
      " 49%|████▊     | 435/894 [19:28<05:28,  1.40it/s]"
     ]
    },
    {
     "name": "stdout",
     "output_type": "stream",
     "text": [
      "TM-score >0.5 in Q975F9\n"
     ]
    },
    {
     "name": "stderr",
     "output_type": "stream",
     "text": [
      " 49%|████▉     | 439/894 [19:29<03:28,  2.18it/s]"
     ]
    },
    {
     "name": "stdout",
     "output_type": "stream",
     "text": [
      "TM-score >0.5 in Q975F9\n"
     ]
    },
    {
     "name": "stderr",
     "output_type": "stream",
     "text": [
      " 49%|████▉     | 441/894 [19:30<04:12,  1.79it/s]"
     ]
    },
    {
     "name": "stdout",
     "output_type": "stream",
     "text": [
      "TM-score >0.5 in P56422\n"
     ]
    },
    {
     "name": "stderr",
     "output_type": "stream",
     "text": [
      " 50%|████▉     | 444/894 [20:19<1:13:25,  9.79s/it]"
     ]
    },
    {
     "name": "stdout",
     "output_type": "stream",
     "text": [
      "TM-score >0.5 in Q55793\n"
     ]
    },
    {
     "name": "stderr",
     "output_type": "stream",
     "text": [
      " 50%|████▉     | 445/894 [20:20<57:18,  7.66s/it]  "
     ]
    },
    {
     "name": "stdout",
     "output_type": "stream",
     "text": [
      "TM-score >0.5 in O35403\n"
     ]
    },
    {
     "name": "stderr",
     "output_type": "stream",
     "text": [
      " 50%|█████     | 447/894 [20:25<40:31,  5.44s/it]"
     ]
    },
    {
     "name": "stdout",
     "output_type": "stream",
     "text": [
      "TM-score >0.5 in O06644\n"
     ]
    },
    {
     "name": "stderr",
     "output_type": "stream",
     "text": [
      " 50%|█████     | 449/894 [20:31<34:53,  4.71s/it]"
     ]
    },
    {
     "name": "stdout",
     "output_type": "stream",
     "text": [
      "TM-score >0.5 in Q49605\n"
     ]
    },
    {
     "name": "stderr",
     "output_type": "stream",
     "text": [
      " 51%|█████     | 458/894 [20:38<09:44,  1.34s/it]"
     ]
    },
    {
     "name": "stdout",
     "output_type": "stream",
     "text": [
      "TM-score >0.5 in P07955\n"
     ]
    },
    {
     "name": "stderr",
     "output_type": "stream",
     "text": [
      " 53%|█████▎    | 473/894 [20:51<08:00,  1.14s/it]"
     ]
    },
    {
     "name": "stdout",
     "output_type": "stream",
     "text": [
      "TM-score >0.5 in Q29550\n",
      "TM-score >0.5 in Q06174\n"
     ]
    },
    {
     "name": "stderr",
     "output_type": "stream",
     "text": [
      " 53%|█████▎    | 475/894 [20:54<08:40,  1.24s/it]"
     ]
    },
    {
     "name": "stdout",
     "output_type": "stream",
     "text": [
      "TM-score >0.5 in G9BY57\n"
     ]
    },
    {
     "name": "stderr",
     "output_type": "stream",
     "text": [
      " 53%|█████▎    | 477/894 [21:03<13:54,  2.00s/it]"
     ]
    },
    {
     "name": "stdout",
     "output_type": "stream",
     "text": [
      "TM-score >0.5 in Q4A724\n"
     ]
    },
    {
     "name": "stderr",
     "output_type": "stream",
     "text": [
      " 53%|█████▎    | 478/894 [21:04<12:57,  1.87s/it]"
     ]
    },
    {
     "name": "stdout",
     "output_type": "stream",
     "text": [
      "TM-score >0.5 in P22862\n"
     ]
    },
    {
     "name": "stderr",
     "output_type": "stream",
     "text": [
      " 54%|█████▍    | 481/894 [21:09<12:13,  1.78s/it]"
     ]
    },
    {
     "name": "stdout",
     "output_type": "stream",
     "text": [
      "TM-score >0.5 in Q4A724\n"
     ]
    },
    {
     "name": "stderr",
     "output_type": "stream",
     "text": [
      " 54%|█████▍    | 482/894 [21:10<10:51,  1.58s/it]"
     ]
    },
    {
     "name": "stdout",
     "output_type": "stream",
     "text": [
      "TM-score >0.5 in P07098\n"
     ]
    },
    {
     "name": "stderr",
     "output_type": "stream",
     "text": [
      " 54%|█████▍    | 483/894 [21:14<14:04,  2.05s/it]"
     ]
    },
    {
     "name": "stdout",
     "output_type": "stream",
     "text": [
      "TM-score >0.5 in P30122\n"
     ]
    },
    {
     "name": "stderr",
     "output_type": "stream",
     "text": [
      " 55%|█████▍    | 488/894 [21:15<06:53,  1.02s/it]"
     ]
    },
    {
     "name": "stdout",
     "output_type": "stream",
     "text": [
      "TM-score >0.5 in Q9NWW9\n"
     ]
    },
    {
     "name": "stderr",
     "output_type": "stream",
     "text": [
      " 55%|█████▍    | 489/894 [21:18<08:28,  1.26s/it]"
     ]
    },
    {
     "name": "stdout",
     "output_type": "stream",
     "text": [
      "TM-score >0.5 in Q9UL19\n"
     ]
    },
    {
     "name": "stderr",
     "output_type": "stream",
     "text": [
      " 55%|█████▌    | 492/894 [21:22<09:55,  1.48s/it]"
     ]
    },
    {
     "name": "stdout",
     "output_type": "stream",
     "text": [
      "TM-score >0.5 in P30122\n"
     ]
    },
    {
     "name": "stderr",
     "output_type": "stream",
     "text": [
      " 56%|█████▌    | 497/894 [21:23<04:34,  1.45it/s]"
     ]
    },
    {
     "name": "stdout",
     "output_type": "stream",
     "text": [
      "TM-score >0.5 in Q9SX65\n"
     ]
    },
    {
     "name": "stderr",
     "output_type": "stream",
     "text": [
      " 56%|█████▌    | 498/894 [21:24<04:45,  1.38it/s]"
     ]
    },
    {
     "name": "stdout",
     "output_type": "stream",
     "text": [
      "TM-score >0.5 in Q9NV23\n"
     ]
    },
    {
     "name": "stderr",
     "output_type": "stream",
     "text": [
      " 56%|█████▌    | 499/894 [21:29<09:27,  1.44s/it]"
     ]
    },
    {
     "name": "stdout",
     "output_type": "stream",
     "text": [
      "TM-score >0.5 in Q8N9L9\n"
     ]
    },
    {
     "name": "stderr",
     "output_type": "stream",
     "text": [
      " 56%|█████▌    | 500/894 [21:29<08:06,  1.24s/it]"
     ]
    },
    {
     "name": "stdout",
     "output_type": "stream",
     "text": [
      "TM-score >0.5 in Q8N1Q8\n"
     ]
    },
    {
     "name": "stderr",
     "output_type": "stream",
     "text": [
      " 57%|█████▋    | 508/894 [21:31<03:17,  1.96it/s]"
     ]
    },
    {
     "name": "stdout",
     "output_type": "stream",
     "text": [
      "TM-score >0.5 in P94592\n"
     ]
    },
    {
     "name": "stderr",
     "output_type": "stream",
     "text": [
      " 58%|█████▊    | 517/894 [21:37<03:31,  1.78it/s]"
     ]
    },
    {
     "name": "stdout",
     "output_type": "stream",
     "text": [
      "TM-score >0.5 in P75792\n"
     ]
    },
    {
     "name": "stderr",
     "output_type": "stream",
     "text": [
      " 58%|█████▊    | 519/894 [21:38<03:29,  1.79it/s]"
     ]
    },
    {
     "name": "stdout",
     "output_type": "stream",
     "text": [
      "TM-score >0.5 in P9WKJ1\n"
     ]
    },
    {
     "name": "stderr",
     "output_type": "stream",
     "text": [
      " 59%|█████▊    | 525/894 [21:39<01:45,  3.50it/s]"
     ]
    },
    {
     "name": "stdout",
     "output_type": "stream",
     "text": [
      "TM-score >0.5 in Q57573\n"
     ]
    },
    {
     "name": "stderr",
     "output_type": "stream",
     "text": [
      " 59%|█████▉    | 528/894 [21:39<01:32,  3.98it/s]"
     ]
    },
    {
     "name": "stdout",
     "output_type": "stream",
     "text": [
      "TM-score >0.5 in O67004\n"
     ]
    },
    {
     "name": "stderr",
     "output_type": "stream",
     "text": [
      " 59%|█████▉    | 529/894 [21:42<03:55,  1.55it/s]"
     ]
    },
    {
     "name": "stdout",
     "output_type": "stream",
     "text": [
      "TM-score >0.5 in P32179\n"
     ]
    },
    {
     "name": "stderr",
     "output_type": "stream",
     "text": [
      " 59%|█████▉    | 530/894 [21:43<04:15,  1.42it/s]"
     ]
    },
    {
     "name": "stdout",
     "output_type": "stream",
     "text": [
      "TM-score >0.5 in P9WKJ1\n"
     ]
    },
    {
     "name": "stderr",
     "output_type": "stream",
     "text": [
      " 59%|█████▉    | 531/894 [21:44<04:18,  1.40it/s]"
     ]
    },
    {
     "name": "stdout",
     "output_type": "stream",
     "text": [
      "TM-score >0.5 in O58690\n"
     ]
    },
    {
     "name": "stderr",
     "output_type": "stream",
     "text": [
      " 60%|█████▉    | 532/894 [21:46<06:09,  1.02s/it]"
     ]
    },
    {
     "name": "stdout",
     "output_type": "stream",
     "text": [
      "TM-score >0.5 in P52086\n"
     ]
    },
    {
     "name": "stderr",
     "output_type": "stream",
     "text": [
      " 60%|█████▉    | 534/894 [21:59<18:13,  3.04s/it]"
     ]
    },
    {
     "name": "stdout",
     "output_type": "stream",
     "text": [
      "TM-score >0.5 in O00092\n"
     ]
    },
    {
     "name": "stderr",
     "output_type": "stream",
     "text": [
      " 60%|█████▉    | 535/894 [22:01<16:08,  2.70s/it]"
     ]
    },
    {
     "name": "stdout",
     "output_type": "stream",
     "text": [
      "TM-score >0.5 in Q7WG29\n"
     ]
    },
    {
     "name": "stderr",
     "output_type": "stream",
     "text": [
      " 61%|██████    | 541/894 [22:01<05:31,  1.06it/s]"
     ]
    },
    {
     "name": "stdout",
     "output_type": "stream",
     "text": [
      "TM-score >0.5 in P58242\n"
     ]
    },
    {
     "name": "stderr",
     "output_type": "stream",
     "text": [
      " 61%|██████    | 547/894 [22:03<03:33,  1.63it/s]"
     ]
    },
    {
     "name": "stdout",
     "output_type": "stream",
     "text": [
      "TM-score >0.5 in Q9VAM9\n"
     ]
    },
    {
     "name": "stderr",
     "output_type": "stream",
     "text": [
      " 61%|██████▏   | 549/894 [22:03<02:47,  2.06it/s]"
     ]
    },
    {
     "name": "stdout",
     "output_type": "stream",
     "text": [
      "TM-score >0.5 in L7P9J4\n"
     ]
    },
    {
     "name": "stderr",
     "output_type": "stream",
     "text": [
      " 62%|██████▏   | 553/894 [22:11<06:04,  1.07s/it]"
     ]
    },
    {
     "name": "stdout",
     "output_type": "stream",
     "text": [
      "TM-score >0.5 in Q9AGA6\n"
     ]
    },
    {
     "name": "stderr",
     "output_type": "stream",
     "text": [
      " 62%|██████▏   | 554/894 [22:11<04:51,  1.17it/s]"
     ]
    },
    {
     "name": "stdout",
     "output_type": "stream",
     "text": [
      "TM-score >0.5 in P33665\n"
     ]
    },
    {
     "name": "stderr",
     "output_type": "stream",
     "text": [
      " 62%|██████▏   | 557/894 [22:13<03:27,  1.62it/s]"
     ]
    },
    {
     "name": "stdout",
     "output_type": "stream",
     "text": [
      "TM-score >0.5 in Q9Y3R4\n"
     ]
    },
    {
     "name": "stderr",
     "output_type": "stream",
     "text": [
      " 63%|██████▎   | 559/894 [22:19<08:52,  1.59s/it]"
     ]
    },
    {
     "name": "stdout",
     "output_type": "stream",
     "text": [
      "TM-score >0.5 in P36924\n"
     ]
    },
    {
     "name": "stderr",
     "output_type": "stream",
     "text": [
      " 63%|██████▎   | 560/894 [22:36<27:42,  4.98s/it]"
     ]
    },
    {
     "name": "stdout",
     "output_type": "stream",
     "text": [
      "TM-score >0.5 in Q8L7J2\n"
     ]
    },
    {
     "name": "stderr",
     "output_type": "stream",
     "text": [
      " 63%|██████▎   | 561/894 [22:41<27:37,  4.98s/it]"
     ]
    },
    {
     "name": "stdout",
     "output_type": "stream",
     "text": [
      "TM-score >0.5 in P22073\n"
     ]
    },
    {
     "name": "stderr",
     "output_type": "stream",
     "text": [
      " 63%|██████▎   | 562/894 [22:46<28:33,  5.16s/it]"
     ]
    },
    {
     "name": "stdout",
     "output_type": "stream",
     "text": [
      "TM-score >0.5 in P26208\n"
     ]
    },
    {
     "name": "stderr",
     "output_type": "stream",
     "text": [
      " 63%|██████▎   | 564/894 [22:52<22:19,  4.06s/it]"
     ]
    },
    {
     "name": "stdout",
     "output_type": "stream",
     "text": [
      "TM-score >0.5 in Q9ZFM2\n"
     ]
    },
    {
     "name": "stderr",
     "output_type": "stream",
     "text": [
      " 63%|██████▎   | 566/894 [22:53<14:29,  2.65s/it]"
     ]
    },
    {
     "name": "stdout",
     "output_type": "stream",
     "text": [
      "TM-score >0.5 in P15737\n"
     ]
    },
    {
     "name": "stderr",
     "output_type": "stream",
     "text": [
      " 64%|██████▎   | 569/894 [22:54<07:14,  1.34s/it]"
     ]
    },
    {
     "name": "stdout",
     "output_type": "stream",
     "text": [
      "TM-score >0.5 in A3DC29\n"
     ]
    },
    {
     "name": "stderr",
     "output_type": "stream",
     "text": [
      " 64%|██████▍   | 572/894 [22:56<05:50,  1.09s/it]"
     ]
    },
    {
     "name": "stdout",
     "output_type": "stream",
     "text": [
      "TM-score >0.5 in A3DIH0\n"
     ]
    },
    {
     "name": "stderr",
     "output_type": "stream",
     "text": [
      " 64%|██████▍   | 575/894 [23:00<06:10,  1.16s/it]"
     ]
    },
    {
     "name": "stdout",
     "output_type": "stream",
     "text": [
      "TM-score >0.5 in P39130\n"
     ]
    },
    {
     "name": "stderr",
     "output_type": "stream",
     "text": [
      " 64%|██████▍   | 576/894 [23:06<10:30,  1.98s/it]"
     ]
    },
    {
     "name": "stdout",
     "output_type": "stream",
     "text": [
      "TM-score >0.5 in B2B3C0\n"
     ]
    },
    {
     "name": "stderr",
     "output_type": "stream",
     "text": [
      " 65%|██████▍   | 579/894 [23:17<15:13,  2.90s/it]"
     ]
    },
    {
     "name": "stdout",
     "output_type": "stream",
     "text": [
      "TM-score >0.5 in Q8L5J1\n"
     ]
    },
    {
     "name": "stderr",
     "output_type": "stream",
     "text": [
      " 65%|██████▍   | 580/894 [23:19<13:34,  2.60s/it]"
     ]
    },
    {
     "name": "stdout",
     "output_type": "stream",
     "text": [
      "TM-score >0.5 in Q9HFH0\n"
     ]
    },
    {
     "name": "stderr",
     "output_type": "stream",
     "text": [
      " 66%|██████▌   | 586/894 [23:20<03:57,  1.30it/s]"
     ]
    },
    {
     "name": "stdout",
     "output_type": "stream",
     "text": [
      "TM-score >0.5 in P81536\n"
     ]
    },
    {
     "name": "stderr",
     "output_type": "stream",
     "text": [
      " 66%|██████▌   | 587/894 [23:20<03:26,  1.49it/s]"
     ]
    },
    {
     "name": "stdout",
     "output_type": "stream",
     "text": [
      "TM-score >0.5 in Q46829\n"
     ]
    },
    {
     "name": "stderr",
     "output_type": "stream",
     "text": [
      " 66%|██████▌   | 589/894 [23:21<02:34,  1.98it/s]"
     ]
    },
    {
     "name": "stdout",
     "output_type": "stream",
     "text": [
      "TM-score >0.5 in A1Z1Q3\n"
     ]
    },
    {
     "name": "stderr",
     "output_type": "stream",
     "text": [
      " 67%|██████▋   | 596/894 [23:25<02:44,  1.81it/s]"
     ]
    },
    {
     "name": "stdout",
     "output_type": "stream",
     "text": [
      "TM-score >0.5 in Q10588\n"
     ]
    },
    {
     "name": "stderr",
     "output_type": "stream",
     "text": [
      " 68%|██████▊   | 604/894 [23:28<01:59,  2.42it/s]"
     ]
    },
    {
     "name": "stdout",
     "output_type": "stream",
     "text": [
      "TM-score >0.5 in O32449\n"
     ]
    },
    {
     "name": "stderr",
     "output_type": "stream",
     "text": [
      " 68%|██████▊   | 605/894 [23:28<01:52,  2.57it/s]"
     ]
    },
    {
     "name": "stdout",
     "output_type": "stream",
     "text": [
      "TM-score >0.5 in P96084\n"
     ]
    },
    {
     "name": "stderr",
     "output_type": "stream",
     "text": [
      " 68%|██████▊   | 611/894 [23:31<02:18,  2.05it/s]"
     ]
    },
    {
     "name": "stdout",
     "output_type": "stream",
     "text": [
      "TM-score >0.5 in O07883\n"
     ]
    },
    {
     "name": "stderr",
     "output_type": "stream",
     "text": [
      " 68%|██████▊   | 612/894 [23:32<02:18,  2.03it/s]"
     ]
    },
    {
     "name": "stdout",
     "output_type": "stream",
     "text": [
      "TM-score >0.5 in Q92820\n"
     ]
    },
    {
     "name": "stderr",
     "output_type": "stream",
     "text": [
      " 69%|██████▉   | 615/894 [23:33<02:02,  2.28it/s]"
     ]
    },
    {
     "name": "stdout",
     "output_type": "stream",
     "text": [
      "TM-score >0.5 in Q92876\n"
     ]
    },
    {
     "name": "stderr",
     "output_type": "stream",
     "text": [
      " 69%|██████▉   | 616/894 [23:33<01:50,  2.53it/s]"
     ]
    },
    {
     "name": "stdout",
     "output_type": "stream",
     "text": [
      "TM-score >0.5 in P20718\n"
     ]
    },
    {
     "name": "stderr",
     "output_type": "stream",
     "text": [
      " 69%|██████▉   | 620/894 [23:34<01:10,  3.89it/s]"
     ]
    },
    {
     "name": "stdout",
     "output_type": "stream",
     "text": [
      "TM-score >0.5 in A0QNL1\n"
     ]
    },
    {
     "name": "stderr",
     "output_type": "stream",
     "text": [
      " 69%|██████▉   | 621/894 [23:37<03:10,  1.43it/s]"
     ]
    },
    {
     "name": "stdout",
     "output_type": "stream",
     "text": [
      "TM-score >0.5 in Q6H321\n"
     ]
    },
    {
     "name": "stderr",
     "output_type": "stream",
     "text": [
      " 70%|██████▉   | 622/894 [23:42<06:15,  1.38s/it]"
     ]
    },
    {
     "name": "stdout",
     "output_type": "stream",
     "text": [
      "TM-score >0.5 in P00781\n"
     ]
    },
    {
     "name": "stderr",
     "output_type": "stream",
     "text": [
      " 70%|███████   | 628/894 [23:46<04:12,  1.05it/s]"
     ]
    },
    {
     "name": "stdout",
     "output_type": "stream",
     "text": [
      "TM-score >0.5 in P30403\n"
     ]
    },
    {
     "name": "stderr",
     "output_type": "stream",
     "text": [
      " 71%|███████   | 634/894 [23:48<02:34,  1.69it/s]"
     ]
    },
    {
     "name": "stdout",
     "output_type": "stream",
     "text": [
      "TM-score >0.5 in Q3JUN4\n"
     ]
    },
    {
     "name": "stderr",
     "output_type": "stream",
     "text": [
      " 72%|███████▏  | 644/894 [23:53<01:51,  2.24it/s]"
     ]
    },
    {
     "name": "stdout",
     "output_type": "stream",
     "text": [
      "TM-score >0.5 in B0VNL8\n"
     ]
    },
    {
     "name": "stderr",
     "output_type": "stream",
     "text": [
      " 72%|███████▏  | 646/894 [24:21<26:32,  6.42s/it]"
     ]
    },
    {
     "name": "stdout",
     "output_type": "stream",
     "text": [
      "TM-score >0.5 in Q45515\n"
     ]
    },
    {
     "name": "stderr",
     "output_type": "stream",
     "text": [
      " 73%|███████▎  | 656/894 [24:23<03:23,  1.17it/s]"
     ]
    },
    {
     "name": "stdout",
     "output_type": "stream",
     "text": [
      "TM-score >0.5 in Q59517\n"
     ]
    },
    {
     "name": "stderr",
     "output_type": "stream",
     "text": [
      " 74%|███████▎  | 659/894 [24:25<02:38,  1.48it/s]"
     ]
    },
    {
     "name": "stdout",
     "output_type": "stream",
     "text": [
      "TM-score >0.5 in Q8U8Z6\n"
     ]
    },
    {
     "name": "stderr",
     "output_type": "stream",
     "text": [
      " 74%|███████▍  | 662/894 [24:34<06:06,  1.58s/it]"
     ]
    },
    {
     "name": "stdout",
     "output_type": "stream",
     "text": [
      "TM-score >0.5 in Q9KFV3\n"
     ]
    },
    {
     "name": "stderr",
     "output_type": "stream",
     "text": [
      " 75%|███████▍  | 668/894 [24:36<03:00,  1.25it/s]"
     ]
    },
    {
     "name": "stdout",
     "output_type": "stream",
     "text": [
      "TM-score >0.5 in P37552\n",
      "TM-score >0.5 in P0C024\n"
     ]
    },
    {
     "name": "stderr",
     "output_type": "stream",
     "text": [
      " 75%|███████▌  | 671/894 [24:38<02:32,  1.46it/s]"
     ]
    },
    {
     "name": "stdout",
     "output_type": "stream",
     "text": [
      "TM-score >0.5 in Q7ZWC3\n"
     ]
    },
    {
     "name": "stderr",
     "output_type": "stream",
     "text": [
      " 75%|███████▌  | 672/894 [24:39<02:27,  1.51it/s]"
     ]
    },
    {
     "name": "stdout",
     "output_type": "stream",
     "text": [
      "TM-score >0.5 in A3LNL5\n"
     ]
    },
    {
     "name": "stderr",
     "output_type": "stream",
     "text": [
      " 75%|███████▌  | 673/894 [24:39<02:29,  1.47it/s]"
     ]
    },
    {
     "name": "stdout",
     "output_type": "stream",
     "text": [
      "TM-score >0.5 in P9WQK3\n"
     ]
    },
    {
     "name": "stderr",
     "output_type": "stream",
     "text": [
      " 76%|███████▌  | 675/894 [24:42<03:36,  1.01it/s]"
     ]
    },
    {
     "name": "stdout",
     "output_type": "stream",
     "text": [
      "TM-score >0.5 in Q9SU14\n"
     ]
    },
    {
     "name": "stderr",
     "output_type": "stream",
     "text": [
      " 76%|███████▌  | 681/894 [24:52<03:25,  1.04it/s]"
     ]
    },
    {
     "name": "stdout",
     "output_type": "stream",
     "text": [
      "TM-score >0.5 in Q9KD90\n"
     ]
    },
    {
     "name": "stderr",
     "output_type": "stream",
     "text": [
      " 77%|███████▋  | 689/894 [24:54<01:22,  2.47it/s]"
     ]
    },
    {
     "name": "stdout",
     "output_type": "stream",
     "text": [
      "TM-score >0.5 in Q9WY06\n"
     ]
    },
    {
     "name": "stderr",
     "output_type": "stream",
     "text": [
      " 78%|███████▊  | 693/894 [25:00<02:31,  1.32it/s]"
     ]
    },
    {
     "name": "stdout",
     "output_type": "stream",
     "text": [
      "TM-score >0.5 in Q83FA3\n",
      "TM-score >0.5 in O35031\n"
     ]
    },
    {
     "name": "stderr",
     "output_type": "stream",
     "text": [
      " 78%|███████▊  | 701/894 [25:04<02:05,  1.54it/s]"
     ]
    },
    {
     "name": "stdout",
     "output_type": "stream",
     "text": [
      "TM-score >0.5 in Q9HB90\n"
     ]
    },
    {
     "name": "stderr",
     "output_type": "stream",
     "text": [
      " 79%|███████▊  | 702/894 [25:06<02:26,  1.31it/s]"
     ]
    },
    {
     "name": "stdout",
     "output_type": "stream",
     "text": [
      "TM-score >0.5 in Q96PP8\n"
     ]
    },
    {
     "name": "stderr",
     "output_type": "stream",
     "text": [
      " 79%|███████▊  | 704/894 [25:06<01:56,  1.64it/s]"
     ]
    },
    {
     "name": "stdout",
     "output_type": "stream",
     "text": [
      "TM-score >0.5 in Q99K70\n"
     ]
    },
    {
     "name": "stderr",
     "output_type": "stream",
     "text": [
      " 79%|███████▉  | 710/894 [25:18<05:26,  1.77s/it]"
     ]
    },
    {
     "name": "stdout",
     "output_type": "stream",
     "text": [
      "TM-score >0.5 in Q1QBB9\n"
     ]
    },
    {
     "name": "stderr",
     "output_type": "stream",
     "text": [
      " 80%|███████▉  | 713/894 [25:20<03:47,  1.26s/it]"
     ]
    },
    {
     "name": "stdout",
     "output_type": "stream",
     "text": [
      "TM-score >0.5 in A0A2P1GIW2\n"
     ]
    },
    {
     "name": "stderr",
     "output_type": "stream",
     "text": [
      " 80%|████████  | 718/894 [25:39<07:30,  2.56s/it]"
     ]
    },
    {
     "name": "stdout",
     "output_type": "stream",
     "text": [
      "TM-score >0.5 in Q12BV1\n"
     ]
    },
    {
     "name": "stderr",
     "output_type": "stream",
     "text": [
      " 81%|████████  | 723/894 [25:44<04:20,  1.52s/it]"
     ]
    },
    {
     "name": "stdout",
     "output_type": "stream",
     "text": [
      "TM-score >0.5 in Q8RY79\n"
     ]
    },
    {
     "name": "stderr",
     "output_type": "stream",
     "text": [
      " 81%|████████  | 724/894 [25:48<05:10,  1.83s/it]"
     ]
    },
    {
     "name": "stdout",
     "output_type": "stream",
     "text": [
      "TM-score >0.5 in P80402\n"
     ]
    },
    {
     "name": "stderr",
     "output_type": "stream",
     "text": [
      " 81%|████████  | 725/894 [25:50<05:25,  1.93s/it]"
     ]
    },
    {
     "name": "stdout",
     "output_type": "stream",
     "text": [
      "TM-score >0.5 in P20906\n"
     ]
    },
    {
     "name": "stderr",
     "output_type": "stream",
     "text": [
      " 81%|████████▏ | 728/894 [25:56<04:46,  1.73s/it]"
     ]
    },
    {
     "name": "stdout",
     "output_type": "stream",
     "text": [
      "TM-score >0.5 in A1L259\n"
     ]
    },
    {
     "name": "stderr",
     "output_type": "stream",
     "text": [
      " 82%|████████▏ | 733/894 [25:59<01:50,  1.46it/s]"
     ]
    },
    {
     "name": "stdout",
     "output_type": "stream",
     "text": [
      "TM-score >0.5 in P58315\n"
     ]
    },
    {
     "name": "stderr",
     "output_type": "stream",
     "text": [
      " 82%|████████▏ | 734/894 [26:00<01:48,  1.48it/s]"
     ]
    },
    {
     "name": "stdout",
     "output_type": "stream",
     "text": [
      "TM-score >0.5 in Q9URB4\n"
     ]
    },
    {
     "name": "stderr",
     "output_type": "stream",
     "text": [
      " 82%|████████▏ | 737/894 [26:10<04:42,  1.80s/it]"
     ]
    },
    {
     "name": "stdout",
     "output_type": "stream",
     "text": [
      "TM-score >0.5 in Q703I2\n"
     ]
    },
    {
     "name": "stderr",
     "output_type": "stream",
     "text": [
      " 83%|████████▎ | 741/894 [26:18<05:25,  2.13s/it]"
     ]
    },
    {
     "name": "stdout",
     "output_type": "stream",
     "text": [
      "TM-score >0.5 in Q4JC35\n"
     ]
    },
    {
     "name": "stderr",
     "output_type": "stream",
     "text": [
      " 83%|████████▎ | 746/894 [26:22<03:00,  1.22s/it]"
     ]
    },
    {
     "name": "stdout",
     "output_type": "stream",
     "text": [
      "TM-score >0.5 in P00897\n"
     ]
    },
    {
     "name": "stderr",
     "output_type": "stream",
     "text": [
      " 84%|████████▎ | 747/894 [26:31<06:10,  2.52s/it]"
     ]
    },
    {
     "name": "stdout",
     "output_type": "stream",
     "text": [
      "TM-score >0.5 in Q06129\n"
     ]
    },
    {
     "name": "stderr",
     "output_type": "stream",
     "text": [
      " 84%|████████▎ | 748/894 [26:40<09:35,  3.94s/it]"
     ]
    },
    {
     "name": "stdout",
     "output_type": "stream",
     "text": [
      "TM-score >0.5 in O34873\n"
     ]
    },
    {
     "name": "stderr",
     "output_type": "stream",
     "text": [
      " 84%|████████▍ | 749/894 [27:01<19:04,  7.89s/it]"
     ]
    },
    {
     "name": "stdout",
     "output_type": "stream",
     "text": [
      "TM-score >0.5 in Q8TG90\n"
     ]
    },
    {
     "name": "stderr",
     "output_type": "stream",
     "text": [
      " 84%|████████▍ | 752/894 [27:13<13:06,  5.54s/it]"
     ]
    },
    {
     "name": "stdout",
     "output_type": "stream",
     "text": [
      "TM-score >0.5 in B3PDB1\n",
      "TM-score >0.5 in P27134\n"
     ]
    },
    {
     "name": "stderr",
     "output_type": "stream",
     "text": [
      " 84%|████████▍ | 753/894 [27:13<09:58,  4.25s/it]"
     ]
    },
    {
     "name": "stdout",
     "output_type": "stream",
     "text": [
      "TM-score >0.5 in Q54735\n"
     ]
    },
    {
     "name": "stderr",
     "output_type": "stream",
     "text": [
      " 84%|████████▍ | 755/894 [27:15<06:36,  2.85s/it]"
     ]
    },
    {
     "name": "stdout",
     "output_type": "stream",
     "text": [
      "TM-score >0.5 in Q186A6\n"
     ]
    },
    {
     "name": "stderr",
     "output_type": "stream",
     "text": [
      " 85%|████████▍ | 756/894 [27:15<05:12,  2.27s/it]"
     ]
    },
    {
     "name": "stdout",
     "output_type": "stream",
     "text": [
      "TM-score >0.5 in P36923\n"
     ]
    },
    {
     "name": "stderr",
     "output_type": "stream",
     "text": [
      " 85%|████████▍ | 757/894 [27:16<04:11,  1.83s/it]"
     ]
    },
    {
     "name": "stdout",
     "output_type": "stream",
     "text": [
      "TM-score >0.5 in Q8DUW4\n"
     ]
    },
    {
     "name": "stderr",
     "output_type": "stream",
     "text": [
      " 85%|████████▍ | 758/894 [27:16<03:33,  1.57s/it]"
     ]
    },
    {
     "name": "stdout",
     "output_type": "stream",
     "text": [
      "TM-score >0.5 in A1SZA3\n"
     ]
    },
    {
     "name": "stderr",
     "output_type": "stream",
     "text": [
      " 85%|████████▍ | 759/894 [27:18<03:33,  1.58s/it]"
     ]
    },
    {
     "name": "stdout",
     "output_type": "stream",
     "text": [
      "TM-score >0.5 in O67788\n"
     ]
    },
    {
     "name": "stderr",
     "output_type": "stream",
     "text": [
      " 85%|████████▌ | 760/894 [27:27<08:15,  3.70s/it]"
     ]
    },
    {
     "name": "stdout",
     "output_type": "stream",
     "text": [
      "TM-score >0.5 in P51555\n"
     ]
    },
    {
     "name": "stderr",
     "output_type": "stream",
     "text": [
      " 85%|████████▌ | 761/894 [27:32<09:07,  4.11s/it]"
     ]
    },
    {
     "name": "stdout",
     "output_type": "stream",
     "text": [
      "TM-score >0.5 in Q927X3\n"
     ]
    },
    {
     "name": "stderr",
     "output_type": "stream",
     "text": [
      " 85%|████████▌ | 764/894 [27:36<04:51,  2.24s/it]"
     ]
    },
    {
     "name": "stdout",
     "output_type": "stream",
     "text": [
      "TM-score >0.5 in P44862\n"
     ]
    },
    {
     "name": "stderr",
     "output_type": "stream",
     "text": [
      " 86%|████████▌ | 765/894 [27:37<04:16,  1.99s/it]"
     ]
    },
    {
     "name": "stdout",
     "output_type": "stream",
     "text": [
      "TM-score >0.5 in Q04432\n"
     ]
    },
    {
     "name": "stderr",
     "output_type": "stream",
     "text": [
      " 86%|████████▌ | 766/894 [27:38<03:41,  1.73s/it]"
     ]
    },
    {
     "name": "stdout",
     "output_type": "stream",
     "text": [
      "TM-score >0.5 in Q833Y3\n"
     ]
    },
    {
     "name": "stderr",
     "output_type": "stream",
     "text": [
      " 86%|████████▌ | 767/894 [27:38<02:45,  1.30s/it]"
     ]
    },
    {
     "name": "stdout",
     "output_type": "stream",
     "text": [
      "TM-score >0.5 in A0NXQ8\n"
     ]
    },
    {
     "name": "stderr",
     "output_type": "stream",
     "text": [
      " 86%|████████▌ | 771/894 [28:27<18:52,  9.21s/it]"
     ]
    },
    {
     "name": "stdout",
     "output_type": "stream",
     "text": [
      "TM-score >0.5 in P81291\n"
     ]
    },
    {
     "name": "stderr",
     "output_type": "stream",
     "text": [
      " 86%|████████▋ | 773/894 [28:35<13:45,  6.82s/it]"
     ]
    },
    {
     "name": "stdout",
     "output_type": "stream",
     "text": [
      "TM-score >0.5 in P27830\n"
     ]
    },
    {
     "name": "stderr",
     "output_type": "stream",
     "text": [
      " 87%|████████▋ | 774/894 [28:46<15:57,  7.98s/it]"
     ]
    },
    {
     "name": "stdout",
     "output_type": "stream",
     "text": [
      "TM-score >0.5 in P95780\n"
     ]
    },
    {
     "name": "stderr",
     "output_type": "stream",
     "text": [
      " 87%|████████▋ | 777/894 [29:08<13:39,  7.01s/it]"
     ]
    },
    {
     "name": "stdout",
     "output_type": "stream",
     "text": [
      "TM-score >0.5 in P46011\n"
     ]
    },
    {
     "name": "stderr",
     "output_type": "stream",
     "text": [
      " 87%|████████▋ | 778/894 [29:12<12:10,  6.30s/it]"
     ]
    },
    {
     "name": "stdout",
     "output_type": "stream",
     "text": [
      "TM-score >0.5 in Q8P3K2\n"
     ]
    },
    {
     "name": "stderr",
     "output_type": "stream",
     "text": [
      " 87%|████████▋ | 779/894 [29:23<14:26,  7.53s/it]"
     ]
    },
    {
     "name": "stdout",
     "output_type": "stream",
     "text": [
      "TM-score >0.5 in B3PDB1\n"
     ]
    },
    {
     "name": "stderr",
     "output_type": "stream",
     "text": [
      " 87%|████████▋ | 780/894 [29:34<15:55,  8.38s/it]"
     ]
    },
    {
     "name": "stdout",
     "output_type": "stream",
     "text": [
      "TM-score >0.5 in Q9AAR4\n"
     ]
    },
    {
     "name": "stderr",
     "output_type": "stream",
     "text": [
      " 87%|████████▋ | 782/894 [29:36<09:47,  5.24s/it]"
     ]
    },
    {
     "name": "stdout",
     "output_type": "stream",
     "text": [
      "TM-score >0.5 in Q58499\n"
     ]
    },
    {
     "name": "stderr",
     "output_type": "stream",
     "text": [
      " 88%|████████▊ | 785/894 [29:37<04:38,  2.56s/it]"
     ]
    },
    {
     "name": "stdout",
     "output_type": "stream",
     "text": [
      "TM-score >0.5 in U3KRF2\n"
     ]
    },
    {
     "name": "stderr",
     "output_type": "stream",
     "text": [
      " 88%|████████▊ | 786/894 [30:03<15:57,  8.87s/it]"
     ]
    },
    {
     "name": "stdout",
     "output_type": "stream",
     "text": [
      "TM-score >0.5 in Q54HH2\n"
     ]
    },
    {
     "name": "stderr",
     "output_type": "stream",
     "text": [
      " 88%|████████▊ | 791/894 [30:10<06:26,  3.75s/it]"
     ]
    },
    {
     "name": "stdout",
     "output_type": "stream",
     "text": [
      "TM-score >0.5 in O67216\n",
      "TM-score >0.5 in O31677\n"
     ]
    },
    {
     "name": "stderr",
     "output_type": "stream",
     "text": [
      " 89%|████████▉ | 794/894 [30:11<03:47,  2.27s/it]"
     ]
    },
    {
     "name": "stdout",
     "output_type": "stream",
     "text": [
      "TM-score >0.5 in Q58380\n"
     ]
    },
    {
     "name": "stderr",
     "output_type": "stream",
     "text": [
      " 89%|████████▉ | 796/894 [30:13<02:54,  1.78s/it]"
     ]
    },
    {
     "name": "stdout",
     "output_type": "stream",
     "text": [
      "TM-score >0.5 in Q58380\n"
     ]
    },
    {
     "name": "stderr",
     "output_type": "stream",
     "text": [
      " 89%|████████▉ | 799/894 [30:19<03:20,  2.11s/it]"
     ]
    },
    {
     "name": "stdout",
     "output_type": "stream",
     "text": [
      "TM-score >0.5 in Q44244\n"
     ]
    },
    {
     "name": "stderr",
     "output_type": "stream",
     "text": [
      " 89%|████████▉ | 800/894 [30:23<04:12,  2.69s/it]"
     ]
    },
    {
     "name": "stdout",
     "output_type": "stream",
     "text": [
      "TM-score >0.5 in Q838J7\n"
     ]
    },
    {
     "name": "stderr",
     "output_type": "stream",
     "text": [
      " 90%|████████▉ | 801/894 [30:29<05:22,  3.46s/it]"
     ]
    },
    {
     "name": "stdout",
     "output_type": "stream",
     "text": [
      "TM-score >0.5 in Q5SJX8\n"
     ]
    },
    {
     "name": "stderr",
     "output_type": "stream",
     "text": [
      " 90%|████████▉ | 804/894 [30:30<02:35,  1.73s/it]"
     ]
    },
    {
     "name": "stdout",
     "output_type": "stream",
     "text": [
      "TM-score >0.5 in Q9HUN4\n"
     ]
    },
    {
     "name": "stderr",
     "output_type": "stream",
     "text": [
      " 90%|█████████ | 805/894 [30:33<03:07,  2.11s/it]"
     ]
    },
    {
     "name": "stdout",
     "output_type": "stream",
     "text": [
      "TM-score >0.5 in P94494\n"
     ]
    },
    {
     "name": "stderr",
     "output_type": "stream",
     "text": [
      " 90%|█████████ | 806/894 [30:45<06:03,  4.13s/it]"
     ]
    },
    {
     "name": "stdout",
     "output_type": "stream",
     "text": [
      "TM-score >0.5 in A0KLG5\n"
     ]
    },
    {
     "name": "stderr",
     "output_type": "stream",
     "text": [
      " 90%|█████████ | 809/894 [30:45<02:49,  2.00s/it]"
     ]
    },
    {
     "name": "stdout",
     "output_type": "stream",
     "text": [
      "TM-score >0.5 in O34508\n",
      "TM-score >0.5 in P56868\n"
     ]
    },
    {
     "name": "stderr",
     "output_type": "stream",
     "text": [
      " 91%|█████████ | 810/894 [30:46<02:13,  1.59s/it]"
     ]
    },
    {
     "name": "stdout",
     "output_type": "stream",
     "text": [
      "TM-score >0.5 in Q9PM24\n"
     ]
    },
    {
     "name": "stderr",
     "output_type": "stream",
     "text": [
      " 91%|█████████ | 812/894 [30:50<02:41,  1.97s/it]"
     ]
    },
    {
     "name": "stdout",
     "output_type": "stream",
     "text": [
      "TM-score >0.5 in Q9I476\n"
     ]
    },
    {
     "name": "stderr",
     "output_type": "stream",
     "text": [
      " 91%|█████████ | 813/894 [30:53<03:04,  2.28s/it]"
     ]
    },
    {
     "name": "stdout",
     "output_type": "stream",
     "text": [
      "TM-score >0.5 in Q4KGU2\n"
     ]
    },
    {
     "name": "stderr",
     "output_type": "stream",
     "text": [
      " 91%|█████████ | 814/894 [30:56<03:20,  2.51s/it]"
     ]
    },
    {
     "name": "stdout",
     "output_type": "stream",
     "text": [
      "TM-score >0.5 in Q1QU06\n"
     ]
    },
    {
     "name": "stderr",
     "output_type": "stream",
     "text": [
      " 91%|█████████▏| 818/894 [30:57<01:25,  1.13s/it]"
     ]
    },
    {
     "name": "stdout",
     "output_type": "stream",
     "text": [
      "TM-score >0.5 in A0A1L7NQ96\n"
     ]
    },
    {
     "name": "stderr",
     "output_type": "stream",
     "text": [
      " 92%|█████████▏| 820/894 [31:00<01:26,  1.17s/it]"
     ]
    },
    {
     "name": "stdout",
     "output_type": "stream",
     "text": [
      "TM-score >0.5 in Q9L9E5\n"
     ]
    },
    {
     "name": "stderr",
     "output_type": "stream",
     "text": [
      " 92%|█████████▏| 822/894 [31:00<01:02,  1.16it/s]"
     ]
    },
    {
     "name": "stdout",
     "output_type": "stream",
     "text": [
      "TM-score >0.5 in P26394\n"
     ]
    },
    {
     "name": "stderr",
     "output_type": "stream",
     "text": [
      " 92%|█████████▏| 826/894 [31:14<02:55,  2.58s/it]"
     ]
    },
    {
     "name": "stdout",
     "output_type": "stream",
     "text": [
      "TM-score >0.5 in P04789\n"
     ]
    },
    {
     "name": "stderr",
     "output_type": "stream",
     "text": [
      " 93%|█████████▎| 827/894 [31:15<02:30,  2.25s/it]"
     ]
    },
    {
     "name": "stdout",
     "output_type": "stream",
     "text": [
      "TM-score >0.5 in Q9KCL9\n"
     ]
    },
    {
     "name": "stderr",
     "output_type": "stream",
     "text": [
      " 93%|█████████▎| 828/894 [31:28<04:58,  4.52s/it]"
     ]
    },
    {
     "name": "stdout",
     "output_type": "stream",
     "text": [
      "TM-score >0.5 in O29877\n"
     ]
    },
    {
     "name": "stderr",
     "output_type": "stream",
     "text": [
      " 93%|█████████▎| 829/894 [31:30<04:23,  4.05s/it]"
     ]
    },
    {
     "name": "stdout",
     "output_type": "stream",
     "text": [
      "TM-score >0.5 in Q8ZKT7\n"
     ]
    },
    {
     "name": "stderr",
     "output_type": "stream",
     "text": [
      " 93%|█████████▎| 831/894 [31:32<02:39,  2.53s/it]"
     ]
    },
    {
     "name": "stdout",
     "output_type": "stream",
     "text": [
      "TM-score >0.5 in P50910\n"
     ]
    },
    {
     "name": "stderr",
     "output_type": "stream",
     "text": [
      " 93%|█████████▎| 833/894 [31:34<01:56,  1.91s/it]"
     ]
    },
    {
     "name": "stdout",
     "output_type": "stream",
     "text": [
      "TM-score >0.5 in P13745\n"
     ]
    },
    {
     "name": "stderr",
     "output_type": "stream",
     "text": [
      " 93%|█████████▎| 835/894 [31:40<02:21,  2.40s/it]"
     ]
    },
    {
     "name": "stdout",
     "output_type": "stream",
     "text": [
      "TM-score >0.5 in P81529\n"
     ]
    },
    {
     "name": "stderr",
     "output_type": "stream",
     "text": [
      " 94%|█████████▎| 836/894 [31:41<02:05,  2.17s/it]"
     ]
    },
    {
     "name": "stdout",
     "output_type": "stream",
     "text": [
      "TM-score >0.5 in Q9BXS1\n"
     ]
    },
    {
     "name": "stderr",
     "output_type": "stream",
     "text": [
      " 94%|█████████▎| 837/894 [31:46<02:28,  2.61s/it]"
     ]
    },
    {
     "name": "stdout",
     "output_type": "stream",
     "text": [
      "TM-score >0.5 in Q746I8\n"
     ]
    },
    {
     "name": "stderr",
     "output_type": "stream",
     "text": [
      " 94%|█████████▍| 844/894 [31:54<01:08,  1.36s/it]"
     ]
    },
    {
     "name": "stdout",
     "output_type": "stream",
     "text": [
      "TM-score >0.5 in E3PRJ5\n"
     ]
    },
    {
     "name": "stderr",
     "output_type": "stream",
     "text": [
      " 95%|█████████▍| 845/894 [31:54<00:59,  1.21s/it]"
     ]
    },
    {
     "name": "stdout",
     "output_type": "stream",
     "text": [
      "TM-score >0.5 in Q96CM3\n"
     ]
    },
    {
     "name": "stderr",
     "output_type": "stream",
     "text": [
      " 96%|█████████▌| 854/894 [31:57<00:18,  2.21it/s]"
     ]
    },
    {
     "name": "stdout",
     "output_type": "stream",
     "text": [
      "TM-score >0.5 in O52646\n"
     ]
    },
    {
     "name": "stderr",
     "output_type": "stream",
     "text": [
      " 96%|█████████▌| 856/894 [32:01<00:33,  1.15it/s]"
     ]
    },
    {
     "name": "stdout",
     "output_type": "stream",
     "text": [
      "TM-score >0.5 in P11986\n"
     ]
    },
    {
     "name": "stderr",
     "output_type": "stream",
     "text": [
      " 96%|█████████▌| 860/894 [32:03<00:28,  1.19it/s]"
     ]
    },
    {
     "name": "stdout",
     "output_type": "stream",
     "text": [
      "TM-score >0.5 in Q8ZYM8\n"
     ]
    },
    {
     "name": "stderr",
     "output_type": "stream",
     "text": [
      " 96%|█████████▋| 861/894 [32:06<00:40,  1.23s/it]"
     ]
    },
    {
     "name": "stdout",
     "output_type": "stream",
     "text": [
      "TM-score >0.5 in Q8DLI5\n"
     ]
    },
    {
     "name": "stderr",
     "output_type": "stream",
     "text": [
      " 97%|█████████▋| 863/894 [32:06<00:25,  1.22it/s]"
     ]
    },
    {
     "name": "stdout",
     "output_type": "stream",
     "text": [
      "TM-score >0.5 in P25126\n"
     ]
    },
    {
     "name": "stderr",
     "output_type": "stream",
     "text": [
      " 97%|█████████▋| 864/894 [32:16<01:25,  2.85s/it]"
     ]
    },
    {
     "name": "stdout",
     "output_type": "stream",
     "text": [
      "TM-score >0.5 in P09143\n"
     ]
    },
    {
     "name": "stderr",
     "output_type": "stream",
     "text": [
      " 97%|█████████▋| 865/894 [32:38<03:34,  7.39s/it]"
     ]
    },
    {
     "name": "stdout",
     "output_type": "stream",
     "text": [
      "TM-score >0.5 in B3FHP0\n"
     ]
    },
    {
     "name": "stderr",
     "output_type": "stream",
     "text": [
      " 97%|█████████▋| 869/894 [32:46<01:45,  4.23s/it]"
     ]
    },
    {
     "name": "stdout",
     "output_type": "stream",
     "text": [
      "TM-score >0.5 in O28028\n"
     ]
    },
    {
     "name": "stderr",
     "output_type": "stream",
     "text": [
      " 97%|█████████▋| 870/894 [32:47<01:27,  3.65s/it]"
     ]
    },
    {
     "name": "stdout",
     "output_type": "stream",
     "text": [
      "TM-score >0.5 in B6YXQ1\n"
     ]
    },
    {
     "name": "stderr",
     "output_type": "stream",
     "text": [
      " 98%|█████████▊| 872/894 [32:47<00:55,  2.52s/it]"
     ]
    },
    {
     "name": "stdout",
     "output_type": "stream",
     "text": [
      "TM-score >0.5 in P75430\n"
     ]
    },
    {
     "name": "stderr",
     "output_type": "stream",
     "text": [
      " 98%|█████████▊| 874/894 [32:48<00:36,  1.84s/it]"
     ]
    },
    {
     "name": "stdout",
     "output_type": "stream",
     "text": [
      "TM-score >0.5 in P37798\n"
     ]
    },
    {
     "name": "stderr",
     "output_type": "stream",
     "text": [
      " 98%|█████████▊| 876/894 [32:49<00:25,  1.39s/it]"
     ]
    },
    {
     "name": "stdout",
     "output_type": "stream",
     "text": [
      "TM-score >0.5 in Q980S6\n"
     ]
    },
    {
     "name": "stderr",
     "output_type": "stream",
     "text": [
      " 98%|█████████▊| 877/894 [33:03<01:13,  4.34s/it]"
     ]
    },
    {
     "name": "stdout",
     "output_type": "stream",
     "text": [
      "TM-score >0.5 in P21164\n"
     ]
    },
    {
     "name": "stderr",
     "output_type": "stream",
     "text": [
      " 98%|█████████▊| 878/894 [33:17<01:45,  6.60s/it]"
     ]
    },
    {
     "name": "stdout",
     "output_type": "stream",
     "text": [
      "TM-score >0.5 in Q2RM91\n"
     ]
    },
    {
     "name": "stderr",
     "output_type": "stream",
     "text": [
      " 99%|█████████▊| 881/894 [33:19<00:46,  3.59s/it]"
     ]
    },
    {
     "name": "stdout",
     "output_type": "stream",
     "text": [
      "TM-score >0.5 in O29632\n"
     ]
    },
    {
     "name": "stderr",
     "output_type": "stream",
     "text": [
      " 99%|█████████▊| 882/894 [33:27<00:54,  4.53s/it]"
     ]
    },
    {
     "name": "stdout",
     "output_type": "stream",
     "text": [
      "TM-score >0.5 in P26239\n"
     ]
    },
    {
     "name": "stderr",
     "output_type": "stream",
     "text": [
      " 99%|█████████▉| 889/894 [33:42<00:12,  2.40s/it]"
     ]
    },
    {
     "name": "stdout",
     "output_type": "stream",
     "text": [
      "TM-score >0.5 in Q9SWS1\n"
     ]
    },
    {
     "name": "stderr",
     "output_type": "stream",
     "text": [
      "100%|█████████▉| 890/894 [33:42<00:07,  1.85s/it]"
     ]
    },
    {
     "name": "stdout",
     "output_type": "stream",
     "text": [
      "TM-score >0.5 in G7CBF6\n"
     ]
    },
    {
     "name": "stderr",
     "output_type": "stream",
     "text": [
      "100%|█████████▉| 892/894 [34:01<00:10,  5.13s/it]"
     ]
    },
    {
     "name": "stdout",
     "output_type": "stream",
     "text": [
      "TM-score >0.5 in P28737\n"
     ]
    },
    {
     "name": "stderr",
     "output_type": "stream",
     "text": [
      "100%|█████████▉| 893/894 [34:03<00:04,  4.26s/it]"
     ]
    },
    {
     "name": "stdout",
     "output_type": "stream",
     "text": [
      "TM-score >0.5 in P37093\n"
     ]
    },
    {
     "name": "stderr",
     "output_type": "stream",
     "text": [
      "100%|██████████| 894/894 [34:13<00:00,  6.01s/it]"
     ]
    },
    {
     "name": "stdout",
     "output_type": "stream",
     "text": [
      "TM-score >0.5 in P94360\n"
     ]
    },
    {
     "name": "stderr",
     "output_type": "stream",
     "text": [
      "100%|██████████| 894/894 [34:27<00:00,  2.31s/it]"
     ]
    },
    {
     "name": "stdout",
     "output_type": "stream",
     "text": [
      "TM-score >0.5 in O07550\n"
     ]
    },
    {
     "name": "stderr",
     "output_type": "stream",
     "text": [
      "\n"
     ]
    }
   ],
   "source": [
    "tqdm.pandas()\n",
    "test_dataset['max_tmscore'] = test_dataset.progress_apply(lambda row:get_structure_TMScore(row, train_dataset), axis=1)"
   ]
  },
  {
   "cell_type": "code",
   "execution_count": 24,
   "metadata": {},
   "outputs": [
    {
     "data": {
      "text/plain": [
       "332"
      ]
     },
     "execution_count": 24,
     "metadata": {},
     "output_type": "execute_result"
    }
   ],
   "source": [
    "(test_dataset['max_tmscore'] > 0.5).sum()"
   ]
  },
  {
   "cell_type": "code",
   "execution_count": 26,
   "metadata": {},
   "outputs": [
    {
     "data": {
      "text/plain": [
       "396"
      ]
     },
     "execution_count": 26,
     "metadata": {},
     "output_type": "execute_result"
    }
   ],
   "source": [
    "(test_dataset['max_tmscore'] < 0.17).sum()"
   ]
  },
  {
   "cell_type": "code",
   "execution_count": 27,
   "metadata": {},
   "outputs": [],
   "source": [
    "# test_dataset.to_csv(os.path.join(ec_site_dataset_path, merge_dataset_name_str+f'{max_sample}', 'test_dataset_with_similarity_idx.csv'), index=False)\n",
    "# 注释防止文件被意外覆盖"
   ]
  },
  {
   "cell_type": "code",
   "execution_count": 35,
   "metadata": {},
   "outputs": [
    {
     "data": {
      "image/png": "[encoded data removed]",
      "text/plain": [
       "<Figure size 1000x600 with 1 Axes>"
      ]
     },
     "metadata": {},
     "output_type": "display_data"
    }
   ],
   "source": [
    "bins = [0, 0.17, 0.5, 1]\n",
    "labels = ['0~0.17', '0.17~0.5', '0.5~1']\n",
    "test_dataset['range'] = pd.cut(test_dataset['max_tmscore'], bins=bins, labels=labels, right=False)\n",
    "count_series = test_dataset['range'].value_counts().reindex(labels)\n",
    "\n",
    "# 绘制柱状图\n",
    "plt.figure(figsize=(10, 6)) \n",
    "ax = count_series.plot(kind='bar', color=['#3498db', '#e74c3c', '#f39c12'])\n",
    "ax.spines['top'].set_visible(False)  \n",
    "ax.spines['right'].set_visible(False) \n",
    "for i, count in enumerate(count_series):\n",
    "    plt.text(i, count + 5, str(count), ha='center', va='bottom')\n",
    "plt.title('Sample Distributions by Max TM-Score in Relation to the Training Dataset')\n",
    "plt.xlabel('Range of max TMscore')\n",
    "plt.ylabel('Number of Test Dataset Samples')\n",
    "plt.xticks(rotation=0)\n",
    "# plt.grid(axis='y', linestyle='--', alpha=0.7)\n",
    "plt.show()"
   ]
  }
 ],
 "metadata": {
  "kernelspec": {
   "display_name": "py38",
   "language": "python",
   "name": "python3"
  },
  "language_info": {
   "codemirror_mode": {
    "name": "ipython",
    "version": 3
   },
   "file_extension": ".py",
   "mimetype": "text/x-python",
   "name": "python",
   "nbconvert_exporter": "python",
   "pygments_lexer": "ipython3",
   "version": "3.8.16"
  }
 },
 "nbformat": 4,
 "nbformat_minor": 2
}
