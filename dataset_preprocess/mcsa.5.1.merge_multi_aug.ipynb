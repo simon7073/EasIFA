{
 "cells": [
  {
   "cell_type": "code",
   "execution_count": 1,
   "metadata": {},
   "outputs": [],
   "source": [
    "import os\n",
    "import pandas as pd\n",
    "import re\n"
   ]
  },
  {
   "cell_type": "markdown",
   "metadata": {},
   "source": [
    "这个代码是用来合并多次生成的增强数据"
   ]
  },
  {
   "cell_type": "code",
   "execution_count": 2,
   "metadata": {},
   "outputs": [],
   "source": [
    "aug_mcsa_dataset_path = '../dataset/mcsa_fine_tune/'\n",
    "\n",
    "source_aug_data_flag_list = [\n",
    "    'mcsa_aug_20_mutation_rate_0.2_insertion_rate_0.1_deletion_rate_0.1_max_length_150_seed_123'\n",
    "    'mcsa_aug_40_mutation_rate_0.35_insertion_rate_0.1_deletion_rate_0.1_max_length_150_seed_123'\n",
    "]\n",
    "\n",
    "target_aug_data_flag = 'mcsa_aug_20+40_mutation_rate_0.2+0.35_insertion_rate_0.1_deletion_rate_0.1_max_length_150_seed_123'"
   ]
  },
  {
   "cell_type": "code",
   "execution_count": null,
   "metadata": {},
   "outputs": [],
   "source": [
    "for dataset_flag in ['train', 'valid', 'test']:\n",
    "    \n",
    "    this_dataset_flag_df = pd.DataFrame()\n",
    "    for aug_data_flag in source_aug_data_flag_list:\n",
    "        this_aug_data_flag_df = pd.read_csv(os.path.join(\n",
    "            aug_mcsa_dataset_path, \n",
    "            aug_data_flag, \n",
    "            f'new_{dataset_flag}_dataset', \n",
    "            f'aug_mcsa_{dataset_flag}.csv'\n",
    "            )\n",
    "                                   )\n",
    "     "
   ]
  }
 ],
 "metadata": {
  "kernelspec": {
   "display_name": "py38",
   "language": "python",
   "name": "python3"
  },
  "language_info": {
   "codemirror_mode": {
    "name": "ipython",
    "version": 3
   },
   "file_extension": ".py",
   "mimetype": "text/x-python",
   "name": "python",
   "nbconvert_exporter": "python",
   "pygments_lexer": "ipython3",
   "version": "3.8.16"
  }
 },
 "nbformat": 4,
 "nbformat_minor": 2
}
