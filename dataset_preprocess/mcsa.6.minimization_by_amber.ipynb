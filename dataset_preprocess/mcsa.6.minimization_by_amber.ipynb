{
 "cells": [
  {
   "cell_type": "code",
   "execution_count": 1,
   "metadata": {},
   "outputs": [],
   "source": [
    "import pandas as pd\n",
    "import os\n",
    "import subprocess\n",
    "from tqdm import tqdm\n",
    "import re\n"
   ]
  },
  {
   "cell_type": "code",
   "execution_count": 2,
   "metadata": {},
   "outputs": [],
   "source": [
    "class suppress_stdout_stderr(object):\n",
    "    '''\n",
    "    A context manager for doing a \"deep suppression\" of stdout and stderr in\n",
    "    Python, i.e. will suppress all print, even if the print originates in a\n",
    "    compiled C/Fortran sub-function.\n",
    "       This will not suppress raised exceptions, since exceptions are printed\n",
    "    to stderr just before a script exits, and after the context manager has\n",
    "    exited (at least, I think that is why it lets exceptions through).\n",
    "\n",
    "    '''\n",
    "    def __init__(self):\n",
    "        # Open a pair of null files\n",
    "        self.null_fds = [os.open(os.devnull, os.O_RDWR) for x in range(2)]\n",
    "        # Save the actual stdout (1) and stderr (2) file descriptors.\n",
    "        self.save_fds = (os.dup(1), os.dup(2))\n",
    "\n",
    "    def __enter__(self):\n",
    "        # Assign the null pointers to stdout and stderr.\n",
    "        os.dup2(self.null_fds[0], 1)\n",
    "        os.dup2(self.null_fds[1], 2)\n",
    "\n",
    "    def __exit__(self, *_):\n",
    "        # Re-assign the real stdout/stderr back to (1) and (2)\n",
    "        os.dup2(self.save_fds[0], 1)\n",
    "        os.dup2(self.save_fds[1], 2)\n",
    "        # Close the null files\n",
    "        os.close(self.null_fds[0])\n",
    "        os.close(self.null_fds[1])\n"
   ]
  },
  {
   "cell_type": "code",
   "execution_count": 11,
   "metadata": {},
   "outputs": [],
   "source": [
    "def extract_leap_info(log_text):\n",
    "    # 使用正则表达式匹配错误、警告和注意的数量\n",
    "    match = re.search(r\"Exiting LEaP: Errors = (\\d+); Warnings = (\\d+); Notes = (\\d+).\", log_text)\n",
    "    if match:\n",
    "        errors, warnings, notes = map(int, match.groups())\n",
    "        return errors, warnings, notes\n",
    "    else:\n",
    "        return None\n",
    "    \n",
    "def minimize_use_amber(input_pdb_file, output_path, AMBERHOME='/home/xiaoruiwang/software/amber20'):\n",
    "    is_success = False\n",
    "    abs_input_pdb_path = os.path.abspath(input_pdb_file)\n",
    "    abs_output_path = os.path.abspath(output_path)\n",
    "    pdb_name = os.path.split(abs_input_pdb_path)[-1].split('.')[0]\n",
    "    minimize_command = f'./minimize_script_folder/minimize_protein.sh {abs_input_pdb_path} {abs_output_path} {AMBERHOME}'\n",
    "    if not os.path.exists(os.path.join(output_path, f'{pdb_name}_minimized.pdb')):\n",
    "        completed_process = subprocess.run(minimize_command, shell=True)\n",
    "        if completed_process.returncode != 0:\n",
    "            print(\"Error: The command did not run successfully!\")\n",
    "    \n",
    "    # 抓错误\n",
    "\n",
    "    with open(os.path.join(output_path, f'{pdb_name}_minimized_tleap.log'), 'r') as f:\n",
    "        for line in f.readlines():\n",
    "            line = line.strip()\n",
    "            info = extract_leap_info(line)\n",
    "            if info:\n",
    "                errors, warnings, notes = info\n",
    "                if errors == 0:\n",
    "                    is_success = True\n",
    "\n",
    "        \n",
    "    return abs_output_path, is_success\n",
    "\n",
    "def get_mcsa_normal_dataset(dir, subset=['train', 'valid'], flag='mcsa', read_new=False):\n",
    "    dataset = pd.DataFrame()\n",
    "    for dataset_flag in subset:\n",
    "        sub_df = pd.read_csv(os.path.join(dir, f'{dataset_flag}_dataset' if not read_new else f'new_{dataset_flag}_dataset', f'{flag}_{dataset_flag}.csv'))\n",
    "        sub_df['dataset_flag'] = [dataset_flag for _ in range(len(sub_df))]\n",
    "        dataset = pd.concat([dataset, sub_df])\n",
    "    return dataset\n",
    "        \n",
    "    "
   ]
  },
  {
   "cell_type": "code",
   "execution_count": 4,
   "metadata": {},
   "outputs": [
    {
     "data": {
      "text/html": [
       "<div>\n",
       "<style scoped>\n",
       "    .dataframe tbody tr th:only-of-type {\n",
       "        vertical-align: middle;\n",
       "    }\n",
       "\n",
       "    .dataframe tbody tr th {\n",
       "        vertical-align: top;\n",
       "    }\n",
       "\n",
       "    .dataframe thead th {\n",
       "        text-align: right;\n",
       "    }\n",
       "</style>\n",
       "<table border=\"1\" class=\"dataframe\">\n",
       "  <thead>\n",
       "    <tr style=\"text-align: right;\">\n",
       "      <th></th>\n",
       "      <th>reaction</th>\n",
       "      <th>ec</th>\n",
       "      <th>alphafolddb-id</th>\n",
       "      <th>aa_sequence</th>\n",
       "      <th>site_labels</th>\n",
       "      <th>site_types</th>\n",
       "      <th>cluster</th>\n",
       "      <th>ec_level1</th>\n",
       "      <th>dataset_flag</th>\n",
       "    </tr>\n",
       "  </thead>\n",
       "  <tbody>\n",
       "    <tr>\n",
       "      <th>0</th>\n",
       "      <td>CC1C(=O)N(C)C1C.O|MSIQHFRVALIPFFAAFCLPVFAHPETL...</td>\n",
       "      <td>3.5.2.6</td>\n",
       "      <td>P62593</td>\n",
       "      <td>MSIQHFRVALIPFFAAFCLPVFAHPETLVKVKDAEDQLGARVGYIE...</td>\n",
       "      <td>[[68], [71], [128], [164], [232], [235]]</td>\n",
       "      <td>NaN</td>\n",
       "      <td>Cluster 18632</td>\n",
       "      <td>3</td>\n",
       "      <td>train</td>\n",
       "    </tr>\n",
       "    <tr>\n",
       "      <th>1</th>\n",
       "      <td>CC1C(=O)N(C)C1C.O|MSIQHFRVALIPFFAAFCLPVFAHPETL...</td>\n",
       "      <td>3.5.2.6</td>\n",
       "      <td>P62593-c0_m7</td>\n",
       "      <td>TRPEERFPMMSTMKRLLCGAVLSRWPEWEQLGRRICYEQGTLVESP...</td>\n",
       "      <td>[[11], [14], [66], [99], [158], [161]]</td>\n",
       "      <td>NaN</td>\n",
       "      <td>Cluster 18632</td>\n",
       "      <td>3</td>\n",
       "      <td>train</td>\n",
       "    </tr>\n",
       "    <tr>\n",
       "      <th>2</th>\n",
       "      <td>CC1C(=O)N(C)C1C.O|MSIQHFRVALIPFFAAFCLPVFAHPETL...</td>\n",
       "      <td>3.5.2.6</td>\n",
       "      <td>P62593-c0_m0</td>\n",
       "      <td>SGPPFPMLSTGKVLCGCVLRSMAGKCQLGRVIMYMQNDWYEYSPTE...</td>\n",
       "      <td>[]</td>\n",
       "      <td>NaN</td>\n",
       "      <td>Cluster 18632</td>\n",
       "      <td>3</td>\n",
       "      <td>train</td>\n",
       "    </tr>\n",
       "    <tr>\n",
       "      <th>3</th>\n",
       "      <td>CC1C(=O)N(C)C1C.O|MSIQHFRVALIPFFAAFCLPVFAHPETL...</td>\n",
       "      <td>3.5.2.6</td>\n",
       "      <td>P62593-c0_m10</td>\n",
       "      <td>FRPEEFPMMSTFKFLLCNAVLSCVDAGQEQLGRVISQILEEQMPVR...</td>\n",
       "      <td>[]</td>\n",
       "      <td>NaN</td>\n",
       "      <td>Cluster 18632</td>\n",
       "      <td>3</td>\n",
       "      <td>train</td>\n",
       "    </tr>\n",
       "    <tr>\n",
       "      <th>4</th>\n",
       "      <td>CC1C(=O)N(C)C1C.O|MSIQHFRVALIPFFAAFCLPVFAHPETL...</td>\n",
       "      <td>3.5.2.6</td>\n",
       "      <td>P62593-c0_m19</td>\n",
       "      <td>FPEERFPMSLKVLLCGAVLSRVDAGQEEGRRIYYSQDLVEYSVTDK...</td>\n",
       "      <td>[]</td>\n",
       "      <td>NaN</td>\n",
       "      <td>Cluster 18632</td>\n",
       "      <td>3</td>\n",
       "      <td>train</td>\n",
       "    </tr>\n",
       "    <tr>\n",
       "      <th>...</th>\n",
       "      <td>...</td>\n",
       "      <td>...</td>\n",
       "      <td>...</td>\n",
       "      <td>...</td>\n",
       "      <td>...</td>\n",
       "      <td>...</td>\n",
       "      <td>...</td>\n",
       "      <td>...</td>\n",
       "      <td>...</td>\n",
       "    </tr>\n",
       "    <tr>\n",
       "      <th>987</th>\n",
       "      <td>CP(=O)([O-])OC[C@H]1O[C@@H](n2cnc3c(N)ncnc32)[...</td>\n",
       "      <td>6.1.1.11</td>\n",
       "      <td>Q46AN5-c0_m360</td>\n",
       "      <td>RIGGMCDAQCPCFWMYVGETLPQEVKQFTRSGTSIRYESGIHGLTR...</td>\n",
       "      <td>[]</td>\n",
       "      <td>NaN</td>\n",
       "      <td>Cluster 3619</td>\n",
       "      <td>6</td>\n",
       "      <td>valid</td>\n",
       "    </tr>\n",
       "    <tr>\n",
       "      <th>988</th>\n",
       "      <td>CP(=O)([O-])OC[C@H]1O[C@@H](n2cnc3c(N)ncnc32)[...</td>\n",
       "      <td>6.1.1.18</td>\n",
       "      <td>P00962-c0_m50</td>\n",
       "      <td>HTTVHRFQELNGYKHIGVSKSICVNFGRAQDYTYQWECFDTNCKIN...</td>\n",
       "      <td>[]</td>\n",
       "      <td>NaN</td>\n",
       "      <td>Cluster 1462</td>\n",
       "      <td>6</td>\n",
       "      <td>valid</td>\n",
       "    </tr>\n",
       "    <tr>\n",
       "      <th>989</th>\n",
       "      <td>CP(=O)([O-])OC[C@H]1O[C@@H](n2cnc3c(N)ncnc32)[...</td>\n",
       "      <td>6.1.1.18</td>\n",
       "      <td>P00962-c0_m60</td>\n",
       "      <td>HETVQDRFPPEFGVLMVGHAMHNWTYIACDYYGMCNLRTDYTNVKE...</td>\n",
       "      <td>[]</td>\n",
       "      <td>NaN</td>\n",
       "      <td>Cluster 1462</td>\n",
       "      <td>6</td>\n",
       "      <td>valid</td>\n",
       "    </tr>\n",
       "    <tr>\n",
       "      <th>990</th>\n",
       "      <td>NC(=[NH2+])NCCC[C@H]([NH2+]CCC(=O)[O-])C(=O)[O...</td>\n",
       "      <td>6.3.3.4</td>\n",
       "      <td>P0DJQ7-c0_m130</td>\n",
       "      <td>MVEKRINLWKYKADNPLGGVMHREDVRLELDTNGAYDHATFDLNER...</td>\n",
       "      <td>[]</td>\n",
       "      <td>NaN</td>\n",
       "      <td>Cluster 2977</td>\n",
       "      <td>6</td>\n",
       "      <td>valid</td>\n",
       "    </tr>\n",
       "    <tr>\n",
       "      <th>991</th>\n",
       "      <td>NC(=[NH2+])NCCC[C@H]([NH2+]CCC(=O)[O-])C(=O)[O...</td>\n",
       "      <td>6.3.3.4</td>\n",
       "      <td>P0DJQ7-c0_m370</td>\n",
       "      <td>DNPQRGILFTGWYGADQLANFHREDRLPALDTKVPVTMMTCFNGNE...</td>\n",
       "      <td>[]</td>\n",
       "      <td>NaN</td>\n",
       "      <td>Cluster 2977</td>\n",
       "      <td>6</td>\n",
       "      <td>valid</td>\n",
       "    </tr>\n",
       "  </tbody>\n",
       "</table>\n",
       "<p>9903 rows × 9 columns</p>\n",
       "</div>"
      ],
      "text/plain": [
       "                                              reaction        ec  \\\n",
       "0    CC1C(=O)N(C)C1C.O|MSIQHFRVALIPFFAAFCLPVFAHPETL...   3.5.2.6   \n",
       "1    CC1C(=O)N(C)C1C.O|MSIQHFRVALIPFFAAFCLPVFAHPETL...   3.5.2.6   \n",
       "2    CC1C(=O)N(C)C1C.O|MSIQHFRVALIPFFAAFCLPVFAHPETL...   3.5.2.6   \n",
       "3    CC1C(=O)N(C)C1C.O|MSIQHFRVALIPFFAAFCLPVFAHPETL...   3.5.2.6   \n",
       "4    CC1C(=O)N(C)C1C.O|MSIQHFRVALIPFFAAFCLPVFAHPETL...   3.5.2.6   \n",
       "..                                                 ...       ...   \n",
       "987  CP(=O)([O-])OC[C@H]1O[C@@H](n2cnc3c(N)ncnc32)[...  6.1.1.11   \n",
       "988  CP(=O)([O-])OC[C@H]1O[C@@H](n2cnc3c(N)ncnc32)[...  6.1.1.18   \n",
       "989  CP(=O)([O-])OC[C@H]1O[C@@H](n2cnc3c(N)ncnc32)[...  6.1.1.18   \n",
       "990  NC(=[NH2+])NCCC[C@H]([NH2+]CCC(=O)[O-])C(=O)[O...   6.3.3.4   \n",
       "991  NC(=[NH2+])NCCC[C@H]([NH2+]CCC(=O)[O-])C(=O)[O...   6.3.3.4   \n",
       "\n",
       "     alphafolddb-id                                        aa_sequence  \\\n",
       "0            P62593  MSIQHFRVALIPFFAAFCLPVFAHPETLVKVKDAEDQLGARVGYIE...   \n",
       "1      P62593-c0_m7  TRPEERFPMMSTMKRLLCGAVLSRWPEWEQLGRRICYEQGTLVESP...   \n",
       "2      P62593-c0_m0  SGPPFPMLSTGKVLCGCVLRSMAGKCQLGRVIMYMQNDWYEYSPTE...   \n",
       "3     P62593-c0_m10  FRPEEFPMMSTFKFLLCNAVLSCVDAGQEQLGRVISQILEEQMPVR...   \n",
       "4     P62593-c0_m19  FPEERFPMSLKVLLCGAVLSRVDAGQEEGRRIYYSQDLVEYSVTDK...   \n",
       "..              ...                                                ...   \n",
       "987  Q46AN5-c0_m360  RIGGMCDAQCPCFWMYVGETLPQEVKQFTRSGTSIRYESGIHGLTR...   \n",
       "988   P00962-c0_m50  HTTVHRFQELNGYKHIGVSKSICVNFGRAQDYTYQWECFDTNCKIN...   \n",
       "989   P00962-c0_m60  HETVQDRFPPEFGVLMVGHAMHNWTYIACDYYGMCNLRTDYTNVKE...   \n",
       "990  P0DJQ7-c0_m130  MVEKRINLWKYKADNPLGGVMHREDVRLELDTNGAYDHATFDLNER...   \n",
       "991  P0DJQ7-c0_m370  DNPQRGILFTGWYGADQLANFHREDRLPALDTKVPVTMMTCFNGNE...   \n",
       "\n",
       "                                  site_labels  site_types        cluster  \\\n",
       "0    [[68], [71], [128], [164], [232], [235]]         NaN  Cluster 18632   \n",
       "1      [[11], [14], [66], [99], [158], [161]]         NaN  Cluster 18632   \n",
       "2                                          []         NaN  Cluster 18632   \n",
       "3                                          []         NaN  Cluster 18632   \n",
       "4                                          []         NaN  Cluster 18632   \n",
       "..                                        ...         ...            ...   \n",
       "987                                        []         NaN   Cluster 3619   \n",
       "988                                        []         NaN   Cluster 1462   \n",
       "989                                        []         NaN   Cluster 1462   \n",
       "990                                        []         NaN   Cluster 2977   \n",
       "991                                        []         NaN   Cluster 2977   \n",
       "\n",
       "     ec_level1 dataset_flag  \n",
       "0            3        train  \n",
       "1            3        train  \n",
       "2            3        train  \n",
       "3            3        train  \n",
       "4            3        train  \n",
       "..         ...          ...  \n",
       "987          6        valid  \n",
       "988          6        valid  \n",
       "989          6        valid  \n",
       "990          6        valid  \n",
       "991          6        valid  \n",
       "\n",
       "[9903 rows x 9 columns]"
      ]
     },
     "execution_count": 4,
     "metadata": {},
     "output_type": "execute_result"
    }
   ],
   "source": [
    "# aug_dir_flag ='mcsa_aug_20_mutation_rate_0.2_insertion_rate_0.1_deletion_rate_0.1_max_length_150_seed_123'\n",
    "# aug_dir_flag = 'mcsa_aug_40_mutation_rate_0.3_insertion_rate_0.1_deletion_rate_0.1_max_length_150_seed_123'\n",
    "aug_dir_flag = 'mcsa_aug_20+40_mutation_rate_0.2+0.35_insertion_rate_0.1_deletion_rate_0.1_max_length_150_seed_123'\n",
    "new_aug_save_path = f'../dataset/mcsa_fine_tune/{aug_dir_flag}/'\n",
    "\n",
    "fixed_generated_structure_dir = f'../dataset/mcsa_fine_tune/{aug_dir_flag}/esmfold_generated_aug_structures'\n",
    "end_aug_dataset = get_mcsa_normal_dataset(new_aug_save_path, subset=['train', 'valid'], flag='aug_mcsa', read_new=True)\n",
    "end_aug_dataset"
   ]
  },
  {
   "cell_type": "code",
   "execution_count": 8,
   "metadata": {},
   "outputs": [
    {
     "data": {
      "text/plain": [
       "0.6717156417247299"
      ]
     },
     "execution_count": 8,
     "metadata": {},
     "output_type": "execute_result"
    }
   ],
   "source": [
    "end_aug_dataset['site_labels'].apply(lambda x:x=='[]').sum()/len(end_aug_dataset)"
   ]
  },
  {
   "cell_type": "code",
   "execution_count": 13,
   "metadata": {},
   "outputs": [
    {
     "name": "stderr",
     "output_type": "stream",
     "text": [
      " 40%|████      | 3964/9903 [00:00<00:00, 9849.00it/s]Note: The following floating-point exceptions are signalling: IEEE_INVALID_FLAG\n"
     ]
    },
    {
     "name": "stdout",
     "output_type": "stream",
     "text": [
      "Minimization complete. Optimized structure is in /raid/xiaoruiwang/works/ec_site_prediction/dataset/mcsa_fine_tune/mcsa_aug_20+40_mutation_rate_0.2+0.35_insertion_rate_0.1_deletion_rate_0.1_max_length_150_seed_123/esmfold_generated_aug_structures/P62593-c0_m180_minimized.pdb\n"
     ]
    },
    {
     "name": "stderr",
     "output_type": "stream",
     "text": [
      "Note: The following floating-point exceptions are signalling: IEEE_INVALID_FLAG IEEE_DENORMAL\n"
     ]
    },
    {
     "name": "stdout",
     "output_type": "stream",
     "text": [
      "Minimization complete. Optimized structure is in /raid/xiaoruiwang/works/ec_site_prediction/dataset/mcsa_fine_tune/mcsa_aug_20+40_mutation_rate_0.2+0.35_insertion_rate_0.1_deletion_rate_0.1_max_length_150_seed_123/esmfold_generated_aug_structures/P62593-c0_m40_minimized.pdb\n"
     ]
    },
    {
     "name": "stderr",
     "output_type": "stream",
     "text": [
      "Note: The following floating-point exceptions are signalling: IEEE_INVALID_FLAG IEEE_DENORMAL\n"
     ]
    },
    {
     "name": "stdout",
     "output_type": "stream",
     "text": [
      "Minimization complete. Optimized structure is in /raid/xiaoruiwang/works/ec_site_prediction/dataset/mcsa_fine_tune/mcsa_aug_20+40_mutation_rate_0.2+0.35_insertion_rate_0.1_deletion_rate_0.1_max_length_150_seed_123/esmfold_generated_aug_structures/P15559-c0_m100_minimized.pdb\n"
     ]
    },
    {
     "name": "stderr",
     "output_type": "stream",
     "text": [
      "Note: The following floating-point exceptions are signalling: IEEE_INVALID_FLAG IEEE_OVERFLOW_FLAG IEEE_DENORMAL\n"
     ]
    },
    {
     "name": "stdout",
     "output_type": "stream",
     "text": [
      "Minimization complete. Optimized structure is in /raid/xiaoruiwang/works/ec_site_prediction/dataset/mcsa_fine_tune/mcsa_aug_20+40_mutation_rate_0.2+0.35_insertion_rate_0.1_deletion_rate_0.1_max_length_150_seed_123/esmfold_generated_aug_structures/P15559-c0_m300_minimized.pdb\n"
     ]
    },
    {
     "name": "stderr",
     "output_type": "stream",
     "text": [
      "Note: The following floating-point exceptions are signalling: IEEE_INVALID_FLAG IEEE_OVERFLOW_FLAG IEEE_DENORMAL\n"
     ]
    },
    {
     "name": "stdout",
     "output_type": "stream",
     "text": [
      "Minimization complete. Optimized structure is in /raid/xiaoruiwang/works/ec_site_prediction/dataset/mcsa_fine_tune/mcsa_aug_20+40_mutation_rate_0.2+0.35_insertion_rate_0.1_deletion_rate_0.1_max_length_150_seed_123/esmfold_generated_aug_structures/P00390-c0_m360_minimized.pdb\n"
     ]
    },
    {
     "name": "stderr",
     "output_type": "stream",
     "text": [
      "Note: The following floating-point exceptions are signalling: IEEE_INVALID_FLAG\n"
     ]
    },
    {
     "name": "stdout",
     "output_type": "stream",
     "text": [
      "Minimization complete. Optimized structure is in /raid/xiaoruiwang/works/ec_site_prediction/dataset/mcsa_fine_tune/mcsa_aug_20+40_mutation_rate_0.2+0.35_insertion_rate_0.1_deletion_rate_0.1_max_length_150_seed_123/esmfold_generated_aug_structures/P00390-c0_m370_minimized.pdb\n"
     ]
    },
    {
     "name": "stderr",
     "output_type": "stream",
     "text": [
      "Note: The following floating-point exceptions are signalling: IEEE_INVALID_FLAG\n"
     ]
    },
    {
     "name": "stdout",
     "output_type": "stream",
     "text": [
      "Minimization complete. Optimized structure is in /raid/xiaoruiwang/works/ec_site_prediction/dataset/mcsa_fine_tune/mcsa_aug_20+40_mutation_rate_0.2+0.35_insertion_rate_0.1_deletion_rate_0.1_max_length_150_seed_123/esmfold_generated_aug_structures/P9WJJ7-c0_m50_minimized.pdb\n"
     ]
    },
    {
     "name": "stderr",
     "output_type": "stream",
     "text": [
      "Note: The following floating-point exceptions are signalling: IEEE_INVALID_FLAG IEEE_OVERFLOW_FLAG IEEE_DENORMAL\n"
     ]
    },
    {
     "name": "stdout",
     "output_type": "stream",
     "text": [
      "Minimization complete. Optimized structure is in /raid/xiaoruiwang/works/ec_site_prediction/dataset/mcsa_fine_tune/mcsa_aug_20+40_mutation_rate_0.2+0.35_insertion_rate_0.1_deletion_rate_0.1_max_length_150_seed_123/esmfold_generated_aug_structures/P9WJJ7-c0_m110_minimized.pdb\n"
     ]
    },
    {
     "name": "stderr",
     "output_type": "stream",
     "text": [
      "Note: The following floating-point exceptions are signalling: IEEE_INVALID_FLAG IEEE_DENORMAL\n"
     ]
    },
    {
     "name": "stdout",
     "output_type": "stream",
     "text": [
      "Minimization complete. Optimized structure is in /raid/xiaoruiwang/works/ec_site_prediction/dataset/mcsa_fine_tune/mcsa_aug_20+40_mutation_rate_0.2+0.35_insertion_rate_0.1_deletion_rate_0.1_max_length_150_seed_123/esmfold_generated_aug_structures/P31153-c0_m180_minimized.pdb\n"
     ]
    },
    {
     "name": "stderr",
     "output_type": "stream",
     "text": [
      "Note: The following floating-point exceptions are signalling: IEEE_INVALID_FLAG IEEE_DENORMAL\n"
     ]
    },
    {
     "name": "stdout",
     "output_type": "stream",
     "text": [
      "Minimization complete. Optimized structure is in /raid/xiaoruiwang/works/ec_site_prediction/dataset/mcsa_fine_tune/mcsa_aug_20+40_mutation_rate_0.2+0.35_insertion_rate_0.1_deletion_rate_0.1_max_length_150_seed_123/esmfold_generated_aug_structures/P31153-c0_m160_minimized.pdb\n"
     ]
    },
    {
     "name": "stderr",
     "output_type": "stream",
     "text": [
      " 40%|████      | 3964/9903 [00:18<00:00, 9849.00it/s]Note: The following floating-point exceptions are signalling: IEEE_INVALID_FLAG IEEE_DENORMAL\n",
      " 48%|████▊     | 4797/9903 [00:20<00:39, 130.50it/s] "
     ]
    },
    {
     "name": "stdout",
     "output_type": "stream",
     "text": [
      "Minimization complete. Optimized structure is in /raid/xiaoruiwang/works/ec_site_prediction/dataset/mcsa_fine_tune/mcsa_aug_20+40_mutation_rate_0.2+0.35_insertion_rate_0.1_deletion_rate_0.1_max_length_150_seed_123/esmfold_generated_aug_structures/P00480-c0_m140_minimized.pdb\n"
     ]
    },
    {
     "name": "stderr",
     "output_type": "stream",
     "text": [
      "Note: The following floating-point exceptions are signalling: IEEE_INVALID_FLAG IEEE_OVERFLOW_FLAG IEEE_DENORMAL\n"
     ]
    },
    {
     "name": "stdout",
     "output_type": "stream",
     "text": [
      "Minimization complete. Optimized structure is in /raid/xiaoruiwang/works/ec_site_prediction/dataset/mcsa_fine_tune/mcsa_aug_20+40_mutation_rate_0.2+0.35_insertion_rate_0.1_deletion_rate_0.1_max_length_150_seed_123/esmfold_generated_aug_structures/P00480-c0_m130_minimized.pdb\n"
     ]
    },
    {
     "name": "stderr",
     "output_type": "stream",
     "text": [
      "Note: The following floating-point exceptions are signalling: IEEE_INVALID_FLAG IEEE_DENORMAL\n"
     ]
    },
    {
     "name": "stdout",
     "output_type": "stream",
     "text": [
      "Minimization complete. Optimized structure is in /raid/xiaoruiwang/works/ec_site_prediction/dataset/mcsa_fine_tune/mcsa_aug_20+40_mutation_rate_0.2+0.35_insertion_rate_0.1_deletion_rate_0.1_max_length_150_seed_123/esmfold_generated_aug_structures/P04190-c0_m40_minimized.pdb\n"
     ]
    },
    {
     "name": "stderr",
     "output_type": "stream",
     "text": [
      "Note: The following floating-point exceptions are signalling: IEEE_INVALID_FLAG IEEE_OVERFLOW_FLAG IEEE_DENORMAL\n"
     ]
    },
    {
     "name": "stdout",
     "output_type": "stream",
     "text": [
      "Minimization complete. Optimized structure is in /raid/xiaoruiwang/works/ec_site_prediction/dataset/mcsa_fine_tune/mcsa_aug_20+40_mutation_rate_0.2+0.35_insertion_rate_0.1_deletion_rate_0.1_max_length_150_seed_123/esmfold_generated_aug_structures/P04190-c0_m290_minimized.pdb\n"
     ]
    },
    {
     "name": "stderr",
     "output_type": "stream",
     "text": [
      "Note: The following floating-point exceptions are signalling: IEEE_INVALID_FLAG IEEE_DENORMAL\n"
     ]
    },
    {
     "name": "stdout",
     "output_type": "stream",
     "text": [
      "Minimization complete. Optimized structure is in /raid/xiaoruiwang/works/ec_site_prediction/dataset/mcsa_fine_tune/mcsa_aug_20+40_mutation_rate_0.2+0.35_insertion_rate_0.1_deletion_rate_0.1_max_length_150_seed_123/esmfold_generated_aug_structures/P00491-c0_m100_minimized.pdb\n"
     ]
    },
    {
     "name": "stderr",
     "output_type": "stream",
     "text": [
      "Note: The following floating-point exceptions are signalling: IEEE_INVALID_FLAG IEEE_OVERFLOW_FLAG IEEE_DENORMAL\n",
      " 48%|████▊     | 4802/9903 [00:27<01:00, 84.81it/s] "
     ]
    },
    {
     "name": "stdout",
     "output_type": "stream",
     "text": [
      "Minimization complete. Optimized structure is in /raid/xiaoruiwang/works/ec_site_prediction/dataset/mcsa_fine_tune/mcsa_aug_20+40_mutation_rate_0.2+0.35_insertion_rate_0.1_deletion_rate_0.1_max_length_150_seed_123/esmfold_generated_aug_structures/P00491-c0_m140_minimized.pdb\n"
     ]
    },
    {
     "name": "stderr",
     "output_type": "stream",
     "text": [
      "Note: The following floating-point exceptions are signalling: IEEE_INVALID_FLAG IEEE_OVERFLOW_FLAG IEEE_DENORMAL\n"
     ]
    },
    {
     "name": "stdout",
     "output_type": "stream",
     "text": [
      "Minimization complete. Optimized structure is in /raid/xiaoruiwang/works/ec_site_prediction/dataset/mcsa_fine_tune/mcsa_aug_20+40_mutation_rate_0.2+0.35_insertion_rate_0.1_deletion_rate_0.1_max_length_150_seed_123/esmfold_generated_aug_structures/P50440-c0_m50_minimized.pdb\n"
     ]
    },
    {
     "name": "stderr",
     "output_type": "stream",
     "text": [
      "Note: The following floating-point exceptions are signalling: IEEE_INVALID_FLAG IEEE_DENORMAL\n"
     ]
    },
    {
     "name": "stdout",
     "output_type": "stream",
     "text": [
      "Minimization complete. Optimized structure is in /raid/xiaoruiwang/works/ec_site_prediction/dataset/mcsa_fine_tune/mcsa_aug_20+40_mutation_rate_0.2+0.35_insertion_rate_0.1_deletion_rate_0.1_max_length_150_seed_123/esmfold_generated_aug_structures/P50440-c0_m160_minimized.pdb\n"
     ]
    },
    {
     "name": "stderr",
     "output_type": "stream",
     "text": [
      "Note: The following floating-point exceptions are signalling: IEEE_INVALID_FLAG\n"
     ]
    },
    {
     "name": "stdout",
     "output_type": "stream",
     "text": [
      "Minimization complete. Optimized structure is in /raid/xiaoruiwang/works/ec_site_prediction/dataset/mcsa_fine_tune/mcsa_aug_20+40_mutation_rate_0.2+0.35_insertion_rate_0.1_deletion_rate_0.1_max_length_150_seed_123/esmfold_generated_aug_structures/Q07WU7-c0_m90_minimized.pdb\n"
     ]
    },
    {
     "name": "stderr",
     "output_type": "stream",
     "text": [
      "Note: The following floating-point exceptions are signalling: IEEE_INVALID_FLAG IEEE_OVERFLOW_FLAG IEEE_DENORMAL\n"
     ]
    },
    {
     "name": "stdout",
     "output_type": "stream",
     "text": [
      "Minimization complete. Optimized structure is in /raid/xiaoruiwang/works/ec_site_prediction/dataset/mcsa_fine_tune/mcsa_aug_20+40_mutation_rate_0.2+0.35_insertion_rate_0.1_deletion_rate_0.1_max_length_150_seed_123/esmfold_generated_aug_structures/Q07WU7-c0_m380_minimized.pdb\n"
     ]
    },
    {
     "name": "stderr",
     "output_type": "stream",
     "text": [
      "Note: The following floating-point exceptions are signalling: IEEE_INVALID_FLAG IEEE_DENORMAL\n"
     ]
    },
    {
     "name": "stdout",
     "output_type": "stream",
     "text": [
      "Minimization complete. Optimized structure is in /raid/xiaoruiwang/works/ec_site_prediction/dataset/mcsa_fine_tune/mcsa_aug_20+40_mutation_rate_0.2+0.35_insertion_rate_0.1_deletion_rate_0.1_max_length_150_seed_123/esmfold_generated_aug_structures/P23368-c0_m120_minimized.pdb\n"
     ]
    },
    {
     "name": "stderr",
     "output_type": "stream",
     "text": [
      "Note: The following floating-point exceptions are signalling: IEEE_INVALID_FLAG\n"
     ]
    },
    {
     "name": "stdout",
     "output_type": "stream",
     "text": [
      "Minimization complete. Optimized structure is in /raid/xiaoruiwang/works/ec_site_prediction/dataset/mcsa_fine_tune/mcsa_aug_20+40_mutation_rate_0.2+0.35_insertion_rate_0.1_deletion_rate_0.1_max_length_150_seed_123/esmfold_generated_aug_structures/P23368-c0_m160_minimized.pdb\n"
     ]
    },
    {
     "name": "stderr",
     "output_type": "stream",
     "text": [
      " 48%|████▊     | 4802/9903 [00:38<01:00, 84.81it/s]Note: The following floating-point exceptions are signalling: IEEE_INVALID_FLAG IEEE_DENORMAL\n",
      " 49%|████▊     | 4809/9903 [00:40<01:49, 46.58it/s]"
     ]
    },
    {
     "name": "stdout",
     "output_type": "stream",
     "text": [
      "Minimization complete. Optimized structure is in /raid/xiaoruiwang/works/ec_site_prediction/dataset/mcsa_fine_tune/mcsa_aug_20+40_mutation_rate_0.2+0.35_insertion_rate_0.1_deletion_rate_0.1_max_length_150_seed_123/esmfold_generated_aug_structures/Q29495-c0_m250_minimized.pdb\n"
     ]
    },
    {
     "name": "stderr",
     "output_type": "stream",
     "text": [
      "Note: The following floating-point exceptions are signalling: IEEE_INVALID_FLAG IEEE_DENORMAL\n",
      " 49%|████▊     | 4810/9903 [00:41<01:57, 43.24it/s]"
     ]
    },
    {
     "name": "stdout",
     "output_type": "stream",
     "text": [
      "Minimization complete. Optimized structure is in /raid/xiaoruiwang/works/ec_site_prediction/dataset/mcsa_fine_tune/mcsa_aug_20+40_mutation_rate_0.2+0.35_insertion_rate_0.1_deletion_rate_0.1_max_length_150_seed_123/esmfold_generated_aug_structures/Q29495-c0_m390_minimized.pdb\n"
     ]
    },
    {
     "name": "stderr",
     "output_type": "stream",
     "text": [
      "Note: The following floating-point exceptions are signalling: IEEE_INVALID_FLAG IEEE_OVERFLOW_FLAG IEEE_DENORMAL\n"
     ]
    },
    {
     "name": "stdout",
     "output_type": "stream",
     "text": [
      "Minimization complete. Optimized structure is in /raid/xiaoruiwang/works/ec_site_prediction/dataset/mcsa_fine_tune/mcsa_aug_20+40_mutation_rate_0.2+0.35_insertion_rate_0.1_deletion_rate_0.1_max_length_150_seed_123/esmfold_generated_aug_structures/P13255-c0_m50_minimized.pdb\n"
     ]
    },
    {
     "name": "stderr",
     "output_type": "stream",
     "text": [
      "Note: The following floating-point exceptions are signalling: IEEE_INVALID_FLAG IEEE_OVERFLOW_FLAG IEEE_DENORMAL\n"
     ]
    },
    {
     "name": "stdout",
     "output_type": "stream",
     "text": [
      "Minimization complete. Optimized structure is in /raid/xiaoruiwang/works/ec_site_prediction/dataset/mcsa_fine_tune/mcsa_aug_20+40_mutation_rate_0.2+0.35_insertion_rate_0.1_deletion_rate_0.1_max_length_150_seed_123/esmfold_generated_aug_structures/P13255-c0_m350_minimized.pdb\n"
     ]
    },
    {
     "name": "stderr",
     "output_type": "stream",
     "text": [
      "Note: The following floating-point exceptions are signalling: IEEE_INVALID_FLAG IEEE_OVERFLOW_FLAG IEEE_DENORMAL\n"
     ]
    },
    {
     "name": "stdout",
     "output_type": "stream",
     "text": [
      "Minimization complete. Optimized structure is in /raid/xiaoruiwang/works/ec_site_prediction/dataset/mcsa_fine_tune/mcsa_aug_20+40_mutation_rate_0.2+0.35_insertion_rate_0.1_deletion_rate_0.1_max_length_150_seed_123/esmfold_generated_aug_structures/P10182-c0_m100_minimized.pdb\n"
     ]
    },
    {
     "name": "stderr",
     "output_type": "stream",
     "text": [
      "Note: The following floating-point exceptions are signalling: IEEE_INVALID_FLAG IEEE_OVERFLOW_FLAG IEEE_DENORMAL\n"
     ]
    },
    {
     "name": "stdout",
     "output_type": "stream",
     "text": [
      "Minimization complete. Optimized structure is in /raid/xiaoruiwang/works/ec_site_prediction/dataset/mcsa_fine_tune/mcsa_aug_20+40_mutation_rate_0.2+0.35_insertion_rate_0.1_deletion_rate_0.1_max_length_150_seed_123/esmfold_generated_aug_structures/P10182-c0_m270_minimized.pdb\n"
     ]
    },
    {
     "name": "stderr",
     "output_type": "stream",
     "text": [
      "Note: The following floating-point exceptions are signalling: IEEE_INVALID_FLAG\n"
     ]
    },
    {
     "name": "stdout",
     "output_type": "stream",
     "text": [
      "Minimization complete. Optimized structure is in /raid/xiaoruiwang/works/ec_site_prediction/dataset/mcsa_fine_tune/mcsa_aug_20+40_mutation_rate_0.2+0.35_insertion_rate_0.1_deletion_rate_0.1_max_length_150_seed_123/esmfold_generated_aug_structures/Q04760-c0_m60_minimized.pdb\n"
     ]
    },
    {
     "name": "stderr",
     "output_type": "stream",
     "text": [
      "Note: The following floating-point exceptions are signalling: IEEE_INVALID_FLAG IEEE_OVERFLOW_FLAG IEEE_DENORMAL\n"
     ]
    },
    {
     "name": "stdout",
     "output_type": "stream",
     "text": [
      "Minimization complete. Optimized structure is in /raid/xiaoruiwang/works/ec_site_prediction/dataset/mcsa_fine_tune/mcsa_aug_20+40_mutation_rate_0.2+0.35_insertion_rate_0.1_deletion_rate_0.1_max_length_150_seed_123/esmfold_generated_aug_structures/Q04760-c0_m10_minimized.pdb\n"
     ]
    },
    {
     "name": "stderr",
     "output_type": "stream",
     "text": [
      "Note: The following floating-point exceptions are signalling: IEEE_INVALID_FLAG\n"
     ]
    },
    {
     "name": "stdout",
     "output_type": "stream",
     "text": [
      "Minimization complete. Optimized structure is in /raid/xiaoruiwang/works/ec_site_prediction/dataset/mcsa_fine_tune/mcsa_aug_20+40_mutation_rate_0.2+0.35_insertion_rate_0.1_deletion_rate_0.1_max_length_150_seed_123/esmfold_generated_aug_structures/Q04760-c0_m130_minimized.pdb\n"
     ]
    },
    {
     "name": "stderr",
     "output_type": "stream",
     "text": [
      "Note: The following floating-point exceptions are signalling: IEEE_INVALID_FLAG\n"
     ]
    },
    {
     "name": "stdout",
     "output_type": "stream",
     "text": [
      "Minimization complete. Optimized structure is in /raid/xiaoruiwang/works/ec_site_prediction/dataset/mcsa_fine_tune/mcsa_aug_20+40_mutation_rate_0.2+0.35_insertion_rate_0.1_deletion_rate_0.1_max_length_150_seed_123/esmfold_generated_aug_structures/Q04760-c0_m320_minimized.pdb\n"
     ]
    },
    {
     "name": "stderr",
     "output_type": "stream",
     "text": [
      "Note: The following floating-point exceptions are signalling: IEEE_INVALID_FLAG IEEE_OVERFLOW_FLAG IEEE_DENORMAL\n",
      " 49%|████▊     | 4810/9903 [00:58<01:57, 43.24it/s]"
     ]
    },
    {
     "name": "stdout",
     "output_type": "stream",
     "text": [
      "Minimization complete. Optimized structure is in /raid/xiaoruiwang/works/ec_site_prediction/dataset/mcsa_fine_tune/mcsa_aug_20+40_mutation_rate_0.2+0.35_insertion_rate_0.1_deletion_rate_0.1_max_length_150_seed_123/esmfold_generated_aug_structures/Q04760-c0_m360_minimized.pdb\n"
     ]
    },
    {
     "name": "stderr",
     "output_type": "stream",
     "text": [
      "Note: The following floating-point exceptions are signalling: IEEE_INVALID_FLAG IEEE_DENORMAL\n",
      " 49%|████▊     | 4820/9903 [01:00<04:24, 19.21it/s]"
     ]
    },
    {
     "name": "stdout",
     "output_type": "stream",
     "text": [
      "Minimization complete. Optimized structure is in /raid/xiaoruiwang/works/ec_site_prediction/dataset/mcsa_fine_tune/mcsa_aug_20+40_mutation_rate_0.2+0.35_insertion_rate_0.1_deletion_rate_0.1_max_length_150_seed_123/esmfold_generated_aug_structures/P06622-c0_m40_minimized.pdb\n"
     ]
    },
    {
     "name": "stderr",
     "output_type": "stream",
     "text": [
      "Note: The following floating-point exceptions are signalling: IEEE_INVALID_FLAG IEEE_OVERFLOW_FLAG IEEE_DENORMAL\n",
      " 49%|████▊     | 4821/9903 [01:01<04:43, 17.90it/s]"
     ]
    },
    {
     "name": "stdout",
     "output_type": "stream",
     "text": [
      "Minimization complete. Optimized structure is in /raid/xiaoruiwang/works/ec_site_prediction/dataset/mcsa_fine_tune/mcsa_aug_20+40_mutation_rate_0.2+0.35_insertion_rate_0.1_deletion_rate_0.1_max_length_150_seed_123/esmfold_generated_aug_structures/P06622-c0_m150_minimized.pdb\n"
     ]
    },
    {
     "name": "stderr",
     "output_type": "stream",
     "text": [
      "Note: The following floating-point exceptions are signalling: IEEE_INVALID_FLAG IEEE_DENORMAL\n"
     ]
    },
    {
     "name": "stdout",
     "output_type": "stream",
     "text": [
      "Minimization complete. Optimized structure is in /raid/xiaoruiwang/works/ec_site_prediction/dataset/mcsa_fine_tune/mcsa_aug_20+40_mutation_rate_0.2+0.35_insertion_rate_0.1_deletion_rate_0.1_max_length_150_seed_123/esmfold_generated_aug_structures/P00518-c0_m390_minimized.pdb\n"
     ]
    },
    {
     "name": "stderr",
     "output_type": "stream",
     "text": [
      "Note: The following floating-point exceptions are signalling: IEEE_INVALID_FLAG IEEE_DENORMAL\n"
     ]
    },
    {
     "name": "stdout",
     "output_type": "stream",
     "text": [
      "Minimization complete. Optimized structure is in /raid/xiaoruiwang/works/ec_site_prediction/dataset/mcsa_fine_tune/mcsa_aug_20+40_mutation_rate_0.2+0.35_insertion_rate_0.1_deletion_rate_0.1_max_length_150_seed_123/esmfold_generated_aug_structures/P00518-c0_m60_minimized.pdb\n"
     ]
    },
    {
     "name": "stderr",
     "output_type": "stream",
     "text": [
      "Note: The following floating-point exceptions are signalling: IEEE_INVALID_FLAG IEEE_DENORMAL\n"
     ]
    },
    {
     "name": "stdout",
     "output_type": "stream",
     "text": [
      "Minimization complete. Optimized structure is in /raid/xiaoruiwang/works/ec_site_prediction/dataset/mcsa_fine_tune/mcsa_aug_20+40_mutation_rate_0.2+0.35_insertion_rate_0.1_deletion_rate_0.1_max_length_150_seed_123/esmfold_generated_aug_structures/P00518-c0_m150_minimized.pdb\n"
     ]
    },
    {
     "name": "stderr",
     "output_type": "stream",
     "text": [
      "Note: The following floating-point exceptions are signalling: IEEE_INVALID_FLAG\n"
     ]
    },
    {
     "name": "stdout",
     "output_type": "stream",
     "text": [
      "Minimization complete. Optimized structure is in /raid/xiaoruiwang/works/ec_site_prediction/dataset/mcsa_fine_tune/mcsa_aug_20+40_mutation_rate_0.2+0.35_insertion_rate_0.1_deletion_rate_0.1_max_length_150_seed_123/esmfold_generated_aug_structures/P00518-c0_m240_minimized.pdb\n"
     ]
    },
    {
     "name": "stderr",
     "output_type": "stream",
     "text": [
      "Note: The following floating-point exceptions are signalling: IEEE_INVALID_FLAG IEEE_OVERFLOW_FLAG IEEE_DENORMAL\n"
     ]
    },
    {
     "name": "stdout",
     "output_type": "stream",
     "text": [
      "Minimization complete. Optimized structure is in /raid/xiaoruiwang/works/ec_site_prediction/dataset/mcsa_fine_tune/mcsa_aug_20+40_mutation_rate_0.2+0.35_insertion_rate_0.1_deletion_rate_0.1_max_length_150_seed_123/esmfold_generated_aug_structures/P00518-c0_m110_minimized.pdb\n"
     ]
    },
    {
     "name": "stderr",
     "output_type": "stream",
     "text": [
      "Note: The following floating-point exceptions are signalling: IEEE_INVALID_FLAG IEEE_OVERFLOW_FLAG IEEE_DENORMAL\n"
     ]
    },
    {
     "name": "stdout",
     "output_type": "stream",
     "text": [
      "Minimization complete. Optimized structure is in /raid/xiaoruiwang/works/ec_site_prediction/dataset/mcsa_fine_tune/mcsa_aug_20+40_mutation_rate_0.2+0.35_insertion_rate_0.1_deletion_rate_0.1_max_length_150_seed_123/esmfold_generated_aug_structures/P0A6T5-c0_m250_minimized.pdb\n"
     ]
    },
    {
     "name": "stderr",
     "output_type": "stream",
     "text": [
      "Note: The following floating-point exceptions are signalling: IEEE_INVALID_FLAG IEEE_OVERFLOW_FLAG IEEE_DENORMAL\n"
     ]
    },
    {
     "name": "stdout",
     "output_type": "stream",
     "text": [
      "Minimization complete. Optimized structure is in /raid/xiaoruiwang/works/ec_site_prediction/dataset/mcsa_fine_tune/mcsa_aug_20+40_mutation_rate_0.2+0.35_insertion_rate_0.1_deletion_rate_0.1_max_length_150_seed_123/esmfold_generated_aug_structures/P0A6T5-c0_m40_minimized.pdb\n"
     ]
    },
    {
     "name": "stderr",
     "output_type": "stream",
     "text": [
      "Note: The following floating-point exceptions are signalling: IEEE_INVALID_FLAG IEEE_DENORMAL\n"
     ]
    },
    {
     "name": "stdout",
     "output_type": "stream",
     "text": [
      "Minimization complete. Optimized structure is in /raid/xiaoruiwang/works/ec_site_prediction/dataset/mcsa_fine_tune/mcsa_aug_20+40_mutation_rate_0.2+0.35_insertion_rate_0.1_deletion_rate_0.1_max_length_150_seed_123/esmfold_generated_aug_structures/P07378-c0_m290_minimized.pdb\n"
     ]
    },
    {
     "name": "stderr",
     "output_type": "stream",
     "text": [
      " 49%|████▊     | 4821/9903 [01:18<04:43, 17.90it/s]Note: The following floating-point exceptions are signalling: IEEE_INVALID_FLAG IEEE_DENORMAL\n",
      " 49%|████▉     | 4830/9903 [01:20<09:33,  8.85it/s]"
     ]
    },
    {
     "name": "stdout",
     "output_type": "stream",
     "text": [
      "Minimization complete. Optimized structure is in /raid/xiaoruiwang/works/ec_site_prediction/dataset/mcsa_fine_tune/mcsa_aug_20+40_mutation_rate_0.2+0.35_insertion_rate_0.1_deletion_rate_0.1_max_length_150_seed_123/esmfold_generated_aug_structures/P07378-c0_m40_minimized.pdb\n"
     ]
    },
    {
     "name": "stderr",
     "output_type": "stream",
     "text": [
      "Note: The following floating-point exceptions are signalling: IEEE_INVALID_FLAG IEEE_DENORMAL\n",
      " 49%|████▉     | 4831/9903 [01:23<10:29,  8.06it/s]"
     ]
    },
    {
     "name": "stdout",
     "output_type": "stream",
     "text": [
      "Minimization complete. Optimized structure is in /raid/xiaoruiwang/works/ec_site_prediction/dataset/mcsa_fine_tune/mcsa_aug_20+40_mutation_rate_0.2+0.35_insertion_rate_0.1_deletion_rate_0.1_max_length_150_seed_123/esmfold_generated_aug_structures/P00634-c0_m60_minimized.pdb\n"
     ]
    },
    {
     "name": "stderr",
     "output_type": "stream",
     "text": [
      "Note: The following floating-point exceptions are signalling: IEEE_INVALID_FLAG\n"
     ]
    },
    {
     "name": "stdout",
     "output_type": "stream",
     "text": [
      "Minimization complete. Optimized structure is in /raid/xiaoruiwang/works/ec_site_prediction/dataset/mcsa_fine_tune/mcsa_aug_20+40_mutation_rate_0.2+0.35_insertion_rate_0.1_deletion_rate_0.1_max_length_150_seed_123/esmfold_generated_aug_structures/P00634-c0_m90_minimized.pdb\n"
     ]
    },
    {
     "name": "stderr",
     "output_type": "stream",
     "text": [
      "Note: The following floating-point exceptions are signalling: IEEE_INVALID_FLAG IEEE_OVERFLOW_FLAG IEEE_DENORMAL\n"
     ]
    },
    {
     "name": "stdout",
     "output_type": "stream",
     "text": [
      "Minimization complete. Optimized structure is in /raid/xiaoruiwang/works/ec_site_prediction/dataset/mcsa_fine_tune/mcsa_aug_20+40_mutation_rate_0.2+0.35_insertion_rate_0.1_deletion_rate_0.1_max_length_150_seed_123/esmfold_generated_aug_structures/P00492-c0_m90_minimized.pdb\n"
     ]
    },
    {
     "name": "stderr",
     "output_type": "stream",
     "text": [
      "Note: The following floating-point exceptions are signalling: IEEE_INVALID_FLAG IEEE_DENORMAL\n"
     ]
    },
    {
     "name": "stdout",
     "output_type": "stream",
     "text": [
      "Minimization complete. Optimized structure is in /raid/xiaoruiwang/works/ec_site_prediction/dataset/mcsa_fine_tune/mcsa_aug_20+40_mutation_rate_0.2+0.35_insertion_rate_0.1_deletion_rate_0.1_max_length_150_seed_123/esmfold_generated_aug_structures/P00492-c0_m220_minimized.pdb\n"
     ]
    },
    {
     "name": "stderr",
     "output_type": "stream",
     "text": [
      "Note: The following floating-point exceptions are signalling: IEEE_INVALID_FLAG IEEE_OVERFLOW_FLAG IEEE_DENORMAL\n"
     ]
    },
    {
     "name": "stdout",
     "output_type": "stream",
     "text": [
      "Minimization complete. Optimized structure is in /raid/xiaoruiwang/works/ec_site_prediction/dataset/mcsa_fine_tune/mcsa_aug_20+40_mutation_rate_0.2+0.35_insertion_rate_0.1_deletion_rate_0.1_max_length_150_seed_123/esmfold_generated_aug_structures/P00862-c0_m380_minimized.pdb\n"
     ]
    },
    {
     "name": "stderr",
     "output_type": "stream",
     "text": [
      "Note: The following floating-point exceptions are signalling: IEEE_INVALID_FLAG IEEE_OVERFLOW_FLAG IEEE_DENORMAL\n"
     ]
    },
    {
     "name": "stdout",
     "output_type": "stream",
     "text": [
      "Minimization complete. Optimized structure is in /raid/xiaoruiwang/works/ec_site_prediction/dataset/mcsa_fine_tune/mcsa_aug_20+40_mutation_rate_0.2+0.35_insertion_rate_0.1_deletion_rate_0.1_max_length_150_seed_123/esmfold_generated_aug_structures/P00862-c0_m00_minimized.pdb\n"
     ]
    },
    {
     "name": "stderr",
     "output_type": "stream",
     "text": [
      "Note: The following floating-point exceptions are signalling: IEEE_INVALID_FLAG IEEE_OVERFLOW_FLAG IEEE_DENORMAL\n"
     ]
    },
    {
     "name": "stdout",
     "output_type": "stream",
     "text": [
      "Minimization complete. Optimized structure is in /raid/xiaoruiwang/works/ec_site_prediction/dataset/mcsa_fine_tune/mcsa_aug_20+40_mutation_rate_0.2+0.35_insertion_rate_0.1_deletion_rate_0.1_max_length_150_seed_123/esmfold_generated_aug_structures/P22259-c0_m330_minimized.pdb\n"
     ]
    },
    {
     "name": "stderr",
     "output_type": "stream",
     "text": [
      "Note: The following floating-point exceptions are signalling: IEEE_INVALID_FLAG\n",
      " 49%|████▉     | 4831/9903 [01:38<10:29,  8.06it/s]"
     ]
    },
    {
     "name": "stdout",
     "output_type": "stream",
     "text": [
      "Minimization complete. Optimized structure is in /raid/xiaoruiwang/works/ec_site_prediction/dataset/mcsa_fine_tune/mcsa_aug_20+40_mutation_rate_0.2+0.35_insertion_rate_0.1_deletion_rate_0.1_max_length_150_seed_123/esmfold_generated_aug_structures/P22259-c0_m210_minimized.pdb\n"
     ]
    },
    {
     "name": "stderr",
     "output_type": "stream",
     "text": [
      "Note: The following floating-point exceptions are signalling: IEEE_INVALID_FLAG IEEE_OVERFLOW_FLAG IEEE_DENORMAL\n",
      " 49%|████▉     | 4839/9903 [01:40<18:34,  4.54it/s]"
     ]
    },
    {
     "name": "stdout",
     "output_type": "stream",
     "text": [
      "Minimization complete. Optimized structure is in /raid/xiaoruiwang/works/ec_site_prediction/dataset/mcsa_fine_tune/mcsa_aug_20+40_mutation_rate_0.2+0.35_insertion_rate_0.1_deletion_rate_0.1_max_length_150_seed_123/esmfold_generated_aug_structures/P0AB71-c0_m140_minimized.pdb\n"
     ]
    },
    {
     "name": "stderr",
     "output_type": "stream",
     "text": [
      "Note: The following floating-point exceptions are signalling: IEEE_INVALID_FLAG IEEE_OVERFLOW_FLAG IEEE_DENORMAL\n",
      " 49%|████▉     | 4840/9903 [01:42<19:47,  4.26it/s]"
     ]
    },
    {
     "name": "stdout",
     "output_type": "stream",
     "text": [
      "Minimization complete. Optimized structure is in /raid/xiaoruiwang/works/ec_site_prediction/dataset/mcsa_fine_tune/mcsa_aug_20+40_mutation_rate_0.2+0.35_insertion_rate_0.1_deletion_rate_0.1_max_length_150_seed_123/esmfold_generated_aug_structures/P0AB71-c0_m130_minimized.pdb\n"
     ]
    },
    {
     "name": "stderr",
     "output_type": "stream",
     "text": [
      "Note: The following floating-point exceptions are signalling: IEEE_INVALID_FLAG IEEE_DENORMAL\n"
     ]
    },
    {
     "name": "stdout",
     "output_type": "stream",
     "text": [
      "Minimization complete. Optimized structure is in /raid/xiaoruiwang/works/ec_site_prediction/dataset/mcsa_fine_tune/mcsa_aug_20+40_mutation_rate_0.2+0.35_insertion_rate_0.1_deletion_rate_0.1_max_length_150_seed_123/esmfold_generated_aug_structures/P24670-c0_m110_minimized.pdb\n"
     ]
    },
    {
     "name": "stderr",
     "output_type": "stream",
     "text": [
      "Note: The following floating-point exceptions are signalling: IEEE_INVALID_FLAG IEEE_DENORMAL\n"
     ]
    },
    {
     "name": "stdout",
     "output_type": "stream",
     "text": [
      "Minimization complete. Optimized structure is in /raid/xiaoruiwang/works/ec_site_prediction/dataset/mcsa_fine_tune/mcsa_aug_20+40_mutation_rate_0.2+0.35_insertion_rate_0.1_deletion_rate_0.1_max_length_150_seed_123/esmfold_generated_aug_structures/P24670-c0_m150_minimized.pdb\n"
     ]
    },
    {
     "name": "stderr",
     "output_type": "stream",
     "text": [
      "Note: The following floating-point exceptions are signalling: IEEE_INVALID_FLAG IEEE_DENORMAL\n"
     ]
    },
    {
     "name": "stdout",
     "output_type": "stream",
     "text": [
      "Minimization complete. Optimized structure is in /raid/xiaoruiwang/works/ec_site_prediction/dataset/mcsa_fine_tune/mcsa_aug_20+40_mutation_rate_0.2+0.35_insertion_rate_0.1_deletion_rate_0.1_max_length_150_seed_123/esmfold_generated_aug_structures/P15474-c0_m380_minimized.pdb\n"
     ]
    },
    {
     "name": "stderr",
     "output_type": "stream",
     "text": [
      "Note: The following floating-point exceptions are signalling: IEEE_INVALID_FLAG IEEE_DENORMAL\n"
     ]
    },
    {
     "name": "stdout",
     "output_type": "stream",
     "text": [
      "Minimization complete. Optimized structure is in /raid/xiaoruiwang/works/ec_site_prediction/dataset/mcsa_fine_tune/mcsa_aug_20+40_mutation_rate_0.2+0.35_insertion_rate_0.1_deletion_rate_0.1_max_length_150_seed_123/esmfold_generated_aug_structures/P15474-c0_m140_minimized.pdb\n"
     ]
    },
    {
     "name": "stderr",
     "output_type": "stream",
     "text": [
      "Note: The following floating-point exceptions are signalling: IEEE_INVALID_FLAG IEEE_OVERFLOW_FLAG IEEE_DENORMAL\n"
     ]
    },
    {
     "name": "stdout",
     "output_type": "stream",
     "text": [
      "Minimization complete. Optimized structure is in /raid/xiaoruiwang/works/ec_site_prediction/dataset/mcsa_fine_tune/mcsa_aug_20+40_mutation_rate_0.2+0.35_insertion_rate_0.1_deletion_rate_0.1_max_length_150_seed_123/esmfold_generated_aug_structures/P0A759-c0_m140_minimized.pdb\n"
     ]
    },
    {
     "name": "stderr",
     "output_type": "stream",
     "text": [
      "Note: The following floating-point exceptions are signalling: IEEE_INVALID_FLAG IEEE_OVERFLOW_FLAG IEEE_DENORMAL\n"
     ]
    },
    {
     "name": "stdout",
     "output_type": "stream",
     "text": [
      "Minimization complete. Optimized structure is in /raid/xiaoruiwang/works/ec_site_prediction/dataset/mcsa_fine_tune/mcsa_aug_20+40_mutation_rate_0.2+0.35_insertion_rate_0.1_deletion_rate_0.1_max_length_150_seed_123/esmfold_generated_aug_structures/P0A759-c0_m260_minimized.pdb\n"
     ]
    },
    {
     "name": "stderr",
     "output_type": "stream",
     "text": [
      "Note: The following floating-point exceptions are signalling: IEEE_INVALID_FLAG IEEE_OVERFLOW_FLAG IEEE_DENORMAL\n"
     ]
    },
    {
     "name": "stdout",
     "output_type": "stream",
     "text": [
      "Minimization complete. Optimized structure is in /raid/xiaoruiwang/works/ec_site_prediction/dataset/mcsa_fine_tune/mcsa_aug_20+40_mutation_rate_0.2+0.35_insertion_rate_0.1_deletion_rate_0.1_max_length_150_seed_123/esmfold_generated_aug_structures/P0A759-c0_m210_minimized.pdb\n"
     ]
    },
    {
     "name": "stderr",
     "output_type": "stream",
     "text": [
      "Note: The following floating-point exceptions are signalling: IEEE_INVALID_FLAG IEEE_DENORMAL\n"
     ]
    },
    {
     "name": "stdout",
     "output_type": "stream",
     "text": [
      "Minimization complete. Optimized structure is in /raid/xiaoruiwang/works/ec_site_prediction/dataset/mcsa_fine_tune/mcsa_aug_20+40_mutation_rate_0.2+0.35_insertion_rate_0.1_deletion_rate_0.1_max_length_150_seed_123/esmfold_generated_aug_structures/P0A759-c0_m30_minimized.pdb\n"
     ]
    },
    {
     "name": "stderr",
     "output_type": "stream",
     "text": [
      "Note: The following floating-point exceptions are signalling: IEEE_INVALID_FLAG IEEE_DENORMAL\n"
     ]
    },
    {
     "name": "stdout",
     "output_type": "stream",
     "text": [
      "Minimization complete. Optimized structure is in /raid/xiaoruiwang/works/ec_site_prediction/dataset/mcsa_fine_tune/mcsa_aug_20+40_mutation_rate_0.2+0.35_insertion_rate_0.1_deletion_rate_0.1_max_length_150_seed_123/esmfold_generated_aug_structures/P0A759-c0_m310_minimized.pdb\n"
     ]
    },
    {
     "name": "stderr",
     "output_type": "stream",
     "text": [
      " 49%|████▉     | 4840/9903 [01:58<19:47,  4.26it/s]Note: The following floating-point exceptions are signalling: IEEE_INVALID_FLAG IEEE_OVERFLOW_FLAG IEEE_DENORMAL\n",
      " 49%|████▉     | 4850/9903 [02:00<33:43,  2.50it/s]"
     ]
    },
    {
     "name": "stdout",
     "output_type": "stream",
     "text": [
      "Minimization complete. Optimized structure is in /raid/xiaoruiwang/works/ec_site_prediction/dataset/mcsa_fine_tune/mcsa_aug_20+40_mutation_rate_0.2+0.35_insertion_rate_0.1_deletion_rate_0.1_max_length_150_seed_123/esmfold_generated_aug_structures/Q01468-c0_m260_minimized.pdb\n"
     ]
    },
    {
     "name": "stderr",
     "output_type": "stream",
     "text": [
      "Note: The following floating-point exceptions are signalling: IEEE_INVALID_FLAG IEEE_OVERFLOW_FLAG IEEE_DENORMAL\n",
      " 49%|████▉     | 4851/9903 [02:01<35:33,  2.37it/s]"
     ]
    },
    {
     "name": "stdout",
     "output_type": "stream",
     "text": [
      "Minimization complete. Optimized structure is in /raid/xiaoruiwang/works/ec_site_prediction/dataset/mcsa_fine_tune/mcsa_aug_20+40_mutation_rate_0.2+0.35_insertion_rate_0.1_deletion_rate_0.1_max_length_150_seed_123/esmfold_generated_aug_structures/Q01468-c0_m220_minimized.pdb\n"
     ]
    },
    {
     "name": "stderr",
     "output_type": "stream",
     "text": [
      "Note: The following floating-point exceptions are signalling: IEEE_INVALID_FLAG\n"
     ]
    },
    {
     "name": "stdout",
     "output_type": "stream",
     "text": [
      "Minimization complete. Optimized structure is in /raid/xiaoruiwang/works/ec_site_prediction/dataset/mcsa_fine_tune/mcsa_aug_20+40_mutation_rate_0.2+0.35_insertion_rate_0.1_deletion_rate_0.1_max_length_150_seed_123/esmfold_generated_aug_structures/P80077-c0_m310_minimized.pdb\n"
     ]
    },
    {
     "name": "stderr",
     "output_type": "stream",
     "text": [
      "Note: The following floating-point exceptions are signalling: IEEE_INVALID_FLAG IEEE_DENORMAL\n"
     ]
    },
    {
     "name": "stdout",
     "output_type": "stream",
     "text": [
      "Minimization complete. Optimized structure is in /raid/xiaoruiwang/works/ec_site_prediction/dataset/mcsa_fine_tune/mcsa_aug_20+40_mutation_rate_0.2+0.35_insertion_rate_0.1_deletion_rate_0.1_max_length_150_seed_123/esmfold_generated_aug_structures/P80077-c0_m210_minimized.pdb\n"
     ]
    },
    {
     "name": "stderr",
     "output_type": "stream",
     "text": [
      "Note: The following floating-point exceptions are signalling: IEEE_INVALID_FLAG IEEE_OVERFLOW_FLAG IEEE_DENORMAL\n"
     ]
    },
    {
     "name": "stdout",
     "output_type": "stream",
     "text": [
      "Minimization complete. Optimized structure is in /raid/xiaoruiwang/works/ec_site_prediction/dataset/mcsa_fine_tune/mcsa_aug_20+40_mutation_rate_0.2+0.35_insertion_rate_0.1_deletion_rate_0.1_max_length_150_seed_123/esmfold_generated_aug_structures/P0A7D4-c0_m50_minimized.pdb\n"
     ]
    },
    {
     "name": "stderr",
     "output_type": "stream",
     "text": [
      "Note: The following floating-point exceptions are signalling: IEEE_INVALID_FLAG IEEE_OVERFLOW_FLAG IEEE_DENORMAL\n"
     ]
    },
    {
     "name": "stdout",
     "output_type": "stream",
     "text": [
      "Minimization complete. Optimized structure is in /raid/xiaoruiwang/works/ec_site_prediction/dataset/mcsa_fine_tune/mcsa_aug_20+40_mutation_rate_0.2+0.35_insertion_rate_0.1_deletion_rate_0.1_max_length_150_seed_123/esmfold_generated_aug_structures/P0A7D4-c0_m380_minimized.pdb\n"
     ]
    },
    {
     "name": "stderr",
     "output_type": "stream",
     "text": [
      "Note: The following floating-point exceptions are signalling: IEEE_INVALID_FLAG IEEE_DENORMAL\n"
     ]
    },
    {
     "name": "stdout",
     "output_type": "stream",
     "text": [
      "Minimization complete. Optimized structure is in /raid/xiaoruiwang/works/ec_site_prediction/dataset/mcsa_fine_tune/mcsa_aug_20+40_mutation_rate_0.2+0.35_insertion_rate_0.1_deletion_rate_0.1_max_length_150_seed_123/esmfold_generated_aug_structures/P26440-c0_m180_minimized.pdb\n"
     ]
    },
    {
     "name": "stderr",
     "output_type": "stream",
     "text": [
      "Note: The following floating-point exceptions are signalling: IEEE_INVALID_FLAG\n"
     ]
    },
    {
     "name": "stdout",
     "output_type": "stream",
     "text": [
      "Minimization complete. Optimized structure is in /raid/xiaoruiwang/works/ec_site_prediction/dataset/mcsa_fine_tune/mcsa_aug_20+40_mutation_rate_0.2+0.35_insertion_rate_0.1_deletion_rate_0.1_max_length_150_seed_123/esmfold_generated_aug_structures/P26440-c0_m160_minimized.pdb\n"
     ]
    },
    {
     "name": "stderr",
     "output_type": "stream",
     "text": [
      "Note: The following floating-point exceptions are signalling: IEEE_INVALID_FLAG IEEE_OVERFLOW_FLAG IEEE_DENORMAL\n"
     ]
    },
    {
     "name": "stdout",
     "output_type": "stream",
     "text": [
      "Minimization complete. Optimized structure is in /raid/xiaoruiwang/works/ec_site_prediction/dataset/mcsa_fine_tune/mcsa_aug_20+40_mutation_rate_0.2+0.35_insertion_rate_0.1_deletion_rate_0.1_max_length_150_seed_123/esmfold_generated_aug_structures/P0AB87-c0_m10_minimized.pdb\n"
     ]
    },
    {
     "name": "stderr",
     "output_type": "stream",
     "text": [
      "Note: The following floating-point exceptions are signalling: IEEE_INVALID_FLAG\n"
     ]
    },
    {
     "name": "stdout",
     "output_type": "stream",
     "text": [
      "Minimization complete. Optimized structure is in /raid/xiaoruiwang/works/ec_site_prediction/dataset/mcsa_fine_tune/mcsa_aug_20+40_mutation_rate_0.2+0.35_insertion_rate_0.1_deletion_rate_0.1_max_length_150_seed_123/esmfold_generated_aug_structures/P0AB87-c0_m50_minimized.pdb\n"
     ]
    },
    {
     "name": "stderr",
     "output_type": "stream",
     "text": [
      "Note: The following floating-point exceptions are signalling: IEEE_INVALID_FLAG IEEE_DENORMAL\n"
     ]
    },
    {
     "name": "stdout",
     "output_type": "stream",
     "text": [
      "Minimization complete. Optimized structure is in /raid/xiaoruiwang/works/ec_site_prediction/dataset/mcsa_fine_tune/mcsa_aug_20+40_mutation_rate_0.2+0.35_insertion_rate_0.1_deletion_rate_0.1_max_length_150_seed_123/esmfold_generated_aug_structures/P61459-c0_m340_minimized.pdb\n"
     ]
    },
    {
     "name": "stderr",
     "output_type": "stream",
     "text": [
      " 49%|████▉     | 4851/9903 [02:18<35:33,  2.37it/s]Note: The following floating-point exceptions are signalling: IEEE_INVALID_FLAG IEEE_OVERFLOW_FLAG IEEE_DENORMAL\n",
      " 49%|████▉     | 4861/9903 [02:19<55:09,  1.52it/s]"
     ]
    },
    {
     "name": "stdout",
     "output_type": "stream",
     "text": [
      "Minimization complete. Optimized structure is in /raid/xiaoruiwang/works/ec_site_prediction/dataset/mcsa_fine_tune/mcsa_aug_20+40_mutation_rate_0.2+0.35_insertion_rate_0.1_deletion_rate_0.1_max_length_150_seed_123/esmfold_generated_aug_structures/P61459-c0_m120_minimized.pdb\n"
     ]
    },
    {
     "name": "stderr",
     "output_type": "stream",
     "text": [
      "Note: The following floating-point exceptions are signalling: IEEE_INVALID_FLAG IEEE_DENORMAL\n",
      " 49%|████▉     | 4862/9903 [02:20<57:19,  1.47it/s]"
     ]
    },
    {
     "name": "stdout",
     "output_type": "stream",
     "text": [
      "Minimization complete. Optimized structure is in /raid/xiaoruiwang/works/ec_site_prediction/dataset/mcsa_fine_tune/mcsa_aug_20+40_mutation_rate_0.2+0.35_insertion_rate_0.1_deletion_rate_0.1_max_length_150_seed_123/esmfold_generated_aug_structures/P13000-c0_m260_minimized.pdb\n"
     ]
    },
    {
     "name": "stderr",
     "output_type": "stream",
     "text": [
      "Note: The following floating-point exceptions are signalling: IEEE_INVALID_FLAG\n"
     ]
    },
    {
     "name": "stdout",
     "output_type": "stream",
     "text": [
      "Minimization complete. Optimized structure is in /raid/xiaoruiwang/works/ec_site_prediction/dataset/mcsa_fine_tune/mcsa_aug_20+40_mutation_rate_0.2+0.35_insertion_rate_0.1_deletion_rate_0.1_max_length_150_seed_123/esmfold_generated_aug_structures/P13000-c0_m220_minimized.pdb\n"
     ]
    },
    {
     "name": "stderr",
     "output_type": "stream",
     "text": [
      "Note: The following floating-point exceptions are signalling: IEEE_INVALID_FLAG IEEE_OVERFLOW_FLAG IEEE_DENORMAL\n"
     ]
    },
    {
     "name": "stdout",
     "output_type": "stream",
     "text": [
      "Minimization complete. Optimized structure is in /raid/xiaoruiwang/works/ec_site_prediction/dataset/mcsa_fine_tune/mcsa_aug_20+40_mutation_rate_0.2+0.35_insertion_rate_0.1_deletion_rate_0.1_max_length_150_seed_123/esmfold_generated_aug_structures/Q05603-c0_m310_minimized.pdb\n"
     ]
    },
    {
     "name": "stderr",
     "output_type": "stream",
     "text": [
      "Note: The following floating-point exceptions are signalling: IEEE_INVALID_FLAG IEEE_OVERFLOW_FLAG IEEE_DENORMAL\n"
     ]
    },
    {
     "name": "stdout",
     "output_type": "stream",
     "text": [
      "Minimization complete. Optimized structure is in /raid/xiaoruiwang/works/ec_site_prediction/dataset/mcsa_fine_tune/mcsa_aug_20+40_mutation_rate_0.2+0.35_insertion_rate_0.1_deletion_rate_0.1_max_length_150_seed_123/esmfold_generated_aug_structures/Q05603-c0_m260_minimized.pdb\n"
     ]
    },
    {
     "name": "stderr",
     "output_type": "stream",
     "text": [
      "Note: The following floating-point exceptions are signalling: IEEE_INVALID_FLAG IEEE_DENORMAL\n"
     ]
    },
    {
     "name": "stdout",
     "output_type": "stream",
     "text": [
      "Minimization complete. Optimized structure is in /raid/xiaoruiwang/works/ec_site_prediction/dataset/mcsa_fine_tune/mcsa_aug_20+40_mutation_rate_0.2+0.35_insertion_rate_0.1_deletion_rate_0.1_max_length_150_seed_123/esmfold_generated_aug_structures/P00592-c0_m180_minimized.pdb\n"
     ]
    },
    {
     "name": "stderr",
     "output_type": "stream",
     "text": [
      "Note: The following floating-point exceptions are signalling: IEEE_INVALID_FLAG IEEE_OVERFLOW_FLAG IEEE_DENORMAL\n"
     ]
    },
    {
     "name": "stdout",
     "output_type": "stream",
     "text": [
      "Minimization complete. Optimized structure is in /raid/xiaoruiwang/works/ec_site_prediction/dataset/mcsa_fine_tune/mcsa_aug_20+40_mutation_rate_0.2+0.35_insertion_rate_0.1_deletion_rate_0.1_max_length_150_seed_123/esmfold_generated_aug_structures/P00592-c0_m120_minimized.pdb\n"
     ]
    },
    {
     "name": "stderr",
     "output_type": "stream",
     "text": [
      "Note: The following floating-point exceptions are signalling: IEEE_INVALID_FLAG IEEE_DENORMAL\n"
     ]
    },
    {
     "name": "stdout",
     "output_type": "stream",
     "text": [
      "Minimization complete. Optimized structure is in /raid/xiaoruiwang/works/ec_site_prediction/dataset/mcsa_fine_tune/mcsa_aug_20+40_mutation_rate_0.2+0.35_insertion_rate_0.1_deletion_rate_0.1_max_length_150_seed_123/esmfold_generated_aug_structures/P0A731-c0_m40_minimized.pdb\n"
     ]
    },
    {
     "name": "stderr",
     "output_type": "stream",
     "text": [
      "Note: The following floating-point exceptions are signalling: IEEE_INVALID_FLAG IEEE_OVERFLOW_FLAG IEEE_DENORMAL\n",
      " 49%|████▉     | 4868/9903 [02:32<02:38, 31.83it/s]"
     ]
    },
    {
     "name": "stdout",
     "output_type": "stream",
     "text": [
      "Minimization complete. Optimized structure is in /raid/xiaoruiwang/works/ec_site_prediction/dataset/mcsa_fine_tune/mcsa_aug_20+40_mutation_rate_0.2+0.35_insertion_rate_0.1_deletion_rate_0.1_max_length_150_seed_123/esmfold_generated_aug_structures/P0A731-c0_m380_minimized.pdb\n"
     ]
    },
    {
     "name": "stderr",
     "output_type": "stream",
     "text": [
      "\n"
     ]
    },
    {
     "ename": "KeyboardInterrupt",
     "evalue": "",
     "output_type": "error",
     "traceback": [
      "\u001b[0;31m---------------------------------------------------------------------------\u001b[0m",
      "\u001b[0;31mKeyboardInterrupt\u001b[0m                         Traceback (most recent call last)",
      "\u001b[1;32m/raid/xiaoruiwang/works/ec_site_prediction/dataset_preprocess/mcsa.6.minimization_by_amber.ipynb 单元格 6\u001b[0m line \u001b[0;36m8\n\u001b[1;32m      <a href='vscode-notebook-cell://ssh-remote%2B7b22686f73744e616d65223a22413130302d312d7461696c7363616c65227d/raid/xiaoruiwang/works/ec_site_prediction/dataset_preprocess/mcsa.6.minimization_by_amber.ipynb#W4sdnNjb2RlLXJlbW90ZQ%3D%3D?line=4'>5</a>\u001b[0m abs_input_path \u001b[39m=\u001b[39m os\u001b[39m.\u001b[39mpath\u001b[39m.\u001b[39mabspath(os\u001b[39m.\u001b[39mpath\u001b[39m.\u001b[39mjoin(fixed_generated_structure_dir, \u001b[39mf\u001b[39m\u001b[39m'\u001b[39m\u001b[39m{\u001b[39;00mpdb_id\u001b[39m}\u001b[39;00m\u001b[39m.pdb\u001b[39m\u001b[39m'\u001b[39m))\n\u001b[1;32m      <a href='vscode-notebook-cell://ssh-remote%2B7b22686f73744e616d65223a22413130302d312d7461696c7363616c65227d/raid/xiaoruiwang/works/ec_site_prediction/dataset_preprocess/mcsa.6.minimization_by_amber.ipynb#W4sdnNjb2RlLXJlbW90ZQ%3D%3D?line=5'>6</a>\u001b[0m \u001b[39m# print(abs_input_path)\u001b[39;00m\n\u001b[1;32m      <a href='vscode-notebook-cell://ssh-remote%2B7b22686f73744e616d65223a22413130302d312d7461696c7363616c65227d/raid/xiaoruiwang/works/ec_site_prediction/dataset_preprocess/mcsa.6.minimization_by_amber.ipynb#W4sdnNjb2RlLXJlbW90ZQ%3D%3D?line=6'>7</a>\u001b[0m \u001b[39m# break\u001b[39;00m\n\u001b[0;32m----> <a href='vscode-notebook-cell://ssh-remote%2B7b22686f73744e616d65223a22413130302d312d7461696c7363616c65227d/raid/xiaoruiwang/works/ec_site_prediction/dataset_preprocess/mcsa.6.minimization_by_amber.ipynb#W4sdnNjb2RlLXJlbW90ZQ%3D%3D?line=7'>8</a>\u001b[0m _, is_success \u001b[39m=\u001b[39m minimize_use_amber(abs_input_path, os\u001b[39m.\u001b[39;49mpath\u001b[39m.\u001b[39;49mabspath(fixed_generated_structure_dir), AMBERHOME\u001b[39m=\u001b[39;49m\u001b[39m'\u001b[39;49m\u001b[39m/home/ipmgpu2022a/Software/amber20\u001b[39;49m\u001b[39m'\u001b[39;49m)\n\u001b[1;32m      <a href='vscode-notebook-cell://ssh-remote%2B7b22686f73744e616d65223a22413130302d312d7461696c7363616c65227d/raid/xiaoruiwang/works/ec_site_prediction/dataset_preprocess/mcsa.6.minimization_by_amber.ipynb#W4sdnNjb2RlLXJlbW90ZQ%3D%3D?line=8'>9</a>\u001b[0m \u001b[39mif\u001b[39;00m \u001b[39mnot\u001b[39;00m is_success:\n\u001b[1;32m     <a href='vscode-notebook-cell://ssh-remote%2B7b22686f73744e616d65223a22413130302d312d7461696c7363616c65227d/raid/xiaoruiwang/works/ec_site_prediction/dataset_preprocess/mcsa.6.minimization_by_amber.ipynb#W4sdnNjb2RlLXJlbW90ZQ%3D%3D?line=9'>10</a>\u001b[0m     minimize_failure_list\u001b[39m.\u001b[39mappend(abs_input_path)\n",
      "\u001b[1;32m/raid/xiaoruiwang/works/ec_site_prediction/dataset_preprocess/mcsa.6.minimization_by_amber.ipynb 单元格 6\u001b[0m line \u001b[0;36m1\n\u001b[1;32m     <a href='vscode-notebook-cell://ssh-remote%2B7b22686f73744e616d65223a22413130302d312d7461696c7363616c65227d/raid/xiaoruiwang/works/ec_site_prediction/dataset_preprocess/mcsa.6.minimization_by_amber.ipynb#W4sdnNjb2RlLXJlbW90ZQ%3D%3D?line=14'>15</a>\u001b[0m minimize_command \u001b[39m=\u001b[39m \u001b[39mf\u001b[39m\u001b[39m'\u001b[39m\u001b[39m./minimize_script_folder/minimize_protein.sh \u001b[39m\u001b[39m{\u001b[39;00mabs_input_pdb_path\u001b[39m}\u001b[39;00m\u001b[39m \u001b[39m\u001b[39m{\u001b[39;00mabs_output_path\u001b[39m}\u001b[39;00m\u001b[39m \u001b[39m\u001b[39m{\u001b[39;00mAMBERHOME\u001b[39m}\u001b[39;00m\u001b[39m'\u001b[39m\n\u001b[1;32m     <a href='vscode-notebook-cell://ssh-remote%2B7b22686f73744e616d65223a22413130302d312d7461696c7363616c65227d/raid/xiaoruiwang/works/ec_site_prediction/dataset_preprocess/mcsa.6.minimization_by_amber.ipynb#W4sdnNjb2RlLXJlbW90ZQ%3D%3D?line=15'>16</a>\u001b[0m \u001b[39mif\u001b[39;00m \u001b[39mnot\u001b[39;00m os\u001b[39m.\u001b[39mpath\u001b[39m.\u001b[39mexists(os\u001b[39m.\u001b[39mpath\u001b[39m.\u001b[39mjoin(output_path, \u001b[39mf\u001b[39m\u001b[39m'\u001b[39m\u001b[39m{\u001b[39;00mpdb_name\u001b[39m}\u001b[39;00m\u001b[39m_minimized.pdb\u001b[39m\u001b[39m'\u001b[39m)):\n\u001b[0;32m---> <a href='vscode-notebook-cell://ssh-remote%2B7b22686f73744e616d65223a22413130302d312d7461696c7363616c65227d/raid/xiaoruiwang/works/ec_site_prediction/dataset_preprocess/mcsa.6.minimization_by_amber.ipynb#W4sdnNjb2RlLXJlbW90ZQ%3D%3D?line=16'>17</a>\u001b[0m     completed_process \u001b[39m=\u001b[39m subprocess\u001b[39m.\u001b[39;49mrun(minimize_command, shell\u001b[39m=\u001b[39;49m\u001b[39mTrue\u001b[39;49;00m)\n\u001b[1;32m     <a href='vscode-notebook-cell://ssh-remote%2B7b22686f73744e616d65223a22413130302d312d7461696c7363616c65227d/raid/xiaoruiwang/works/ec_site_prediction/dataset_preprocess/mcsa.6.minimization_by_amber.ipynb#W4sdnNjb2RlLXJlbW90ZQ%3D%3D?line=17'>18</a>\u001b[0m     \u001b[39mif\u001b[39;00m completed_process\u001b[39m.\u001b[39mreturncode \u001b[39m!=\u001b[39m \u001b[39m0\u001b[39m:\n\u001b[1;32m     <a href='vscode-notebook-cell://ssh-remote%2B7b22686f73744e616d65223a22413130302d312d7461696c7363616c65227d/raid/xiaoruiwang/works/ec_site_prediction/dataset_preprocess/mcsa.6.minimization_by_amber.ipynb#W4sdnNjb2RlLXJlbW90ZQ%3D%3D?line=18'>19</a>\u001b[0m         \u001b[39mprint\u001b[39m(\u001b[39m\"\u001b[39m\u001b[39mError: The command did not run successfully!\u001b[39m\u001b[39m\"\u001b[39m)\n",
      "File \u001b[0;32m/raid/xiaoruiwang/envs/ec_site_pred_env/lib/python3.8/subprocess.py:495\u001b[0m, in \u001b[0;36mrun\u001b[0;34m(input, capture_output, timeout, check, *popenargs, **kwargs)\u001b[0m\n\u001b[1;32m    493\u001b[0m \u001b[39mwith\u001b[39;00m Popen(\u001b[39m*\u001b[39mpopenargs, \u001b[39m*\u001b[39m\u001b[39m*\u001b[39mkwargs) \u001b[39mas\u001b[39;00m process:\n\u001b[1;32m    494\u001b[0m     \u001b[39mtry\u001b[39;00m:\n\u001b[0;32m--> 495\u001b[0m         stdout, stderr \u001b[39m=\u001b[39m process\u001b[39m.\u001b[39;49mcommunicate(\u001b[39minput\u001b[39;49m, timeout\u001b[39m=\u001b[39;49mtimeout)\n\u001b[1;32m    496\u001b[0m     \u001b[39mexcept\u001b[39;00m TimeoutExpired \u001b[39mas\u001b[39;00m exc:\n\u001b[1;32m    497\u001b[0m         process\u001b[39m.\u001b[39mkill()\n",
      "File \u001b[0;32m/raid/xiaoruiwang/envs/ec_site_pred_env/lib/python3.8/subprocess.py:1020\u001b[0m, in \u001b[0;36mPopen.communicate\u001b[0;34m(self, input, timeout)\u001b[0m\n\u001b[1;32m   1018\u001b[0m         stderr \u001b[39m=\u001b[39m \u001b[39mself\u001b[39m\u001b[39m.\u001b[39mstderr\u001b[39m.\u001b[39mread()\n\u001b[1;32m   1019\u001b[0m         \u001b[39mself\u001b[39m\u001b[39m.\u001b[39mstderr\u001b[39m.\u001b[39mclose()\n\u001b[0;32m-> 1020\u001b[0m     \u001b[39mself\u001b[39;49m\u001b[39m.\u001b[39;49mwait()\n\u001b[1;32m   1021\u001b[0m \u001b[39melse\u001b[39;00m:\n\u001b[1;32m   1022\u001b[0m     \u001b[39mif\u001b[39;00m timeout \u001b[39mis\u001b[39;00m \u001b[39mnot\u001b[39;00m \u001b[39mNone\u001b[39;00m:\n",
      "File \u001b[0;32m/raid/xiaoruiwang/envs/ec_site_pred_env/lib/python3.8/subprocess.py:1083\u001b[0m, in \u001b[0;36mPopen.wait\u001b[0;34m(self, timeout)\u001b[0m\n\u001b[1;32m   1081\u001b[0m     endtime \u001b[39m=\u001b[39m _time() \u001b[39m+\u001b[39m timeout\n\u001b[1;32m   1082\u001b[0m \u001b[39mtry\u001b[39;00m:\n\u001b[0;32m-> 1083\u001b[0m     \u001b[39mreturn\u001b[39;00m \u001b[39mself\u001b[39;49m\u001b[39m.\u001b[39;49m_wait(timeout\u001b[39m=\u001b[39;49mtimeout)\n\u001b[1;32m   1084\u001b[0m \u001b[39mexcept\u001b[39;00m \u001b[39mKeyboardInterrupt\u001b[39;00m:\n\u001b[1;32m   1085\u001b[0m     \u001b[39m# https://bugs.python.org/issue25942\u001b[39;00m\n\u001b[1;32m   1086\u001b[0m     \u001b[39m# The first keyboard interrupt waits briefly for the child to\u001b[39;00m\n\u001b[1;32m   1087\u001b[0m     \u001b[39m# exit under the common assumption that it also received the ^C\u001b[39;00m\n\u001b[1;32m   1088\u001b[0m     \u001b[39m# generated SIGINT and will exit rapidly.\u001b[39;00m\n\u001b[1;32m   1089\u001b[0m     \u001b[39mif\u001b[39;00m timeout \u001b[39mis\u001b[39;00m \u001b[39mnot\u001b[39;00m \u001b[39mNone\u001b[39;00m:\n",
      "File \u001b[0;32m/raid/xiaoruiwang/envs/ec_site_pred_env/lib/python3.8/subprocess.py:1806\u001b[0m, in \u001b[0;36mPopen._wait\u001b[0;34m(self, timeout)\u001b[0m\n\u001b[1;32m   1804\u001b[0m \u001b[39mif\u001b[39;00m \u001b[39mself\u001b[39m\u001b[39m.\u001b[39mreturncode \u001b[39mis\u001b[39;00m \u001b[39mnot\u001b[39;00m \u001b[39mNone\u001b[39;00m:\n\u001b[1;32m   1805\u001b[0m     \u001b[39mbreak\u001b[39;00m  \u001b[39m# Another thread waited.\u001b[39;00m\n\u001b[0;32m-> 1806\u001b[0m (pid, sts) \u001b[39m=\u001b[39m \u001b[39mself\u001b[39;49m\u001b[39m.\u001b[39;49m_try_wait(\u001b[39m0\u001b[39;49m)\n\u001b[1;32m   1807\u001b[0m \u001b[39m# Check the pid and loop as waitpid has been known to\u001b[39;00m\n\u001b[1;32m   1808\u001b[0m \u001b[39m# return 0 even without WNOHANG in odd situations.\u001b[39;00m\n\u001b[1;32m   1809\u001b[0m \u001b[39m# http://bugs.python.org/issue14396.\u001b[39;00m\n\u001b[1;32m   1810\u001b[0m \u001b[39mif\u001b[39;00m pid \u001b[39m==\u001b[39m \u001b[39mself\u001b[39m\u001b[39m.\u001b[39mpid:\n",
      "File \u001b[0;32m/raid/xiaoruiwang/envs/ec_site_pred_env/lib/python3.8/subprocess.py:1764\u001b[0m, in \u001b[0;36mPopen._try_wait\u001b[0;34m(self, wait_flags)\u001b[0m\n\u001b[1;32m   1762\u001b[0m \u001b[39m\u001b[39m\u001b[39m\"\"\"All callers to this function MUST hold self._waitpid_lock.\"\"\"\u001b[39;00m\n\u001b[1;32m   1763\u001b[0m \u001b[39mtry\u001b[39;00m:\n\u001b[0;32m-> 1764\u001b[0m     (pid, sts) \u001b[39m=\u001b[39m os\u001b[39m.\u001b[39;49mwaitpid(\u001b[39mself\u001b[39;49m\u001b[39m.\u001b[39;49mpid, wait_flags)\n\u001b[1;32m   1765\u001b[0m \u001b[39mexcept\u001b[39;00m \u001b[39mChildProcessError\u001b[39;00m:\n\u001b[1;32m   1766\u001b[0m     \u001b[39m# This happens if SIGCLD is set to be ignored or waiting\u001b[39;00m\n\u001b[1;32m   1767\u001b[0m     \u001b[39m# for child processes has otherwise been disabled for our\u001b[39;00m\n\u001b[1;32m   1768\u001b[0m     \u001b[39m# process.  This child is dead, we can't get the status.\u001b[39;00m\n\u001b[1;32m   1769\u001b[0m     pid \u001b[39m=\u001b[39m \u001b[39mself\u001b[39m\u001b[39m.\u001b[39mpid\n",
      "\u001b[0;31mKeyboardInterrupt\u001b[0m: "
     ]
    }
   ],
   "source": [
    "minimize_failure_list = []\n",
    "\n",
    "for pdb_id in tqdm(end_aug_dataset['alphafolddb-id'].tolist()):\n",
    "    pdb_id = pdb_id.replace(' ', '')\n",
    "    abs_input_path = os.path.abspath(os.path.join(fixed_generated_structure_dir, f'{pdb_id}.pdb'))\n",
    "    # print(abs_input_path)\n",
    "    # break\n",
    "    _, is_success = minimize_use_amber(abs_input_path, os.path.abspath(fixed_generated_structure_dir), AMBERHOME='/home/ipmgpu2022a/Software/amber20')\n",
    "    if not is_success:\n",
    "        minimize_failure_list.append(abs_input_path)"
   ]
  },
  {
   "cell_type": "code",
   "execution_count": 6,
   "metadata": {},
   "outputs": [],
   "source": [
    "minimize_failure_list"
   ]
  },
  {
   "cell_type": "code",
   "execution_count": 7,
   "metadata": {},
   "outputs": [
    {
     "data": {
      "text/html": [
       "<div>\n",
       "<style scoped>\n",
       "    .dataframe tbody tr th:only-of-type {\n",
       "        vertical-align: middle;\n",
       "    }\n",
       "\n",
       "    .dataframe tbody tr th {\n",
       "        vertical-align: top;\n",
       "    }\n",
       "\n",
       "    .dataframe thead th {\n",
       "        text-align: right;\n",
       "    }\n",
       "</style>\n",
       "<table border=\"1\" class=\"dataframe\">\n",
       "  <thead>\n",
       "    <tr style=\"text-align: right;\">\n",
       "      <th></th>\n",
       "      <th>reaction</th>\n",
       "      <th>ec</th>\n",
       "      <th>alphafolddb-id</th>\n",
       "      <th>aa_sequence</th>\n",
       "      <th>site_labels</th>\n",
       "      <th>site_types</th>\n",
       "      <th>cluster</th>\n",
       "      <th>ec_level1</th>\n",
       "      <th>dataset_flag</th>\n",
       "    </tr>\n",
       "  </thead>\n",
       "  <tbody>\n",
       "    <tr>\n",
       "      <th>0</th>\n",
       "      <td>S1[Fe]S[Fe+]1.S1[Fe]S[Fe+]1.[H+].[H+]|MSRTVMER...</td>\n",
       "      <td>1.12.7.2</td>\n",
       "      <td>P07598</td>\n",
       "      <td>MSRTVMERIEYEMHTPDPKADPDKLHFVQIDEAKCIGCDTCSQYCP...</td>\n",
       "      <td>[[156], [159], [178], [198], [237], [240], [24...</td>\n",
       "      <td>NaN</td>\n",
       "      <td>Cluster 8052</td>\n",
       "      <td>1</td>\n",
       "      <td>test</td>\n",
       "    </tr>\n",
       "    <tr>\n",
       "      <th>1</th>\n",
       "      <td>O=O.[Fe+2].[Fe+2].[Fe+2].[Fe+2].[H+].[H+].[H+]...</td>\n",
       "      <td>1.9.3.1</td>\n",
       "      <td>Q5SJ80</td>\n",
       "      <td>MAVRASEISRVYEAYPEKKATLYFLVLGFLALIVGSLFGPFQALNY...</td>\n",
       "      <td>[[86], [88], [233], [237], [384], [385], [386]...</td>\n",
       "      <td>NaN</td>\n",
       "      <td>Cluster 1144</td>\n",
       "      <td>1</td>\n",
       "      <td>test</td>\n",
       "    </tr>\n",
       "    <tr>\n",
       "      <th>2</th>\n",
       "      <td>C.NC(=O)C1=CN([C@@H]2O[C@H](COP(=O)([O-])OP(=O...</td>\n",
       "      <td>1.14.13.25</td>\n",
       "      <td>P27353</td>\n",
       "      <td>MSQPQSSQVTKRGLTDPERAAIIAAAVPDHALDTQRKYHYFIQPRW...</td>\n",
       "      <td>[[114], [144], [147], [209], [243], [246]]</td>\n",
       "      <td>NaN</td>\n",
       "      <td>Cluster 9876</td>\n",
       "      <td>1</td>\n",
       "      <td>test</td>\n",
       "    </tr>\n",
       "    <tr>\n",
       "      <th>3</th>\n",
       "      <td>O=C([O-])c1ccc(O)c(O)c1.O=O|MPIELLPETPSQTAGPYV...</td>\n",
       "      <td>1.13.11.3</td>\n",
       "      <td>P00436</td>\n",
       "      <td>MPIELLPETPSQTAGPYVHIGLALEAAGNPTRDQEIWNRLAKPDAP...</td>\n",
       "      <td>[[109], [148], [158], [161], [163]]</td>\n",
       "      <td>NaN</td>\n",
       "      <td>Cluster 24440</td>\n",
       "      <td>1</td>\n",
       "      <td>test</td>\n",
       "    </tr>\n",
       "    <tr>\n",
       "      <th>4</th>\n",
       "      <td>CN[C@@H](CSSC[C@H](NC)C(C)=O)C(C)=O.S1[Fe]S[Fe...</td>\n",
       "      <td>1.8.7.2</td>\n",
       "      <td>Q55389</td>\n",
       "      <td>MTSSDTQNNKTLAAMKNFAEQYAKRTDTYFCSDLSVTAVVIEGLAR...</td>\n",
       "      <td>[[56], [58], [75], [77], [86], [87], [88]]</td>\n",
       "      <td>NaN</td>\n",
       "      <td>Cluster 27204</td>\n",
       "      <td>1</td>\n",
       "      <td>test</td>\n",
       "    </tr>\n",
       "    <tr>\n",
       "      <th>...</th>\n",
       "      <td>...</td>\n",
       "      <td>...</td>\n",
       "      <td>...</td>\n",
       "      <td>...</td>\n",
       "      <td>...</td>\n",
       "      <td>...</td>\n",
       "      <td>...</td>\n",
       "      <td>...</td>\n",
       "      <td>...</td>\n",
       "    </tr>\n",
       "    <tr>\n",
       "      <th>90</th>\n",
       "      <td>CP(=O)([O-])OC[C@H]1O[C@@H](n2cnc3c(N)ncnc32)[...</td>\n",
       "      <td>6.1.1.20</td>\n",
       "      <td>P27001</td>\n",
       "      <td>MLEEALAAIQNARDLEELKALKARYLGKKGLLTQEMKGLSALPLEE...</td>\n",
       "      <td>[[149], [178], [204], [218], [261], [314]]</td>\n",
       "      <td>NaN</td>\n",
       "      <td>Cluster 13284</td>\n",
       "      <td>6</td>\n",
       "      <td>test</td>\n",
       "    </tr>\n",
       "    <tr>\n",
       "      <th>91</th>\n",
       "      <td>NC(=O)CC[C@H]([NH3+])C(=O)[O-].Nc1ncnc2c1ncn2[...</td>\n",
       "      <td>6.3.5.4</td>\n",
       "      <td>P22106</td>\n",
       "      <td>MCSIFGVFDIKTDAVELRKKALELSRLMRHRGPDWSGIYASDNAIL...</td>\n",
       "      <td>[[2], [51], [75], [76], [322], [325]]</td>\n",
       "      <td>NaN</td>\n",
       "      <td>Cluster 1460</td>\n",
       "      <td>6</td>\n",
       "      <td>test</td>\n",
       "    </tr>\n",
       "    <tr>\n",
       "      <th>92</th>\n",
       "      <td>C[C@H]1O[C@H](COP(C)(=O)[O-])[C@@H](OP(=O)([O-...</td>\n",
       "      <td>6.5.1.4</td>\n",
       "      <td>P46849</td>\n",
       "      <td>MKRMIALDGAQGEGGGQILRSALSLSMITGQPFTITSIRAGRAKPG...</td>\n",
       "      <td>[[13], [308]]</td>\n",
       "      <td>NaN</td>\n",
       "      <td>Cluster 14477</td>\n",
       "      <td>6</td>\n",
       "      <td>test</td>\n",
       "    </tr>\n",
       "    <tr>\n",
       "      <th>93</th>\n",
       "      <td>C[C@@H](O)C(=O)[O-].C[C@@H]([NH3+])C(=O)[O-].N...</td>\n",
       "      <td>6.1.2.1</td>\n",
       "      <td>P25051</td>\n",
       "      <td>MNRIKVAILFGGCSEEHDVSVKSAIEIAANINKEKYEPLYIGITKS...</td>\n",
       "      <td>[[19], [22], [99], [244], [250], [290], [311],...</td>\n",
       "      <td>NaN</td>\n",
       "      <td>Cluster 13982</td>\n",
       "      <td>6</td>\n",
       "      <td>test</td>\n",
       "    </tr>\n",
       "    <tr>\n",
       "      <th>94</th>\n",
       "      <td>Nc1ncnc2c1ncn2[C@@H]1O[C@H](COP(=O)([O-])OP(=O...</td>\n",
       "      <td>7.1.2.2</td>\n",
       "      <td>P01096</td>\n",
       "      <td>MLSVRVAAAVARALPRRAGLVSKNALGSSFIAARNLHASNSRLQKT...</td>\n",
       "      <td>[[212], [238], [239], [416]]</td>\n",
       "      <td>NaN</td>\n",
       "      <td>Cluster 1502</td>\n",
       "      <td>7</td>\n",
       "      <td>test</td>\n",
       "    </tr>\n",
       "  </tbody>\n",
       "</table>\n",
       "<p>95 rows × 9 columns</p>\n",
       "</div>"
      ],
      "text/plain": [
       "                                             reaction          ec  \\\n",
       "0   S1[Fe]S[Fe+]1.S1[Fe]S[Fe+]1.[H+].[H+]|MSRTVMER...    1.12.7.2   \n",
       "1   O=O.[Fe+2].[Fe+2].[Fe+2].[Fe+2].[H+].[H+].[H+]...     1.9.3.1   \n",
       "2   C.NC(=O)C1=CN([C@@H]2O[C@H](COP(=O)([O-])OP(=O...  1.14.13.25   \n",
       "3   O=C([O-])c1ccc(O)c(O)c1.O=O|MPIELLPETPSQTAGPYV...   1.13.11.3   \n",
       "4   CN[C@@H](CSSC[C@H](NC)C(C)=O)C(C)=O.S1[Fe]S[Fe...     1.8.7.2   \n",
       "..                                                ...         ...   \n",
       "90  CP(=O)([O-])OC[C@H]1O[C@@H](n2cnc3c(N)ncnc32)[...    6.1.1.20   \n",
       "91  NC(=O)CC[C@H]([NH3+])C(=O)[O-].Nc1ncnc2c1ncn2[...     6.3.5.4   \n",
       "92  C[C@H]1O[C@H](COP(C)(=O)[O-])[C@@H](OP(=O)([O-...     6.5.1.4   \n",
       "93  C[C@@H](O)C(=O)[O-].C[C@@H]([NH3+])C(=O)[O-].N...     6.1.2.1   \n",
       "94  Nc1ncnc2c1ncn2[C@@H]1O[C@H](COP(=O)([O-])OP(=O...     7.1.2.2   \n",
       "\n",
       "   alphafolddb-id                                        aa_sequence  \\\n",
       "0          P07598  MSRTVMERIEYEMHTPDPKADPDKLHFVQIDEAKCIGCDTCSQYCP...   \n",
       "1          Q5SJ80  MAVRASEISRVYEAYPEKKATLYFLVLGFLALIVGSLFGPFQALNY...   \n",
       "2          P27353  MSQPQSSQVTKRGLTDPERAAIIAAAVPDHALDTQRKYHYFIQPRW...   \n",
       "3          P00436  MPIELLPETPSQTAGPYVHIGLALEAAGNPTRDQEIWNRLAKPDAP...   \n",
       "4          Q55389  MTSSDTQNNKTLAAMKNFAEQYAKRTDTYFCSDLSVTAVVIEGLAR...   \n",
       "..            ...                                                ...   \n",
       "90         P27001  MLEEALAAIQNARDLEELKALKARYLGKKGLLTQEMKGLSALPLEE...   \n",
       "91         P22106  MCSIFGVFDIKTDAVELRKKALELSRLMRHRGPDWSGIYASDNAIL...   \n",
       "92         P46849  MKRMIALDGAQGEGGGQILRSALSLSMITGQPFTITSIRAGRAKPG...   \n",
       "93         P25051  MNRIKVAILFGGCSEEHDVSVKSAIEIAANINKEKYEPLYIGITKS...   \n",
       "94         P01096  MLSVRVAAAVARALPRRAGLVSKNALGSSFIAARNLHASNSRLQKT...   \n",
       "\n",
       "                                          site_labels  site_types  \\\n",
       "0   [[156], [159], [178], [198], [237], [240], [24...         NaN   \n",
       "1   [[86], [88], [233], [237], [384], [385], [386]...         NaN   \n",
       "2          [[114], [144], [147], [209], [243], [246]]         NaN   \n",
       "3                 [[109], [148], [158], [161], [163]]         NaN   \n",
       "4          [[56], [58], [75], [77], [86], [87], [88]]         NaN   \n",
       "..                                                ...         ...   \n",
       "90         [[149], [178], [204], [218], [261], [314]]         NaN   \n",
       "91              [[2], [51], [75], [76], [322], [325]]         NaN   \n",
       "92                                      [[13], [308]]         NaN   \n",
       "93  [[19], [22], [99], [244], [250], [290], [311],...         NaN   \n",
       "94                       [[212], [238], [239], [416]]         NaN   \n",
       "\n",
       "          cluster  ec_level1 dataset_flag  \n",
       "0    Cluster 8052          1         test  \n",
       "1    Cluster 1144          1         test  \n",
       "2    Cluster 9876          1         test  \n",
       "3   Cluster 24440          1         test  \n",
       "4   Cluster 27204          1         test  \n",
       "..            ...        ...          ...  \n",
       "90  Cluster 13284          6         test  \n",
       "91   Cluster 1460          6         test  \n",
       "92  Cluster 14477          6         test  \n",
       "93  Cluster 13982          6         test  \n",
       "94   Cluster 1502          7         test  \n",
       "\n",
       "[95 rows x 9 columns]"
      ]
     },
     "execution_count": 7,
     "metadata": {},
     "output_type": "execute_result"
    }
   ],
   "source": [
    "end_aug_test_dataset = get_mcsa_normal_dataset(new_aug_save_path, subset=['test'], flag='aug_mcsa', read_new=True)\n",
    "end_aug_test_dataset\n",
    "\n"
   ]
  },
  {
   "cell_type": "code",
   "execution_count": 8,
   "metadata": {},
   "outputs": [
    {
     "name": "stderr",
     "output_type": "stream",
     "text": [
      "  0%|          | 0/95 [00:00<?, ?it/s]Note: The following floating-point exceptions are signalling: IEEE_INVALID_FLAG\n",
      "  1%|          | 1/95 [00:01<02:24,  1.53s/it]"
     ]
    },
    {
     "name": "stdout",
     "output_type": "stream",
     "text": [
      "Minimization complete. Optimized structure is in /raid/xiaoruiwang/works/ec_site_prediction/dataset/mcsa_fine_tune/mcsa_aug_20_mutation_rate_0.2_insertion_rate_0.1_deletion_rate_0.1_max_length_150_seed_123/esmfold_generated_aug_structures/P07598_minimized.pdb\n"
     ]
    },
    {
     "name": "stderr",
     "output_type": "stream",
     "text": [
      "Note: The following floating-point exceptions are signalling: IEEE_INVALID_FLAG IEEE_OVERFLOW_FLAG IEEE_DENORMAL\n",
      "  4%|▍         | 4/95 [00:02<00:47,  1.91it/s]"
     ]
    },
    {
     "name": "stdout",
     "output_type": "stream",
     "text": [
      "Minimization complete. Optimized structure is in /raid/xiaoruiwang/works/ec_site_prediction/dataset/mcsa_fine_tune/mcsa_aug_20_mutation_rate_0.2_insertion_rate_0.1_deletion_rate_0.1_max_length_150_seed_123/esmfold_generated_aug_structures/P00436_minimized.pdb\n"
     ]
    },
    {
     "name": "stderr",
     "output_type": "stream",
     "text": [
      "Note: The following floating-point exceptions are signalling: IEEE_INVALID_FLAG IEEE_DENORMAL\n",
      "  5%|▌         | 5/95 [00:03<00:49,  1.81it/s]"
     ]
    },
    {
     "name": "stdout",
     "output_type": "stream",
     "text": [
      "Minimization complete. Optimized structure is in /raid/xiaoruiwang/works/ec_site_prediction/dataset/mcsa_fine_tune/mcsa_aug_20_mutation_rate_0.2_insertion_rate_0.1_deletion_rate_0.1_max_length_150_seed_123/esmfold_generated_aug_structures/Q55389_minimized.pdb\n"
     ]
    },
    {
     "name": "stderr",
     "output_type": "stream",
     "text": [
      "Note: The following floating-point exceptions are signalling: IEEE_INVALID_FLAG IEEE_OVERFLOW_FLAG IEEE_DENORMAL\n",
      "  8%|▊         | 8/95 [00:03<00:32,  2.69it/s]"
     ]
    },
    {
     "name": "stdout",
     "output_type": "stream",
     "text": [
      "Minimization complete. Optimized structure is in /raid/xiaoruiwang/works/ec_site_prediction/dataset/mcsa_fine_tune/mcsa_aug_20_mutation_rate_0.2_insertion_rate_0.1_deletion_rate_0.1_max_length_150_seed_123/esmfold_generated_aug_structures/P68688_minimized.pdb\n"
     ]
    },
    {
     "name": "stderr",
     "output_type": "stream",
     "text": [
      "Note: The following floating-point exceptions are signalling: IEEE_INVALID_FLAG\n",
      "  9%|▉         | 9/95 [00:04<00:36,  2.33it/s]"
     ]
    },
    {
     "name": "stdout",
     "output_type": "stream",
     "text": [
      "Minimization complete. Optimized structure is in /raid/xiaoruiwang/works/ec_site_prediction/dataset/mcsa_fine_tune/mcsa_aug_20_mutation_rate_0.2_insertion_rate_0.1_deletion_rate_0.1_max_length_150_seed_123/esmfold_generated_aug_structures/P0A006_minimized.pdb\n"
     ]
    },
    {
     "name": "stderr",
     "output_type": "stream",
     "text": [
      "Note: The following floating-point exceptions are signalling: IEEE_INVALID_FLAG IEEE_OVERFLOW_FLAG IEEE_DENORMAL\n",
      " 12%|█▏        | 11/95 [00:06<00:51,  1.62it/s]"
     ]
    },
    {
     "name": "stdout",
     "output_type": "stream",
     "text": [
      "Minimization complete. Optimized structure is in /raid/xiaoruiwang/works/ec_site_prediction/dataset/mcsa_fine_tune/mcsa_aug_20_mutation_rate_0.2_insertion_rate_0.1_deletion_rate_0.1_max_length_150_seed_123/esmfold_generated_aug_structures/P22637_minimized.pdb\n"
     ]
    },
    {
     "name": "stderr",
     "output_type": "stream",
     "text": [
      "Note: The following floating-point exceptions are signalling: IEEE_INVALID_FLAG IEEE_OVERFLOW_FLAG IEEE_DENORMAL\n",
      " 13%|█▎        | 12/95 [00:08<01:17,  1.07it/s]"
     ]
    },
    {
     "name": "stdout",
     "output_type": "stream",
     "text": [
      "Minimization complete. Optimized structure is in /raid/xiaoruiwang/works/ec_site_prediction/dataset/mcsa_fine_tune/mcsa_aug_20_mutation_rate_0.2_insertion_rate_0.1_deletion_rate_0.1_max_length_150_seed_123/esmfold_generated_aug_structures/P37063_minimized.pdb\n"
     ]
    },
    {
     "name": "stderr",
     "output_type": "stream",
     "text": [
      "Note: The following floating-point exceptions are signalling: IEEE_INVALID_FLAG IEEE_DENORMAL\n",
      " 14%|█▎        | 13/95 [00:09<01:25,  1.04s/it]"
     ]
    },
    {
     "name": "stdout",
     "output_type": "stream",
     "text": [
      "Minimization complete. Optimized structure is in /raid/xiaoruiwang/works/ec_site_prediction/dataset/mcsa_fine_tune/mcsa_aug_20_mutation_rate_0.2_insertion_rate_0.1_deletion_rate_0.1_max_length_150_seed_123/esmfold_generated_aug_structures/P33160_minimized.pdb\n"
     ]
    },
    {
     "name": "stderr",
     "output_type": "stream",
     "text": [
      "Note: The following floating-point exceptions are signalling: IEEE_INVALID_FLAG IEEE_OVERFLOW_FLAG IEEE_DENORMAL\n",
      " 15%|█▍        | 14/95 [00:11<01:29,  1.10s/it]"
     ]
    },
    {
     "name": "stdout",
     "output_type": "stream",
     "text": [
      "Minimization complete. Optimized structure is in /raid/xiaoruiwang/works/ec_site_prediction/dataset/mcsa_fine_tune/mcsa_aug_20_mutation_rate_0.2_insertion_rate_0.1_deletion_rate_0.1_max_length_150_seed_123/esmfold_generated_aug_structures/P07740_minimized.pdb\n"
     ]
    },
    {
     "name": "stderr",
     "output_type": "stream",
     "text": [
      "Note: The following floating-point exceptions are signalling: IEEE_INVALID_FLAG IEEE_DENORMAL\n",
      " 16%|█▌        | 15/95 [00:12<01:27,  1.09s/it]"
     ]
    },
    {
     "name": "stdout",
     "output_type": "stream",
     "text": [
      "Minimization complete. Optimized structure is in /raid/xiaoruiwang/works/ec_site_prediction/dataset/mcsa_fine_tune/mcsa_aug_20_mutation_rate_0.2_insertion_rate_0.1_deletion_rate_0.1_max_length_150_seed_123/esmfold_generated_aug_structures/A0A2D0TCB4_minimized.pdb\n"
     ]
    },
    {
     "name": "stderr",
     "output_type": "stream",
     "text": [
      "Note: The following floating-point exceptions are signalling: IEEE_INVALID_FLAG IEEE_OVERFLOW_FLAG IEEE_DENORMAL\n",
      " 17%|█▋        | 16/95 [00:13<01:33,  1.19s/it]"
     ]
    },
    {
     "name": "stdout",
     "output_type": "stream",
     "text": [
      "Minimization complete. Optimized structure is in /raid/xiaoruiwang/works/ec_site_prediction/dataset/mcsa_fine_tune/mcsa_aug_20_mutation_rate_0.2_insertion_rate_0.1_deletion_rate_0.1_max_length_150_seed_123/esmfold_generated_aug_structures/Q9FDN7_minimized.pdb\n"
     ]
    },
    {
     "name": "stderr",
     "output_type": "stream",
     "text": [
      "Note: The following floating-point exceptions are signalling: IEEE_INVALID_FLAG IEEE_OVERFLOW_FLAG IEEE_DENORMAL\n",
      " 18%|█▊        | 17/95 [00:14<01:33,  1.19s/it]"
     ]
    },
    {
     "name": "stdout",
     "output_type": "stream",
     "text": [
      "Minimization complete. Optimized structure is in /raid/xiaoruiwang/works/ec_site_prediction/dataset/mcsa_fine_tune/mcsa_aug_20_mutation_rate_0.2_insertion_rate_0.1_deletion_rate_0.1_max_length_150_seed_123/esmfold_generated_aug_structures/O93734_minimized.pdb\n"
     ]
    },
    {
     "name": "stderr",
     "output_type": "stream",
     "text": [
      "Note: The following floating-point exceptions are signalling: IEEE_INVALID_FLAG IEEE_DENORMAL\n",
      " 19%|█▉        | 18/95 [00:16<01:53,  1.47s/it]"
     ]
    },
    {
     "name": "stdout",
     "output_type": "stream",
     "text": [
      "Minimization complete. Optimized structure is in /raid/xiaoruiwang/works/ec_site_prediction/dataset/mcsa_fine_tune/mcsa_aug_20_mutation_rate_0.2_insertion_rate_0.1_deletion_rate_0.1_max_length_150_seed_123/esmfold_generated_aug_structures/Q5SJ79_minimized.pdb\n"
     ]
    },
    {
     "name": "stderr",
     "output_type": "stream",
     "text": [
      "Note: The following floating-point exceptions are signalling: IEEE_INVALID_FLAG IEEE_OVERFLOW_FLAG IEEE_DENORMAL\n",
      " 20%|██        | 19/95 [00:18<01:45,  1.39s/it]"
     ]
    },
    {
     "name": "stdout",
     "output_type": "stream",
     "text": [
      "Minimization complete. Optimized structure is in /raid/xiaoruiwang/works/ec_site_prediction/dataset/mcsa_fine_tune/mcsa_aug_20_mutation_rate_0.2_insertion_rate_0.1_deletion_rate_0.1_max_length_150_seed_123/esmfold_generated_aug_structures/P83787_minimized.pdb\n"
     ]
    },
    {
     "name": "stderr",
     "output_type": "stream",
     "text": [
      "Note: The following floating-point exceptions are signalling: IEEE_INVALID_FLAG IEEE_OVERFLOW_FLAG IEEE_DENORMAL\n",
      " 24%|██▍       | 23/95 [00:19<00:48,  1.48it/s]"
     ]
    },
    {
     "name": "stdout",
     "output_type": "stream",
     "text": [
      "Minimization complete. Optimized structure is in /raid/xiaoruiwang/works/ec_site_prediction/dataset/mcsa_fine_tune/mcsa_aug_20_mutation_rate_0.2_insertion_rate_0.1_deletion_rate_0.1_max_length_150_seed_123/esmfold_generated_aug_structures/P01555_minimized.pdb\n"
     ]
    },
    {
     "name": "stderr",
     "output_type": "stream",
     "text": [
      "Note: The following floating-point exceptions are signalling: IEEE_INVALID_FLAG\n",
      " 25%|██▌       | 24/95 [00:21<01:14,  1.04s/it]"
     ]
    },
    {
     "name": "stdout",
     "output_type": "stream",
     "text": [
      "Minimization complete. Optimized structure is in /raid/xiaoruiwang/works/ec_site_prediction/dataset/mcsa_fine_tune/mcsa_aug_20_mutation_rate_0.2_insertion_rate_0.1_deletion_rate_0.1_max_length_150_seed_123/esmfold_generated_aug_structures/P37330_minimized.pdb\n"
     ]
    },
    {
     "name": "stderr",
     "output_type": "stream",
     "text": [
      "Note: The following floating-point exceptions are signalling: IEEE_INVALID_FLAG IEEE_DENORMAL\n",
      " 26%|██▋       | 25/95 [00:22<01:11,  1.03s/it]"
     ]
    },
    {
     "name": "stdout",
     "output_type": "stream",
     "text": [
      "Minimization complete. Optimized structure is in /raid/xiaoruiwang/works/ec_site_prediction/dataset/mcsa_fine_tune/mcsa_aug_20_mutation_rate_0.2_insertion_rate_0.1_deletion_rate_0.1_max_length_150_seed_123/esmfold_generated_aug_structures/Q9HLX1_minimized.pdb\n"
     ]
    },
    {
     "name": "stderr",
     "output_type": "stream",
     "text": [
      "Note: The following floating-point exceptions are signalling: IEEE_INVALID_FLAG\n",
      " 27%|██▋       | 26/95 [00:23<01:10,  1.02s/it]"
     ]
    },
    {
     "name": "stdout",
     "output_type": "stream",
     "text": [
      "Minimization complete. Optimized structure is in /raid/xiaoruiwang/works/ec_site_prediction/dataset/mcsa_fine_tune/mcsa_aug_20_mutation_rate_0.2_insertion_rate_0.1_deletion_rate_0.1_max_length_150_seed_123/esmfold_generated_aug_structures/P22734_minimized.pdb\n"
     ]
    },
    {
     "name": "stderr",
     "output_type": "stream",
     "text": [
      "Note: The following floating-point exceptions are signalling: IEEE_INVALID_FLAG IEEE_OVERFLOW_FLAG IEEE_DENORMAL\n",
      " 28%|██▊       | 27/95 [00:24<01:05,  1.03it/s]"
     ]
    },
    {
     "name": "stdout",
     "output_type": "stream",
     "text": [
      "Minimization complete. Optimized structure is in /raid/xiaoruiwang/works/ec_site_prediction/dataset/mcsa_fine_tune/mcsa_aug_20_mutation_rate_0.2_insertion_rate_0.1_deletion_rate_0.1_max_length_150_seed_123/esmfold_generated_aug_structures/Q9Y7P0_minimized.pdb\n"
     ]
    },
    {
     "name": "stderr",
     "output_type": "stream",
     "text": [
      "Note: The following floating-point exceptions are signalling: IEEE_INVALID_FLAG IEEE_OVERFLOW_FLAG IEEE_DENORMAL\n",
      " 29%|██▉       | 28/95 [00:26<01:20,  1.20s/it]"
     ]
    },
    {
     "name": "stdout",
     "output_type": "stream",
     "text": [
      "Minimization complete. Optimized structure is in /raid/xiaoruiwang/works/ec_site_prediction/dataset/mcsa_fine_tune/mcsa_aug_20_mutation_rate_0.2_insertion_rate_0.1_deletion_rate_0.1_max_length_150_seed_123/esmfold_generated_aug_structures/O87172_minimized.pdb\n"
     ]
    },
    {
     "name": "stderr",
     "output_type": "stream",
     "text": [
      "Note: The following floating-point exceptions are signalling: IEEE_INVALID_FLAG IEEE_OVERFLOW_FLAG IEEE_DENORMAL\n",
      " 31%|███       | 29/95 [00:27<01:10,  1.07s/it]"
     ]
    },
    {
     "name": "stdout",
     "output_type": "stream",
     "text": [
      "Minimization complete. Optimized structure is in /raid/xiaoruiwang/works/ec_site_prediction/dataset/mcsa_fine_tune/mcsa_aug_20_mutation_rate_0.2_insertion_rate_0.1_deletion_rate_0.1_max_length_150_seed_123/esmfold_generated_aug_structures/P22887_minimized.pdb\n"
     ]
    },
    {
     "name": "stderr",
     "output_type": "stream",
     "text": [
      "Note: The following floating-point exceptions are signalling: IEEE_INVALID_FLAG IEEE_DENORMAL\n",
      " 32%|███▏      | 30/95 [00:28<01:13,  1.12s/it]"
     ]
    },
    {
     "name": "stdout",
     "output_type": "stream",
     "text": [
      "Minimization complete. Optimized structure is in /raid/xiaoruiwang/works/ec_site_prediction/dataset/mcsa_fine_tune/mcsa_aug_20_mutation_rate_0.2_insertion_rate_0.1_deletion_rate_0.1_max_length_150_seed_123/esmfold_generated_aug_structures/Q7K9G0_minimized.pdb\n"
     ]
    },
    {
     "name": "stderr",
     "output_type": "stream",
     "text": [
      "Note: The following floating-point exceptions are signalling: IEEE_INVALID_FLAG IEEE_OVERFLOW_FLAG IEEE_DENORMAL\n",
      " 33%|███▎      | 31/95 [00:29<01:20,  1.26s/it]"
     ]
    },
    {
     "name": "stdout",
     "output_type": "stream",
     "text": [
      "Minimization complete. Optimized structure is in /raid/xiaoruiwang/works/ec_site_prediction/dataset/mcsa_fine_tune/mcsa_aug_20_mutation_rate_0.2_insertion_rate_0.1_deletion_rate_0.1_max_length_150_seed_123/esmfold_generated_aug_structures/P10349_minimized.pdb\n"
     ]
    },
    {
     "name": "stderr",
     "output_type": "stream",
     "text": [
      "Note: The following floating-point exceptions are signalling: IEEE_INVALID_FLAG\n",
      " 34%|███▎      | 32/95 [00:32<01:36,  1.53s/it]"
     ]
    },
    {
     "name": "stdout",
     "output_type": "stream",
     "text": [
      "Minimization complete. Optimized structure is in /raid/xiaoruiwang/works/ec_site_prediction/dataset/mcsa_fine_tune/mcsa_aug_20_mutation_rate_0.2_insertion_rate_0.1_deletion_rate_0.1_max_length_150_seed_123/esmfold_generated_aug_structures/P17169_minimized.pdb\n"
     ]
    },
    {
     "name": "stderr",
     "output_type": "stream",
     "text": [
      "Note: The following floating-point exceptions are signalling: IEEE_INVALID_FLAG\n",
      " 35%|███▍      | 33/95 [00:33<01:26,  1.40s/it]"
     ]
    },
    {
     "name": "stdout",
     "output_type": "stream",
     "text": [
      "Minimization complete. Optimized structure is in /raid/xiaoruiwang/works/ec_site_prediction/dataset/mcsa_fine_tune/mcsa_aug_20_mutation_rate_0.2_insertion_rate_0.1_deletion_rate_0.1_max_length_150_seed_123/esmfold_generated_aug_structures/P52197_minimized.pdb\n"
     ]
    },
    {
     "name": "stderr",
     "output_type": "stream",
     "text": [
      "Note: The following floating-point exceptions are signalling: IEEE_INVALID_FLAG IEEE_OVERFLOW_FLAG IEEE_DENORMAL\n",
      " 36%|███▌      | 34/95 [00:34<01:24,  1.39s/it]"
     ]
    },
    {
     "name": "stdout",
     "output_type": "stream",
     "text": [
      "Minimization complete. Optimized structure is in /raid/xiaoruiwang/works/ec_site_prediction/dataset/mcsa_fine_tune/mcsa_aug_20_mutation_rate_0.2_insertion_rate_0.1_deletion_rate_0.1_max_length_150_seed_123/esmfold_generated_aug_structures/P0AAI5_minimized.pdb\n"
     ]
    },
    {
     "name": "stderr",
     "output_type": "stream",
     "text": [
      "Note: The following floating-point exceptions are signalling: IEEE_INVALID_FLAG\n",
      " 37%|███▋      | 35/95 [00:36<01:35,  1.60s/it]"
     ]
    },
    {
     "name": "stdout",
     "output_type": "stream",
     "text": [
      "Minimization complete. Optimized structure is in /raid/xiaoruiwang/works/ec_site_prediction/dataset/mcsa_fine_tune/mcsa_aug_20_mutation_rate_0.2_insertion_rate_0.1_deletion_rate_0.1_max_length_150_seed_123/esmfold_generated_aug_structures/P70826_minimized.pdb\n"
     ]
    },
    {
     "name": "stderr",
     "output_type": "stream",
     "text": [
      "Note: The following floating-point exceptions are signalling: IEEE_INVALID_FLAG IEEE_DENORMAL\n",
      " 38%|███▊      | 36/95 [00:38<01:31,  1.55s/it]"
     ]
    },
    {
     "name": "stdout",
     "output_type": "stream",
     "text": [
      "Minimization complete. Optimized structure is in /raid/xiaoruiwang/works/ec_site_prediction/dataset/mcsa_fine_tune/mcsa_aug_20_mutation_rate_0.2_insertion_rate_0.1_deletion_rate_0.1_max_length_150_seed_123/esmfold_generated_aug_structures/P45741_minimized.pdb\n"
     ]
    },
    {
     "name": "stderr",
     "output_type": "stream",
     "text": [
      "Note: The following floating-point exceptions are signalling: IEEE_INVALID_FLAG IEEE_DENORMAL\n",
      " 39%|███▉      | 37/95 [00:39<01:25,  1.47s/it]"
     ]
    },
    {
     "name": "stdout",
     "output_type": "stream",
     "text": [
      "Minimization complete. Optimized structure is in /raid/xiaoruiwang/works/ec_site_prediction/dataset/mcsa_fine_tune/mcsa_aug_20_mutation_rate_0.2_insertion_rate_0.1_deletion_rate_0.1_max_length_150_seed_123/esmfold_generated_aug_structures/P51541_minimized.pdb\n"
     ]
    },
    {
     "name": "stderr",
     "output_type": "stream",
     "text": [
      "Note: The following floating-point exceptions are signalling: IEEE_INVALID_FLAG IEEE_OVERFLOW_FLAG IEEE_DENORMAL\n",
      " 40%|████      | 38/95 [00:41<01:36,  1.70s/it]"
     ]
    },
    {
     "name": "stdout",
     "output_type": "stream",
     "text": [
      "Minimization complete. Optimized structure is in /raid/xiaoruiwang/works/ec_site_prediction/dataset/mcsa_fine_tune/mcsa_aug_20_mutation_rate_0.2_insertion_rate_0.1_deletion_rate_0.1_max_length_150_seed_123/esmfold_generated_aug_structures/P41743_minimized.pdb\n"
     ]
    },
    {
     "name": "stderr",
     "output_type": "stream",
     "text": [
      "Note: The following floating-point exceptions are signalling: IEEE_INVALID_FLAG\n",
      " 41%|████      | 39/95 [00:45<02:03,  2.21s/it]"
     ]
    },
    {
     "name": "stdout",
     "output_type": "stream",
     "text": [
      "Minimization complete. Optimized structure is in /raid/xiaoruiwang/works/ec_site_prediction/dataset/mcsa_fine_tune/mcsa_aug_20_mutation_rate_0.2_insertion_rate_0.1_deletion_rate_0.1_max_length_150_seed_123/esmfold_generated_aug_structures/P22983_minimized.pdb\n"
     ]
    },
    {
     "name": "stderr",
     "output_type": "stream",
     "text": [
      "Note: The following floating-point exceptions are signalling: IEEE_INVALID_FLAG IEEE_DENORMAL\n",
      " 42%|████▏     | 40/95 [00:46<01:42,  1.87s/it]"
     ]
    },
    {
     "name": "stdout",
     "output_type": "stream",
     "text": [
      "Minimization complete. Optimized structure is in /raid/xiaoruiwang/works/ec_site_prediction/dataset/mcsa_fine_tune/mcsa_aug_20_mutation_rate_0.2_insertion_rate_0.1_deletion_rate_0.1_max_length_150_seed_123/esmfold_generated_aug_structures/P09030_minimized.pdb\n"
     ]
    },
    {
     "name": "stderr",
     "output_type": "stream",
     "text": [
      "Note: The following floating-point exceptions are signalling: IEEE_INVALID_FLAG IEEE_OVERFLOW_FLAG IEEE_DENORMAL\n",
      " 43%|████▎     | 41/95 [00:48<01:54,  2.11s/it]"
     ]
    },
    {
     "name": "stdout",
     "output_type": "stream",
     "text": [
      "Minimization complete. Optimized structure is in /raid/xiaoruiwang/works/ec_site_prediction/dataset/mcsa_fine_tune/mcsa_aug_20_mutation_rate_0.2_insertion_rate_0.1_deletion_rate_0.1_max_length_150_seed_123/esmfold_generated_aug_structures/P23687_minimized.pdb\n"
     ]
    },
    {
     "name": "stderr",
     "output_type": "stream",
     "text": [
      "Note: The following floating-point exceptions are signalling: IEEE_INVALID_FLAG IEEE_DENORMAL\n",
      " 44%|████▍     | 42/95 [00:49<01:35,  1.80s/it]"
     ]
    },
    {
     "name": "stdout",
     "output_type": "stream",
     "text": [
      "Minimization complete. Optimized structure is in /raid/xiaoruiwang/works/ec_site_prediction/dataset/mcsa_fine_tune/mcsa_aug_20_mutation_rate_0.2_insertion_rate_0.1_deletion_rate_0.1_max_length_150_seed_123/esmfold_generated_aug_structures/P56200_minimized.pdb\n"
     ]
    },
    {
     "name": "stderr",
     "output_type": "stream",
     "text": [
      "Note: The following floating-point exceptions are signalling: IEEE_INVALID_FLAG IEEE_DENORMAL\n",
      " 45%|████▌     | 43/95 [00:52<01:44,  2.00s/it]"
     ]
    },
    {
     "name": "stdout",
     "output_type": "stream",
     "text": [
      "Minimization complete. Optimized structure is in /raid/xiaoruiwang/works/ec_site_prediction/dataset/mcsa_fine_tune/mcsa_aug_20_mutation_rate_0.2_insertion_rate_0.1_deletion_rate_0.1_max_length_150_seed_123/esmfold_generated_aug_structures/P08236_minimized.pdb\n"
     ]
    },
    {
     "name": "stderr",
     "output_type": "stream",
     "text": [
      "Note: The following floating-point exceptions are signalling: IEEE_INVALID_FLAG IEEE_DENORMAL\n",
      " 46%|████▋     | 44/95 [00:53<01:27,  1.71s/it]"
     ]
    },
    {
     "name": "stdout",
     "output_type": "stream",
     "text": [
      "Minimization complete. Optimized structure is in /raid/xiaoruiwang/works/ec_site_prediction/dataset/mcsa_fine_tune/mcsa_aug_20_mutation_rate_0.2_insertion_rate_0.1_deletion_rate_0.1_max_length_150_seed_123/esmfold_generated_aug_structures/P00777_minimized.pdb\n"
     ]
    },
    {
     "name": "stderr",
     "output_type": "stream",
     "text": [
      "Note: The following floating-point exceptions are signalling: IEEE_INVALID_FLAG IEEE_OVERFLOW_FLAG IEEE_DENORMAL\n",
      " 47%|████▋     | 45/95 [00:55<01:27,  1.76s/it]"
     ]
    },
    {
     "name": "stdout",
     "output_type": "stream",
     "text": [
      "Minimization complete. Optimized structure is in /raid/xiaoruiwang/works/ec_site_prediction/dataset/mcsa_fine_tune/mcsa_aug_20_mutation_rate_0.2_insertion_rate_0.1_deletion_rate_0.1_max_length_150_seed_123/esmfold_generated_aug_structures/P15723_minimized.pdb\n"
     ]
    },
    {
     "name": "stderr",
     "output_type": "stream",
     "text": [
      "Note: The following floating-point exceptions are signalling: IEEE_INVALID_FLAG IEEE_OVERFLOW_FLAG IEEE_DENORMAL\n",
      " 48%|████▊     | 46/95 [00:56<01:21,  1.67s/it]"
     ]
    },
    {
     "name": "stdout",
     "output_type": "stream",
     "text": [
      "Minimization complete. Optimized structure is in /raid/xiaoruiwang/works/ec_site_prediction/dataset/mcsa_fine_tune/mcsa_aug_20_mutation_rate_0.2_insertion_rate_0.1_deletion_rate_0.1_max_length_150_seed_123/esmfold_generated_aug_structures/P83788_minimized.pdb\n"
     ]
    },
    {
     "name": "stderr",
     "output_type": "stream",
     "text": [
      "Note: The following floating-point exceptions are signalling: IEEE_INVALID_FLAG\n",
      " 49%|████▉     | 47/95 [00:57<01:13,  1.52s/it]"
     ]
    },
    {
     "name": "stdout",
     "output_type": "stream",
     "text": [
      "Minimization complete. Optimized structure is in /raid/xiaoruiwang/works/ec_site_prediction/dataset/mcsa_fine_tune/mcsa_aug_20_mutation_rate_0.2_insertion_rate_0.1_deletion_rate_0.1_max_length_150_seed_123/esmfold_generated_aug_structures/P53608_minimized.pdb\n"
     ]
    },
    {
     "name": "stderr",
     "output_type": "stream",
     "text": [
      "Note: The following floating-point exceptions are signalling: IEEE_INVALID_FLAG IEEE_OVERFLOW_FLAG IEEE_DENORMAL\n",
      " 51%|█████     | 48/95 [00:59<01:18,  1.67s/it]"
     ]
    },
    {
     "name": "stdout",
     "output_type": "stream",
     "text": [
      "Minimization complete. Optimized structure is in /raid/xiaoruiwang/works/ec_site_prediction/dataset/mcsa_fine_tune/mcsa_aug_20_mutation_rate_0.2_insertion_rate_0.1_deletion_rate_0.1_max_length_150_seed_123/esmfold_generated_aug_structures/Q9L9D7_minimized.pdb\n"
     ]
    },
    {
     "name": "stderr",
     "output_type": "stream",
     "text": [
      "Note: The following floating-point exceptions are signalling: IEEE_INVALID_FLAG IEEE_DENORMAL\n",
      " 52%|█████▏    | 49/95 [01:01<01:12,  1.57s/it]"
     ]
    },
    {
     "name": "stdout",
     "output_type": "stream",
     "text": [
      "Minimization complete. Optimized structure is in /raid/xiaoruiwang/works/ec_site_prediction/dataset/mcsa_fine_tune/mcsa_aug_20_mutation_rate_0.2_insertion_rate_0.1_deletion_rate_0.1_max_length_150_seed_123/esmfold_generated_aug_structures/P39377_minimized.pdb\n"
     ]
    },
    {
     "name": "stderr",
     "output_type": "stream",
     "text": [
      "Note: The following floating-point exceptions are signalling: IEEE_INVALID_FLAG IEEE_OVERFLOW_FLAG IEEE_DENORMAL\n",
      " 53%|█████▎    | 50/95 [01:02<01:05,  1.46s/it]"
     ]
    },
    {
     "name": "stdout",
     "output_type": "stream",
     "text": [
      "Minimization complete. Optimized structure is in /raid/xiaoruiwang/works/ec_site_prediction/dataset/mcsa_fine_tune/mcsa_aug_20_mutation_rate_0.2_insertion_rate_0.1_deletion_rate_0.1_max_length_150_seed_123/esmfold_generated_aug_structures/P00805_minimized.pdb\n"
     ]
    },
    {
     "name": "stderr",
     "output_type": "stream",
     "text": [
      "Note: The following floating-point exceptions are signalling: IEEE_INVALID_FLAG IEEE_DENORMAL\n",
      " 54%|█████▎    | 51/95 [01:04<01:11,  1.63s/it]"
     ]
    },
    {
     "name": "stdout",
     "output_type": "stream",
     "text": [
      "Minimization complete. Optimized structure is in /raid/xiaoruiwang/works/ec_site_prediction/dataset/mcsa_fine_tune/mcsa_aug_20_mutation_rate_0.2_insertion_rate_0.1_deletion_rate_0.1_max_length_150_seed_123/esmfold_generated_aug_structures/P08148_minimized.pdb\n"
     ]
    },
    {
     "name": "stderr",
     "output_type": "stream",
     "text": [
      "Note: The following floating-point exceptions are signalling: IEEE_INVALID_FLAG IEEE_OVERFLOW_FLAG IEEE_DENORMAL\n",
      " 55%|█████▍    | 52/95 [01:05<01:06,  1.54s/it]"
     ]
    },
    {
     "name": "stdout",
     "output_type": "stream",
     "text": [
      "Minimization complete. Optimized structure is in /raid/xiaoruiwang/works/ec_site_prediction/dataset/mcsa_fine_tune/mcsa_aug_20_mutation_rate_0.2_insertion_rate_0.1_deletion_rate_0.1_max_length_150_seed_123/esmfold_generated_aug_structures/Q9KX40_minimized.pdb\n"
     ]
    },
    {
     "name": "stderr",
     "output_type": "stream",
     "text": [
      "Note: The following floating-point exceptions are signalling: IEEE_INVALID_FLAG IEEE_OVERFLOW_FLAG IEEE_DENORMAL\n",
      " 56%|█████▌    | 53/95 [01:06<00:54,  1.30s/it]"
     ]
    },
    {
     "name": "stdout",
     "output_type": "stream",
     "text": [
      "Minimization complete. Optimized structure is in /raid/xiaoruiwang/works/ec_site_prediction/dataset/mcsa_fine_tune/mcsa_aug_20_mutation_rate_0.2_insertion_rate_0.1_deletion_rate_0.1_max_length_150_seed_123/esmfold_generated_aug_structures/P0A7Y4_minimized.pdb\n"
     ]
    },
    {
     "name": "stderr",
     "output_type": "stream",
     "text": [
      "Note: The following floating-point exceptions are signalling: IEEE_INVALID_FLAG\n",
      " 57%|█████▋    | 54/95 [01:08<00:55,  1.35s/it]"
     ]
    },
    {
     "name": "stdout",
     "output_type": "stream",
     "text": [
      "Minimization complete. Optimized structure is in /raid/xiaoruiwang/works/ec_site_prediction/dataset/mcsa_fine_tune/mcsa_aug_20_mutation_rate_0.2_insertion_rate_0.1_deletion_rate_0.1_max_length_150_seed_123/esmfold_generated_aug_structures/Q9FXT4_minimized.pdb\n"
     ]
    },
    {
     "name": "stderr",
     "output_type": "stream",
     "text": [
      "Note: The following floating-point exceptions are signalling: IEEE_INVALID_FLAG IEEE_DENORMAL\n",
      " 58%|█████▊    | 55/95 [01:09<00:52,  1.32s/it]"
     ]
    },
    {
     "name": "stdout",
     "output_type": "stream",
     "text": [
      "Minimization complete. Optimized structure is in /raid/xiaoruiwang/works/ec_site_prediction/dataset/mcsa_fine_tune/mcsa_aug_20_mutation_rate_0.2_insertion_rate_0.1_deletion_rate_0.1_max_length_150_seed_123/esmfold_generated_aug_structures/P00784_minimized.pdb\n"
     ]
    },
    {
     "name": "stderr",
     "output_type": "stream",
     "text": [
      "Note: The following floating-point exceptions are signalling: IEEE_INVALID_FLAG IEEE_OVERFLOW_FLAG IEEE_DENORMAL\n",
      " 59%|█████▉    | 56/95 [01:10<00:48,  1.24s/it]"
     ]
    },
    {
     "name": "stdout",
     "output_type": "stream",
     "text": [
      "Minimization complete. Optimized structure is in /raid/xiaoruiwang/works/ec_site_prediction/dataset/mcsa_fine_tune/mcsa_aug_20_mutation_rate_0.2_insertion_rate_0.1_deletion_rate_0.1_max_length_150_seed_123/esmfold_generated_aug_structures/P29241_minimized.pdb\n"
     ]
    },
    {
     "name": "stderr",
     "output_type": "stream",
     "text": [
      "Note: The following floating-point exceptions are signalling: IEEE_INVALID_FLAG\n",
      " 60%|██████    | 57/95 [01:11<00:47,  1.26s/it]"
     ]
    },
    {
     "name": "stdout",
     "output_type": "stream",
     "text": [
      "Minimization complete. Optimized structure is in /raid/xiaoruiwang/works/ec_site_prediction/dataset/mcsa_fine_tune/mcsa_aug_20_mutation_rate_0.2_insertion_rate_0.1_deletion_rate_0.1_max_length_150_seed_123/esmfold_generated_aug_structures/P48842_minimized.pdb\n"
     ]
    },
    {
     "name": "stderr",
     "output_type": "stream",
     "text": [
      "Note: The following floating-point exceptions are signalling: IEEE_INVALID_FLAG IEEE_DENORMAL\n",
      " 61%|██████    | 58/95 [01:13<00:56,  1.53s/it]"
     ]
    },
    {
     "name": "stdout",
     "output_type": "stream",
     "text": [
      "Minimization complete. Optimized structure is in /raid/xiaoruiwang/works/ec_site_prediction/dataset/mcsa_fine_tune/mcsa_aug_20_mutation_rate_0.2_insertion_rate_0.1_deletion_rate_0.1_max_length_150_seed_123/esmfold_generated_aug_structures/Q02834_minimized.pdb\n"
     ]
    },
    {
     "name": "stderr",
     "output_type": "stream",
     "text": [
      "Note: The following floating-point exceptions are signalling: IEEE_INVALID_FLAG IEEE_OVERFLOW_FLAG IEEE_DENORMAL\n",
      " 62%|██████▏   | 59/95 [01:14<00:48,  1.35s/it]"
     ]
    },
    {
     "name": "stdout",
     "output_type": "stream",
     "text": [
      "Minimization complete. Optimized structure is in /raid/xiaoruiwang/works/ec_site_prediction/dataset/mcsa_fine_tune/mcsa_aug_20_mutation_rate_0.2_insertion_rate_0.1_deletion_rate_0.1_max_length_150_seed_123/esmfold_generated_aug_structures/Q96LD8_minimized.pdb\n"
     ]
    },
    {
     "name": "stderr",
     "output_type": "stream",
     "text": [
      "Note: The following floating-point exceptions are signalling: IEEE_INVALID_FLAG\n",
      " 66%|██████▋   | 63/95 [01:15<00:21,  1.48it/s]"
     ]
    },
    {
     "name": "stdout",
     "output_type": "stream",
     "text": [
      "Minimization complete. Optimized structure is in /raid/xiaoruiwang/works/ec_site_prediction/dataset/mcsa_fine_tune/mcsa_aug_20_mutation_rate_0.2_insertion_rate_0.1_deletion_rate_0.1_max_length_150_seed_123/esmfold_generated_aug_structures/Q7SIG4_minimized.pdb\n"
     ]
    },
    {
     "name": "stderr",
     "output_type": "stream",
     "text": [
      "Note: The following floating-point exceptions are signalling: IEEE_INVALID_FLAG\n",
      " 67%|██████▋   | 64/95 [01:17<00:25,  1.24it/s]"
     ]
    },
    {
     "name": "stdout",
     "output_type": "stream",
     "text": [
      "Minimization complete. Optimized structure is in /raid/xiaoruiwang/works/ec_site_prediction/dataset/mcsa_fine_tune/mcsa_aug_20_mutation_rate_0.2_insertion_rate_0.1_deletion_rate_0.1_max_length_150_seed_123/esmfold_generated_aug_structures/P06621_minimized.pdb\n"
     ]
    },
    {
     "name": "stderr",
     "output_type": "stream",
     "text": [
      "Note: The following floating-point exceptions are signalling: IEEE_INVALID_FLAG IEEE_DENORMAL\n",
      " 68%|██████▊   | 65/95 [01:19<00:35,  1.19s/it]"
     ]
    },
    {
     "name": "stdout",
     "output_type": "stream",
     "text": [
      "Minimization complete. Optimized structure is in /raid/xiaoruiwang/works/ec_site_prediction/dataset/mcsa_fine_tune/mcsa_aug_20_mutation_rate_0.2_insertion_rate_0.1_deletion_rate_0.1_max_length_150_seed_123/esmfold_generated_aug_structures/P07662_minimized.pdb\n"
     ]
    },
    {
     "name": "stderr",
     "output_type": "stream",
     "text": [
      "Note: The following floating-point exceptions are signalling: IEEE_INVALID_FLAG IEEE_OVERFLOW_FLAG IEEE_DENORMAL\n",
      " 69%|██████▉   | 66/95 [01:21<00:35,  1.22s/it]"
     ]
    },
    {
     "name": "stdout",
     "output_type": "stream",
     "text": [
      "Minimization complete. Optimized structure is in /raid/xiaoruiwang/works/ec_site_prediction/dataset/mcsa_fine_tune/mcsa_aug_20_mutation_rate_0.2_insertion_rate_0.1_deletion_rate_0.1_max_length_150_seed_123/esmfold_generated_aug_structures/P0A434_minimized.pdb\n"
     ]
    },
    {
     "name": "stderr",
     "output_type": "stream",
     "text": [
      "Note: The following floating-point exceptions are signalling: IEEE_INVALID_FLAG IEEE_DENORMAL\n",
      " 71%|███████   | 67/95 [01:22<00:35,  1.28s/it]"
     ]
    },
    {
     "name": "stdout",
     "output_type": "stream",
     "text": [
      "Minimization complete. Optimized structure is in /raid/xiaoruiwang/works/ec_site_prediction/dataset/mcsa_fine_tune/mcsa_aug_20_mutation_rate_0.2_insertion_rate_0.1_deletion_rate_0.1_max_length_150_seed_123/esmfold_generated_aug_structures/P38488_minimized.pdb\n"
     ]
    },
    {
     "name": "stderr",
     "output_type": "stream",
     "text": [
      "Note: The following floating-point exceptions are signalling: IEEE_INVALID_FLAG IEEE_OVERFLOW_FLAG IEEE_DENORMAL\n",
      " 72%|███████▏  | 68/95 [01:24<00:40,  1.49s/it]"
     ]
    },
    {
     "name": "stdout",
     "output_type": "stream",
     "text": [
      "Minimization complete. Optimized structure is in /raid/xiaoruiwang/works/ec_site_prediction/dataset/mcsa_fine_tune/mcsa_aug_20_mutation_rate_0.2_insertion_rate_0.1_deletion_rate_0.1_max_length_150_seed_123/esmfold_generated_aug_structures/P08473_minimized.pdb\n"
     ]
    },
    {
     "name": "stderr",
     "output_type": "stream",
     "text": [
      "Note: The following floating-point exceptions are signalling: IEEE_INVALID_FLAG IEEE_OVERFLOW_FLAG IEEE_DENORMAL\n",
      " 73%|███████▎  | 69/95 [01:25<00:34,  1.33s/it]"
     ]
    },
    {
     "name": "stdout",
     "output_type": "stream",
     "text": [
      "Minimization complete. Optimized structure is in /raid/xiaoruiwang/works/ec_site_prediction/dataset/mcsa_fine_tune/mcsa_aug_20_mutation_rate_0.2_insertion_rate_0.1_deletion_rate_0.1_max_length_150_seed_123/esmfold_generated_aug_structures/P40881_minimized.pdb\n"
     ]
    },
    {
     "name": "stderr",
     "output_type": "stream",
     "text": [
      "Note: The following floating-point exceptions are signalling: IEEE_INVALID_FLAG IEEE_DENORMAL\n",
      " 74%|███████▎  | 70/95 [01:26<00:28,  1.16s/it]"
     ]
    },
    {
     "name": "stdout",
     "output_type": "stream",
     "text": [
      "Minimization complete. Optimized structure is in /raid/xiaoruiwang/works/ec_site_prediction/dataset/mcsa_fine_tune/mcsa_aug_20_mutation_rate_0.2_insertion_rate_0.1_deletion_rate_0.1_max_length_150_seed_123/esmfold_generated_aug_structures/P34096_minimized.pdb\n"
     ]
    },
    {
     "name": "stderr",
     "output_type": "stream",
     "text": [
      "Note: The following floating-point exceptions are signalling: IEEE_INVALID_FLAG\n",
      " 75%|███████▍  | 71/95 [01:27<00:27,  1.15s/it]"
     ]
    },
    {
     "name": "stdout",
     "output_type": "stream",
     "text": [
      "Minimization complete. Optimized structure is in /raid/xiaoruiwang/works/ec_site_prediction/dataset/mcsa_fine_tune/mcsa_aug_20_mutation_rate_0.2_insertion_rate_0.1_deletion_rate_0.1_max_length_150_seed_123/esmfold_generated_aug_structures/Q13825_minimized.pdb\n"
     ]
    },
    {
     "name": "stderr",
     "output_type": "stream",
     "text": [
      "Note: The following floating-point exceptions are signalling: IEEE_INVALID_FLAG IEEE_OVERFLOW_FLAG IEEE_DENORMAL\n",
      " 76%|███████▌  | 72/95 [01:30<00:37,  1.62s/it]"
     ]
    },
    {
     "name": "stdout",
     "output_type": "stream",
     "text": [
      "Minimization complete. Optimized structure is in /raid/xiaoruiwang/works/ec_site_prediction/dataset/mcsa_fine_tune/mcsa_aug_20_mutation_rate_0.2_insertion_rate_0.1_deletion_rate_0.1_max_length_150_seed_123/esmfold_generated_aug_structures/Q27701_minimized.pdb\n"
     ]
    },
    {
     "name": "stderr",
     "output_type": "stream",
     "text": [
      "Note: The following floating-point exceptions are signalling: IEEE_INVALID_FLAG\n",
      " 77%|███████▋  | 73/95 [01:31<00:32,  1.48s/it]"
     ]
    },
    {
     "name": "stdout",
     "output_type": "stream",
     "text": [
      "Minimization complete. Optimized structure is in /raid/xiaoruiwang/works/ec_site_prediction/dataset/mcsa_fine_tune/mcsa_aug_20_mutation_rate_0.2_insertion_rate_0.1_deletion_rate_0.1_max_length_150_seed_123/esmfold_generated_aug_structures/O59791_minimized.pdb\n"
     ]
    },
    {
     "name": "stderr",
     "output_type": "stream",
     "text": [
      "Note: The following floating-point exceptions are signalling: IEEE_INVALID_FLAG IEEE_DENORMAL\n",
      " 78%|███████▊  | 74/95 [01:32<00:26,  1.25s/it]"
     ]
    },
    {
     "name": "stdout",
     "output_type": "stream",
     "text": [
      "Minimization complete. Optimized structure is in /raid/xiaoruiwang/works/ec_site_prediction/dataset/mcsa_fine_tune/mcsa_aug_20_mutation_rate_0.2_insertion_rate_0.1_deletion_rate_0.1_max_length_150_seed_123/esmfold_generated_aug_structures/P27213_minimized.pdb\n"
     ]
    },
    {
     "name": "stderr",
     "output_type": "stream",
     "text": [
      "Note: The following floating-point exceptions are signalling: IEEE_INVALID_FLAG IEEE_OVERFLOW_FLAG IEEE_DENORMAL\n",
      " 79%|███████▉  | 75/95 [01:33<00:26,  1.30s/it]"
     ]
    },
    {
     "name": "stdout",
     "output_type": "stream",
     "text": [
      "Minimization complete. Optimized structure is in /raid/xiaoruiwang/works/ec_site_prediction/dataset/mcsa_fine_tune/mcsa_aug_20_mutation_rate_0.2_insertion_rate_0.1_deletion_rate_0.1_max_length_150_seed_123/esmfold_generated_aug_structures/Q9ZHG9_minimized.pdb\n"
     ]
    },
    {
     "name": "stderr",
     "output_type": "stream",
     "text": [
      "Note: The following floating-point exceptions are signalling: IEEE_INVALID_FLAG IEEE_OVERFLOW_FLAG IEEE_DENORMAL\n",
      " 80%|████████  | 76/95 [01:34<00:22,  1.21s/it]"
     ]
    },
    {
     "name": "stdout",
     "output_type": "stream",
     "text": [
      "Minimization complete. Optimized structure is in /raid/xiaoruiwang/works/ec_site_prediction/dataset/mcsa_fine_tune/mcsa_aug_20_mutation_rate_0.2_insertion_rate_0.1_deletion_rate_0.1_max_length_150_seed_123/esmfold_generated_aug_structures/Q60364_minimized.pdb\n"
     ]
    },
    {
     "name": "stderr",
     "output_type": "stream",
     "text": [
      "Note: The following floating-point exceptions are signalling: IEEE_INVALID_FLAG IEEE_OVERFLOW_FLAG IEEE_DENORMAL\n",
      " 81%|████████  | 77/95 [01:36<00:23,  1.31s/it]"
     ]
    },
    {
     "name": "stdout",
     "output_type": "stream",
     "text": [
      "Minimization complete. Optimized structure is in /raid/xiaoruiwang/works/ec_site_prediction/dataset/mcsa_fine_tune/mcsa_aug_20_mutation_rate_0.2_insertion_rate_0.1_deletion_rate_0.1_max_length_150_seed_123/esmfold_generated_aug_structures/Q9X0I0_minimized.pdb\n"
     ]
    },
    {
     "name": "stderr",
     "output_type": "stream",
     "text": [
      "Note: The following floating-point exceptions are signalling: IEEE_INVALID_FLAG IEEE_OVERFLOW_FLAG IEEE_DENORMAL\n",
      " 82%|████████▏ | 78/95 [01:37<00:21,  1.28s/it]"
     ]
    },
    {
     "name": "stdout",
     "output_type": "stream",
     "text": [
      "Minimization complete. Optimized structure is in /raid/xiaoruiwang/works/ec_site_prediction/dataset/mcsa_fine_tune/mcsa_aug_20_mutation_rate_0.2_insertion_rate_0.1_deletion_rate_0.1_max_length_150_seed_123/esmfold_generated_aug_structures/P27695_minimized.pdb\n"
     ]
    },
    {
     "name": "stderr",
     "output_type": "stream",
     "text": [
      "Note: The following floating-point exceptions are signalling: IEEE_INVALID_FLAG IEEE_OVERFLOW_FLAG IEEE_DENORMAL\n",
      " 83%|████████▎ | 79/95 [01:38<00:21,  1.32s/it]"
     ]
    },
    {
     "name": "stdout",
     "output_type": "stream",
     "text": [
      "Minimization complete. Optimized structure is in /raid/xiaoruiwang/works/ec_site_prediction/dataset/mcsa_fine_tune/mcsa_aug_20_mutation_rate_0.2_insertion_rate_0.1_deletion_rate_0.1_max_length_150_seed_123/esmfold_generated_aug_structures/O52552_minimized.pdb\n"
     ]
    },
    {
     "name": "stderr",
     "output_type": "stream",
     "text": [
      "Note: The following floating-point exceptions are signalling: IEEE_INVALID_FLAG IEEE_OVERFLOW_FLAG IEEE_DENORMAL\n",
      " 84%|████████▍ | 80/95 [01:40<00:20,  1.36s/it]"
     ]
    },
    {
     "name": "stdout",
     "output_type": "stream",
     "text": [
      "Minimization complete. Optimized structure is in /raid/xiaoruiwang/works/ec_site_prediction/dataset/mcsa_fine_tune/mcsa_aug_20_mutation_rate_0.2_insertion_rate_0.1_deletion_rate_0.1_max_length_150_seed_123/esmfold_generated_aug_structures/P16932_minimized.pdb\n"
     ]
    },
    {
     "name": "stderr",
     "output_type": "stream",
     "text": [
      "Note: The following floating-point exceptions are signalling: IEEE_INVALID_FLAG IEEE_OVERFLOW_FLAG IEEE_DENORMAL\n",
      " 85%|████████▌ | 81/95 [01:41<00:20,  1.47s/it]"
     ]
    },
    {
     "name": "stdout",
     "output_type": "stream",
     "text": [
      "Minimization complete. Optimized structure is in /raid/xiaoruiwang/works/ec_site_prediction/dataset/mcsa_fine_tune/mcsa_aug_20_mutation_rate_0.2_insertion_rate_0.1_deletion_rate_0.1_max_length_150_seed_123/esmfold_generated_aug_structures/P21310_minimized.pdb\n"
     ]
    },
    {
     "name": "stderr",
     "output_type": "stream",
     "text": [
      "Note: The following floating-point exceptions are signalling: IEEE_INVALID_FLAG IEEE_DENORMAL\n",
      " 86%|████████▋ | 82/95 [01:43<00:18,  1.41s/it]"
     ]
    },
    {
     "name": "stdout",
     "output_type": "stream",
     "text": [
      "Minimization complete. Optimized structure is in /raid/xiaoruiwang/works/ec_site_prediction/dataset/mcsa_fine_tune/mcsa_aug_20_mutation_rate_0.2_insertion_rate_0.1_deletion_rate_0.1_max_length_150_seed_123/esmfold_generated_aug_structures/Q76K71_minimized.pdb\n"
     ]
    },
    {
     "name": "stderr",
     "output_type": "stream",
     "text": [
      "Note: The following floating-point exceptions are signalling: IEEE_INVALID_FLAG IEEE_OVERFLOW_FLAG IEEE_DENORMAL\n",
      " 87%|████████▋ | 83/95 [01:45<00:20,  1.67s/it]"
     ]
    },
    {
     "name": "stdout",
     "output_type": "stream",
     "text": [
      "Minimization complete. Optimized structure is in /raid/xiaoruiwang/works/ec_site_prediction/dataset/mcsa_fine_tune/mcsa_aug_20_mutation_rate_0.2_insertion_rate_0.1_deletion_rate_0.1_max_length_150_seed_123/esmfold_generated_aug_structures/Q8KR84_minimized.pdb\n"
     ]
    },
    {
     "name": "stderr",
     "output_type": "stream",
     "text": [
      "Note: The following floating-point exceptions are signalling: IEEE_INVALID_FLAG IEEE_DENORMAL\n",
      " 89%|████████▉ | 85/95 [01:47<00:14,  1.45s/it]"
     ]
    },
    {
     "name": "stdout",
     "output_type": "stream",
     "text": [
      "Minimization complete. Optimized structure is in /raid/xiaoruiwang/works/ec_site_prediction/dataset/mcsa_fine_tune/mcsa_aug_20_mutation_rate_0.2_insertion_rate_0.1_deletion_rate_0.1_max_length_150_seed_123/esmfold_generated_aug_structures/P14294_minimized.pdb\n"
     ]
    },
    {
     "name": "stderr",
     "output_type": "stream",
     "text": [
      "Note: The following floating-point exceptions are signalling: IEEE_INVALID_FLAG IEEE_OVERFLOW_FLAG IEEE_DENORMAL\n",
      " 91%|█████████ | 86/95 [01:49<00:12,  1.41s/it]"
     ]
    },
    {
     "name": "stdout",
     "output_type": "stream",
     "text": [
      "Minimization complete. Optimized structure is in /raid/xiaoruiwang/works/ec_site_prediction/dataset/mcsa_fine_tune/mcsa_aug_20_mutation_rate_0.2_insertion_rate_0.1_deletion_rate_0.1_max_length_150_seed_123/esmfold_generated_aug_structures/H2IFX0_minimized.pdb\n"
     ]
    },
    {
     "name": "stderr",
     "output_type": "stream",
     "text": [
      "Note: The following floating-point exceptions are signalling: IEEE_INVALID_FLAG IEEE_OVERFLOW_FLAG IEEE_DENORMAL\n",
      " 92%|█████████▏| 87/95 [01:49<00:09,  1.22s/it]"
     ]
    },
    {
     "name": "stdout",
     "output_type": "stream",
     "text": [
      "Minimization complete. Optimized structure is in /raid/xiaoruiwang/works/ec_site_prediction/dataset/mcsa_fine_tune/mcsa_aug_20_mutation_rate_0.2_insertion_rate_0.1_deletion_rate_0.1_max_length_150_seed_123/esmfold_generated_aug_structures/Q05354_minimized.pdb\n"
     ]
    },
    {
     "name": "stderr",
     "output_type": "stream",
     "text": [
      "Note: The following floating-point exceptions are signalling: IEEE_INVALID_FLAG IEEE_OVERFLOW_FLAG IEEE_DENORMAL\n",
      " 93%|█████████▎| 88/95 [01:50<00:07,  1.12s/it]"
     ]
    },
    {
     "name": "stdout",
     "output_type": "stream",
     "text": [
      "Minimization complete. Optimized structure is in /raid/xiaoruiwang/works/ec_site_prediction/dataset/mcsa_fine_tune/mcsa_aug_20_mutation_rate_0.2_insertion_rate_0.1_deletion_rate_0.1_max_length_150_seed_123/esmfold_generated_aug_structures/P0AEG6_minimized.pdb\n"
     ]
    },
    {
     "name": "stderr",
     "output_type": "stream",
     "text": [
      "Note: The following floating-point exceptions are signalling: IEEE_INVALID_FLAG IEEE_DENORMAL\n",
      " 94%|█████████▎| 89/95 [01:52<00:08,  1.35s/it]"
     ]
    },
    {
     "name": "stdout",
     "output_type": "stream",
     "text": [
      "Minimization complete. Optimized structure is in /raid/xiaoruiwang/works/ec_site_prediction/dataset/mcsa_fine_tune/mcsa_aug_20_mutation_rate_0.2_insertion_rate_0.1_deletion_rate_0.1_max_length_150_seed_123/esmfold_generated_aug_structures/P11986_minimized.pdb\n"
     ]
    },
    {
     "name": "stderr",
     "output_type": "stream",
     "text": [
      "Note: The following floating-point exceptions are signalling: IEEE_INVALID_FLAG\n",
      " 95%|█████████▍| 90/95 [01:53<00:06,  1.28s/it]"
     ]
    },
    {
     "name": "stdout",
     "output_type": "stream",
     "text": [
      "Minimization complete. Optimized structure is in /raid/xiaoruiwang/works/ec_site_prediction/dataset/mcsa_fine_tune/mcsa_aug_20_mutation_rate_0.2_insertion_rate_0.1_deletion_rate_0.1_max_length_150_seed_123/esmfold_generated_aug_structures/P42126_minimized.pdb\n"
     ]
    },
    {
     "name": "stderr",
     "output_type": "stream",
     "text": [
      "Note: The following floating-point exceptions are signalling: IEEE_INVALID_FLAG IEEE_DENORMAL\n",
      " 96%|█████████▌| 91/95 [01:54<00:05,  1.26s/it]"
     ]
    },
    {
     "name": "stdout",
     "output_type": "stream",
     "text": [
      "Minimization complete. Optimized structure is in /raid/xiaoruiwang/works/ec_site_prediction/dataset/mcsa_fine_tune/mcsa_aug_20_mutation_rate_0.2_insertion_rate_0.1_deletion_rate_0.1_max_length_150_seed_123/esmfold_generated_aug_structures/P27001_minimized.pdb\n"
     ]
    },
    {
     "name": "stderr",
     "output_type": "stream",
     "text": [
      "Note: The following floating-point exceptions are signalling: IEEE_INVALID_FLAG IEEE_OVERFLOW_FLAG IEEE_DENORMAL\n",
      " 97%|█████████▋| 92/95 [01:56<00:04,  1.47s/it]"
     ]
    },
    {
     "name": "stdout",
     "output_type": "stream",
     "text": [
      "Minimization complete. Optimized structure is in /raid/xiaoruiwang/works/ec_site_prediction/dataset/mcsa_fine_tune/mcsa_aug_20_mutation_rate_0.2_insertion_rate_0.1_deletion_rate_0.1_max_length_150_seed_123/esmfold_generated_aug_structures/P22106_minimized.pdb\n"
     ]
    },
    {
     "name": "stderr",
     "output_type": "stream",
     "text": [
      "Note: The following floating-point exceptions are signalling: IEEE_INVALID_FLAG IEEE_OVERFLOW_FLAG IEEE_DENORMAL\n",
      " 98%|█████████▊| 93/95 [01:58<00:02,  1.40s/it]"
     ]
    },
    {
     "name": "stdout",
     "output_type": "stream",
     "text": [
      "Minimization complete. Optimized structure is in /raid/xiaoruiwang/works/ec_site_prediction/dataset/mcsa_fine_tune/mcsa_aug_20_mutation_rate_0.2_insertion_rate_0.1_deletion_rate_0.1_max_length_150_seed_123/esmfold_generated_aug_structures/P46849_minimized.pdb\n"
     ]
    },
    {
     "name": "stderr",
     "output_type": "stream",
     "text": [
      "Note: The following floating-point exceptions are signalling: IEEE_INVALID_FLAG IEEE_OVERFLOW_FLAG IEEE_DENORMAL\n",
      "100%|██████████| 95/95 [01:59<00:00,  1.26s/it]"
     ]
    },
    {
     "name": "stdout",
     "output_type": "stream",
     "text": [
      "Minimization complete. Optimized structure is in /raid/xiaoruiwang/works/ec_site_prediction/dataset/mcsa_fine_tune/mcsa_aug_20_mutation_rate_0.2_insertion_rate_0.1_deletion_rate_0.1_max_length_150_seed_123/esmfold_generated_aug_structures/P25051_minimized.pdb\n"
     ]
    },
    {
     "name": "stderr",
     "output_type": "stream",
     "text": [
      "\n"
     ]
    }
   ],
   "source": [
    "import shutil\n",
    "\n",
    "minimize_failure_list_test = []\n",
    "org_structure_dir = '../dataset/mcsa_fine_tune/structures/alphafolddb_download'\n",
    "for pdb_id in tqdm(end_aug_test_dataset['alphafolddb-id'].tolist()):\n",
    "    pdb_id = pdb_id.replace(' ', '')\n",
    "    org_fname = 'AF-{}-F1-model_v4.pdb'.format(pdb_id.split('_')[0].split('-')[0])\n",
    "    org_pdb_path = os.path.join(org_structure_dir, org_fname)\n",
    "    abs_input_path = os.path.abspath(os.path.join(fixed_generated_structure_dir, f'{pdb_id}.pdb'))\n",
    "    try:\n",
    "        shutil.copyfile(org_pdb_path, os.path.join(fixed_generated_structure_dir, '{}.pdb'.format(pdb_id.split('_')[0].split('-')[0])))\n",
    "    except:\n",
    "        minimize_failure_list_test.append(abs_input_path)\n",
    "        continue\n",
    "    \n",
    "    # print(abs_input_path)\n",
    "    # break\n",
    "    _, is_success = minimize_use_amber(abs_input_path, os.path.abspath(fixed_generated_structure_dir), AMBERHOME='/home/ipmgpu2022a/Software/amber20')\n",
    "    if not is_success:\n",
    "        minimize_failure_list_test.append(abs_input_path)"
   ]
  },
  {
   "cell_type": "code",
   "execution_count": 9,
   "metadata": {},
   "outputs": [
    {
     "name": "stdout",
     "output_type": "stream",
     "text": [
      "13\n"
     ]
    }
   ],
   "source": [
    "print(len(minimize_failure_list_test))"
   ]
  }
 ],
 "metadata": {
  "kernelspec": {
   "display_name": "Python 3",
   "language": "python",
   "name": "python3"
  },
  "language_info": {
   "codemirror_mode": {
    "name": "ipython",
    "version": 3
   },
   "file_extension": ".py",
   "mimetype": "text/x-python",
   "name": "python",
   "nbconvert_exporter": "python",
   "pygments_lexer": "ipython3",
   "version": "3.8.16"
  },
  "orig_nbformat": 4
 },
 "nbformat": 4,
 "nbformat_minor": 2
}
